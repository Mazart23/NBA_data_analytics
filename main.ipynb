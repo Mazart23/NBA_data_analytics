{
 "cells": [
  {
   "cell_type": "markdown",
   "id": "c692d1fd",
   "metadata": {},
   "source": [
    "\n",
    "## 1. Project formulation\n",
    "The goal of the project is to conduct a negative Bayesian and Poisson analysis of points scored by both teams in NBA game. This involves understanding the factors that influence game outcomes, such as team-specific offensive and defensive strengths, home-court advantage."
   ]
  },
  {
   "cell_type": "markdown",
   "id": "9d4f873a",
   "metadata": {},
   "source": [
    " By understanding and quantifying the factors that influence game outcomes, various stakeholders can benefit. Outcome can be highly useful for people involved in betting. It can also be useful for broadcasters and sports media by incorporating predictive analytics into pre-game and post-game analyses."
   ]
  },
  {
   "cell_type": "markdown",
   "id": "ee6bb886",
   "metadata": {},
   "source": [
    "The data for 2022, 2023 seasons was scraped from official NBA website (www.nba.com/stats). After that, the duplicates were removed and data was sorted by date. Unique team IDs were created for better readibility in stan. Below is the representation of all columns in the prepared dataset:\n",
    "1. start_time\n",
    "2. away_team\n",
    "3. away_team_score\n",
    "4. home_team\n",
    "5. home_team_score\n",
    "6. home_team_id\n",
    "7. away_team_id"
   ]
  },
  {
   "cell_type": "markdown",
   "id": "251631a6d8884fe0",
   "metadata": {},
   "source": [
    "Confoudings\n",
    "1. Pipes\n",
    "\n",
    "home_team_score -> home_score_pred\n",
    "\n",
    "home_team_score -> away_def -> away_score_pred\n",
    "\n",
    "away_team_score -> away_score_pred\n",
    "\n",
    "away_team_score -> home_def -> home_score_pred\n",
    "\n",
    "2. Forks\n",
    "\n",
    "home_team_score influences home_score_pred and away_score_pred\n",
    "\n",
    "away_team_score influences away_score_pred and home_score_pred\n",
    "\n",
    "3. Colliders\n",
    "\n",
    "None"
   ]
  },
  {
   "cell_type": "code",
   "execution_count": 144,
   "id": "initial_id",
   "metadata": {
    "collapsed": true,
    "jupyter": {
     "is_executing": true
    }
   },
   "outputs": [],
   "source": [
    "import os\n",
    "\n",
    "from cmdstanpy import CmdStanModel\n",
    "import numpy as np\n",
    "import matplotlib.pyplot as plt\n",
    "import pandas as pd\n",
    "import seaborn as sns\n",
    "from scipy.stats import nbinom, norm, poisson, gamma\n",
    "import arviz as az\n",
    "\n",
    "os.chdir('/app')\n",
    "\n",
    "from src.web_scraping.scraper import scrap_games"
   ]
  },
  {
   "cell_type": "markdown",
   "id": "d30f1715ab83299d",
   "metadata": {},
   "source": [
    "Input parameters for scraping"
   ]
  },
  {
   "cell_type": "code",
   "execution_count": 145,
   "id": "4a37932042922ee6",
   "metadata": {
    "jupyter": {
     "is_executing": true
    }
   },
   "outputs": [],
   "source": [
    "years = list(range(2022, 2024))\n",
    "train_year = years[0]\n",
    "pred_year = years[1]"
   ]
  },
  {
   "cell_type": "markdown",
   "id": "f8cacc2b5f8f4a7e",
   "metadata": {},
   "source": [
    "Scraping"
   ]
  },
  {
   "cell_type": "code",
   "execution_count": 146,
   "id": "99b39a5d2efe26e1",
   "metadata": {
    "ExecuteTime": {
     "end_time": "2024-05-13T19:49:45.917680Z",
     "start_time": "2024-05-13T19:49:44.578414Z"
    }
   },
   "outputs": [],
   "source": [
    "scrap_games(years)"
   ]
  },
  {
   "cell_type": "markdown",
   "id": "628771dda6d37541",
   "metadata": {},
   "source": [
    "Read data"
   ]
  },
  {
   "cell_type": "code",
   "execution_count": 147,
   "id": "1bf6f31f0033ed5d",
   "metadata": {
    "ExecuteTime": {
     "end_time": "2024-05-13T19:49:59.760218Z",
     "start_time": "2024-05-13T19:49:59.719698Z"
    }
   },
   "outputs": [
    {
     "name": "stdout",
     "output_type": "stream",
     "text": [
      "{2022:                      start_time              away_team  away_team_score  \\\n",
      "0     2021-10-19 23:30:00+00:00          BROOKLYN NETS              104   \n",
      "1     2021-10-20 02:00:00+00:00  GOLDEN STATE WARRIORS              121   \n",
      "2     2021-10-20 23:00:00+00:00         INDIANA PACERS              122   \n",
      "3     2021-10-20 23:00:00+00:00          CHICAGO BULLS               94   \n",
      "4     2021-10-20 23:30:00+00:00         BOSTON CELTICS              134   \n",
      "...                         ...                    ...              ...   \n",
      "1318  2022-06-06 00:00:00+00:00         BOSTON CELTICS               88   \n",
      "1319  2022-06-09 01:00:00+00:00  GOLDEN STATE WARRIORS              100   \n",
      "1320  2022-06-11 01:00:00+00:00  GOLDEN STATE WARRIORS              107   \n",
      "1321  2022-06-14 01:00:00+00:00         BOSTON CELTICS               94   \n",
      "1322  2022-06-17 01:00:00+00:00  GOLDEN STATE WARRIORS              103   \n",
      "\n",
      "                  home_team  home_team_score  \n",
      "0           MILWAUKEE BUCKS              127  \n",
      "1        LOS ANGELES LAKERS              114  \n",
      "2         CHARLOTTE HORNETS              123  \n",
      "3           DETROIT PISTONS               88  \n",
      "4           NEW YORK KNICKS              138  \n",
      "...                     ...              ...  \n",
      "1318  GOLDEN STATE WARRIORS              107  \n",
      "1319         BOSTON CELTICS              116  \n",
      "1320         BOSTON CELTICS               97  \n",
      "1321  GOLDEN STATE WARRIORS              104  \n",
      "1322         BOSTON CELTICS               90  \n",
      "\n",
      "[1323 rows x 5 columns], 2023:                      start_time           away_team  away_team_score  \\\n",
      "0     2022-10-18 23:30:00+00:00  PHILADELPHIA 76ERS              117   \n",
      "1     2022-10-19 02:00:00+00:00  LOS ANGELES LAKERS              109   \n",
      "2     2022-10-19 23:00:00+00:00       ORLANDO MAGIC              109   \n",
      "3     2022-10-19 23:00:00+00:00  WASHINGTON WIZARDS              114   \n",
      "4     2022-10-19 23:30:00+00:00       CHICAGO BULLS              116   \n",
      "...                         ...                 ...              ...   \n",
      "1315  2023-06-02 00:30:00+00:00          MIAMI HEAT               93   \n",
      "1316  2023-06-05 00:00:00+00:00          MIAMI HEAT              111   \n",
      "1317  2023-06-08 00:30:00+00:00      DENVER NUGGETS              109   \n",
      "1318  2023-06-10 00:30:00+00:00      DENVER NUGGETS              108   \n",
      "1319  2023-06-13 00:30:00+00:00          MIAMI HEAT               89   \n",
      "\n",
      "                  home_team  home_team_score  \n",
      "0            BOSTON CELTICS              126  \n",
      "1     GOLDEN STATE WARRIORS              123  \n",
      "2           DETROIT PISTONS              113  \n",
      "3            INDIANA PACERS              107  \n",
      "4                MIAMI HEAT              108  \n",
      "...                     ...              ...  \n",
      "1315         DENVER NUGGETS              104  \n",
      "1316         DENVER NUGGETS              108  \n",
      "1317             MIAMI HEAT               94  \n",
      "1318             MIAMI HEAT               95  \n",
      "1319         DENVER NUGGETS               94  \n",
      "\n",
      "[1320 rows x 5 columns]}\n"
     ]
    }
   ],
   "source": [
    "path = 'src/data/'\n",
    "path_games = os.path.join(path, 'games/')\n",
    "seasons_games = {}\n",
    "\n",
    "# prepare dataframes - drop duplicated rows and sort by date\n",
    "for year in years:\n",
    "    seasons_games[year] = pd.read_csv(os.path.join(path_games, f'{year-1}_{year}_season.csv')).drop_duplicates().sort_values(by='start_time').reset_index(drop=True)\n",
    "print(seasons_games)"
   ]
  },
  {
   "cell_type": "markdown",
   "id": "687659439df37d92",
   "metadata": {},
   "source": [
    "Edit dataframe"
   ]
  },
  {
   "cell_type": "code",
   "execution_count": 148,
   "id": "4807eb67bbade97c",
   "metadata": {
    "jupyter": {
     "is_executing": true
    }
   },
   "outputs": [
    {
     "name": "stdout",
     "output_type": "stream",
     "text": [
      "['MILWAUKEE BUCKS', 'LOS ANGELES LAKERS', 'CHARLOTTE HORNETS', 'DETROIT PISTONS', 'NEW YORK KNICKS', 'TORONTO RAPTORS', 'MEMPHIS GRIZZLIES', 'MINNESOTA TIMBERWOLVES', 'NEW ORLEANS PELICANS', 'SAN ANTONIO SPURS', 'UTAH JAZZ', 'PORTLAND TRAIL BLAZERS', 'PHOENIX SUNS', 'ATLANTA HAWKS', 'MIAMI HEAT', 'GOLDEN STATE WARRIORS', 'ORLANDO MAGIC', 'WASHINGTON WIZARDS', 'CLEVELAND CAVALIERS', 'PHILADELPHIA 76ERS', 'BOSTON CELTICS', 'HOUSTON ROCKETS', 'CHICAGO BULLS', 'DENVER NUGGETS', 'SACRAMENTO KINGS', 'INDIANA PACERS', 'LOS ANGELES CLIPPERS', 'BROOKLYN NETS', 'OKLAHOMA CITY THUNDER', 'DALLAS MAVERICKS']\n"
     ]
    }
   ],
   "source": [
    "# get unique team names\n",
    "teams = list(seasons_games[train_year]['home_team'].unique())\n",
    "print(teams)\n",
    "# map team to id\n",
    "team_to_id = {team: i + 1 for i, team in enumerate(teams)}\n",
    "\n",
    "for year in years:\n",
    "    # Add IDs of teams to be differentiate for stan\n",
    "    seasons_games[year]['home_team_id'] = seasons_games[year]['home_team'].map(team_to_id)\n",
    "    seasons_games[year]['away_team_id'] = seasons_games[year]['away_team'].map(team_to_id)\n",
    "\n",
    "    # Add difference in points between home team and away team\n",
    "    for year in years:\n",
    "        seasons_games[year]['difference'] = seasons_games[year]['home_team_score'] - seasons_games[year]['away_team_score']\n"
   ]
  },
  {
   "cell_type": "markdown",
   "id": "db981603",
   "metadata": {},
   "source": [
    "Show data (first 5 rows)"
   ]
  },
  {
   "cell_type": "code",
   "execution_count": 149,
   "id": "44244834c1e73a1b",
   "metadata": {},
   "outputs": [
    {
     "name": "stdout",
     "output_type": "stream",
     "text": [
      "                  start_time              away_team  away_team_score  \\\n",
      "0  2021-10-19 23:30:00+00:00          BROOKLYN NETS              104   \n",
      "1  2021-10-20 02:00:00+00:00  GOLDEN STATE WARRIORS              121   \n",
      "2  2021-10-20 23:00:00+00:00         INDIANA PACERS              122   \n",
      "3  2021-10-20 23:00:00+00:00          CHICAGO BULLS               94   \n",
      "4  2021-10-20 23:30:00+00:00         BOSTON CELTICS              134   \n",
      "\n",
      "            home_team  home_team_score  home_team_id  away_team_id  difference  \n",
      "0     MILWAUKEE BUCKS              127             1            28          23  \n",
      "1  LOS ANGELES LAKERS              114             2            16          -7  \n",
      "2   CHARLOTTE HORNETS              123             3            26           1  \n",
      "3     DETROIT PISTONS               88             4            23          -6  \n",
      "4     NEW YORK KNICKS              138             5            21           4  \n",
      "                  start_time           away_team  away_team_score  \\\n",
      "0  2022-10-18 23:30:00+00:00  PHILADELPHIA 76ERS              117   \n",
      "1  2022-10-19 02:00:00+00:00  LOS ANGELES LAKERS              109   \n",
      "2  2022-10-19 23:00:00+00:00       ORLANDO MAGIC              109   \n",
      "3  2022-10-19 23:00:00+00:00  WASHINGTON WIZARDS              114   \n",
      "4  2022-10-19 23:30:00+00:00       CHICAGO BULLS              116   \n",
      "\n",
      "               home_team  home_team_score  difference  home_team_id  \\\n",
      "0         BOSTON CELTICS              126           9            21   \n",
      "1  GOLDEN STATE WARRIORS              123          14            16   \n",
      "2        DETROIT PISTONS              113           4             4   \n",
      "3         INDIANA PACERS              107          -7            26   \n",
      "4             MIAMI HEAT              108          -8            15   \n",
      "\n",
      "   away_team_id  \n",
      "0            20  \n",
      "1             2  \n",
      "2            17  \n",
      "3            18  \n",
      "4            23  \n"
     ]
    }
   ],
   "source": [
    "for year in years:\n",
    "    print(seasons_games[year].head())"
   ]
  },
  {
   "cell_type": "markdown",
   "id": "57f1ce77",
   "metadata": {},
   "source": [
    "Plot data"
   ]
  },
  {
   "cell_type": "code",
   "execution_count": 150,
   "id": "4c92a902",
   "metadata": {},
   "outputs": [
    {
     "data": {
      "image/png": "[encoded data removed]",
      "text/plain": [
       "<Figure size 720x1080 with 3 Axes>"
      ]
     },
     "metadata": {
      "needs_background": "light"
     },
     "output_type": "display_data"
    }
   ],
   "source": [
    "fig, axes = plt.subplots(nrows=3, ncols=1, figsize=(10, 15))\n",
    "\n",
    "# Histogram of points scored away\n",
    "axes[0].hist(seasons_games[year]['away_team_score'], density=True, bins=10, color='blue', edgecolor='black', label='data')\n",
    "axes[0].set_title('Histogram of points scored away')\n",
    "axes[0].set_xlabel('Points')\n",
    "axes[0].set_ylabel('Density - number of games')\n",
    "\n",
    "# Histogram of points scored at home\n",
    "axes[1].hist(seasons_games[year]['home_team_score'], density=True, bins=10, color='green', edgecolor='black', label='data')\n",
    "axes[1].set_title('Histogram of points scored at home')\n",
    "axes[1].set_xlabel('Points')\n",
    "axes[1].set_ylabel('Density - number of games')\n",
    "\n",
    "# Histogram of point difference\n",
    "axes[2].hist(seasons_games[year]['difference'], density=True, bins=10, color='yellow', edgecolor='black', label='data')\n",
    "axes[2].set_title('Histogram of point difference')\n",
    "axes[2].set_xlabel('Point difference')\n",
    "axes[2].set_ylabel('Density - number of games')\n",
    "\n",
    "# Plot the negative binomial PDF on each chart\n",
    "for ax, col in zip(axes, ('away_team_score', 'home_team_score', 'difference')):\n",
    "    mean, var = np.mean(seasons_games[year][col]), np.var(seasons_games[year][col])\n",
    "    if col == 'difference':\n",
    "        std = np.sqrt(var)\n",
    "        x = np.linspace(min(seasons_games[year][col]), max(seasons_games[year][col]), 100)\n",
    "        normal_pdf = norm.pdf(x, mean, std)\n",
    "    \n",
    "        # Plot the normal PDF\n",
    "        ax.plot(x, normal_pdf, 'r-', lw=2, label='Normal fit')\n",
    "        \n",
    "        textstr = f'mean = {mean:.2f}\\nstandard deviation = {std:.2f}'\n",
    "        ax.text(0.05, 0.95, textstr, transform=ax.transAxes, fontsize=12,\n",
    "                verticalalignment='top', bbox={'boxstyle': 'round', 'facecolor': 'wheat', 'alpha': 0.5})\n",
    "    else:\n",
    "        p = mean / var\n",
    "        r = mean ** 2 / (var - mean)  # Number of failures\n",
    "        x = np.arange(min(seasons_games[year][col]), max(seasons_games[year][col]) + 1)\n",
    "        nbinom_pmf = nbinom.pmf(x, r, p)\n",
    "            \n",
    "        # Plot the negative binomial PDF\n",
    "        ax.plot(x, nbinom_pmf, 'r-', lw=2, label='Negative Binomial fit')\n",
    "        \n",
    "        textstr = f'probability of success = {p:.2f}\\nnumber of failures = {r:.2f}'\n",
    "        ax.text(0.05, 0.95, textstr, transform=ax.transAxes, fontsize=12,\n",
    "                verticalalignment='top', bbox={'boxstyle': 'round', 'facecolor': 'wheat', 'alpha': 0.5})\n",
    "    ax.legend()\n",
    "    ax.grid()\n",
    "\n",
    "plt.tight_layout()"
   ]
  },
  {
   "cell_type": "markdown",
   "id": "c42a6a74",
   "metadata": {},
   "source": [
    "Prepare input data"
   ]
  },
  {
   "cell_type": "code",
   "execution_count": 151,
   "id": "a9d4125a",
   "metadata": {},
   "outputs": [],
   "source": [
    "inp_data = {\n",
    "    'teams_number': len(teams),\n",
    "    'games_number': len(seasons_games[train_year]),\n",
    "    'home_team': seasons_games[train_year].home_team_id.to_numpy(),\n",
    "    'away_team': seasons_games[train_year].away_team_id.to_numpy(),\n",
    "    'home_score': seasons_games[train_year].home_team_score.to_numpy(),\n",
    "    'away_score': seasons_games[train_year].away_team_score.to_numpy(),\n",
    "}"
   ]
  },
  {
   "cell_type": "markdown",
   "id": "eeae9fdf",
   "metadata": {},
   "source": [
    "# 2. Evaluation of Poisson and Negative Binomial Models"
   ]
  },
  {
   "cell_type": "markdown",
   "id": "70120937",
   "metadata": {},
   "source": [
    "The primary distinction lies in the flexibility of the Negative Binomial model, which introduces an additional parameter compared to the Poisson model. This additional parameter allows the Negative Binomial model to better accommodate the variability in the data, leading to improved predictive accuracy."
   ]
  },
  {
   "cell_type": "markdown",
   "id": "f8ccd3a0",
   "metadata": {},
   "source": [
    "Negative Binomial provides a better fit for the data due to its ability to handle overdispersion, which is a common characteristic in sports data where the variance exceeds the mean. Negative Binomial model consistently outperforms the Poisson model in terms of predictive accuracy."
   ]
  },
  {
   "cell_type": "markdown",
   "id": "88c2d141",
   "metadata": {},
   "source": [
    "The Poisson model is described by a single parameter (λ), representing the mean number of events, while the Negative Binomial model introduces an additional parameter (r), which accounts for the overdispersion. The data required for these models include the observed counts of events, such as scores in basketball games, along with other covariates that may influence the outcome."
   ]
  },
  {
   "cell_type": "markdown",
   "id": "fbed028d",
   "metadata": {},
   "source": [
    "## MODEL 1 Negative Binomial"
   ]
  },
  {
   "cell_type": "markdown",
   "id": "b5162500",
   "metadata": {},
   "source": [
    "### Prior"
   ]
  },
  {
   "cell_type": "markdown",
   "id": "25f0b97d",
   "metadata": {},
   "source": [
    "Prior parameters were chosen experimentally"
   ]
  },
  {
   "cell_type": "code",
   "execution_count": 152,
   "id": "536fb7b5",
   "metadata": {},
   "outputs": [
    {
     "name": "stderr",
     "output_type": "stream",
     "text": [
      "INFO:cmdstanpy:found newer exe file, not recompiling\n",
      "INFO:cmdstanpy:CmdStan start processing\n",
      "chain 1 |\u001b[33m          \u001b[0m| 00:00 Status\n",
      "\u001b[A\n",
      "\n",
      "chain 1 |\u001b[34m██████████\u001b[0m| 00:00 Sampling completed\n",
      "chain 2 |\u001b[34m██████████\u001b[0m| 00:00 Sampling completed\n",
      "chain 3 |\u001b[34m██████████\u001b[0m| 00:00 Sampling completed\n",
      "chain 4 |\u001b[34m██████████\u001b[0m| 00:00 Sampling completed"
     ]
    },
    {
     "name": "stdout",
     "output_type": "stream",
     "text": [
      "                                                                                                                                                                                                                                                                                                                                "
     ]
    },
    {
     "name": "stderr",
     "output_type": "stream",
     "text": [
      "\n",
      "INFO:cmdstanpy:CmdStan done processing.\n"
     ]
    },
    {
     "name": "stdout",
     "output_type": "stream",
     "text": [
      "\n"
     ]
    }
   ],
   "source": [
    "model_nbinomial_prior = CmdStanModel(stan_file='src/model/model_nbinomial_prior.stan')\n",
    "samples = 1000\n",
    "sim_nbin_prior=model_nbinomial_prior.sample(iter_sampling=samples)"
   ]
  },
  {
   "cell_type": "code",
   "execution_count": 153,
   "id": "22d7b2e7",
   "metadata": {},
   "outputs": [
    {
     "name": "stdout",
     "output_type": "stream",
     "text": [
      "      lp__  accept_stat__  home_score_pred  away_score_pred  mu_home_att  \\\n",
      "0      0.0            0.0             93.0            123.0    -1.915440   \n",
      "1      0.0            0.0            106.0            158.0    -0.644585   \n",
      "2      0.0            0.0            144.0            143.0    -0.933515   \n",
      "3      0.0            0.0            145.0            137.0    -0.617493   \n",
      "4      0.0            0.0             81.0            138.0    -0.444494   \n",
      "...    ...            ...              ...              ...          ...   \n",
      "3995   0.0            0.0             96.0            105.0    -0.142141   \n",
      "3996   0.0            0.0            110.0            107.0    -0.638437   \n",
      "3997   0.0            0.0            102.0            131.0    -1.339830   \n",
      "3998   0.0            0.0             71.0            134.0     1.277690   \n",
      "3999   0.0            0.0            137.0            135.0    -0.729981   \n",
      "\n",
      "      mu_away_att  mu_home_def  mu_away_def  sigma2_att  sigma2_def  phi_home  \\\n",
      "0        0.774587     0.108339     0.092974     7.05946     9.87288   37.8157   \n",
      "1        0.466117     0.387523     1.637420    13.16970     7.69300   23.3511   \n",
      "2       -0.037149     0.686921    -0.249273    17.83230    15.74100   80.7807   \n",
      "3       -1.416500    -0.182973     1.711880    10.44240     4.36616   77.2161   \n",
      "4        0.554287    -1.552530     0.533466     5.78946    15.98330   33.1040   \n",
      "...           ...          ...          ...         ...         ...       ...   \n",
      "3995     1.031310    -1.614730     0.004230     6.97316     7.89798   32.8612   \n",
      "3996     0.430866    -0.686479    -0.284721    11.06360     6.92439   36.5438   \n",
      "3997    -1.181280     0.733990     1.188470    10.07080     6.17568   55.9631   \n",
      "3998     0.607009    -0.554622    -0.937753    10.66890    14.32380   19.5483   \n",
      "3999    -0.917023     1.214330    -1.272490     9.79423     9.38373   27.0228   \n",
      "\n",
      "       phi_away  c_offset  mu_home   mu_away   home_att   away_att  home_def  \\\n",
      "0      44.07600   113.973  105.317  120.2270 -11.449400   7.418410  -1.16434   \n",
      "1      58.45360   112.709  124.206  123.5910  14.602900   1.444830   9.43757   \n",
      "2      26.75550   115.532  129.053  128.3140   0.686982 -10.748500  23.53040   \n",
      "3     128.51700   114.937  141.181  124.3820  23.879500  15.252800  -5.80869   \n",
      "4      58.40320   116.656  111.498  110.6860  -2.687750   0.410241  -6.38017   \n",
      "...         ...       ...      ...       ...        ...        ...       ...   \n",
      "3995   38.07640   115.269  121.189   97.7384  -0.223487  -6.269150 -11.26160   \n",
      "3996   10.34180   115.549  107.245  115.1040  -8.121460   1.373740  -1.81873   \n",
      "3997   26.78130   116.581  106.856  107.3590   1.307200  -2.788830  -6.43258   \n",
      "3998   69.68340   115.970  120.671  123.8390   5.196220   1.723740   6.14567   \n",
      "3999    9.38961   113.727  120.901  111.2380   0.012785   7.552100 -10.04080   \n",
      "\n",
      "       away_def  \n",
      "0      2.793540  \n",
      "1     -3.105970  \n",
      "2     12.834000  \n",
      "3      2.363830  \n",
      "4     -2.469730  \n",
      "...         ...  \n",
      "3995   6.143260  \n",
      "3996  -0.182339  \n",
      "3997 -11.031600  \n",
      "3998  -0.494939  \n",
      "3999   7.161520  \n",
      "\n",
      "[4000 rows x 19 columns]\n"
     ]
    }
   ],
   "source": [
    "mod_nbin_prior = sim_nbin_prior.draws_pd()\n",
    "print(mod_nbin_prior)"
   ]
  },
  {
   "cell_type": "code",
   "execution_count": 154,
   "id": "1f693202",
   "metadata": {},
   "outputs": [
    {
     "data": {
      "text/plain": [
       "Text(0, 0.5, 'Density - number of games')"
      ]
     },
     "execution_count": 154,
     "metadata": {},
     "output_type": "execute_result"
    },
    {
     "data": {
      "image/png": "[encoded data removed]",
      "text/plain": [
       "<Figure size 720x720 with 2 Axes>"
      ]
     },
     "metadata": {
      "needs_background": "light"
     },
     "output_type": "display_data"
    }
   ],
   "source": [
    "fig, axes = plt.subplots(nrows=2, ncols=1, figsize=(10, 10))\n",
    "\n",
    "# Histogram of points scored away\n",
    "axes[0].hist(seasons_games[year]['away_team_score'], density=True, bins=20, color='blue', edgecolor='black', label='data')\n",
    "axes[0].hist(sim_nbin_prior.stan_variable('away_score_pred'), density=True, bins=100, color='green', edgecolor='black', label='data', range=(0, 200))\n",
    "axes[0].set_title('Histogram of points scored away')\n",
    "axes[0].set_xlabel('Points')\n",
    "axes[0].set_ylabel('Density - number of games')\n",
    "\n",
    "# Histogram of points scored at home\n",
    "axes[1].hist(seasons_games[year]['home_team_score'], density=True, bins=20, color='blue', edgecolor='black', label='data')\n",
    "axes[1].hist(sim_nbin_prior.stan_variable('home_score_pred'), density=True, bins=100, color='green', edgecolor='black', label='data', range=(0, 200))\n",
    "axes[1].set_title('Histogram of points scored at home')\n",
    "axes[1].set_xlabel('Points')\n",
    "axes[1].set_ylabel('Density - number of games')"
   ]
  },
  {
   "cell_type": "markdown",
   "id": "1cd478b6",
   "metadata": {},
   "source": [
    "### Posterior"
   ]
  },
  {
   "cell_type": "code",
   "execution_count": 155,
   "id": "aed24136",
   "metadata": {},
   "outputs": [
    {
     "name": "stderr",
     "output_type": "stream",
     "text": [
      "INFO:cmdstanpy:found newer exe file, not recompiling\n",
      "INFO:cmdstanpy:CmdStan start processing\n",
      "chain 1 |\u001b[34m██████████\u001b[0m| 00:27 Sampling completed                         "
     ]
    },
    {
     "name": "stdout",
     "output_type": "stream",
     "text": [
      "                                                                                "
     ]
    },
    {
     "name": "stderr",
     "output_type": "stream",
     "text": [
      "\n",
      "INFO:cmdstanpy:CmdStan done processing.\n"
     ]
    },
    {
     "name": "stdout",
     "output_type": "stream",
     "text": [
      "\n"
     ]
    }
   ],
   "source": [
    "model_nbinomial_post = CmdStanModel(stan_file='src/model/model_nbinomial_posterior.stan')\n",
    "samples = 10000\n",
    "sim_nbinomial_post=model_nbinomial_post.sample(data=inp_data,\n",
    "                     iter_sampling=samples,\n",
    "                     iter_warmup=1,\n",
    "                     chains=1\n",
    "                     )"
   ]
  },
  {
   "cell_type": "code",
   "execution_count": 156,
   "id": "e4099d01",
   "metadata": {},
   "outputs": [
    {
     "name": "stdout",
     "output_type": "stream",
     "text": [
      "         lp__  accept_stat__  stepsize__  treedepth__  n_leapfrog__  \\\n",
      "0    -25665.6            0.0     7.84723          0.0           1.0   \n",
      "1    -25665.6            0.0     7.84723          0.0           1.0   \n",
      "2    -25665.6            0.0     7.84723          0.0           1.0   \n",
      "3    -25665.6            0.0     7.84723          0.0           1.0   \n",
      "4    -25665.6            0.0     7.84723          0.0           1.0   \n",
      "...       ...            ...         ...          ...           ...   \n",
      "9995 -25665.6            0.0     7.84723          0.0           1.0   \n",
      "9996 -25665.6            0.0     7.84723          0.0           1.0   \n",
      "9997 -25665.6            0.0     7.84723          0.0           1.0   \n",
      "9998 -25665.6            0.0     7.84723          0.0           1.0   \n",
      "9999 -25665.6            0.0     7.84723          0.0           1.0   \n",
      "\n",
      "      divergent__  energy__  mu_home_att  mu_away_att  mu_home_def  ...  \\\n",
      "0             1.0   25732.8     -1.40416    -0.456952     -1.10972  ...   \n",
      "1             1.0   25729.8     -1.40416    -0.456952     -1.10972  ...   \n",
      "2             1.0   25731.2     -1.40416    -0.456952     -1.10972  ...   \n",
      "3             1.0   25725.1     -1.40416    -0.456952     -1.10972  ...   \n",
      "4             1.0   25742.5     -1.40416    -0.456952     -1.10972  ...   \n",
      "...           ...       ...          ...          ...          ...  ...   \n",
      "9995          1.0   25737.6     -1.40416    -0.456952     -1.10972  ...   \n",
      "9996          1.0   25721.5     -1.40416    -0.456952     -1.10972  ...   \n",
      "9997          1.0   25725.0     -1.40416    -0.456952     -1.10972  ...   \n",
      "9998          1.0   25731.8     -1.40416    -0.456952     -1.10972  ...   \n",
      "9999          1.0   25727.1     -1.40416    -0.456952     -1.10972  ...   \n",
      "\n",
      "      log_lik_away[1314]  log_lik_away[1315]  log_lik_away[1316]  \\\n",
      "0               -7.15656            -7.43832            -7.77253   \n",
      "1               -7.15656            -7.43832            -7.77253   \n",
      "2               -7.15656            -7.43832            -7.77253   \n",
      "3               -7.15656            -7.43832            -7.77253   \n",
      "4               -7.15656            -7.43832            -7.77253   \n",
      "...                  ...                 ...                 ...   \n",
      "9995            -7.15656            -7.43832            -7.77253   \n",
      "9996            -7.15656            -7.43832            -7.77253   \n",
      "9997            -7.15656            -7.43832            -7.77253   \n",
      "9998            -7.15656            -7.43832            -7.77253   \n",
      "9999            -7.15656            -7.43832            -7.77253   \n",
      "\n",
      "      log_lik_away[1317]  log_lik_away[1318]  log_lik_away[1319]  \\\n",
      "0                -7.2701            -7.57306            -7.07253   \n",
      "1                -7.2701            -7.57306            -7.07253   \n",
      "2                -7.2701            -7.57306            -7.07253   \n",
      "3                -7.2701            -7.57306            -7.07253   \n",
      "4                -7.2701            -7.57306            -7.07253   \n",
      "...                  ...                 ...                 ...   \n",
      "9995             -7.2701            -7.57306            -7.07253   \n",
      "9996             -7.2701            -7.57306            -7.07253   \n",
      "9997             -7.2701            -7.57306            -7.07253   \n",
      "9998             -7.2701            -7.57306            -7.07253   \n",
      "9999             -7.2701            -7.57306            -7.07253   \n",
      "\n",
      "      log_lik_away[1320]  log_lik_away[1321]  log_lik_away[1322]  \\\n",
      "0               -7.30629            -7.41873            -7.17307   \n",
      "1               -7.30629            -7.41873            -7.17307   \n",
      "2               -7.30629            -7.41873            -7.17307   \n",
      "3               -7.30629            -7.41873            -7.17307   \n",
      "4               -7.30629            -7.41873            -7.17307   \n",
      "...                  ...                 ...                 ...   \n",
      "9995            -7.30629            -7.41873            -7.17307   \n",
      "9996            -7.30629            -7.41873            -7.17307   \n",
      "9997            -7.30629            -7.41873            -7.17307   \n",
      "9998            -7.30629            -7.41873            -7.17307   \n",
      "9999            -7.30629            -7.41873            -7.17307   \n",
      "\n",
      "      log_lik_away[1323]  \n",
      "0               -7.35496  \n",
      "1               -7.35496  \n",
      "2               -7.35496  \n",
      "3               -7.35496  \n",
      "4               -7.35496  \n",
      "...                  ...  \n",
      "9995            -7.35496  \n",
      "9996            -7.35496  \n",
      "9997            -7.35496  \n",
      "9998            -7.35496  \n",
      "9999            -7.35496  \n",
      "\n",
      "[10000 rows x 5488 columns]\n"
     ]
    }
   ],
   "source": [
    "mod_nbin_post = sim_nbinomial_post.draws_pd()\n",
    "print(mod_nbin_post)"
   ]
  },
  {
   "cell_type": "code",
   "execution_count": 157,
   "id": "ede772f1",
   "metadata": {},
   "outputs": [
    {
     "data": {
      "text/plain": [
       "Text(0, 0.5, 'Density - number of games')"
      ]
     },
     "execution_count": 157,
     "metadata": {},
     "output_type": "execute_result"
    },
    {
     "data": {
      "image/png": "[encoded data removed]",
      "text/plain": [
       "<Figure size 720x720 with 2 Axes>"
      ]
     },
     "metadata": {
      "needs_background": "light"
     },
     "output_type": "display_data"
    }
   ],
   "source": [
    "fig, axes = plt.subplots(nrows=2, ncols=1, figsize=(10, 10))\n",
    "\n",
    "# Histogram of points scored away\n",
    "axes[0].hist(seasons_games[year]['away_team_score'], density=True, bins=20, color='blue', edgecolor='black', label='data')\n",
    "axes[0].hist(sim_nbinomial_post.stan_variable('away_score_pred').mean(axis=0), density=True, bins=100, color='green', edgecolor='black', label='data', range=(0, 200))\n",
    "axes[0].set_title('Histogram of points scored away')\n",
    "axes[0].set_xlabel('Points')\n",
    "axes[0].set_ylabel('Density - number of games')\n",
    "\n",
    "# Histogram of points scored at home\n",
    "axes[1].hist(seasons_games[year]['home_team_score'], density=True, bins=20, color='blue', edgecolor='black', label='data')\n",
    "axes[1].hist(sim_nbinomial_post.stan_variable('home_score_pred').mean(axis=0), density=True, bins=100, color='green', edgecolor='black', label='data', range=(0, 200))\n",
    "axes[1].set_title('Histogram of points scored at home')\n",
    "axes[1].set_xlabel('Points')\n",
    "axes[1].set_ylabel('Density - number of games')"
   ]
  },
  {
   "cell_type": "markdown",
   "id": "8bfc543a",
   "metadata": {},
   "source": [
    "## Model 2 - Poisson"
   ]
  },
  {
   "cell_type": "markdown",
   "id": "c8b2ff9b",
   "metadata": {},
   "source": [
    "### Prior"
   ]
  },
  {
   "cell_type": "code",
   "execution_count": 158,
   "id": "6208a365",
   "metadata": {},
   "outputs": [
    {
     "name": "stderr",
     "output_type": "stream",
     "text": [
      "INFO:cmdstanpy:found newer exe file, not recompiling\n",
      "INFO:cmdstanpy:CmdStan start processing\n",
      "chain 1 |\u001b[34m██████████\u001b[0m| 00:00 Sampling completed                      "
     ]
    },
    {
     "name": "stdout",
     "output_type": "stream",
     "text": [
      "                                                                                "
     ]
    },
    {
     "name": "stderr",
     "output_type": "stream",
     "text": [
      "\n",
      "INFO:cmdstanpy:CmdStan done processing.\n"
     ]
    },
    {
     "name": "stdout",
     "output_type": "stream",
     "text": [
      "\n"
     ]
    }
   ],
   "source": [
    "model_poiss_prior = CmdStanModel(stan_file='src/model/model_poisson_prior.stan')\n",
    "samples = 1000\n",
    "sim_poiss_prior=model_poiss_prior.sample(data=inp_data,\n",
    "                     iter_sampling=samples,\n",
    "                     #iter_warmup=1,\n",
    "                     chains=1\n",
    "                     )"
   ]
  },
  {
   "cell_type": "code",
   "execution_count": 159,
   "id": "1407500b",
   "metadata": {},
   "outputs": [
    {
     "name": "stdout",
     "output_type": "stream",
     "text": [
      "     lp__  accept_stat__  home_score_pred  away_score_pred  mu_home_att  \\\n",
      "0     0.0            0.0           2130.0            338.0     0.000010   \n",
      "1     0.0            0.0              0.0              0.0    -0.000176   \n",
      "2     0.0            0.0              1.0              2.0     0.000016   \n",
      "3     0.0            0.0              0.0              0.0    -0.000071   \n",
      "4     0.0            0.0              0.0              0.0     0.000048   \n",
      "..    ...            ...              ...              ...          ...   \n",
      "995   0.0            0.0              1.0              1.0    -0.000073   \n",
      "996   0.0            0.0              3.0              0.0    -0.000027   \n",
      "997   0.0            0.0              0.0              4.0    -0.000090   \n",
      "998   0.0            0.0             11.0             25.0     0.000052   \n",
      "999   0.0            0.0              2.0              3.0    -0.000138   \n",
      "\n",
      "     mu_away_att  mu_home_def  mu_away_def    sigma2_att    sigma2_def  ...  \\\n",
      "0       0.000179    -0.000161     0.000088  4.806130e+00  9.557100e-02  ...   \n",
      "1       0.000062     0.000137     0.000181  1.377190e-02  2.919370e-11  ...   \n",
      "2      -0.000014     0.000003    -0.000004  1.490880e-07  1.784400e-06  ...   \n",
      "3      -0.000053    -0.000079     0.000187  1.109230e+00  1.689750e-01  ...   \n",
      "4      -0.000140     0.000070    -0.000082  5.921930e-02  6.507090e-01  ...   \n",
      "..           ...          ...          ...           ...           ...  ...   \n",
      "995     0.000082    -0.000132    -0.000027  3.871700e-03  1.268520e-03  ...   \n",
      "996    -0.000089    -0.000048    -0.000161  1.183980e-02  2.125480e-03  ...   \n",
      "997    -0.000053    -0.000151     0.000073  1.368850e+00  1.670280e-16  ...   \n",
      "998     0.000094     0.000097    -0.000161  2.825600e+00  1.842550e+00  ...   \n",
      "999    -0.000150    -0.000028     0.000138  1.554780e-06  1.509770e-05  ...   \n",
      "\n",
      "     c_offset  home_advantage  mu_home  mu_away  home_att  away_att  home_def  \\\n",
      "0    0.000012       -0.000056      NaN      NaN  7.640900  5.722200  0.149501   \n",
      "1    0.000032       -0.000159      NaN      NaN  0.004491  0.037036  0.000137   \n",
      "2   -0.000150        0.000125      NaN      NaN  0.000016 -0.000014  0.000002   \n",
      "3   -0.000022        0.000146      NaN      NaN -0.841023 -1.432590  0.026635   \n",
      "4   -0.000020       -0.000012      NaN      NaN  0.129782 -0.098285 -0.556524   \n",
      "..        ...             ...      ...      ...       ...       ...       ...   \n",
      "995  0.000148       -0.000104      NaN      NaN  0.002503 -0.000326  0.000216   \n",
      "996 -0.000043       -0.000031      NaN      NaN -0.006482  0.002653 -0.000748   \n",
      "997 -0.000147       -0.000166      NaN      NaN -1.443990  1.163880 -0.000151   \n",
      "998 -0.000034        0.000079      NaN      NaN  0.437825  0.959309  1.938040   \n",
      "999  0.000106       -0.000018      NaN      NaN -0.000139 -0.000152 -0.000039   \n",
      "\n",
      "     away_def   theta_home  theta_away  \n",
      "0    0.055351  2199.990000  354.856000  \n",
      "1    0.000181     1.004560    1.037910  \n",
      "2   -0.000003     0.999988    0.999838  \n",
      "3    0.064103     0.459877    0.245127  \n",
      "4   -0.091994     1.038480    0.519531  \n",
      "..        ...          ...         ...  \n",
      "995 -0.000825     1.001720    1.000040  \n",
      "996 -0.002566     0.990920    1.001860  \n",
      "997  0.000073     0.235928    3.201370  \n",
      "998  1.660540     8.153160   18.125400  \n",
      "999  0.000144     1.000090    0.999915  \n",
      "\n",
      "[1000 rows x 22 columns]\n"
     ]
    }
   ],
   "source": [
    "mod_poiss_prio = sim_poiss_prior.draws_pd()\n",
    "print(mod_poiss_prio)"
   ]
  },
  {
   "cell_type": "code",
   "execution_count": 160,
   "id": "0fe9a2fb",
   "metadata": {},
   "outputs": [
    {
     "name": "stderr",
     "output_type": "stream",
     "text": [
      "/usr/local/lib/python3.12/site-packages/numpy/lib/histograms.py:885: RuntimeWarning: invalid value encountered in divide\n",
      "  return n/db/n.sum(), bin_edges\n"
     ]
    },
    {
     "data": {
      "text/plain": [
       "Text(0, 0.5, 'Density - number of games')"
      ]
     },
     "execution_count": 160,
     "metadata": {},
     "output_type": "execute_result"
    },
    {
     "data": {
      "image/png": "[encoded data removed]",
      "text/plain": [
       "<Figure size 720x720 with 2 Axes>"
      ]
     },
     "metadata": {
      "needs_background": "light"
     },
     "output_type": "display_data"
    }
   ],
   "source": [
    "fig, axes = plt.subplots(nrows=2, ncols=1, figsize=(10, 10))\n",
    "\n",
    "# Histogram of points scored away\n",
    "axes[0].hist(seasons_games[year]['away_team_score'], density=True, bins=20, color='blue', edgecolor='black', label='data')\n",
    "axes[0].hist(sim_poiss_prior.stan_variable('away_score_pred').mean(axis=0), density=True, bins=100, color='green', edgecolor='black', label='data', range=(0, 200))\n",
    "axes[0].set_title('Histogram of points scored away')\n",
    "axes[0].set_xlabel('Points')\n",
    "axes[0].set_ylabel('Density - number of games')\n",
    "\n",
    "# Histogram of points scored at home\n",
    "axes[1].hist(seasons_games[year]['home_team_score'], density=True, bins=20, color='blue', edgecolor='black', label='data')\n",
    "axes[1].hist(sim_poiss_prior.stan_variable('home_score_pred').mean(axis=0), density=True, bins=100, color='green', edgecolor='black', label='data', range=(0, 200))\n",
    "axes[1].set_title('Histogram of points scored at home')\n",
    "axes[1].set_xlabel('Points')\n",
    "axes[1].set_ylabel('Density - number of games')"
   ]
  },
  {
   "cell_type": "markdown",
   "id": "39f7852f",
   "metadata": {},
   "source": [
    "### Posterior"
   ]
  },
  {
   "cell_type": "code",
   "execution_count": 161,
   "id": "d8eaf573",
   "metadata": {},
   "outputs": [
    {
     "name": "stderr",
     "output_type": "stream",
     "text": [
      "INFO:cmdstanpy:found newer exe file, not recompiling\n",
      "INFO:cmdstanpy:CmdStan start processing\n",
      "chain 1 |\u001b[34m██████████\u001b[0m| 00:39 Sampling completed                       "
     ]
    },
    {
     "name": "stdout",
     "output_type": "stream",
     "text": [
      "                                                                                "
     ]
    },
    {
     "name": "stderr",
     "output_type": "stream",
     "text": [
      "\n",
      "INFO:cmdstanpy:CmdStan done processing.\n"
     ]
    },
    {
     "name": "stdout",
     "output_type": "stream",
     "text": [
      "\n"
     ]
    }
   ],
   "source": [
    "model_poiss_post = CmdStanModel(stan_file='src/model/model_poisson_posterior.stan')\n",
    "samples = 1000\n",
    "sim_poiss_post=model_poiss_post.sample(data=inp_data,\n",
    "                     iter_sampling=samples,\n",
    "                     #iter_warmup=1,\n",
    "                     chains=1\n",
    "                     )"
   ]
  },
  {
   "cell_type": "code",
   "execution_count": 162,
   "id": "0785f412",
   "metadata": {},
   "outputs": [
    {
     "name": "stdout",
     "output_type": "stream",
     "text": [
      "          lp__  accept_stat__  stepsize__  treedepth__  n_leapfrog__  \\\n",
      "0    1081420.0       0.968534    0.028432          7.0         127.0   \n",
      "1    1081420.0       0.960421    0.028432          7.0         127.0   \n",
      "2    1081420.0       0.610562    0.028432          7.0         127.0   \n",
      "3    1081420.0       0.842302    0.028432          7.0         127.0   \n",
      "4    1081410.0       0.725780    0.028432          7.0         127.0   \n",
      "..         ...            ...         ...          ...           ...   \n",
      "995  1081410.0       0.990028    0.028432          7.0         127.0   \n",
      "996  1081400.0       0.675652    0.028432          7.0         127.0   \n",
      "997  1081410.0       0.975011    0.028432          7.0         127.0   \n",
      "998  1081420.0       0.757249    0.028432          7.0         127.0   \n",
      "999  1081410.0       0.995771    0.028432          7.0         127.0   \n",
      "\n",
      "     divergent__   energy__  mu_home_att  mu_away_att  mu_home_def  ...  \\\n",
      "0            0.0 -1081360.0    -0.000104     0.000085    -0.000058  ...   \n",
      "1            0.0 -1081360.0     0.000032     0.000021     0.000054  ...   \n",
      "2            0.0 -1081350.0     0.000107     0.000040     0.000173  ...   \n",
      "3            0.0 -1081350.0     0.000019     0.000080     0.000112  ...   \n",
      "4            0.0 -1081350.0    -0.000078     0.000149    -0.000065  ...   \n",
      "..           ...        ...          ...          ...          ...  ...   \n",
      "995          0.0 -1081340.0    -0.000190    -0.000113    -0.000047  ...   \n",
      "996          0.0 -1081340.0    -0.000199    -0.000302    -0.000105  ...   \n",
      "997          0.0 -1081340.0     0.000097     0.000048     0.000009  ...   \n",
      "998          0.0 -1081360.0    -0.000014    -0.000146    -0.000210  ...   \n",
      "999          0.0 -1081350.0    -0.000060    -0.000050    -0.000016  ...   \n",
      "\n",
      "     log_lik_away[1314]  log_lik_away[1315]  log_lik_away[1316]  \\\n",
      "0              -4.27390            -3.66296            -3.62989   \n",
      "1              -4.09793            -3.50093            -3.83843   \n",
      "2              -3.99991            -3.63353            -3.56886   \n",
      "3              -4.21640            -3.51957            -3.48289   \n",
      "4              -4.04556            -3.51749            -3.61460   \n",
      "..                  ...                 ...                 ...   \n",
      "995            -4.63382            -4.00741            -3.96711   \n",
      "996            -4.02432            -3.97154            -3.52347   \n",
      "997            -4.14677            -3.88683            -3.66097   \n",
      "998            -4.03315            -3.34210            -3.52093   \n",
      "999            -3.83835            -3.77529            -3.60461   \n",
      "\n",
      "     log_lik_away[1317]  log_lik_away[1318]  log_lik_away[1319]  \\\n",
      "0              -3.52317            -4.15562            -4.83945   \n",
      "1              -3.43336            -4.33095            -4.62272   \n",
      "2              -3.38715            -4.33767            -4.61508   \n",
      "3              -3.49296            -4.24881            -4.71985   \n",
      "4              -3.40829            -4.04900            -4.99067   \n",
      "..                  ...                 ...                 ...   \n",
      "995            -3.72727            -4.79143            -4.18559   \n",
      "996            -3.39836            -4.82958            -4.15580   \n",
      "997            -3.45748            -4.61931            -4.33085   \n",
      "998            -3.40247            -3.86943            -5.29017   \n",
      "999            -3.31866            -4.52178            -4.42202   \n",
      "\n",
      "     log_lik_away[1320]  log_lik_away[1321]  log_lik_away[1322]  \\\n",
      "0              -3.25572            -3.34892            -3.93669   \n",
      "1              -3.28864            -3.30856            -3.79347   \n",
      "2              -3.24041            -3.38106            -3.78852   \n",
      "3              -3.24436            -3.37128            -3.85699   \n",
      "4              -3.43679            -3.25657            -4.03956   \n",
      "..                  ...                 ...                 ...   \n",
      "995            -3.22416            -3.45544            -3.52463   \n",
      "996            -3.30446            -3.29596            -3.50759   \n",
      "997            -3.30507            -3.29553            -3.61039   \n",
      "998            -3.30713            -3.29411            -4.24923   \n",
      "999            -3.29956            -3.29954            -3.66618   \n",
      "\n",
      "     log_lik_away[1323]  \n",
      "0              -3.23787  \n",
      "1              -3.23938  \n",
      "2              -3.24289  \n",
      "3              -3.24096  \n",
      "4              -3.30176  \n",
      "..                  ...  \n",
      "995            -3.26548  \n",
      "996            -3.24302  \n",
      "997            -3.24319  \n",
      "998            -3.24376  \n",
      "999            -3.24176  \n",
      "\n",
      "[1000 rows x 8073 columns]\n"
     ]
    }
   ],
   "source": [
    "mod_poiss_post = sim_poiss_post.draws_pd()\n",
    "print(mod_poiss_post)"
   ]
  },
  {
   "cell_type": "code",
   "execution_count": 163,
   "id": "a60dc9a6",
   "metadata": {},
   "outputs": [
    {
     "data": {
      "text/plain": [
       "Text(0, 0.5, 'Density - number of games')"
      ]
     },
     "execution_count": 163,
     "metadata": {},
     "output_type": "execute_result"
    },
    {
     "data": {
      "image/png": "[encoded data removed]",
      "text/plain": [
       "<Figure size 720x720 with 2 Axes>"
      ]
     },
     "metadata": {
      "needs_background": "light"
     },
     "output_type": "display_data"
    }
   ],
   "source": [
    "fig, axes = plt.subplots(nrows=2, ncols=1, figsize=(10, 10))\n",
    "\n",
    "# Histogram of points scored away\n",
    "axes[0].hist(seasons_games[year]['away_team_score'], density=True, bins=20, color='blue', edgecolor='black', label='data')\n",
    "axes[0].hist(sim_poiss_post.stan_variable('away_score_pred').mean(axis=0), density=True, bins=100, color='green', edgecolor='black', label='data', range=(0, 200))\n",
    "axes[0].set_title('Histogram of points scored away')\n",
    "axes[0].set_xlabel('Points')\n",
    "axes[0].set_ylabel('Density - number of games')\n",
    "\n",
    "# Histogram of points scored at home\n",
    "axes[1].hist(seasons_games[year]['home_team_score'], density=True, bins=20, color='blue', edgecolor='black', label='data')\n",
    "axes[1].hist(sim_poiss_post.stan_variable('home_score_pred').mean(axis=0), density=True, bins=100, color='green', edgecolor='black', label='data', range=(0, 200))\n",
    "axes[1].set_title('Histogram of points scored at home')\n",
    "axes[1].set_xlabel('Points')\n",
    "axes[1].set_ylabel('Density - number of games')"
   ]
  },
  {
   "cell_type": "code",
   "execution_count": 164,
   "id": "08687f08",
   "metadata": {},
   "outputs": [
    {
     "name": "stderr",
     "output_type": "stream",
     "text": [
      "/usr/local/lib/python3.12/site-packages/arviz/stats/stats.py:1635: UserWarning: For one or more samples the posterior variance of the log predictive densities exceeds 0.4. This could be indication of WAIC starting to fail. \n",
      "See http://arxiv.org/abs/1507.04544 for details\n",
      "  warnings.warn(\n"
     ]
    },
    {
     "data": {
      "image/png": "[encoded data removed]",
      "text/plain": [
       "<Figure size 432x144 with 1 Axes>"
      ]
     },
     "metadata": {
      "needs_background": "light"
     },
     "output_type": "display_data"
    }
   ],
   "source": [
    "idata_nbin = az.from_cmdstanpy(posterior=sim_nbinomial_post, log_likelihood={\"home\": \"log_lik_home\"})\n",
    "idata_poisson = az.from_cmdstanpy(posterior=sim_poiss_post, log_likelihood={\"home\": \"log_lik_home\"})\n",
    "\n",
    "# Comparing models\n",
    "comp_dict = {'Model 1': idata_nbin, \"Model 2\": idata_poisson}\n",
    "\n",
    "comp_waic = az.compare(comp_dict, ic='waic', scale='deviance')\n",
    "az.plot_compare(comp_waic)\n",
    "plt.title(\"Waic metric\")\n",
    "plt.show()"
   ]
  },
  {
   "cell_type": "code",
   "execution_count": 165,
   "id": "961f1948",
   "metadata": {},
   "outputs": [
    {
     "data": {
      "text/html": [
       "<div>\n",
       "<style scoped>\n",
       "    .dataframe tbody tr th:only-of-type {\n",
       "        vertical-align: middle;\n",
       "    }\n",
       "\n",
       "    .dataframe tbody tr th {\n",
       "        vertical-align: top;\n",
       "    }\n",
       "\n",
       "    .dataframe thead th {\n",
       "        text-align: right;\n",
       "    }\n",
       "</style>\n",
       "<table border=\"1\" class=\"dataframe\">\n",
       "  <thead>\n",
       "    <tr style=\"text-align: right;\">\n",
       "      <th></th>\n",
       "      <th>rank</th>\n",
       "      <th>waic</th>\n",
       "      <th>p_waic</th>\n",
       "      <th>d_waic</th>\n",
       "      <th>weight</th>\n",
       "      <th>se</th>\n",
       "      <th>dse</th>\n",
       "      <th>warning</th>\n",
       "      <th>waic_scale</th>\n",
       "    </tr>\n",
       "  </thead>\n",
       "  <tbody>\n",
       "    <tr>\n",
       "      <th>Model 2</th>\n",
       "      <td>0</td>\n",
       "      <td>10305.298702</td>\n",
       "      <td>6.408698e+01</td>\n",
       "      <td>0.000000</td>\n",
       "      <td>1.0</td>\n",
       "      <td>62.805073</td>\n",
       "      <td>0.000000</td>\n",
       "      <td>True</td>\n",
       "      <td>deviance</td>\n",
       "    </tr>\n",
       "    <tr>\n",
       "      <th>Model 1</th>\n",
       "      <td>1</td>\n",
       "      <td>20827.921340</td>\n",
       "      <td>4.878316e-27</td>\n",
       "      <td>10522.622638</td>\n",
       "      <td>0.0</td>\n",
       "      <td>32.799460</td>\n",
       "      <td>69.977152</td>\n",
       "      <td>False</td>\n",
       "      <td>deviance</td>\n",
       "    </tr>\n",
       "  </tbody>\n",
       "</table>\n",
       "</div>"
      ],
      "text/plain": [
       "         rank          waic        p_waic        d_waic  weight         se  \\\n",
       "Model 2     0  10305.298702  6.408698e+01      0.000000     1.0  62.805073   \n",
       "Model 1     1  20827.921340  4.878316e-27  10522.622638     0.0  32.799460   \n",
       "\n",
       "               dse  warning waic_scale  \n",
       "Model 2   0.000000     True   deviance  \n",
       "Model 1  69.977152    False   deviance  "
      ]
     },
     "execution_count": 165,
     "metadata": {},
     "output_type": "execute_result"
    }
   ],
   "source": [
    "comp_waic"
   ]
  },
  {
   "cell_type": "code",
   "execution_count": 166,
   "id": "a1a28d14",
   "metadata": {},
   "outputs": [
    {
     "name": "stderr",
     "output_type": "stream",
     "text": [
      "/usr/local/lib/python3.12/site-packages/arviz/stats/stats.py:811: UserWarning: Estimated shape parameter of Pareto distribution is greater than 0.7 for one or more samples. You should consider using a more robust model, this is because importance sampling is less likely to work well if the marginal posterior and LOO posterior are very different. This is more likely to happen with a non-robust model and highly influential observations.\n",
      "  warnings.warn(\n"
     ]
    },
    {
     "data": {
      "image/png": "[encoded data removed]",
      "text/plain": [
       "<Figure size 432x144 with 1 Axes>"
      ]
     },
     "metadata": {
      "needs_background": "light"
     },
     "output_type": "display_data"
    }
   ],
   "source": [
    "comp_loo = az.compare(comp_dict, ic='loo', scale='deviance')\n",
    "az.plot_compare(comp_loo)\n",
    "plt.title(\"Loo metric\")\n",
    "plt.show()"
   ]
  },
  {
   "cell_type": "code",
   "execution_count": 167,
   "id": "ac43348e",
   "metadata": {},
   "outputs": [
    {
     "data": {
      "text/html": [
       "<div>\n",
       "<style scoped>\n",
       "    .dataframe tbody tr th:only-of-type {\n",
       "        vertical-align: middle;\n",
       "    }\n",
       "\n",
       "    .dataframe tbody tr th {\n",
       "        vertical-align: top;\n",
       "    }\n",
       "\n",
       "    .dataframe thead th {\n",
       "        text-align: right;\n",
       "    }\n",
       "</style>\n",
       "<table border=\"1\" class=\"dataframe\">\n",
       "  <thead>\n",
       "    <tr style=\"text-align: right;\">\n",
       "      <th></th>\n",
       "      <th>rank</th>\n",
       "      <th>loo</th>\n",
       "      <th>p_loo</th>\n",
       "      <th>d_loo</th>\n",
       "      <th>weight</th>\n",
       "      <th>se</th>\n",
       "      <th>dse</th>\n",
       "      <th>warning</th>\n",
       "      <th>loo_scale</th>\n",
       "    </tr>\n",
       "  </thead>\n",
       "  <tbody>\n",
       "    <tr>\n",
       "      <th>Model 2</th>\n",
       "      <td>0</td>\n",
       "      <td>10305.555017</td>\n",
       "      <td>64.215141</td>\n",
       "      <td>0.000000</td>\n",
       "      <td>1.0</td>\n",
       "      <td>62.818698</td>\n",
       "      <td>0.000000</td>\n",
       "      <td>False</td>\n",
       "      <td>deviance</td>\n",
       "    </tr>\n",
       "    <tr>\n",
       "      <th>Model 1</th>\n",
       "      <td>1</td>\n",
       "      <td>20827.921340</td>\n",
       "      <td>0.000000</td>\n",
       "      <td>10522.366323</td>\n",
       "      <td>0.0</td>\n",
       "      <td>32.799460</td>\n",
       "      <td>69.989893</td>\n",
       "      <td>True</td>\n",
       "      <td>deviance</td>\n",
       "    </tr>\n",
       "  </tbody>\n",
       "</table>\n",
       "</div>"
      ],
      "text/plain": [
       "         rank           loo      p_loo         d_loo  weight         se  \\\n",
       "Model 2     0  10305.555017  64.215141      0.000000     1.0  62.818698   \n",
       "Model 1     1  20827.921340   0.000000  10522.366323     0.0  32.799460   \n",
       "\n",
       "               dse  warning loo_scale  \n",
       "Model 2   0.000000    False  deviance  \n",
       "Model 1  69.989893     True  deviance  "
      ]
     },
     "execution_count": 167,
     "metadata": {},
     "output_type": "execute_result"
    }
   ],
   "source": [
    "comp_loo"
   ]
  },
  {
   "cell_type": "code",
   "execution_count": 168,
   "id": "9b61f5bd",
   "metadata": {},
   "outputs": [
    {
     "name": "stderr",
     "output_type": "stream",
     "text": [
      "/usr/local/lib/python3.12/site-packages/arviz/stats/stats.py:1635: UserWarning: For one or more samples the posterior variance of the log predictive densities exceeds 0.4. This could be indication of WAIC starting to fail. \n",
      "See http://arxiv.org/abs/1507.04544 for details\n",
      "  warnings.warn(\n"
     ]
    },
    {
     "data": {
      "image/png": "[encoded data removed]",
      "text/plain": [
       "<Figure size 432x144 with 1 Axes>"
      ]
     },
     "metadata": {
      "needs_background": "light"
     },
     "output_type": "display_data"
    }
   ],
   "source": [
    "idata_nbin = az.from_cmdstanpy(posterior=sim_nbinomial_post, log_likelihood={\"away\": \"log_lik_away\"})\n",
    "idata_poisson = az.from_cmdstanpy(posterior=sim_poiss_post, log_likelihood={\"away\": \"log_lik_away\"})\n",
    "\n",
    "# Comparing models\n",
    "comp_dict = {'Model 1': idata_nbin, \"Model 2\": idata_poisson}\n",
    "\n",
    "comp_waic = az.compare(comp_dict, ic='waic', scale='deviance')\n",
    "az.plot_compare(comp_waic)\n",
    "plt.title(\"Waic metric\")\n",
    "plt.show()"
   ]
  },
  {
   "cell_type": "code",
   "execution_count": 169,
   "id": "578e5a44",
   "metadata": {},
   "outputs": [
    {
     "data": {
      "text/html": [
       "<div>\n",
       "<style scoped>\n",
       "    .dataframe tbody tr th:only-of-type {\n",
       "        vertical-align: middle;\n",
       "    }\n",
       "\n",
       "    .dataframe tbody tr th {\n",
       "        vertical-align: top;\n",
       "    }\n",
       "\n",
       "    .dataframe thead th {\n",
       "        text-align: right;\n",
       "    }\n",
       "</style>\n",
       "<table border=\"1\" class=\"dataframe\">\n",
       "  <thead>\n",
       "    <tr style=\"text-align: right;\">\n",
       "      <th></th>\n",
       "      <th>rank</th>\n",
       "      <th>waic</th>\n",
       "      <th>p_waic</th>\n",
       "      <th>d_waic</th>\n",
       "      <th>weight</th>\n",
       "      <th>se</th>\n",
       "      <th>dse</th>\n",
       "      <th>warning</th>\n",
       "      <th>waic_scale</th>\n",
       "    </tr>\n",
       "  </thead>\n",
       "  <tbody>\n",
       "    <tr>\n",
       "      <th>Model 2</th>\n",
       "      <td>0</td>\n",
       "      <td>10349.398397</td>\n",
       "      <td>6.733637e+01</td>\n",
       "      <td>0.000000</td>\n",
       "      <td>1.000000e+00</td>\n",
       "      <td>63.727550</td>\n",
       "      <td>0.000000</td>\n",
       "      <td>True</td>\n",
       "      <td>deviance</td>\n",
       "    </tr>\n",
       "    <tr>\n",
       "      <th>Model 1</th>\n",
       "      <td>1</td>\n",
       "      <td>19901.876560</td>\n",
       "      <td>5.031355e-27</td>\n",
       "      <td>9552.478163</td>\n",
       "      <td>5.995204e-15</td>\n",
       "      <td>16.963205</td>\n",
       "      <td>64.980836</td>\n",
       "      <td>False</td>\n",
       "      <td>deviance</td>\n",
       "    </tr>\n",
       "  </tbody>\n",
       "</table>\n",
       "</div>"
      ],
      "text/plain": [
       "         rank          waic        p_waic       d_waic        weight  \\\n",
       "Model 2     0  10349.398397  6.733637e+01     0.000000  1.000000e+00   \n",
       "Model 1     1  19901.876560  5.031355e-27  9552.478163  5.995204e-15   \n",
       "\n",
       "                se        dse  warning waic_scale  \n",
       "Model 2  63.727550   0.000000     True   deviance  \n",
       "Model 1  16.963205  64.980836    False   deviance  "
      ]
     },
     "execution_count": 169,
     "metadata": {},
     "output_type": "execute_result"
    }
   ],
   "source": [
    "comp_waic"
   ]
  },
  {
   "cell_type": "code",
   "execution_count": 170,
   "id": "bfd6bc29",
   "metadata": {},
   "outputs": [
    {
     "name": "stderr",
     "output_type": "stream",
     "text": [
      "/usr/local/lib/python3.12/site-packages/arviz/stats/stats.py:811: UserWarning: Estimated shape parameter of Pareto distribution is greater than 0.7 for one or more samples. You should consider using a more robust model, this is because importance sampling is less likely to work well if the marginal posterior and LOO posterior are very different. This is more likely to happen with a non-robust model and highly influential observations.\n",
      "  warnings.warn(\n"
     ]
    },
    {
     "data": {
      "image/png": "[encoded data removed]",
      "text/plain": [
       "<Figure size 432x144 with 1 Axes>"
      ]
     },
     "metadata": {
      "needs_background": "light"
     },
     "output_type": "display_data"
    }
   ],
   "source": [
    "comp_loo = az.compare(comp_dict, ic='loo', scale='deviance')\n",
    "az.plot_compare(comp_loo)\n",
    "plt.title(\"Loo metric\")\n",
    "plt.show()"
   ]
  },
  {
   "cell_type": "code",
   "execution_count": 171,
   "id": "992251b6",
   "metadata": {},
   "outputs": [
    {
     "data": {
      "text/html": [
       "<div>\n",
       "<style scoped>\n",
       "    .dataframe tbody tr th:only-of-type {\n",
       "        vertical-align: middle;\n",
       "    }\n",
       "\n",
       "    .dataframe tbody tr th {\n",
       "        vertical-align: top;\n",
       "    }\n",
       "\n",
       "    .dataframe thead th {\n",
       "        text-align: right;\n",
       "    }\n",
       "</style>\n",
       "<table border=\"1\" class=\"dataframe\">\n",
       "  <thead>\n",
       "    <tr style=\"text-align: right;\">\n",
       "      <th></th>\n",
       "      <th>rank</th>\n",
       "      <th>loo</th>\n",
       "      <th>p_loo</th>\n",
       "      <th>d_loo</th>\n",
       "      <th>weight</th>\n",
       "      <th>se</th>\n",
       "      <th>dse</th>\n",
       "      <th>warning</th>\n",
       "      <th>loo_scale</th>\n",
       "    </tr>\n",
       "  </thead>\n",
       "  <tbody>\n",
       "    <tr>\n",
       "      <th>Model 2</th>\n",
       "      <td>0</td>\n",
       "      <td>10349.670971</td>\n",
       "      <td>67.472658</td>\n",
       "      <td>0.000000</td>\n",
       "      <td>1.000000e+00</td>\n",
       "      <td>63.741211</td>\n",
       "      <td>0.00000</td>\n",
       "      <td>False</td>\n",
       "      <td>deviance</td>\n",
       "    </tr>\n",
       "    <tr>\n",
       "      <th>Model 1</th>\n",
       "      <td>1</td>\n",
       "      <td>19901.876560</td>\n",
       "      <td>0.000000</td>\n",
       "      <td>9552.205589</td>\n",
       "      <td>8.471002e-14</td>\n",
       "      <td>16.963205</td>\n",
       "      <td>64.99356</td>\n",
       "      <td>True</td>\n",
       "      <td>deviance</td>\n",
       "    </tr>\n",
       "  </tbody>\n",
       "</table>\n",
       "</div>"
      ],
      "text/plain": [
       "         rank           loo      p_loo        d_loo        weight         se  \\\n",
       "Model 2     0  10349.670971  67.472658     0.000000  1.000000e+00  63.741211   \n",
       "Model 1     1  19901.876560   0.000000  9552.205589  8.471002e-14  16.963205   \n",
       "\n",
       "              dse  warning loo_scale  \n",
       "Model 2   0.00000    False  deviance  \n",
       "Model 1  64.99356     True  deviance  "
      ]
     },
     "execution_count": 171,
     "metadata": {},
     "output_type": "execute_result"
    }
   ],
   "source": [
    "comp_loo"
   ]
  },
  {
   "cell_type": "markdown",
   "id": "0d8d6ea2",
   "metadata": {},
   "source": [
    "# 3. Model comparision"
   ]
  },
  {
   "cell_type": "markdown",
   "id": "116584d7",
   "metadata": {},
   "source": [
    "### Results for loo criterion\n",
    "\n",
    "When comparing models using the Loo criterion, an error occurred \n",
    "\n",
    "Clear Winner: Poisson model is the clear winner with a significantly lower WAIC score, indicating better predictive accuracy compared to Negative Binomial model.\n",
    "\n",
    "Overlap: The substantial difference in LOO scores clearly favors Poisson model, with no significant overlap.\n",
    "\n",
    "Warnings: The warning suggests that Negative Binomial model may not be robust. Non-robust models are more sensitive to individual observations, and making LOO estimates less reliable."
   ]
  },
  {
   "cell_type": "markdown",
   "id": "2e09f647",
   "metadata": {},
   "source": [
    "### Results for waic criterion\n",
    "Clear Winner: Poisson model is the clear winner with a significantly lower WAIC score, indicating better predictive accuracy compared to Negative Binomail model.\n",
    "\n",
    "Overlap: Given the large difference in WAIC scores, there is no overlap, clearly favoring Poisson model.\n",
    "\n",
    "Warnings: The warning for Poisson model suggests some issues with WAIC calculation, indicating that the posterior variance of the log predictive densities exceeds 0.4. This means that while Poisson model has a better WAIC score, caution is needed in interpreting this result, and further validation might be necessary."
   ]
  }
 ],
 "metadata": {
  "kernelspec": {
   "display_name": "Python 3 (ipykernel)",
   "language": "python",
   "name": "python3"
  },
  "language_info": {
   "codemirror_mode": {
    "name": "ipython",
    "version": 3
   },
   "file_extension": ".py",
   "mimetype": "text/x-python",
   "name": "python",
   "nbconvert_exporter": "python",
   "pygments_lexer": "ipython3",
   "version": "3.12.2"
  }
 },
 "nbformat": 4,
 "nbformat_minor": 5
}
