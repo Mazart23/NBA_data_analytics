{
 "cells": [
  {
   "cell_type": "markdown",
   "id": "251631a6d8884fe0",
   "metadata": {},
   "source": [
    "Imports"
   ]
  },
  {
   "cell_type": "code",
   "execution_count": 1,
   "id": "initial_id",
   "metadata": {
    "collapsed": true,
    "jupyter": {
     "is_executing": true
    }
   },
   "outputs": [
    {
     "name": "stderr",
     "output_type": "stream",
     "text": [
      "/usr/local/lib/python3.12/site-packages/tqdm/auto.py:22: TqdmWarning: IProgress not found. Please update jupyter and ipywidgets. See https://ipywidgets.readthedocs.io/en/stable/user_install.html\n",
      "  from .autonotebook import tqdm as notebook_tqdm\n"
     ]
    }
   ],
   "source": [
    "import os\n",
    "\n",
    "from cmdstanpy import CmdStanModel\n",
    "import numpy as np\n",
    "import matplotlib.pyplot as plt\n",
    "import pandas as pd\n",
    "import seaborn as sns\n",
    "from scipy.stats import nbinom, norm, poisson\n",
    "import arviz as az\n",
    "\n",
    "os.chdir('/app')\n",
    "\n",
    "from src.web_scraping.scraper import scrap_games"
   ]
  },
  {
   "cell_type": "markdown",
   "id": "d30f1715ab83299d",
   "metadata": {},
   "source": [
    "Input parameters for scraping"
   ]
  },
  {
   "cell_type": "code",
   "execution_count": 2,
   "id": "4a37932042922ee6",
   "metadata": {
    "jupyter": {
     "is_executing": true
    }
   },
   "outputs": [],
   "source": [
    "years = list(range(2022, 2024))\n",
    "train_year = years[0]\n",
    "pred_year = years[1]"
   ]
  },
  {
   "cell_type": "markdown",
   "id": "f8cacc2b5f8f4a7e",
   "metadata": {},
   "source": [
    "Scraping"
   ]
  },
  {
   "cell_type": "code",
   "execution_count": 3,
   "id": "99b39a5d2efe26e1",
   "metadata": {
    "ExecuteTime": {
     "end_time": "2024-05-13T19:49:45.917680Z",
     "start_time": "2024-05-13T19:49:44.578414Z"
    }
   },
   "outputs": [],
   "source": [
    "scrap_games(years)"
   ]
  },
  {
   "cell_type": "markdown",
   "id": "628771dda6d37541",
   "metadata": {},
   "source": [
    "Read data"
   ]
  },
  {
   "cell_type": "code",
   "execution_count": 3,
   "id": "1bf6f31f0033ed5d",
   "metadata": {
    "ExecuteTime": {
     "end_time": "2024-05-13T19:49:59.760218Z",
     "start_time": "2024-05-13T19:49:59.719698Z"
    }
   },
   "outputs": [
    {
     "name": "stdout",
     "output_type": "stream",
     "text": [
      "{2022:                      start_time              away_team  away_team_score  \\\n",
      "0     2021-10-19 23:30:00+00:00          BROOKLYN NETS              104   \n",
      "1     2021-10-20 02:00:00+00:00  GOLDEN STATE WARRIORS              121   \n",
      "2     2021-10-20 23:00:00+00:00         INDIANA PACERS              122   \n",
      "3     2021-10-20 23:00:00+00:00          CHICAGO BULLS               94   \n",
      "4     2021-10-20 23:30:00+00:00         BOSTON CELTICS              134   \n",
      "...                         ...                    ...              ...   \n",
      "1318  2022-06-06 00:00:00+00:00         BOSTON CELTICS               88   \n",
      "1319  2022-06-09 01:00:00+00:00  GOLDEN STATE WARRIORS              100   \n",
      "1320  2022-06-11 01:00:00+00:00  GOLDEN STATE WARRIORS              107   \n",
      "1321  2022-06-14 01:00:00+00:00         BOSTON CELTICS               94   \n",
      "1322  2022-06-17 01:00:00+00:00  GOLDEN STATE WARRIORS              103   \n",
      "\n",
      "                  home_team  home_team_score  \n",
      "0           MILWAUKEE BUCKS              127  \n",
      "1        LOS ANGELES LAKERS              114  \n",
      "2         CHARLOTTE HORNETS              123  \n",
      "3           DETROIT PISTONS               88  \n",
      "4           NEW YORK KNICKS              138  \n",
      "...                     ...              ...  \n",
      "1318  GOLDEN STATE WARRIORS              107  \n",
      "1319         BOSTON CELTICS              116  \n",
      "1320         BOSTON CELTICS               97  \n",
      "1321  GOLDEN STATE WARRIORS              104  \n",
      "1322         BOSTON CELTICS               90  \n",
      "\n",
      "[1323 rows x 5 columns], 2023:                      start_time           away_team  away_team_score  \\\n",
      "0     2022-10-18 23:30:00+00:00  PHILADELPHIA 76ERS              117   \n",
      "1     2022-10-19 02:00:00+00:00  LOS ANGELES LAKERS              109   \n",
      "2     2022-10-19 23:00:00+00:00       ORLANDO MAGIC              109   \n",
      "3     2022-10-19 23:00:00+00:00  WASHINGTON WIZARDS              114   \n",
      "4     2022-10-19 23:30:00+00:00       CHICAGO BULLS              116   \n",
      "...                         ...                 ...              ...   \n",
      "1315  2023-06-02 00:30:00+00:00          MIAMI HEAT               93   \n",
      "1316  2023-06-05 00:00:00+00:00          MIAMI HEAT              111   \n",
      "1317  2023-06-08 00:30:00+00:00      DENVER NUGGETS              109   \n",
      "1318  2023-06-10 00:30:00+00:00      DENVER NUGGETS              108   \n",
      "1319  2023-06-13 00:30:00+00:00          MIAMI HEAT               89   \n",
      "\n",
      "                  home_team  home_team_score  \n",
      "0            BOSTON CELTICS              126  \n",
      "1     GOLDEN STATE WARRIORS              123  \n",
      "2           DETROIT PISTONS              113  \n",
      "3            INDIANA PACERS              107  \n",
      "4                MIAMI HEAT              108  \n",
      "...                     ...              ...  \n",
      "1315         DENVER NUGGETS              104  \n",
      "1316         DENVER NUGGETS              108  \n",
      "1317             MIAMI HEAT               94  \n",
      "1318             MIAMI HEAT               95  \n",
      "1319         DENVER NUGGETS               94  \n",
      "\n",
      "[1320 rows x 5 columns]}\n"
     ]
    }
   ],
   "source": [
    "path = 'src/data/'\n",
    "path_games = os.path.join(path, 'games/')\n",
    "seasons_games = {}\n",
    "\n",
    "# prepare dataframes - drop duplicated rows and sort by date\n",
    "for year in years:\n",
    "    seasons_games[year] = pd.read_csv(os.path.join(path_games, f'{year-1}_{year}_season.csv')).drop_duplicates().sort_values(by='start_time').reset_index(drop=True)\n",
    "print(seasons_games)"
   ]
  },
  {
   "cell_type": "markdown",
   "id": "687659439df37d92",
   "metadata": {},
   "source": [
    "Edit dataframe"
   ]
  },
  {
   "cell_type": "code",
   "execution_count": 4,
   "id": "4807eb67bbade97c",
   "metadata": {
    "jupyter": {
     "is_executing": true
    }
   },
   "outputs": [
    {
     "name": "stdout",
     "output_type": "stream",
     "text": [
      "['MILWAUKEE BUCKS', 'LOS ANGELES LAKERS', 'CHARLOTTE HORNETS', 'DETROIT PISTONS', 'NEW YORK KNICKS', 'TORONTO RAPTORS', 'MEMPHIS GRIZZLIES', 'MINNESOTA TIMBERWOLVES', 'NEW ORLEANS PELICANS', 'SAN ANTONIO SPURS', 'UTAH JAZZ', 'PORTLAND TRAIL BLAZERS', 'PHOENIX SUNS', 'ATLANTA HAWKS', 'MIAMI HEAT', 'GOLDEN STATE WARRIORS', 'ORLANDO MAGIC', 'WASHINGTON WIZARDS', 'CLEVELAND CAVALIERS', 'PHILADELPHIA 76ERS', 'BOSTON CELTICS', 'HOUSTON ROCKETS', 'CHICAGO BULLS', 'DENVER NUGGETS', 'SACRAMENTO KINGS', 'INDIANA PACERS', 'LOS ANGELES CLIPPERS', 'BROOKLYN NETS', 'OKLAHOMA CITY THUNDER', 'DALLAS MAVERICKS']\n"
     ]
    }
   ],
   "source": [
    "# get unique team names\n",
    "teams = list(seasons_games[train_year]['home_team'].unique())\n",
    "print(teams)\n",
    "# map team to id\n",
    "team_to_id = {team: i + 1 for i, team in enumerate(teams)}\n",
    "\n",
    "for year in years:\n",
    "    # Add IDs of teams to be differentiate for stan\n",
    "    seasons_games[year]['home_team_id'] = seasons_games[year]['home_team'].map(team_to_id)\n",
    "    seasons_games[year]['away_team_id'] = seasons_games[year]['away_team'].map(team_to_id)\n",
    "\n",
    "    # Add difference in points between home team and away team\n",
    "    for year in years:\n",
    "        seasons_games[year]['difference'] = seasons_games[year]['home_team_score'] - seasons_games[year]['away_team_score']\n"
   ]
  },
  {
   "cell_type": "markdown",
   "id": "db981603",
   "metadata": {},
   "source": [
    "Show data (first 5 rows)"
   ]
  },
  {
   "cell_type": "code",
   "execution_count": 6,
   "id": "44244834c1e73a1b",
   "metadata": {},
   "outputs": [
    {
     "name": "stdout",
     "output_type": "stream",
     "text": [
      "                  start_time              away_team  away_team_score  \\\n",
      "0  2021-10-19 23:30:00+00:00          BROOKLYN NETS              104   \n",
      "1  2021-10-20 02:00:00+00:00  GOLDEN STATE WARRIORS              121   \n",
      "2  2021-10-20 23:00:00+00:00         INDIANA PACERS              122   \n",
      "3  2021-10-20 23:00:00+00:00          CHICAGO BULLS               94   \n",
      "4  2021-10-20 23:30:00+00:00         BOSTON CELTICS              134   \n",
      "\n",
      "            home_team  home_team_score  home_team_id  away_team_id  difference  \n",
      "0     MILWAUKEE BUCKS              127             1            28          23  \n",
      "1  LOS ANGELES LAKERS              114             2            16          -7  \n",
      "2   CHARLOTTE HORNETS              123             3            26           1  \n",
      "3     DETROIT PISTONS               88             4            23          -6  \n",
      "4     NEW YORK KNICKS              138             5            21           4  \n",
      "                  start_time           away_team  away_team_score  \\\n",
      "0  2022-10-18 23:30:00+00:00  PHILADELPHIA 76ERS              117   \n",
      "1  2022-10-19 02:00:00+00:00  LOS ANGELES LAKERS              109   \n",
      "2  2022-10-19 23:00:00+00:00       ORLANDO MAGIC              109   \n",
      "3  2022-10-19 23:00:00+00:00  WASHINGTON WIZARDS              114   \n",
      "4  2022-10-19 23:30:00+00:00       CHICAGO BULLS              116   \n",
      "\n",
      "               home_team  home_team_score  difference  home_team_id  \\\n",
      "0         BOSTON CELTICS              126           9            21   \n",
      "1  GOLDEN STATE WARRIORS              123          14            16   \n",
      "2        DETROIT PISTONS              113           4             4   \n",
      "3         INDIANA PACERS              107          -7            26   \n",
      "4             MIAMI HEAT              108          -8            15   \n",
      "\n",
      "   away_team_id  \n",
      "0            20  \n",
      "1             2  \n",
      "2            17  \n",
      "3            18  \n",
      "4            23  \n"
     ]
    }
   ],
   "source": [
    "for year in years:\n",
    "    print(seasons_games[year].head())"
   ]
  },
  {
   "cell_type": "markdown",
   "id": "57f1ce77",
   "metadata": {},
   "source": [
    "Plot data"
   ]
  },
  {
   "cell_type": "code",
   "execution_count": 5,
   "id": "4c92a902",
   "metadata": {},
   "outputs": [
    {
     "data": {
      "image/png": "[encoded data removed]",
      "text/plain": [
       "<Figure size 720x1080 with 3 Axes>"
      ]
     },
     "metadata": {
      "needs_background": "light"
     },
     "output_type": "display_data"
    }
   ],
   "source": [
    "fig, axes = plt.subplots(nrows=3, ncols=1, figsize=(10, 15))\n",
    "\n",
    "# Histogram of points scored away\n",
    "axes[0].hist(seasons_games[year]['away_team_score'], density=True, bins=10, color='blue', edgecolor='black', label='data')\n",
    "axes[0].set_title('Histogram of points scored away')\n",
    "axes[0].set_xlabel('Points')\n",
    "axes[0].set_ylabel('Density - number of games')\n",
    "\n",
    "# Histogram of points scored at home\n",
    "axes[1].hist(seasons_games[year]['home_team_score'], density=True, bins=10, color='green', edgecolor='black', label='data')\n",
    "axes[1].set_title('Histogram of points scored at home')\n",
    "axes[1].set_xlabel('Points')\n",
    "axes[1].set_ylabel('Density - number of games')\n",
    "\n",
    "# Histogram of point difference\n",
    "axes[2].hist(seasons_games[year]['difference'], density=True, bins=10, color='yellow', edgecolor='black', label='data')\n",
    "axes[2].set_title('Histogram of point difference')\n",
    "axes[2].set_xlabel('Point difference')\n",
    "axes[2].set_ylabel('Density - number of games')\n",
    "\n",
    "# Plot the negative binomial PDF on each chart\n",
    "for ax, col in zip(axes, ('away_team_score', 'home_team_score', 'difference')):\n",
    "    mean, var = np.mean(seasons_games[year][col]), np.var(seasons_games[year][col])\n",
    "    if col == 'difference':\n",
    "        std = np.sqrt(var)\n",
    "        x = np.linspace(min(seasons_games[year][col]), max(seasons_games[year][col]), 100)\n",
    "        normal_pdf = norm.pdf(x, mean, std)\n",
    "    \n",
    "        # Plot the normal PDF\n",
    "        ax.plot(x, normal_pdf, 'r-', lw=2, label='Normal fit')\n",
    "        \n",
    "        textstr = f'mean = {mean:.2f}\\nstandard deviation = {std:.2f}'\n",
    "        ax.text(0.05, 0.95, textstr, transform=ax.transAxes, fontsize=12,\n",
    "                verticalalignment='top', bbox={'boxstyle': 'round', 'facecolor': 'wheat', 'alpha': 0.5})\n",
    "    else:\n",
    "        p = mean / var\n",
    "        r = mean ** 2 / (var - mean)  # Number of failures\n",
    "        x = np.arange(min(seasons_games[year][col]), max(seasons_games[year][col]) + 1)\n",
    "        nbinom_pmf = nbinom.pmf(x, r, p)\n",
    "            \n",
    "        # Plot the negative binomial PDF\n",
    "        ax.plot(x, nbinom_pmf, 'r-', lw=2, label='Negative Binomial fit')\n",
    "        \n",
    "        textstr = f'probability of success = {p:.2f}\\nnumber of failures = {r:.2f}'\n",
    "        ax.text(0.05, 0.95, textstr, transform=ax.transAxes, fontsize=12,\n",
    "                verticalalignment='top', bbox={'boxstyle': 'round', 'facecolor': 'wheat', 'alpha': 0.5})\n",
    "    ax.legend()\n",
    "    ax.grid()\n",
    "\n",
    "plt.tight_layout()"
   ]
  },
  {
   "cell_type": "markdown",
   "id": "c42a6a74",
   "metadata": {},
   "source": [
    "Prepare input data"
   ]
  },
  {
   "cell_type": "code",
   "execution_count": 6,
   "id": "a9d4125a",
   "metadata": {},
   "outputs": [],
   "source": [
    "inp_data = {\n",
    "    'teams_number': len(teams),\n",
    "    'games_number': len(seasons_games[train_year]),\n",
    "    'home_team': seasons_games[train_year].home_team_id.to_numpy(),\n",
    "    'away_team': seasons_games[train_year].away_team_id.to_numpy(),\n",
    "    'home_score': seasons_games[train_year].home_team_score.to_numpy(),\n",
    "    'away_score': seasons_games[train_year].away_team_score.to_numpy(),\n",
    "}"
   ]
  },
  {
   "cell_type": "markdown",
   "id": "eeae9fdf",
   "metadata": {},
   "source": [
    "Modelling"
   ]
  },
  {
   "cell_type": "markdown",
   "id": "7581dada",
   "metadata": {},
   "source": [
    "Model 2 - poisson"
   ]
  },
  {
   "cell_type": "markdown",
   "id": "79ba020f",
   "metadata": {},
   "source": [
    "Predicting"
   ]
  },
  {
   "cell_type": "code",
   "execution_count": 9,
   "id": "b6a38904",
   "metadata": {},
   "outputs": [
    {
     "name": "stdout",
     "output_type": "stream",
     "text": [
      "data {\n",
      "  int teams_number;\n",
      "  int games_number;\n",
      "  array[games_number] int home_team;\n",
      "  array[games_number] int away_team;\n",
      "  array[games_number] int<lower=0> home_score;\n",
      "  array[games_number] int<lower=0> away_score;\n",
      "}\n",
      "parameters {\n",
      "  real mu_home_att;\n",
      "  real mu_away_att;\n",
      "  real mu_home_def;\n",
      "  real mu_away_def;\n",
      "  real<lower=0> sigma2_att;\n",
      "  real<lower=0> sigma2_def;\n",
      "\n",
      "  vector[teams_number-1] home_att_raw;\n",
      "  vector[teams_number-1] away_att_raw;\n",
      "  vector[teams_number-1] home_def_raw;\n",
      "  vector[teams_number-1] away_def_raw;\n",
      "}\n",
      "transformed parameters {\n",
      "  vector[games_number] log_mu_home;\n",
      "  vector[games_number] log_mu_away;\n",
      "  vector[teams_number] home_att;\n",
      "  vector[teams_number] away_att;\n",
      "  vector[teams_number] home_def;\n",
      "  vector[teams_number] away_def;\n",
      "\n",
      "  // need to make sum(att)=sum(def)=0\n",
      "  for (k in 1:(teams_number-1)) {\n",
      "    home_att[k] = home_att_raw[k];\n",
      "    away_att[k] = away_att_raw[k];\n",
      "    home_def[k] = home_def_raw[k];\n",
      "    away_def[k] = away_att_raw[k];\n",
      "  }\n",
      "  home_att[teams_number] = -sum(home_att_raw);\n",
      "  away_att[teams_number] = -sum(away_att_raw);\n",
      "  home_def[teams_number] = -sum(home_def_raw);\n",
      "  away_def[teams_number] = -sum(away_def_raw);\n",
      "\n",
      "  // getting mu in log form\n",
      "  log_mu_home = home_att[home_team] + away_def[away_team] + log(mu_home_att);\n",
      "  log_mu_away = away_att[away_team] + home_def[home_team] + log(mu_away_att);\n",
      "}\n",
      "model {\n",
      "  mu_home_att ~ normal(3.5, 0.5);  // Adjusted for higher scores\n",
      "  mu_away_att ~ normal(3.5, 0.5);  // Adjusted for higher scores\n",
      "  mu_home_def ~ normal(3.5, 0.5);  // Adjusted for higher scores\n",
      "  mu_away_def ~ normal(3.5, 0.5);  // Adjusted for higher scores\n",
      "  sigma2_att ~ gamma(2, 0.1);\n",
      "  sigma2_def ~ gamma(2, 0.1);\n",
      "\n",
      "  home_att_raw ~ normal(mu_home_att, sigma2_att);\n",
      "  away_att_raw ~ normal(mu_away_att, sigma2_att);\n",
      "  home_def_raw ~ normal(mu_home_def, sigma2_def);\n",
      "  away_def_raw ~ normal(mu_away_def, sigma2_def);\n",
      "\n",
      "  home_score ~ poisson_log(log_mu_home);\n",
      "  away_score ~ poisson_log(log_mu_away);\n",
      "}\n"
     ]
    }
   ],
   "source": [
    "with open('src/model/model_2.stan', 'r') as f:\n",
    "    print(f.read())"
   ]
  },
  {
   "cell_type": "code",
   "execution_count": 29,
   "id": "38f8b337",
   "metadata": {},
   "outputs": [
    {
     "name": "stderr",
     "output_type": "stream",
     "text": [
      "INFO:cmdstanpy:compiling stan file /app/src/model/model_2.stan to exe file /app/src/model/model_2\n",
      "INFO:cmdstanpy:compiled model executable: /app/src/model/model_2\n",
      "INFO:cmdstanpy:CmdStan start processing\n",
      "chain 1 |\u001b[33m          \u001b[0m| 00:00 Status\n",
      "\u001b[A\n",
      "\n",
      "\u001b[A\u001b[A\n",
      "\n",
      "chain 1 |\u001b[34m██████▋   \u001b[0m| 00:07 Iteration:    1 / 1500 [  0%]  (Warmup)\n",
      "\n",
      "\u001b[A\u001b[A\n",
      "chain 1 |\u001b[34m██████████\u001b[0m| 00:21 Iteration:  501 / 1500 [ 33%]  (Sampling)\n",
      "\n",
      "\u001b[A\u001b[A\n",
      "chain 1 |\u001b[34m██████████\u001b[0m| 00:23 Sampling completed                       \n",
      "chain 2 |\u001b[34m██████████\u001b[0m| 00:23 Sampling completed                       \n",
      "chain 3 |\u001b[34m██████████\u001b[0m| 00:23 Sampling completed                       \n",
      "chain 4 |\u001b[34m██████████\u001b[0m| 00:23 Sampling completed                       "
     ]
    },
    {
     "name": "stdout",
     "output_type": "stream",
     "text": [
      "                                                                                                                                                                                                                                                                                                                                "
     ]
    },
    {
     "name": "stderr",
     "output_type": "stream",
     "text": [
      "\n",
      "INFO:cmdstanpy:CmdStan done processing.\n"
     ]
    },
    {
     "name": "stdout",
     "output_type": "stream",
     "text": [
      "\n"
     ]
    }
   ],
   "source": [
    "model_2 = CmdStanModel(stan_file='src/model/model_2.stan')\n",
    "samples = 1000\n",
    "sim2=model_2.sample(data=inp_data,\n",
    "                     iter_sampling=samples,\n",
    "                     iter_warmup=500,\n",
    "                     chains=4,\n",
    "                     fixed_param=False,\n",
    "                     parallel_chains=4,\n",
    "                     seed=122,\n",
    "                     refresh=samples)"
   ]
  },
  {
   "cell_type": "code",
   "execution_count": 30,
   "id": "bea246ff",
   "metadata": {},
   "outputs": [
    {
     "data": {
      "text/html": [
       "<div>\n",
       "<style scoped>\n",
       "    .dataframe tbody tr th:only-of-type {\n",
       "        vertical-align: middle;\n",
       "    }\n",
       "\n",
       "    .dataframe tbody tr th {\n",
       "        vertical-align: top;\n",
       "    }\n",
       "\n",
       "    .dataframe thead th {\n",
       "        text-align: right;\n",
       "    }\n",
       "</style>\n",
       "<table border=\"1\" class=\"dataframe\">\n",
       "  <thead>\n",
       "    <tr style=\"text-align: right;\">\n",
       "      <th></th>\n",
       "      <th>lp__</th>\n",
       "      <th>accept_stat__</th>\n",
       "      <th>stepsize__</th>\n",
       "      <th>treedepth__</th>\n",
       "      <th>n_leapfrog__</th>\n",
       "      <th>divergent__</th>\n",
       "      <th>energy__</th>\n",
       "      <th>mu_home_att</th>\n",
       "      <th>mu_away_att</th>\n",
       "      <th>mu_home_def</th>\n",
       "      <th>...</th>\n",
       "      <th>away_def[21]</th>\n",
       "      <th>away_def[22]</th>\n",
       "      <th>away_def[23]</th>\n",
       "      <th>away_def[24]</th>\n",
       "      <th>away_def[25]</th>\n",
       "      <th>away_def[26]</th>\n",
       "      <th>away_def[27]</th>\n",
       "      <th>away_def[28]</th>\n",
       "      <th>away_def[29]</th>\n",
       "      <th>away_def[30]</th>\n",
       "    </tr>\n",
       "  </thead>\n",
       "  <tbody>\n",
       "    <tr>\n",
       "      <th>0</th>\n",
       "      <td>1061260.0</td>\n",
       "      <td>0.933358</td>\n",
       "      <td>0.074175</td>\n",
       "      <td>6.0</td>\n",
       "      <td>63.0</td>\n",
       "      <td>0.0</td>\n",
       "      <td>-1061180.0</td>\n",
       "      <td>-0.002173</td>\n",
       "      <td>-0.008573</td>\n",
       "      <td>0.002321</td>\n",
       "      <td>...</td>\n",
       "      <td>-0.008310</td>\n",
       "      <td>-0.003986</td>\n",
       "      <td>-0.002873</td>\n",
       "      <td>-0.005760</td>\n",
       "      <td>0.022403</td>\n",
       "      <td>0.005192</td>\n",
       "      <td>-0.020371</td>\n",
       "      <td>0.055905</td>\n",
       "      <td>-0.031945</td>\n",
       "      <td>0.095405</td>\n",
       "    </tr>\n",
       "    <tr>\n",
       "      <th>1</th>\n",
       "      <td>1061260.0</td>\n",
       "      <td>0.905503</td>\n",
       "      <td>0.074175</td>\n",
       "      <td>6.0</td>\n",
       "      <td>63.0</td>\n",
       "      <td>0.0</td>\n",
       "      <td>-1061210.0</td>\n",
       "      <td>0.003731</td>\n",
       "      <td>0.017810</td>\n",
       "      <td>0.004290</td>\n",
       "      <td>...</td>\n",
       "      <td>0.007078</td>\n",
       "      <td>0.042840</td>\n",
       "      <td>0.006927</td>\n",
       "      <td>-0.000020</td>\n",
       "      <td>0.022284</td>\n",
       "      <td>0.019492</td>\n",
       "      <td>-0.025338</td>\n",
       "      <td>0.012216</td>\n",
       "      <td>-0.034519</td>\n",
       "      <td>0.088600</td>\n",
       "    </tr>\n",
       "    <tr>\n",
       "      <th>2</th>\n",
       "      <td>1061260.0</td>\n",
       "      <td>0.992866</td>\n",
       "      <td>0.074175</td>\n",
       "      <td>6.0</td>\n",
       "      <td>63.0</td>\n",
       "      <td>0.0</td>\n",
       "      <td>-1061190.0</td>\n",
       "      <td>-0.001044</td>\n",
       "      <td>-0.009223</td>\n",
       "      <td>0.014656</td>\n",
       "      <td>...</td>\n",
       "      <td>-0.000591</td>\n",
       "      <td>-0.001542</td>\n",
       "      <td>0.000416</td>\n",
       "      <td>0.007493</td>\n",
       "      <td>0.044714</td>\n",
       "      <td>0.013914</td>\n",
       "      <td>-0.034560</td>\n",
       "      <td>0.044790</td>\n",
       "      <td>-0.029689</td>\n",
       "      <td>0.116350</td>\n",
       "    </tr>\n",
       "    <tr>\n",
       "      <th>3</th>\n",
       "      <td>1061250.0</td>\n",
       "      <td>0.685546</td>\n",
       "      <td>0.074175</td>\n",
       "      <td>6.0</td>\n",
       "      <td>63.0</td>\n",
       "      <td>0.0</td>\n",
       "      <td>-1061180.0</td>\n",
       "      <td>0.004468</td>\n",
       "      <td>-0.003658</td>\n",
       "      <td>-0.003062</td>\n",
       "      <td>...</td>\n",
       "      <td>0.005248</td>\n",
       "      <td>0.018763</td>\n",
       "      <td>0.004558</td>\n",
       "      <td>-0.005776</td>\n",
       "      <td>0.006686</td>\n",
       "      <td>0.006271</td>\n",
       "      <td>-0.020145</td>\n",
       "      <td>0.022438</td>\n",
       "      <td>-0.050606</td>\n",
       "      <td>0.135272</td>\n",
       "    </tr>\n",
       "    <tr>\n",
       "      <th>4</th>\n",
       "      <td>1061250.0</td>\n",
       "      <td>0.943389</td>\n",
       "      <td>0.074175</td>\n",
       "      <td>6.0</td>\n",
       "      <td>63.0</td>\n",
       "      <td>0.0</td>\n",
       "      <td>-1061170.0</td>\n",
       "      <td>-0.002189</td>\n",
       "      <td>0.014065</td>\n",
       "      <td>0.011338</td>\n",
       "      <td>...</td>\n",
       "      <td>0.005822</td>\n",
       "      <td>0.021089</td>\n",
       "      <td>-0.002880</td>\n",
       "      <td>-0.000819</td>\n",
       "      <td>0.040949</td>\n",
       "      <td>0.024204</td>\n",
       "      <td>-0.026998</td>\n",
       "      <td>0.040681</td>\n",
       "      <td>-0.002103</td>\n",
       "      <td>0.110538</td>\n",
       "    </tr>\n",
       "  </tbody>\n",
       "</table>\n",
       "<p>5 rows × 2896 columns</p>\n",
       "</div>"
      ],
      "text/plain": [
       "        lp__  accept_stat__  stepsize__  treedepth__  n_leapfrog__  \\\n",
       "0  1061260.0       0.933358    0.074175          6.0          63.0   \n",
       "1  1061260.0       0.905503    0.074175          6.0          63.0   \n",
       "2  1061260.0       0.992866    0.074175          6.0          63.0   \n",
       "3  1061250.0       0.685546    0.074175          6.0          63.0   \n",
       "4  1061250.0       0.943389    0.074175          6.0          63.0   \n",
       "\n",
       "   divergent__   energy__  mu_home_att  mu_away_att  mu_home_def  ...  \\\n",
       "0          0.0 -1061180.0    -0.002173    -0.008573     0.002321  ...   \n",
       "1          0.0 -1061210.0     0.003731     0.017810     0.004290  ...   \n",
       "2          0.0 -1061190.0    -0.001044    -0.009223     0.014656  ...   \n",
       "3          0.0 -1061180.0     0.004468    -0.003658    -0.003062  ...   \n",
       "4          0.0 -1061170.0    -0.002189     0.014065     0.011338  ...   \n",
       "\n",
       "   away_def[21]  away_def[22]  away_def[23]  away_def[24]  away_def[25]  \\\n",
       "0     -0.008310     -0.003986     -0.002873     -0.005760      0.022403   \n",
       "1      0.007078      0.042840      0.006927     -0.000020      0.022284   \n",
       "2     -0.000591     -0.001542      0.000416      0.007493      0.044714   \n",
       "3      0.005248      0.018763      0.004558     -0.005776      0.006686   \n",
       "4      0.005822      0.021089     -0.002880     -0.000819      0.040949   \n",
       "\n",
       "   away_def[26]  away_def[27]  away_def[28]  away_def[29]  away_def[30]  \n",
       "0      0.005192     -0.020371      0.055905     -0.031945      0.095405  \n",
       "1      0.019492     -0.025338      0.012216     -0.034519      0.088600  \n",
       "2      0.013914     -0.034560      0.044790     -0.029689      0.116350  \n",
       "3      0.006271     -0.020145      0.022438     -0.050606      0.135272  \n",
       "4      0.024204     -0.026998      0.040681     -0.002103      0.110538  \n",
       "\n",
       "[5 rows x 2896 columns]"
      ]
     },
     "execution_count": 30,
     "metadata": {},
     "output_type": "execute_result"
    }
   ],
   "source": [
    "mod_2 = sim2.draws_pd()\n",
    "mod_2.head()"
   ]
  },
  {
   "cell_type": "code",
   "execution_count": 148,
   "id": "c63c85fa",
   "metadata": {},
   "outputs": [
    {
     "name": "stdout",
     "output_type": "stream",
     "text": [
      "2023\n"
     ]
    },
    {
     "name": "stderr",
     "output_type": "stream",
     "text": [
      "/tmp/ipykernel_1082/1901264299.py:5: UserWarning: \n",
      "\n",
      "The `join` parameter is deprecated and will be removed in v0.15.0. You can remove the line between points with `linestyle='none'`.\n",
      "\n",
      "  sns.pointplot(data=sim.stan_variable(param), ax=ax, join=False)\n"
     ]
    },
    {
     "data": {
      "image/png": "[encoded data removed]",
      "text/plain": [
       "<Figure size 720x576 with 1 Axes>"
      ]
     },
     "metadata": {
      "needs_background": "light"
     },
     "output_type": "display_data"
    },
    {
     "name": "stderr",
     "output_type": "stream",
     "text": [
      "/tmp/ipykernel_1082/1901264299.py:5: UserWarning: \n",
      "\n",
      "The `join` parameter is deprecated and will be removed in v0.15.0. You can remove the line between points with `linestyle='none'`.\n",
      "\n",
      "  sns.pointplot(data=sim.stan_variable(param), ax=ax, join=False)\n"
     ]
    },
    {
     "data": {
      "image/png": "[encoded data removed]",
      "text/plain": [
       "<Figure size 720x576 with 1 Axes>"
      ]
     },
     "metadata": {
      "needs_background": "light"
     },
     "output_type": "display_data"
    },
    {
     "name": "stderr",
     "output_type": "stream",
     "text": [
      "/tmp/ipykernel_1082/1901264299.py:5: UserWarning: \n",
      "\n",
      "The `join` parameter is deprecated and will be removed in v0.15.0. You can remove the line between points with `linestyle='none'`.\n",
      "\n",
      "  sns.pointplot(data=sim.stan_variable(param), ax=ax, join=False)\n"
     ]
    },
    {
     "data": {
      "image/png": "[encoded data removed]",
      "text/plain": [
       "<Figure size 720x576 with 1 Axes>"
      ]
     },
     "metadata": {
      "needs_background": "light"
     },
     "output_type": "display_data"
    },
    {
     "name": "stderr",
     "output_type": "stream",
     "text": [
      "/tmp/ipykernel_1082/1901264299.py:5: UserWarning: \n",
      "\n",
      "The `join` parameter is deprecated and will be removed in v0.15.0. You can remove the line between points with `linestyle='none'`.\n",
      "\n",
      "  sns.pointplot(data=sim.stan_variable(param), ax=ax, join=False)\n"
     ]
    },
    {
     "data": {
      "image/png": "[encoded data removed]",
      "text/plain": [
       "<Figure size 720x576 with 1 Axes>"
      ]
     },
     "metadata": {
      "needs_background": "light"
     },
     "output_type": "display_data"
    }
   ],
   "source": [
    "parameters = ['home_att', 'home_def', 'away_att', 'away_def']\n",
    "print(year)\n",
    "for param in parameters:\n",
    "    fig, ax = plt.subplots(figsize=(10, 8))\n",
    "    sns.pointplot(data=sim.stan_variable(param), ax=ax, join=False)\n",
    "    ax.set_xticks(range(len(teams)))\n",
    "    ax.set_title(f'{param} Estimates')\n",
    "    ax.set_xlabel('Team ID')\n",
    "    plt.show()"
   ]
  },
  {
   "cell_type": "code",
   "execution_count": 31,
   "id": "cd371054",
   "metadata": {},
   "outputs": [
    {
     "name": "stdout",
     "output_type": "stream",
     "text": [
      "[ 72  95  78  74 114  88 103  97 105  91] [ 99 115  88 110  92  96 102  69  99 115]\n",
      "   home_team_win_prob  away_team_win_prob\n",
      "0               0.396               0.604\n",
      "[100 100 100 107 104  85 100 109 105  95] [104  93  93 111 103  95  83 103  90  90]\n",
      "   home_team_win_prob  away_team_win_prob\n",
      "0               0.651               0.349\n",
      "[ 90 124 109  88 113 113 112 110 111 100] [ 86 101 109 108  75 103 109  96 101 106]\n",
      "   home_team_win_prob  away_team_win_prob\n",
      "0               0.524               0.476\n",
      "[ 81 103 102  97 102  89  93  83  87 106] [98 92 95 93 96 95 97 99 87 81]\n",
      "   home_team_win_prob  away_team_win_prob\n",
      "0               0.425               0.575\n",
      "[106 117  94 115  98  95 111  92 111  98] [ 92 104  98  85  81 103 100 106 110  75]\n",
      "   home_team_win_prob  away_team_win_prob\n",
      "0               0.542               0.458\n",
      "[ 99  94 109  88  96  84 110  95 105 103] [ 86  91  97  96 103  94  97  92  94 111]\n",
      "   home_team_win_prob  away_team_win_prob\n",
      "0               0.632               0.368\n",
      "[ 86  98  90  82  93 101 119  89 100 100] [ 84  79  76  73 102  93  84  86  95  73]\n",
      "   home_team_win_prob  away_team_win_prob\n",
      "0               0.798               0.202\n",
      "[114  89  80  79  94  98 114  89  90  70] [ 96 104  89  71  76  80  78 101  94  90]\n",
      "   home_team_win_prob  away_team_win_prob\n",
      "0               0.524               0.476\n",
      "[ 79 100 100  84  92 102  90  87 101  95] [ 97 106  99  95  84 101 112  99 110  90]\n",
      "   home_team_win_prob  away_team_win_prob\n",
      "0               0.393               0.607\n",
      "[ 94 113  94  97  94 104  84  96  94 100] [ 89 113  95  89  98  83 111  96  81  91]\n",
      "   home_team_win_prob  away_team_win_prob\n",
      "0               0.418               0.582\n",
      "[109  80  85  95 109  90 109 101  88  86] [ 80  80 101  93  88 102  77  88  84  91]\n",
      "   home_team_win_prob  away_team_win_prob\n",
      "0               0.595               0.405\n",
      "[108 103 110 101  94  79  95  95  96  86] [ 79  74 105 112 101 103  89  98 110  94]\n",
      "   home_team_win_prob  away_team_win_prob\n",
      "0               0.437               0.563\n",
      "[103  98  97 100 104  99 105 102  94 102] [114 106 116 125  95  88 102 101 114 100]\n",
      "   home_team_win_prob  away_team_win_prob\n",
      "0               0.302               0.698\n",
      "[116 102 113 101  95  77  86 105 106 109] [ 95  92 115  85  78  93  96 104  84 100]\n",
      "   home_team_win_prob  away_team_win_prob\n",
      "0               0.692               0.308\n",
      "[108  72  88 103 104  98  99 105 101  99] [ 83  86  89 104  83  95  76 100  97  91]\n",
      "   home_team_win_prob  away_team_win_prob\n",
      "0               0.607               0.393\n",
      "[ 94 109 109  84  81  94 102  91  88  89] [113  92  96  82  96 113  92 107  98 101]\n",
      "   home_team_win_prob  away_team_win_prob\n",
      "0               0.564               0.436\n",
      "[ 92  96  74  89  98  86 104  92  94 103] [91 93 92 99 96 86 89 99 83 95]\n",
      "   home_team_win_prob  away_team_win_prob\n",
      "0               0.475               0.525\n",
      "[ 71 120  99 106 105 112 107  99  99  82] [ 92  94 102  88  85 112  81  96  85  88]\n",
      "   home_team_win_prob  away_team_win_prob\n",
      "0               0.685               0.315\n",
      "[ 96  95 119  80  98  93  85  86  87 116] [ 95  95  82  83  96 105  94  85  91  85]\n",
      "   home_team_win_prob  away_team_win_prob\n",
      "0               0.528               0.472\n",
      "[101  94  88  95  97 101 102 114  95  94] [ 90  88  89  93 106  99  88  96 108  84]\n",
      "   home_team_win_prob  away_team_win_prob\n",
      "0               0.676               0.324\n"
     ]
    }
   ],
   "source": [
    "parameters = ['home_att', 'home_def', 'away_att', 'away_def', 'off_set']\n",
    "param_dict = {param: sim2.stan_variable(param) for param in parameters}\n",
    "\n",
    "# Przykładowe dane do przewidywania (przykładowe ID drużyn)\n",
    "\n",
    "season_games_pred1 = {2023: seasons_games[2023][200:220]}\n",
    "pred_scores = []\n",
    "\n",
    "# Przewidywanie wyników dla każdego meczu\n",
    "for idx, row in season_games_pred1[pred_year].iterrows():\n",
    "    home_idx = row['home_team_id']\n",
    "    away_idx = row['away_team_id']\n",
    "    home_score = row['home_team_score']\n",
    "    away_score = row['away_team_score']\n",
    "    \n",
    "    # Pobieranie odpowiednich parametrów dla drużyn\n",
    "    home_att = param_dict['home_att'][:, home_idx-1]\n",
    "    home_def = param_dict['home_def'][:, away_idx-1]\n",
    "    away_att = param_dict['away_att'][:, home_idx-1]\n",
    "    away_def = param_dict['away_def'][:, away_idx-1]\n",
    "    off_set = param_dict['off_set']\n",
    "    \n",
    "    # Tworzenie parametrów log_mu\n",
    "    log_mu1 = home_att + away_def + off_set\n",
    "    log_mu2 = home_def + away_att + off_set\n",
    "    \n",
    "    # Symulowanie z rozkładu Poissona dla uzyskania predyktywnej dystrybucji\n",
    "    y1 = np.array([poisson.rvs(np.exp(log_mu1[i])) for i in range(samples)])\n",
    "    y2 = np.array([poisson.rvs(np.exp(log_mu2[i])) for i in range(samples)])\n",
    "    print(y1[0:10], y2[0:10])\n",
    "    # draw blocked\n",
    "    y1 = y1 + (y1 == y2) * np.random.choice([-1, 1], size=samples)\n",
    "    \n",
    "    # Obliczanie prawdopodobieństw wyników\n",
    "    outcome_probabilities = pd.DataFrame({\n",
    "        'home_team_win_prob': [np.mean(y1 > y2)],\n",
    "        'away_team_win_prob': [np.mean(y1 < y2)]\n",
    "    })\n",
    "    \n",
    "    pred_scores.append((np.mean(y1), np.mean(y2)))\n",
    "    \n",
    "    print(outcome_probabilities)"
   ]
  },
  {
   "cell_type": "code",
   "execution_count": 32,
   "id": "44a3ee38",
   "metadata": {},
   "outputs": [
    {
     "data": {
      "image/png": "[encoded data removed]",
      "text/plain": [
       "<Figure size 432x288 with 1 Axes>"
      ]
     },
     "metadata": {
      "needs_background": "light"
     },
     "output_type": "display_data"
    }
   ],
   "source": [
    "sns.kdeplot(data=season_games_pred1[2023], x='home_team_score', label='real data')\n",
    "sns.kdeplot(data=y1, label='simulated samples')\n",
    "plt.legend(loc='best')\n",
    "plt.show()"
   ]
  },
  {
   "cell_type": "code",
   "execution_count": 33,
   "id": "be45f9f0",
   "metadata": {},
   "outputs": [
    {
     "data": {
      "image/png": "[encoded data removed]",
      "text/plain": [
       "<Figure size 432x288 with 1 Axes>"
      ]
     },
     "metadata": {
      "needs_background": "light"
     },
     "output_type": "display_data"
    }
   ],
   "source": [
    "sns.kdeplot(data=season_games_pred1[2023], x='away_team_score', label='real data')\n",
    "sns.kdeplot(data=y2, label='simulated samples')\n",
    "plt.legend(loc='best')\n",
    "plt.show()"
   ]
  },
  {
   "cell_type": "markdown",
   "id": "1a36368b",
   "metadata": {},
   "source": [
    "## Model 3 - poisson"
   ]
  },
  {
   "cell_type": "code",
   "execution_count": 129,
   "id": "56234ea6",
   "metadata": {},
   "outputs": [
    {
     "name": "stderr",
     "output_type": "stream",
     "text": [
      "INFO:cmdstanpy:found newer exe file, not recompiling\n",
      "INFO:cmdstanpy:CmdStan start processing\n",
      "chain 1 |\u001b[33m          \u001b[0m| 00:00 Status\n",
      "\u001b[A\n",
      "\n",
      "\u001b[A\u001b[A\n",
      "chain 1 |\u001b[34m██████▋   \u001b[0m| 00:01 Iteration:    1 / 1500 [  0%]  (Warmup)\n",
      "\n",
      "chain 1 |\u001b[34m██████████\u001b[0m| 00:05 Iteration:  501 / 1500 [ 33%]  (Sampling)\n",
      "\u001b[A\n",
      "\n",
      "chain 1 |\u001b[34m██████████\u001b[0m| 00:06 Sampling completed                       \n",
      "chain 2 |\u001b[34m██████████\u001b[0m| 00:06 Sampling completed                       \n",
      "chain 3 |\u001b[34m██████████\u001b[0m| 00:06 Sampling completed                       \n",
      "chain 4 |\u001b[34m██████████\u001b[0m| 00:06 Sampling completed                       "
     ]
    },
    {
     "name": "stdout",
     "output_type": "stream",
     "text": [
      "                                                                                                                                                                                                                                                                                                                                "
     ]
    },
    {
     "name": "stderr",
     "output_type": "stream",
     "text": [
      "\n",
      "INFO:cmdstanpy:CmdStan done processing.\n"
     ]
    },
    {
     "name": "stdout",
     "output_type": "stream",
     "text": [
      "\n"
     ]
    }
   ],
   "source": [
    "model_3 = CmdStanModel(stan_file='src/model/model_3.stan')\n",
    "samples = 1000\n",
    "sim3=model_3.sample(data=inp_data,\n",
    "                     iter_sampling=samples,\n",
    "                     iter_warmup=500,\n",
    "                     chains=4,\n",
    "                     fixed_param=False,\n",
    "                     parallel_chains=4,\n",
    "                     seed=123,\n",
    "                     refresh=samples)"
   ]
  },
  {
   "cell_type": "code",
   "execution_count": 130,
   "id": "0dc2b42f",
   "metadata": {},
   "outputs": [
    {
     "data": {
      "text/html": [
       "<div>\n",
       "<style scoped>\n",
       "    .dataframe tbody tr th:only-of-type {\n",
       "        vertical-align: middle;\n",
       "    }\n",
       "\n",
       "    .dataframe tbody tr th {\n",
       "        vertical-align: top;\n",
       "    }\n",
       "\n",
       "    .dataframe thead th {\n",
       "        text-align: right;\n",
       "    }\n",
       "</style>\n",
       "<table border=\"1\" class=\"dataframe\">\n",
       "  <thead>\n",
       "    <tr style=\"text-align: right;\">\n",
       "      <th></th>\n",
       "      <th>lp__</th>\n",
       "      <th>accept_stat__</th>\n",
       "      <th>stepsize__</th>\n",
       "      <th>treedepth__</th>\n",
       "      <th>n_leapfrog__</th>\n",
       "      <th>divergent__</th>\n",
       "      <th>energy__</th>\n",
       "      <th>mu_att</th>\n",
       "      <th>mu_def</th>\n",
       "      <th>sigma_att</th>\n",
       "      <th>...</th>\n",
       "      <th>log_mu_away[1314]</th>\n",
       "      <th>log_mu_away[1315]</th>\n",
       "      <th>log_mu_away[1316]</th>\n",
       "      <th>log_mu_away[1317]</th>\n",
       "      <th>log_mu_away[1318]</th>\n",
       "      <th>log_mu_away[1319]</th>\n",
       "      <th>log_mu_away[1320]</th>\n",
       "      <th>log_mu_away[1321]</th>\n",
       "      <th>log_mu_away[1322]</th>\n",
       "      <th>log_mu_away[1323]</th>\n",
       "    </tr>\n",
       "  </thead>\n",
       "  <tbody>\n",
       "    <tr>\n",
       "      <th>0</th>\n",
       "      <td>1081490.0</td>\n",
       "      <td>0.927273</td>\n",
       "      <td>0.144674</td>\n",
       "      <td>4.0</td>\n",
       "      <td>15.0</td>\n",
       "      <td>0.0</td>\n",
       "      <td>-1081470.0</td>\n",
       "      <td>0.405520</td>\n",
       "      <td>0.305789</td>\n",
       "      <td>0.040716</td>\n",
       "      <td>...</td>\n",
       "      <td>4.62488</td>\n",
       "      <td>4.63309</td>\n",
       "      <td>4.62819</td>\n",
       "      <td>4.62488</td>\n",
       "      <td>4.65342</td>\n",
       "      <td>4.65342</td>\n",
       "      <td>4.64779</td>\n",
       "      <td>4.64779</td>\n",
       "      <td>4.65342</td>\n",
       "      <td>4.64779</td>\n",
       "    </tr>\n",
       "    <tr>\n",
       "      <th>1</th>\n",
       "      <td>1081490.0</td>\n",
       "      <td>0.866827</td>\n",
       "      <td>0.144674</td>\n",
       "      <td>3.0</td>\n",
       "      <td>15.0</td>\n",
       "      <td>0.0</td>\n",
       "      <td>-1081460.0</td>\n",
       "      <td>0.377357</td>\n",
       "      <td>0.299022</td>\n",
       "      <td>0.038382</td>\n",
       "      <td>...</td>\n",
       "      <td>4.65556</td>\n",
       "      <td>4.61498</td>\n",
       "      <td>4.63821</td>\n",
       "      <td>4.65556</td>\n",
       "      <td>4.63952</td>\n",
       "      <td>4.63952</td>\n",
       "      <td>4.63178</td>\n",
       "      <td>4.63178</td>\n",
       "      <td>4.63952</td>\n",
       "      <td>4.63178</td>\n",
       "    </tr>\n",
       "    <tr>\n",
       "      <th>2</th>\n",
       "      <td>1081500.0</td>\n",
       "      <td>0.990403</td>\n",
       "      <td>0.144674</td>\n",
       "      <td>4.0</td>\n",
       "      <td>15.0</td>\n",
       "      <td>0.0</td>\n",
       "      <td>-1081460.0</td>\n",
       "      <td>0.395683</td>\n",
       "      <td>0.293137</td>\n",
       "      <td>0.025450</td>\n",
       "      <td>...</td>\n",
       "      <td>4.63746</td>\n",
       "      <td>4.61665</td>\n",
       "      <td>4.63304</td>\n",
       "      <td>4.63746</td>\n",
       "      <td>4.65094</td>\n",
       "      <td>4.65094</td>\n",
       "      <td>4.66357</td>\n",
       "      <td>4.66357</td>\n",
       "      <td>4.65094</td>\n",
       "      <td>4.66357</td>\n",
       "    </tr>\n",
       "    <tr>\n",
       "      <th>3</th>\n",
       "      <td>1081510.0</td>\n",
       "      <td>0.910428</td>\n",
       "      <td>0.144674</td>\n",
       "      <td>3.0</td>\n",
       "      <td>7.0</td>\n",
       "      <td>0.0</td>\n",
       "      <td>-1081470.0</td>\n",
       "      <td>0.385827</td>\n",
       "      <td>0.298721</td>\n",
       "      <td>0.026466</td>\n",
       "      <td>...</td>\n",
       "      <td>4.64845</td>\n",
       "      <td>4.62296</td>\n",
       "      <td>4.63164</td>\n",
       "      <td>4.64845</td>\n",
       "      <td>4.66909</td>\n",
       "      <td>4.66909</td>\n",
       "      <td>4.65977</td>\n",
       "      <td>4.65977</td>\n",
       "      <td>4.66909</td>\n",
       "      <td>4.65977</td>\n",
       "    </tr>\n",
       "    <tr>\n",
       "      <th>4</th>\n",
       "      <td>1081500.0</td>\n",
       "      <td>0.533601</td>\n",
       "      <td>0.144674</td>\n",
       "      <td>3.0</td>\n",
       "      <td>7.0</td>\n",
       "      <td>0.0</td>\n",
       "      <td>-1081470.0</td>\n",
       "      <td>0.389470</td>\n",
       "      <td>0.297563</td>\n",
       "      <td>0.029138</td>\n",
       "      <td>...</td>\n",
       "      <td>4.64718</td>\n",
       "      <td>4.61960</td>\n",
       "      <td>4.62111</td>\n",
       "      <td>4.64718</td>\n",
       "      <td>4.63926</td>\n",
       "      <td>4.63926</td>\n",
       "      <td>4.62641</td>\n",
       "      <td>4.62641</td>\n",
       "      <td>4.63926</td>\n",
       "      <td>4.62641</td>\n",
       "    </tr>\n",
       "  </tbody>\n",
       "</table>\n",
       "<p>5 rows × 2718 columns</p>\n",
       "</div>"
      ],
      "text/plain": [
       "        lp__  accept_stat__  stepsize__  treedepth__  n_leapfrog__  \\\n",
       "0  1081490.0       0.927273    0.144674          4.0          15.0   \n",
       "1  1081490.0       0.866827    0.144674          3.0          15.0   \n",
       "2  1081500.0       0.990403    0.144674          4.0          15.0   \n",
       "3  1081510.0       0.910428    0.144674          3.0           7.0   \n",
       "4  1081500.0       0.533601    0.144674          3.0           7.0   \n",
       "\n",
       "   divergent__   energy__    mu_att    mu_def  sigma_att  ...  \\\n",
       "0          0.0 -1081470.0  0.405520  0.305789   0.040716  ...   \n",
       "1          0.0 -1081460.0  0.377357  0.299022   0.038382  ...   \n",
       "2          0.0 -1081460.0  0.395683  0.293137   0.025450  ...   \n",
       "3          0.0 -1081470.0  0.385827  0.298721   0.026466  ...   \n",
       "4          0.0 -1081470.0  0.389470  0.297563   0.029138  ...   \n",
       "\n",
       "   log_mu_away[1314]  log_mu_away[1315]  log_mu_away[1316]  log_mu_away[1317]  \\\n",
       "0            4.62488            4.63309            4.62819            4.62488   \n",
       "1            4.65556            4.61498            4.63821            4.65556   \n",
       "2            4.63746            4.61665            4.63304            4.63746   \n",
       "3            4.64845            4.62296            4.63164            4.64845   \n",
       "4            4.64718            4.61960            4.62111            4.64718   \n",
       "\n",
       "   log_mu_away[1318]  log_mu_away[1319]  log_mu_away[1320]  log_mu_away[1321]  \\\n",
       "0            4.65342            4.65342            4.64779            4.64779   \n",
       "1            4.63952            4.63952            4.63178            4.63178   \n",
       "2            4.65094            4.65094            4.66357            4.66357   \n",
       "3            4.66909            4.66909            4.65977            4.65977   \n",
       "4            4.63926            4.63926            4.62641            4.62641   \n",
       "\n",
       "   log_mu_away[1322]  log_mu_away[1323]  \n",
       "0            4.65342            4.64779  \n",
       "1            4.63952            4.63178  \n",
       "2            4.65094            4.66357  \n",
       "3            4.66909            4.65977  \n",
       "4            4.63926            4.62641  \n",
       "\n",
       "[5 rows x 2718 columns]"
      ]
     },
     "execution_count": 130,
     "metadata": {},
     "output_type": "execute_result"
    }
   ],
   "source": [
    "mod_3 = sim3.draws_pd()\n",
    "mod_3.head()"
   ]
  },
  {
   "cell_type": "code",
   "execution_count": 131,
   "id": "1ac27892",
   "metadata": {},
   "outputs": [
    {
     "name": "stdout",
     "output_type": "stream",
     "text": [
      "[122 104 112 106 102 118 118 110 120  99] [ 95 113  99  91  96  94 104  94  92  94]\n",
      "Game 201:\n",
      "   home_team_win_prob  away_team_win_prob\n",
      "0               0.858               0.142\n",
      "Home Team Points Distribution: 112.508 ± 10.708498307419205\n",
      "Away Team Points Distribution: 97.686 ± 9.744403727268283\n",
      "\n",
      "[124 104 102 108 106 108 106 109 106 115] [ 99 107 111  96 131 107  96  95 126 113]\n",
      "Game 202:\n",
      "   home_team_win_prob  away_team_win_prob\n",
      "0               0.537               0.463\n",
      "Home Team Points Distribution: 108.124 ± 10.425383638025028\n",
      "Away Team Points Distribution: 107.252 ± 10.287978227037614\n",
      "\n",
      "[122 129 115 129 134  91  94 112 112 125] [125 103 113 118 121 124 112 103 113 128]\n",
      "Game 203:\n",
      "   home_team_win_prob  away_team_win_prob\n",
      "0               0.574               0.426\n",
      "Home Team Points Distribution: 116.555 ± 10.710040849595298\n",
      "Away Team Points Distribution: 113.522 ± 10.877477464927244\n",
      "\n",
      "[122 110 101 111 105 117 117  94 108  98] [128 112 124 116 120 122 109 116 117 130]\n",
      "Game 204:\n",
      "   home_team_win_prob  away_team_win_prob\n",
      "0               0.346               0.654\n",
      "Home Team Points Distribution: 108.253 ± 10.67075400334953\n",
      "Away Team Points Distribution: 114.464 ± 10.72374486828179\n",
      "\n",
      "[137 108 123 119 122 117 115 127 116 102] [119 104 121 142 102 123  92 114 112 108]\n",
      "Game 205:\n",
      "   home_team_win_prob  away_team_win_prob\n",
      "0               0.695               0.305\n",
      "Home Team Points Distribution: 115.568 ± 10.319465877650838\n",
      "Away Team Points Distribution: 107.452 ± 10.587808838470782\n",
      "\n",
      "[ 79 106 105 122 103 115  99  95 117  98] [102 117 101 120 109 108 114 112 142 113]\n",
      "Game 206:\n",
      "   home_team_win_prob  away_team_win_prob\n",
      "0               0.421               0.579\n",
      "Home Team Points Distribution: 109.661 ± 10.538030129013675\n",
      "Away Team Points Distribution: 113.33 ± 11.330361865359817\n",
      "\n",
      "[110 110  93 114 106 110 113  98 100 118] [ 98 106 106 108  91 107  92 112 116  94]\n",
      "Game 207:\n",
      "   home_team_win_prob  away_team_win_prob\n",
      "0               0.644               0.356\n",
      "Home Team Points Distribution: 107.053 ± 10.262465152194185\n",
      "Away Team Points Distribution: 102.096 ± 10.317789685780573\n",
      "\n",
      "[101 114 115  99 105  98 120 120 107  91] [ 96 115 102  89 100  90 103 137 106  73]\n",
      "Game 208:\n",
      "   home_team_win_prob  away_team_win_prob\n",
      "0               0.665               0.335\n",
      "Home Team Points Distribution: 109.327 ± 10.364558408345241\n",
      "Away Team Points Distribution: 103.715 ± 10.532700271060598\n",
      "\n",
      "[108 110 120 112 108 120 109 116 133 117] [121 111 121 143 110 112 119 101 102 102]\n",
      "Game 209:\n",
      "   home_team_win_prob  away_team_win_prob\n",
      "0               0.363               0.637\n",
      "Home Team Points Distribution: 110.057 ± 10.648180642720146\n",
      "Away Team Points Distribution: 115.958 ± 10.75249905835848\n",
      "\n",
      "[111 105 105 116 116  93 118 108 109 102] [134 117 121 112 129 105 133 126  96 111]\n",
      "Game 210:\n",
      "   home_team_win_prob  away_team_win_prob\n",
      "0                0.43                0.57\n",
      "Home Team Points Distribution: 113.774 ± 10.656309117138072\n",
      "Away Team Points Distribution: 116.749 ± 10.756579335457904\n",
      "\n",
      "[101 110 103 113 100 110 103  98  91 118] [102 135 110 102 104 107 125  94 113 103]\n",
      "Game 211:\n",
      "   home_team_win_prob  away_team_win_prob\n",
      "0                0.31                0.69\n",
      "Home Team Points Distribution: 108.273 ± 10.434868039414777\n",
      "Away Team Points Distribution: 115.69 ± 11.220155970395421\n",
      "\n",
      "[110 102 123 122 113 120 118  93 111  90] [ 88  90 105 103  95 114  95 102 119  87]\n",
      "Game 212:\n",
      "   home_team_win_prob  away_team_win_prob\n",
      "0               0.659               0.341\n",
      "Home Team Points Distribution: 110.597 ± 10.388194790241469\n",
      "Away Team Points Distribution: 104.773 ± 9.999273523611603\n",
      "\n",
      "[125 117 112 114 133 108 111 126 116 109] [121 114 128 112 142 120 115 113 126 103]\n",
      "Game 213:\n",
      "   home_team_win_prob  away_team_win_prob\n",
      "0               0.627               0.373\n",
      "Home Team Points Distribution: 120.703 ± 11.178049516798536\n",
      "Away Team Points Distribution: 115.28 ± 10.667033327031467\n",
      "\n",
      "[126 104 115 116 126 107 107 107 105 120] [112 124 132  95 121 105 145 111 104 100]\n",
      "Game 214:\n",
      "   home_team_win_prob  away_team_win_prob\n",
      "0               0.398               0.602\n",
      "Home Team Points Distribution: 107.838 ± 10.745778519958431\n",
      "Away Team Points Distribution: 111.446 ± 10.658943850119485\n",
      "\n",
      "[106  97 134 107  85 113 103 109 114 101] [ 97  90  90  94 116  95 107  99 104 118]\n",
      "Game 215:\n",
      "   home_team_win_prob  away_team_win_prob\n",
      "0                0.47                0.53\n",
      "Home Team Points Distribution: 104.453 ± 10.533460542480803\n",
      "Away Team Points Distribution: 105.535 ± 10.334058979897492\n",
      "\n",
      "[120 106  92 115 106 121 111 112 117 106] [101  90 107 118 101  97 118 117 120 110]\n",
      "Game 216:\n",
      "   home_team_win_prob  away_team_win_prob\n",
      "0               0.582               0.418\n",
      "Home Team Points Distribution: 110.193 ± 10.587811435797295\n",
      "Away Team Points Distribution: 107.566 ± 10.89438589366101\n",
      "\n",
      "[ 86  92 114 123 105 120 102 132 100  90] [105 103 112 102 125 110 121 118 109 120]\n",
      "Game 217:\n",
      "   home_team_win_prob  away_team_win_prob\n",
      "0               0.572               0.428\n",
      "Home Team Points Distribution: 112.163 ± 11.135099056586789\n",
      "Away Team Points Distribution: 109.455 ± 10.686251681483082\n",
      "\n",
      "[138  82  98 120 118  98 122 118 116 105] [124  89 103  98 124 102 103  96 114  96]\n",
      "Game 218:\n",
      "   home_team_win_prob  away_team_win_prob\n",
      "0               0.791               0.209\n",
      "Home Team Points Distribution: 116.466 ± 10.922309462746421\n",
      "Away Team Points Distribution: 104.124 ± 10.26073213762059\n",
      "\n",
      "[103  87 101 102 115 133 101 105  99 110] [ 78  86 112 106  91  94 104 108 100  94]\n",
      "Game 219:\n",
      "   home_team_win_prob  away_team_win_prob\n",
      "0               0.598               0.402\n",
      "Home Team Points Distribution: 109.576 ± 10.62196893235901\n",
      "Away Team Points Distribution: 106.052 ± 10.717896062194296\n",
      "\n",
      "[122 104 120 118 100 102 118 113 111 114] [ 94 121 123 103 101  89 117 103  90 108]\n",
      "Game 220:\n",
      "   home_team_win_prob  away_team_win_prob\n",
      "0               0.535               0.465\n",
      "Home Team Points Distribution: 109.822 ± 10.606145199835803\n",
      "Away Team Points Distribution: 108.699 ± 10.271338715084806\n",
      "\n"
     ]
    }
   ],
   "source": [
    "season_games_pred2 = {2023: seasons_games[2023][200:220]}\n",
    "\n",
    "# Number of samples for simulation\n",
    "samples = 1000\n",
    "\n",
    "# Extracting parameters from the Stan result\n",
    "parameters = ['attack', 'defense', 'home_advantage']\n",
    "param_dict = {param: sim3.stan_variable(param) for param in parameters}\n",
    "\n",
    "# Predicting results for each game\n",
    "for idx, row in season_games_pred2[pred_year].iterrows():\n",
    "    home_idx = row['home_team_id']\n",
    "    away_idx = row['away_team_id']\n",
    "    \n",
    "    # Retrieving appropriate parameters for the teams\n",
    "    home_att = param_dict['attack'][:, home_idx-1]\n",
    "    home_def = param_dict['defense'][:, home_idx-1]\n",
    "    away_att = param_dict['attack'][:, away_idx-1]\n",
    "    away_def = param_dict['defense'][:, away_idx-1]\n",
    "    home_advantage = param_dict['home_advantage']\n",
    "    \n",
    "    # Creating log_mu parameters\n",
    "    log_mu1 = home_advantage + home_att - away_def + np.log(100)\n",
    "    log_mu2 = away_att - home_def + np.log(100)\n",
    "    \n",
    "    # Simulating from Poisson distribution to obtain predictive distribution\n",
    "    y1 = np.array([poisson.rvs(np.exp(log_mu1[i])) for i in range(samples)])\n",
    "    y2 = np.array([poisson.rvs(np.exp(log_mu2[i])) for i in range(samples)])\n",
    "    \n",
    "    # Blocking draws\n",
    "    y1 = y1 + (y1 == y2) * np.random.choice([-1, 1], size=samples)\n",
    "    print(y1[0:10], y2[0:10])\n",
    "    # Calculating outcome probabilities\n",
    "    outcome_probabilities = pd.DataFrame({\n",
    "        'home_team_win_prob': [np.mean(y1 > y2)],\n",
    "        'away_team_win_prob': [np.mean(y1 < y2)]\n",
    "    })\n",
    "    \n",
    "    # Printing results\n",
    "    print(f\"Game {idx + 1}:\")\n",
    "    print(outcome_probabilities)\n",
    "    print(f\"Home Team Points Distribution: {np.mean(y1)} ± {np.std(y1)}\")\n",
    "    print(f\"Away Team Points Distribution: {np.mean(y2)} ± {np.std(y2)}\\n\")"
   ]
  },
  {
   "cell_type": "code",
   "execution_count": 132,
   "id": "61515653",
   "metadata": {},
   "outputs": [
    {
     "data": {
      "image/png": "[encoded data removed]",
      "text/plain": [
       "<Figure size 432x288 with 1 Axes>"
      ]
     },
     "metadata": {
      "needs_background": "light"
     },
     "output_type": "display_data"
    }
   ],
   "source": [
    "sns.kdeplot(data=season_games_pred2[2023], x='home_team_score', label='real data')\n",
    "sns.kdeplot(data=y1, label='simulated samples')\n",
    "plt.legend(loc='best')\n",
    "plt.show()"
   ]
  },
  {
   "cell_type": "code",
   "execution_count": 133,
   "id": "e53be1dd",
   "metadata": {},
   "outputs": [
    {
     "data": {
      "image/png": "[encoded data removed]",
      "text/plain": [
       "<Figure size 432x288 with 1 Axes>"
      ]
     },
     "metadata": {
      "needs_background": "light"
     },
     "output_type": "display_data"
    }
   ],
   "source": [
    "sns.kdeplot(data=season_games_pred1[2023], x='away_team_score', label='real data')\n",
    "sns.kdeplot(data=y2, label='simulated samples')\n",
    "plt.legend(loc='best')\n",
    "plt.show()"
   ]
  },
  {
   "cell_type": "markdown",
   "id": "00b038c2",
   "metadata": {},
   "source": [
    "## Model 4 - gamma"
   ]
  },
  {
   "cell_type": "code",
   "execution_count": 134,
   "id": "0c51d63f",
   "metadata": {},
   "outputs": [
    {
     "name": "stderr",
     "output_type": "stream",
     "text": [
      "INFO:cmdstanpy:found newer exe file, not recompiling\n",
      "INFO:cmdstanpy:CmdStan start processing\n",
      "chain 1 |\u001b[33m          \u001b[0m| 00:00 Status\n",
      "\u001b[A\n",
      "\n",
      "\u001b[A\u001b[A\n",
      "\n",
      "\u001b[A\u001b[A\n",
      "chain 1 |\u001b[34m██████▋   \u001b[0m| 00:06 Iteration:    1 / 1500 [  0%]  (Warmup)\n",
      "\n",
      "\u001b[A\u001b[A\n",
      "chain 1 |\u001b[34m██████████\u001b[0m| 00:37 Sampling completed                       \n",
      "chain 2 |\u001b[34m██████████\u001b[0m| 00:37 Sampling completed                       \n",
      "chain 3 |\u001b[34m██████████\u001b[0m| 00:37 Sampling completed                       \n",
      "chain 4 |\u001b[34m██████████\u001b[0m| 00:37 Sampling completed                       "
     ]
    },
    {
     "name": "stdout",
     "output_type": "stream",
     "text": [
      "                                                                                                                                                                                                                                                                                                                                "
     ]
    },
    {
     "name": "stderr",
     "output_type": "stream",
     "text": [
      "\n",
      "INFO:cmdstanpy:CmdStan done processing.\n"
     ]
    },
    {
     "name": "stdout",
     "output_type": "stream",
     "text": [
      "\n"
     ]
    }
   ],
   "source": [
    "model_4 = CmdStanModel(stan_file='src/model/model_gamma.stan')\n",
    "samples = 1000\n",
    "sim4=model_4.sample(data=inp_data,\n",
    "                     iter_sampling=samples,\n",
    "                     iter_warmup=500,\n",
    "                     chains=4,\n",
    "                     fixed_param=False,\n",
    "                     parallel_chains=4,\n",
    "                     seed=124,\n",
    "                     refresh=samples)"
   ]
  },
  {
   "cell_type": "code",
   "execution_count": 135,
   "id": "eb957152",
   "metadata": {},
   "outputs": [
    {
     "data": {
      "text/html": [
       "<div>\n",
       "<style scoped>\n",
       "    .dataframe tbody tr th:only-of-type {\n",
       "        vertical-align: middle;\n",
       "    }\n",
       "\n",
       "    .dataframe tbody tr th {\n",
       "        vertical-align: top;\n",
       "    }\n",
       "\n",
       "    .dataframe thead th {\n",
       "        text-align: right;\n",
       "    }\n",
       "</style>\n",
       "<table border=\"1\" class=\"dataframe\">\n",
       "  <thead>\n",
       "    <tr style=\"text-align: right;\">\n",
       "      <th></th>\n",
       "      <th>lp__</th>\n",
       "      <th>accept_stat__</th>\n",
       "      <th>stepsize__</th>\n",
       "      <th>treedepth__</th>\n",
       "      <th>n_leapfrog__</th>\n",
       "      <th>divergent__</th>\n",
       "      <th>energy__</th>\n",
       "      <th>mu_att</th>\n",
       "      <th>mu_def</th>\n",
       "      <th>sigma_att</th>\n",
       "      <th>...</th>\n",
       "      <th>mu_away[1314]</th>\n",
       "      <th>mu_away[1315]</th>\n",
       "      <th>mu_away[1316]</th>\n",
       "      <th>mu_away[1317]</th>\n",
       "      <th>mu_away[1318]</th>\n",
       "      <th>mu_away[1319]</th>\n",
       "      <th>mu_away[1320]</th>\n",
       "      <th>mu_away[1321]</th>\n",
       "      <th>mu_away[1322]</th>\n",
       "      <th>mu_away[1323]</th>\n",
       "    </tr>\n",
       "  </thead>\n",
       "  <tbody>\n",
       "    <tr>\n",
       "      <th>0</th>\n",
       "      <td>-10130.2</td>\n",
       "      <td>0.958963</td>\n",
       "      <td>0.00647</td>\n",
       "      <td>3.0</td>\n",
       "      <td>7.0</td>\n",
       "      <td>0.0</td>\n",
       "      <td>10163.9</td>\n",
       "      <td>1.59003</td>\n",
       "      <td>1.50721</td>\n",
       "      <td>0.024222</td>\n",
       "      <td>...</td>\n",
       "      <td>105.983</td>\n",
       "      <td>103.091</td>\n",
       "      <td>102.146</td>\n",
       "      <td>105.983</td>\n",
       "      <td>104.369</td>\n",
       "      <td>104.369</td>\n",
       "      <td>102.987</td>\n",
       "      <td>102.987</td>\n",
       "      <td>104.369</td>\n",
       "      <td>102.987</td>\n",
       "    </tr>\n",
       "    <tr>\n",
       "      <th>1</th>\n",
       "      <td>-10131.6</td>\n",
       "      <td>0.853074</td>\n",
       "      <td>0.00647</td>\n",
       "      <td>4.0</td>\n",
       "      <td>15.0</td>\n",
       "      <td>0.0</td>\n",
       "      <td>10162.8</td>\n",
       "      <td>1.59789</td>\n",
       "      <td>1.49743</td>\n",
       "      <td>0.024448</td>\n",
       "      <td>...</td>\n",
       "      <td>102.167</td>\n",
       "      <td>102.350</td>\n",
       "      <td>101.780</td>\n",
       "      <td>102.167</td>\n",
       "      <td>105.446</td>\n",
       "      <td>105.446</td>\n",
       "      <td>105.471</td>\n",
       "      <td>105.471</td>\n",
       "      <td>105.446</td>\n",
       "      <td>105.471</td>\n",
       "    </tr>\n",
       "    <tr>\n",
       "      <th>2</th>\n",
       "      <td>-10141.5</td>\n",
       "      <td>0.836246</td>\n",
       "      <td>0.00647</td>\n",
       "      <td>4.0</td>\n",
       "      <td>15.0</td>\n",
       "      <td>0.0</td>\n",
       "      <td>10167.5</td>\n",
       "      <td>1.59290</td>\n",
       "      <td>1.50245</td>\n",
       "      <td>0.024386</td>\n",
       "      <td>...</td>\n",
       "      <td>103.035</td>\n",
       "      <td>103.345</td>\n",
       "      <td>100.040</td>\n",
       "      <td>103.035</td>\n",
       "      <td>106.130</td>\n",
       "      <td>106.130</td>\n",
       "      <td>102.137</td>\n",
       "      <td>102.137</td>\n",
       "      <td>106.130</td>\n",
       "      <td>102.137</td>\n",
       "    </tr>\n",
       "    <tr>\n",
       "      <th>3</th>\n",
       "      <td>-10131.4</td>\n",
       "      <td>0.901429</td>\n",
       "      <td>0.00647</td>\n",
       "      <td>4.0</td>\n",
       "      <td>15.0</td>\n",
       "      <td>0.0</td>\n",
       "      <td>10175.9</td>\n",
       "      <td>1.59206</td>\n",
       "      <td>1.50865</td>\n",
       "      <td>0.024743</td>\n",
       "      <td>...</td>\n",
       "      <td>104.280</td>\n",
       "      <td>101.283</td>\n",
       "      <td>101.202</td>\n",
       "      <td>104.280</td>\n",
       "      <td>103.514</td>\n",
       "      <td>103.514</td>\n",
       "      <td>103.577</td>\n",
       "      <td>103.577</td>\n",
       "      <td>103.514</td>\n",
       "      <td>103.577</td>\n",
       "    </tr>\n",
       "    <tr>\n",
       "      <th>4</th>\n",
       "      <td>-10140.9</td>\n",
       "      <td>0.791980</td>\n",
       "      <td>0.00647</td>\n",
       "      <td>4.0</td>\n",
       "      <td>15.0</td>\n",
       "      <td>0.0</td>\n",
       "      <td>10172.2</td>\n",
       "      <td>1.60100</td>\n",
       "      <td>1.51853</td>\n",
       "      <td>0.024733</td>\n",
       "      <td>...</td>\n",
       "      <td>102.052</td>\n",
       "      <td>104.844</td>\n",
       "      <td>101.600</td>\n",
       "      <td>102.052</td>\n",
       "      <td>104.758</td>\n",
       "      <td>104.758</td>\n",
       "      <td>103.107</td>\n",
       "      <td>103.107</td>\n",
       "      <td>104.758</td>\n",
       "      <td>103.107</td>\n",
       "    </tr>\n",
       "  </tbody>\n",
       "</table>\n",
       "<p>5 rows × 2719 columns</p>\n",
       "</div>"
      ],
      "text/plain": [
       "      lp__  accept_stat__  stepsize__  treedepth__  n_leapfrog__  divergent__  \\\n",
       "0 -10130.2       0.958963     0.00647          3.0           7.0          0.0   \n",
       "1 -10131.6       0.853074     0.00647          4.0          15.0          0.0   \n",
       "2 -10141.5       0.836246     0.00647          4.0          15.0          0.0   \n",
       "3 -10131.4       0.901429     0.00647          4.0          15.0          0.0   \n",
       "4 -10140.9       0.791980     0.00647          4.0          15.0          0.0   \n",
       "\n",
       "   energy__   mu_att   mu_def  sigma_att  ...  mu_away[1314]  mu_away[1315]  \\\n",
       "0   10163.9  1.59003  1.50721   0.024222  ...        105.983        103.091   \n",
       "1   10162.8  1.59789  1.49743   0.024448  ...        102.167        102.350   \n",
       "2   10167.5  1.59290  1.50245   0.024386  ...        103.035        103.345   \n",
       "3   10175.9  1.59206  1.50865   0.024743  ...        104.280        101.283   \n",
       "4   10172.2  1.60100  1.51853   0.024733  ...        102.052        104.844   \n",
       "\n",
       "   mu_away[1316]  mu_away[1317]  mu_away[1318]  mu_away[1319]  mu_away[1320]  \\\n",
       "0        102.146        105.983        104.369        104.369        102.987   \n",
       "1        101.780        102.167        105.446        105.446        105.471   \n",
       "2        100.040        103.035        106.130        106.130        102.137   \n",
       "3        101.202        104.280        103.514        103.514        103.577   \n",
       "4        101.600        102.052        104.758        104.758        103.107   \n",
       "\n",
       "   mu_away[1321]  mu_away[1322]  mu_away[1323]  \n",
       "0        102.987        104.369        102.987  \n",
       "1        105.471        105.446        105.471  \n",
       "2        102.137        106.130        102.137  \n",
       "3        103.577        103.514        103.577  \n",
       "4        103.107        104.758        103.107  \n",
       "\n",
       "[5 rows x 2719 columns]"
      ]
     },
     "execution_count": 135,
     "metadata": {},
     "output_type": "execute_result"
    }
   ],
   "source": [
    "mod_4 = sim4.draws_pd()\n",
    "mod_4.head()"
   ]
  },
  {
   "cell_type": "code",
   "execution_count": 136,
   "id": "dea2c338",
   "metadata": {},
   "outputs": [
    {
     "name": "stdout",
     "output_type": "stream",
     "text": [
      "[117 101 109 102  99 103  99 106 105 111] [111  89  94  90  75  86 103 102  81 105]\n",
      "Game 201:\n",
      "   home_team_win_prob  away_team_win_prob\n",
      "0               0.842               0.158\n",
      "Home Team Points Distribution: 112.748 ± 10.76078510146913\n",
      "Away Team Points Distribution: 97.679 ± 9.764525538908687\n",
      "\n",
      "[103 124  91 103 118  97 108 126 101 103] [ 98 102  96 106 110 107 120 103 100 114]\n",
      "Game 202:\n",
      "   home_team_win_prob  away_team_win_prob\n",
      "0               0.542               0.458\n",
      "Home Team Points Distribution: 108.23 ± 10.845233976268101\n",
      "Away Team Points Distribution: 107.367 ± 10.192953987927151\n",
      "\n",
      "[119 128 125 111  99 111  93  95 104 115] [130 125 106 103 126 109 115 133 111 112]\n",
      "Game 203:\n",
      "   home_team_win_prob  away_team_win_prob\n",
      "0               0.613               0.387\n",
      "Home Team Points Distribution: 117.162 ± 10.920062087735582\n",
      "Away Team Points Distribution: 112.69 ± 10.68390846085832\n",
      "\n",
      "[104 108 113 109 109 107 105  94 104 113] [134 111 121 120 124 111 121 111 116 117]\n",
      "Game 204:\n",
      "   home_team_win_prob  away_team_win_prob\n",
      "0               0.377               0.623\n",
      "Home Team Points Distribution: 109.412 ± 10.240520299281672\n",
      "Away Team Points Distribution: 113.714 ± 10.446827461004608\n",
      "\n",
      "[130 106 115 107  81 123 110 131 124 117] [ 97 105 114 119 132 110 112 107 110 116]\n",
      "Game 205:\n",
      "   home_team_win_prob  away_team_win_prob\n",
      "0                0.71                0.29\n",
      "Home Team Points Distribution: 115.203 ± 10.32442690903471\n",
      "Away Team Points Distribution: 107.465 ± 10.490794774467757\n",
      "\n",
      "[ 96  98 103 118 106 102 115 113 122 120] [122 136 112 124 110 116 113 112 138 113]\n",
      "Game 206:\n",
      "   home_team_win_prob  away_team_win_prob\n",
      "0               0.417               0.583\n",
      "Home Team Points Distribution: 110.134 ± 10.248514233780426\n",
      "Away Team Points Distribution: 113.298 ± 10.878106269015761\n",
      "\n",
      "[122 107 105 100 105 106 113 101 106  96] [ 99  97  88 105  95 107 118 102  91 110]\n",
      "Game 207:\n",
      "   home_team_win_prob  away_team_win_prob\n",
      "0               0.619               0.381\n",
      "Home Team Points Distribution: 107.239 ± 10.463932291447609\n",
      "Away Team Points Distribution: 102.276 ± 10.231022627284137\n",
      "\n",
      "[116 107 105  98 108 123 107 119 123 110] [119 126 104  96 114 116 108 113 122  95]\n",
      "Game 208:\n",
      "   home_team_win_prob  away_team_win_prob\n",
      "0               0.671               0.329\n",
      "Home Team Points Distribution: 110.087 ± 10.826792276570194\n",
      "Away Team Points Distribution: 103.897 ± 10.50135186535524\n",
      "\n",
      "[ 96 100  84 106 144 108 113 110 122 123] [115 111 118 108 129 112 123 120 111 145]\n",
      "Game 209:\n",
      "   home_team_win_prob  away_team_win_prob\n",
      "0               0.381               0.619\n",
      "Home Team Points Distribution: 110.688 ± 10.439954789174138\n",
      "Away Team Points Distribution: 115.426 ± 10.96168435962284\n",
      "\n",
      "[106 111 104 111 127 105 122 117 117 122] [ 91 115 114 139 114 131 123 115 103 112]\n",
      "Game 210:\n",
      "   home_team_win_prob  away_team_win_prob\n",
      "0               0.389               0.611\n",
      "Home Team Points Distribution: 112.661 ± 10.836146870543976\n",
      "Away Team Points Distribution: 117.024 ± 10.765845252463924\n",
      "\n",
      "[105 117 117 145 129 123 100 113 117 117] [106 127 125 109 118 142 117 114 116 119]\n",
      "Game 211:\n",
      "   home_team_win_prob  away_team_win_prob\n",
      "0               0.348               0.652\n",
      "Home Team Points Distribution: 109.309 ± 10.830397915127588\n",
      "Away Team Points Distribution: 115.727 ± 11.183938081016006\n",
      "\n",
      "[122  96 105 124  91 108 113 123 109 117] [104 101  99  94 101 104 114 108  95 116]\n",
      "Game 212:\n",
      "   home_team_win_prob  away_team_win_prob\n",
      "0               0.648               0.352\n",
      "Home Team Points Distribution: 110.907 ± 10.19472172253858\n",
      "Away Team Points Distribution: 105.357 ± 10.016963162555806\n",
      "\n",
      "[111 135 113 126 123 110 110 137 138 118] [109  92 111 107 129 109 107 133 123 125]\n",
      "Game 213:\n",
      "   home_team_win_prob  away_team_win_prob\n",
      "0               0.612               0.388\n",
      "Home Team Points Distribution: 119.868 ± 11.262440943241389\n",
      "Away Team Points Distribution: 115.109 ± 10.990501307947696\n",
      "\n",
      "[100  99 120 115 106 118 103 112  95  99] [120 115 131  90 126 120 104 106 107 118]\n",
      "Game 214:\n",
      "   home_team_win_prob  away_team_win_prob\n",
      "0               0.409               0.591\n",
      "Home Team Points Distribution: 107.882 ± 10.112866853667164\n",
      "Away Team Points Distribution: 111.23 ± 10.378973937726215\n",
      "\n",
      "[110  91 106 106 122 132  97 112  97 109] [ 95 128 111  96 119 125 111 107  91 101]\n",
      "Game 215:\n",
      "   home_team_win_prob  away_team_win_prob\n",
      "0               0.474               0.526\n",
      "Home Team Points Distribution: 105.08 ± 10.739068860939481\n",
      "Away Team Points Distribution: 106.116 ± 10.834045597098067\n",
      "\n",
      "[ 99 106 100 105 113 120 114 118 118 113] [106 113 105  92 112 124  99 130  76 112]\n",
      "Game 216:\n",
      "   home_team_win_prob  away_team_win_prob\n",
      "0                0.55                0.45\n",
      "Home Team Points Distribution: 110.438 ± 10.30767461651754\n",
      "Away Team Points Distribution: 108.107 ± 10.53743569375396\n",
      "\n",
      "[126 115 128  85  95 107 113 112 107 133] [103 117  94 100  99 119  86 110 109 107]\n",
      "Game 217:\n",
      "   home_team_win_prob  away_team_win_prob\n",
      "0               0.574               0.426\n",
      "Home Team Points Distribution: 111.682 ± 10.934389603448379\n",
      "Away Team Points Distribution: 108.616 ± 10.617746653598399\n",
      "\n",
      "[101 105  96  96 103 109 112 125 105 120] [108 106  93 107 109 103 115 100 111  88]\n",
      "Game 218:\n",
      "   home_team_win_prob  away_team_win_prob\n",
      "0               0.811               0.189\n",
      "Home Team Points Distribution: 116.291 ± 10.552834642881503\n",
      "Away Team Points Distribution: 103.196 ± 9.91360600387165\n",
      "\n",
      "[105 124 103 136  96 110 104 112 118  94] [ 98  95  96 106 101  87 111  91 119  87]\n",
      "Game 219:\n",
      "   home_team_win_prob  away_team_win_prob\n",
      "0                0.57                0.43\n",
      "Home Team Points Distribution: 109.168 ± 11.171471523483376\n",
      "Away Team Points Distribution: 105.932 ± 10.45932005438212\n",
      "\n",
      "[104 112 125  98 110  94 103 108 121 108] [102  99 119 103 105 113 102 104  91 100]\n",
      "Game 220:\n",
      "   home_team_win_prob  away_team_win_prob\n",
      "0               0.546               0.454\n",
      "Home Team Points Distribution: 109.488 ± 10.835859725928534\n",
      "Away Team Points Distribution: 108.132 ± 10.788909861519837\n",
      "\n"
     ]
    }
   ],
   "source": [
    "season_games_pred3 = {2023: seasons_games[2023][200:220]}\n",
    "\n",
    "# Number of samples for simulation\n",
    "samples = 1000\n",
    "\n",
    "# Extracting parameters from the Stan result\n",
    "parameters = ['attack', 'defense', 'home_advantage']\n",
    "param_dict = {param: sim4.stan_variable(param) for param in parameters}\n",
    "\n",
    "# Predicting results for each game\n",
    "for idx, row in season_games_pred3[pred_year].iterrows():\n",
    "    home_idx = row['home_team_id']\n",
    "    away_idx = row['away_team_id']\n",
    "    \n",
    "    # Retrieving appropriate parameters for the teams\n",
    "    home_att = param_dict['attack'][:, home_idx-1]\n",
    "    home_def = param_dict['defense'][:, home_idx-1]\n",
    "    away_att = param_dict['attack'][:, away_idx-1]\n",
    "    away_def = param_dict['defense'][:, away_idx-1]\n",
    "    home_advantage = param_dict['home_advantage']\n",
    "    \n",
    "    # Creating log_mu parameters\n",
    "    log_mu1 = home_advantage + home_att - away_def + np.log(100)\n",
    "    log_mu2 = away_att - home_def + np.log(100)\n",
    "    \n",
    "    # Simulating from Poisson distribution to obtain predictive distribution\n",
    "    y1 = np.array([poisson.rvs(np.exp(log_mu1[i])) for i in range(samples)])\n",
    "    y2 = np.array([poisson.rvs(np.exp(log_mu2[i])) for i in range(samples)])\n",
    "    \n",
    "    # Blocking draws\n",
    "    y1 = y1 + (y1 == y2) * np.random.choice([-1, 1], size=samples)\n",
    "    print(y1[0:10], y2[0:10])\n",
    "    # Calculating outcome probabilities\n",
    "    outcome_probabilities = pd.DataFrame({\n",
    "        'home_team_win_prob': [np.mean(y1 > y2)],\n",
    "        'away_team_win_prob': [np.mean(y1 < y2)]\n",
    "    })\n",
    "    \n",
    "    # Printing results\n",
    "    print(f\"Game {idx + 1}:\")\n",
    "    print(outcome_probabilities)\n",
    "    print(f\"Home Team Points Distribution: {np.mean(y1)} ± {np.std(y1)}\")\n",
    "    print(f\"Away Team Points Distribution: {np.mean(y2)} ± {np.std(y2)}\\n\")"
   ]
  },
  {
   "cell_type": "code",
   "execution_count": 137,
   "id": "9a4651ad",
   "metadata": {},
   "outputs": [
    {
     "data": {
      "image/png": "[encoded data removed]",
      "text/plain": [
       "<Figure size 432x288 with 1 Axes>"
      ]
     },
     "metadata": {
      "needs_background": "light"
     },
     "output_type": "display_data"
    }
   ],
   "source": [
    "sns.kdeplot(data=season_games_pred3[2023], x='home_team_score', label='real data')\n",
    "sns.kdeplot(data=y1, label='simulated samples')\n",
    "plt.legend(loc='best')\n",
    "plt.show()"
   ]
  },
  {
   "cell_type": "code",
   "execution_count": 138,
   "id": "60cee2c0",
   "metadata": {},
   "outputs": [
    {
     "data": {
      "image/png": "[encoded data removed]",
      "text/plain": [
       "<Figure size 432x288 with 1 Axes>"
      ]
     },
     "metadata": {
      "needs_background": "light"
     },
     "output_type": "display_data"
    }
   ],
   "source": [
    "sns.kdeplot(data=season_games_pred3[2023], x='away_team_score', label='real data')\n",
    "sns.kdeplot(data=y2, label='simulated samples')\n",
    "plt.legend(loc='best')\n",
    "plt.show()"
   ]
  },
  {
   "cell_type": "markdown",
   "id": "b50eb29b",
   "metadata": {},
   "source": [
    "Models comparison"
   ]
  },
  {
   "cell_type": "code",
   "execution_count": null,
   "id": "8c0541a7",
   "metadata": {},
   "outputs": [],
   "source": [
    "comp_dict = {'m3': sim3, 'm4': sim4}\n",
    "comp = az.compare(comp_dict, ic='waic', scale='deviance')"
   ]
  }
 ],
 "metadata": {
  "kernelspec": {
   "display_name": "Python 3 (ipykernel)",
   "language": "python",
   "name": "python3"
  },
  "language_info": {
   "codemirror_mode": {
    "name": "ipython",
    "version": 3
   },
   "file_extension": ".py",
   "mimetype": "text/x-python",
   "name": "python",
   "nbconvert_exporter": "python",
   "pygments_lexer": "ipython3",
   "version": "3.12.2"
  }
 },
 "nbformat": 4,
 "nbformat_minor": 5
}
