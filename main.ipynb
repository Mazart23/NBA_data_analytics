{
 "cells": [
  {
   "cell_type": "markdown",
   "id": "251631a6d8884fe0",
   "metadata": {},
   "source": [
    "Imports"
   ]
  },
  {
   "cell_type": "code",
   "execution_count": 44,
   "id": "initial_id",
   "metadata": {
    "collapsed": true,
    "jupyter": {
     "is_executing": true
    }
   },
   "outputs": [],
   "source": [
    "import os\n",
    "\n",
    "from cmdstanpy import CmdStanModel\n",
    "import numpy as np\n",
    "import matplotlib.pyplot as plt\n",
    "import pandas as pd\n",
    "import seaborn as sns\n",
    "\n",
    "os.chdir('/app')\n",
    "\n",
    "from src.web_scraping.scraper import scrap_games"
   ]
  },
  {
   "cell_type": "markdown",
   "id": "d30f1715ab83299d",
   "metadata": {},
   "source": [
    "Input parameters for scraping"
   ]
  },
  {
   "cell_type": "code",
   "execution_count": 45,
   "id": "4a37932042922ee6",
   "metadata": {
    "jupyter": {
     "is_executing": true
    }
   },
   "outputs": [],
   "source": [
    "years = list(range(2020, 2022))"
   ]
  },
  {
   "cell_type": "markdown",
   "id": "f8cacc2b5f8f4a7e",
   "metadata": {},
   "source": [
    "Scraping"
   ]
  },
  {
   "cell_type": "code",
   "execution_count": 15,
   "id": "99b39a5d2efe26e1",
   "metadata": {
    "ExecuteTime": {
     "end_time": "2024-05-13T19:49:45.917680Z",
     "start_time": "2024-05-13T19:49:44.578414Z"
    }
   },
   "outputs": [
    {
     "ename": "HTTPError",
     "evalue": "429 Client Error: Too Many Requests for url: https://www.basketball-reference.com/leagues/NBA_2016_games.html",
     "output_type": "error",
     "traceback": [
      "\u001b[0;31m---------------------------------------------------------------------------\u001b[0m",
      "\u001b[0;31mHTTPError\u001b[0m                                 Traceback (most recent call last)",
      "Input \u001b[0;32mIn [15]\u001b[0m, in \u001b[0;36m<cell line: 0>\u001b[0;34m()\u001b[0m\n\u001b[0;32m----> 1\u001b[0m scrap_games(years)\n",
      "File \u001b[0;32m/app/src/web_scraping/scraper.py:9\u001b[0m, in \u001b[0;36mscrap_games\u001b[0;34m(years)\u001b[0m\n\u001b[1;32m      7\u001b[0m \u001b[38;5;28;01mdef\u001b[39;00m \u001b[38;5;21mscrap_games\u001b[39m(years: List[\u001b[38;5;28mint\u001b[39m]) \u001b[38;5;241m-\u001b[39m\u001b[38;5;241m>\u001b[39m \u001b[38;5;28;01mNone\u001b[39;00m:\n\u001b[1;32m      8\u001b[0m     \u001b[38;5;28;01mfor\u001b[39;00m year \u001b[38;5;129;01min\u001b[39;00m years:\n\u001b[0;32m----> 9\u001b[0m         client\u001b[38;5;241m.\u001b[39mseason_schedule(\n\u001b[1;32m     10\u001b[0m             season_end_year\u001b[38;5;241m=\u001b[39myear,\n\u001b[1;32m     11\u001b[0m             output_type\u001b[38;5;241m=\u001b[39mOutputType\u001b[38;5;241m.\u001b[39mCSV,\n\u001b[1;32m     12\u001b[0m             output_file_path\u001b[38;5;241m=\u001b[39m\u001b[38;5;124mf\u001b[39m\u001b[38;5;124m\"\u001b[39m\u001b[38;5;124msrc/data/games/\u001b[39m\u001b[38;5;132;01m{\u001b[39;00myear\u001b[38;5;241m-\u001b[39m\u001b[38;5;241m1\u001b[39m\u001b[38;5;132;01m}\u001b[39;00m\u001b[38;5;124m_\u001b[39m\u001b[38;5;132;01m{\u001b[39;00myear\u001b[38;5;132;01m}\u001b[39;00m\u001b[38;5;124m_season.csv\u001b[39m\u001b[38;5;124m\"\u001b[39m\n\u001b[1;32m     13\u001b[0m         )\n",
      "File \u001b[0;32m/usr/local/lib/python3.12/site-packages/basketball_reference_web_scraper/client.py:130\u001b[0m, in \u001b[0;36mseason_schedule\u001b[0;34m(season_end_year, output_type, output_file_path, output_write_option, json_options)\u001b[0m\n\u001b[1;32m    128\u001b[0m         \u001b[38;5;28;01mraise\u001b[39;00m InvalidSeason(season_end_year\u001b[38;5;241m=\u001b[39mseason_end_year)\n\u001b[1;32m    129\u001b[0m     \u001b[38;5;28;01melse\u001b[39;00m:\n\u001b[0;32m--> 130\u001b[0m         \u001b[38;5;28;01mraise\u001b[39;00m http_error\n\u001b[1;32m    131\u001b[0m options \u001b[38;5;241m=\u001b[39m OutputOptions\u001b[38;5;241m.\u001b[39mof(\n\u001b[1;32m    132\u001b[0m     file_options\u001b[38;5;241m=\u001b[39mFileOptions\u001b[38;5;241m.\u001b[39mof(path\u001b[38;5;241m=\u001b[39moutput_file_path, mode\u001b[38;5;241m=\u001b[39moutput_write_option),\n\u001b[1;32m    133\u001b[0m     output_type\u001b[38;5;241m=\u001b[39moutput_type,\n\u001b[1;32m    134\u001b[0m     json_options\u001b[38;5;241m=\u001b[39mjson_options,\n\u001b[1;32m    135\u001b[0m     csv_options\u001b[38;5;241m=\u001b[39m{\u001b[38;5;124m\"\u001b[39m\u001b[38;5;124mcolumn_names\u001b[39m\u001b[38;5;124m\"\u001b[39m: SCHEDULE_COLUMN_NAMES}\n\u001b[1;32m    136\u001b[0m )\n\u001b[1;32m    137\u001b[0m output_service \u001b[38;5;241m=\u001b[39m OutputService(\n\u001b[1;32m    138\u001b[0m     json_writer\u001b[38;5;241m=\u001b[39mJSONWriter(value_formatter\u001b[38;5;241m=\u001b[39mBasketballReferenceJSONEncoder),\n\u001b[1;32m    139\u001b[0m     csv_writer\u001b[38;5;241m=\u001b[39mCSVWriter(value_formatter\u001b[38;5;241m=\u001b[39mformat_value)\n\u001b[1;32m    140\u001b[0m )\n",
      "File \u001b[0;32m/usr/local/lib/python3.12/site-packages/basketball_reference_web_scraper/client.py:124\u001b[0m, in \u001b[0;36mseason_schedule\u001b[0;34m(season_end_year, output_type, output_file_path, output_write_option, json_options)\u001b[0m\n\u001b[1;32m    122\u001b[0m \u001b[38;5;28;01mtry\u001b[39;00m:\n\u001b[1;32m    123\u001b[0m     http_service \u001b[38;5;241m=\u001b[39m HTTPService(parser\u001b[38;5;241m=\u001b[39mParserService())\n\u001b[0;32m--> 124\u001b[0m     values \u001b[38;5;241m=\u001b[39m http_service\u001b[38;5;241m.\u001b[39mseason_schedule(season_end_year\u001b[38;5;241m=\u001b[39mseason_end_year)\n\u001b[1;32m    125\u001b[0m \u001b[38;5;28;01mexcept\u001b[39;00m requests\u001b[38;5;241m.\u001b[39mexceptions\u001b[38;5;241m.\u001b[39mHTTPError \u001b[38;5;28;01mas\u001b[39;00m http_error:\n\u001b[1;32m    126\u001b[0m     \u001b[38;5;66;03m# https://github.com/requests/requests/blob/master/requests/status_codes.py#L58\u001b[39;00m\n\u001b[1;32m    127\u001b[0m     \u001b[38;5;28;01mif\u001b[39;00m http_error\u001b[38;5;241m.\u001b[39mresponse\u001b[38;5;241m.\u001b[39mstatus_code \u001b[38;5;241m==\u001b[39m requests\u001b[38;5;241m.\u001b[39mcodes\u001b[38;5;241m.\u001b[39mnot_found:\n",
      "File \u001b[0;32m/usr/local/lib/python3.12/site-packages/basketball_reference_web_scraper/http_service.py:152\u001b[0m, in \u001b[0;36mHTTPService.season_schedule\u001b[0;34m(self, season_end_year)\u001b[0m\n\u001b[1;32m    145\u001b[0m url \u001b[38;5;241m=\u001b[39m \u001b[38;5;124m'\u001b[39m\u001b[38;5;132;01m{BASE_URL}\u001b[39;00m\u001b[38;5;124m/leagues/NBA_\u001b[39m\u001b[38;5;132;01m{season_end_year}\u001b[39;00m\u001b[38;5;124m_games.html\u001b[39m\u001b[38;5;124m'\u001b[39m\u001b[38;5;241m.\u001b[39mformat(\n\u001b[1;32m    146\u001b[0m     BASE_URL\u001b[38;5;241m=\u001b[39mHTTPService\u001b[38;5;241m.\u001b[39mBASE_URL,\n\u001b[1;32m    147\u001b[0m     season_end_year\u001b[38;5;241m=\u001b[39mseason_end_year\n\u001b[1;32m    148\u001b[0m )\n\u001b[1;32m    150\u001b[0m response \u001b[38;5;241m=\u001b[39m requests\u001b[38;5;241m.\u001b[39mget(url\u001b[38;5;241m=\u001b[39murl)\n\u001b[0;32m--> 152\u001b[0m response\u001b[38;5;241m.\u001b[39mraise_for_status()\n\u001b[1;32m    154\u001b[0m page \u001b[38;5;241m=\u001b[39m SchedulePage(html\u001b[38;5;241m=\u001b[39mhtml\u001b[38;5;241m.\u001b[39mfromstring(html\u001b[38;5;241m=\u001b[39mresponse\u001b[38;5;241m.\u001b[39mcontent))\n\u001b[1;32m    155\u001b[0m season_schedule_values \u001b[38;5;241m=\u001b[39m \u001b[38;5;28mself\u001b[39m\u001b[38;5;241m.\u001b[39mparser\u001b[38;5;241m.\u001b[39mparse_scheduled_games(games\u001b[38;5;241m=\u001b[39mpage\u001b[38;5;241m.\u001b[39mrows)\n",
      "File \u001b[0;32m/usr/local/lib/python3.12/site-packages/requests/models.py:1024\u001b[0m, in \u001b[0;36mResponse.raise_for_status\u001b[0;34m(self)\u001b[0m\n\u001b[1;32m   1019\u001b[0m     http_error_msg \u001b[38;5;241m=\u001b[39m (\n\u001b[1;32m   1020\u001b[0m         \u001b[38;5;124mf\u001b[39m\u001b[38;5;124m\"\u001b[39m\u001b[38;5;132;01m{\u001b[39;00m\u001b[38;5;28mself\u001b[39m\u001b[38;5;241m.\u001b[39mstatus_code\u001b[38;5;132;01m}\u001b[39;00m\u001b[38;5;124m Server Error: \u001b[39m\u001b[38;5;132;01m{\u001b[39;00mreason\u001b[38;5;132;01m}\u001b[39;00m\u001b[38;5;124m for url: \u001b[39m\u001b[38;5;132;01m{\u001b[39;00m\u001b[38;5;28mself\u001b[39m\u001b[38;5;241m.\u001b[39murl\u001b[38;5;132;01m}\u001b[39;00m\u001b[38;5;124m\"\u001b[39m\n\u001b[1;32m   1021\u001b[0m     )\n\u001b[1;32m   1023\u001b[0m \u001b[38;5;28;01mif\u001b[39;00m http_error_msg:\n\u001b[0;32m-> 1024\u001b[0m     \u001b[38;5;28;01mraise\u001b[39;00m HTTPError(http_error_msg, response\u001b[38;5;241m=\u001b[39m\u001b[38;5;28mself\u001b[39m)\n",
      "\u001b[0;31mHTTPError\u001b[0m: 429 Client Error: Too Many Requests for url: https://www.basketball-reference.com/leagues/NBA_2016_games.html"
     ]
    }
   ],
   "source": [
    "scrap_games(years)"
   ]
  },
  {
   "cell_type": "markdown",
   "id": "628771dda6d37541",
   "metadata": {},
   "source": [
    "Read data"
   ]
  },
  {
   "cell_type": "code",
   "execution_count": 46,
   "id": "1bf6f31f0033ed5d",
   "metadata": {
    "ExecuteTime": {
     "end_time": "2024-05-13T19:49:59.760218Z",
     "start_time": "2024-05-13T19:49:59.719698Z"
    }
   },
   "outputs": [],
   "source": [
    "path = 'src/data/'\n",
    "path_games = os.path.join(path, 'games/')\n",
    "seasons_games = {}\n",
    "\n",
    "for year in years:\n",
    "    seasons_games[year] = pd.read_csv(os.path.join(path_games, f'{year-1}_{year}_season.csv'))"
   ]
  },
  {
   "cell_type": "markdown",
   "id": "687659439df37d92",
   "metadata": {},
   "source": [
    "Edit dataframe"
   ]
  },
  {
   "cell_type": "code",
   "execution_count": 49,
   "id": "4807eb67bbade97c",
   "metadata": {
    "jupyter": {
     "is_executing": true
    }
   },
   "outputs": [],
   "source": [
    "# get unique team names\n",
    "teams = {}\n",
    "for year in years:\n",
    "    teams[year] = list(set(seasons_games[year]['home_team']).union(set(seasons_games[year]['away_team'])))\n",
    "\n",
    "    # map team to id\n",
    "    team_to_id = {team: i + 1 for i, team in enumerate(teams[year])}\n",
    "\n",
    "    seasons_games[year]['home_team_id'] = seasons_games[year]['home_team'].map(team_to_id)\n",
    "    seasons_games[year]['away_team_id'] = seasons_games[year]['away_team'].map(team_to_id)\n",
    "\n",
    "    # Add difference in points between home team and away team\n",
    "    for year in years:\n",
    "        seasons_games[year]['difference'] = seasons_games[year]['home_team_score'] - seasons_games[year]['away_team_score']"
   ]
  },
  {
   "cell_type": "markdown",
   "id": "db981603",
   "metadata": {},
   "source": [
    "Show data (first 5 rows)"
   ]
  },
  {
   "cell_type": "code",
   "execution_count": 50,
   "id": "44244834c1e73a1b",
   "metadata": {},
   "outputs": [
    {
     "name": "stdout",
     "output_type": "stream",
     "text": [
      "                  start_time             away_team  away_team_score  \\\n",
      "0  2019-10-23 00:00:00+00:00  NEW ORLEANS PELICANS              122   \n",
      "1  2019-10-23 02:30:00+00:00    LOS ANGELES LAKERS              102   \n",
      "2  2019-10-23 23:00:00+00:00         CHICAGO BULLS              125   \n",
      "3  2019-10-23 23:00:00+00:00       DETROIT PISTONS              119   \n",
      "4  2019-10-23 23:00:00+00:00   CLEVELAND CAVALIERS               85   \n",
      "\n",
      "              home_team  home_team_score  home_team_id  away_team_id  \\\n",
      "0       TORONTO RAPTORS              130            28            23   \n",
      "1  LOS ANGELES CLIPPERS              112            17             3   \n",
      "2     CHARLOTTE HORNETS              126            29            24   \n",
      "3        INDIANA PACERS              110            10             2   \n",
      "4         ORLANDO MAGIC               94             6            14   \n",
      "\n",
      "   difference  \n",
      "0           8  \n",
      "1          10  \n",
      "2           1  \n",
      "3          -9  \n",
      "4           9  \n",
      "                  start_time              away_team  away_team_score  \\\n",
      "0  2020-12-23 00:00:00+00:00  GOLDEN STATE WARRIORS               99   \n",
      "1  2020-12-23 03:00:00+00:00   LOS ANGELES CLIPPERS              116   \n",
      "2  2020-12-24 00:00:00+00:00      CHARLOTTE HORNETS              114   \n",
      "3  2020-12-24 00:00:00+00:00        NEW YORK KNICKS              107   \n",
      "4  2020-12-24 00:00:00+00:00             MIAMI HEAT              107   \n",
      "\n",
      "             home_team  home_team_score  difference  home_team_id  \\\n",
      "0        BROOKLYN NETS              125          26            19   \n",
      "1   LOS ANGELES LAKERS              109          -7             3   \n",
      "2  CLEVELAND CAVALIERS              121           7            14   \n",
      "3       INDIANA PACERS              121          14            10   \n",
      "4        ORLANDO MAGIC              113           6             6   \n",
      "\n",
      "   away_team_id  \n",
      "0            16  \n",
      "1            17  \n",
      "2            29  \n",
      "3             4  \n",
      "4            25  \n"
     ]
    }
   ],
   "source": [
    "for year in years:\n",
    "    print(seasons_games[year].head())"
   ]
  },
  {
   "cell_type": "markdown",
   "id": "c42a6a74",
   "metadata": {},
   "source": [
    "Prepare input data"
   ]
  },
  {
   "cell_type": "code",
   "execution_count": 51,
   "id": "a9d4125a",
   "metadata": {},
   "outputs": [],
   "source": [
    "year = 2020\n",
    "inp_data = {\n",
    "    'teams_number': len(teams[year]),\n",
    "    'games_number': len(seasons_games[year]),\n",
    "    'home_team': seasons_games[year].home_team_id.to_numpy(),\n",
    "    'away_team': seasons_games[year].away_team_id.to_numpy(),\n",
    "    'home_score': seasons_games[year].home_team_score.to_numpy(),\n",
    "    'away_score': seasons_games[year].away_team_score.to_numpy(),\n",
    "}"
   ]
  },
  {
   "cell_type": "markdown",
   "id": "eeae9fdf",
   "metadata": {},
   "source": [
    "Modelling"
   ]
  },
  {
   "cell_type": "markdown",
   "id": "7581dada",
   "metadata": {},
   "source": [
    "Model 1 - posterior"
   ]
  },
  {
   "cell_type": "code",
   "execution_count": 53,
   "id": "e3f4fe56",
   "metadata": {},
   "outputs": [
    {
     "name": "stdout",
     "output_type": "stream",
     "text": [
      "data {\n",
      "  int teams_number;\n",
      "  int games_number;\n",
      "  array[games_number] int home_team;\n",
      "  array[games_number] int away_team;\n",
      "  array[games_number] int<lower=0> home_score;\n",
      "  array[games_number] int<lower=0> away_score;\n",
      "}\n",
      "parameters {\n",
      "  real mu_home_att;\n",
      "  real mu_away_att;\n",
      "  real mu_home_def;\n",
      "  real mu_away_def;\n",
      "  real<lower=0> sigma2_att;\n",
      "  real<lower=0> sigma2_def;\n",
      "  real<lower=0> phi_home;\n",
      "  real<lower=0> phi_away;\n",
      "\n",
      "  vector[teams_number-1] home_att_raw;\n",
      "  vector[teams_number-1] away_att_raw;\n",
      "  vector[teams_number-1] home_def_raw;\n",
      "  vector[teams_number-1] away_def_raw;\n",
      "}\n",
      "transformed parameters {\n",
      "  vector[games_number] log_mu_home;\n",
      "  vector[games_number] log_mu_away;\n",
      "  vector[teams_number] home_att;\n",
      "  vector[teams_number] away_att;\n",
      "  vector[teams_number] home_def;\n",
      "  vector[teams_number] away_def;\n",
      "\n",
      "  // need to make sum(att)=sum(def)=0\n",
      "  for (k in 1:(teams_number-1)) {\n",
      "    home_att[k] = home_att_raw[k];\n",
      "    away_att[k] = away_att_raw[k];\n",
      "    home_def[k] = home_def_raw[k];\n",
      "    away_def[k] = away_att_raw[k];\n",
      "  }\n",
      "  home_att[teams_number] = -sum(home_att_raw);\n",
      "  away_att[teams_number] = -sum(away_att_raw);\n",
      "  home_def[teams_number] = -sum(home_def_raw);\n",
      "  away_def[teams_number] = -sum(away_def_raw);\n",
      "\n",
      "  // getting mu in log form\n",
      "  log_mu_home = home_att[home_team] + away_def[away_team];\n",
      "  log_mu_away = away_att[away_team] + home_def[home_team];\n",
      "}\n",
      "model {\n",
      "  mu_home_att ~ normal(0.2, 1);\n",
      "  mu_away_att ~ normal(0, 1);\n",
      "  mu_home_def ~ normal(-0.2, 1);\n",
      "  mu_away_def ~ normal(0, 1);\n",
      "  sigma2_att ~ gamma(10, 10);\n",
      "  sigma2_def ~ gamma(10, 10);\n",
      "  phi_home ~ normal(10, 10);\n",
      "  phi_away ~ normal(10, 10);\n",
      "\n",
      "  home_att_raw ~ normal(mu_home_att, sigma2_att);\n",
      "  away_att_raw ~ normal(mu_away_att, sigma2_att);\n",
      "  home_def_raw ~ normal(mu_home_def, sigma2_def);\n",
      "  away_def_raw ~ normal(mu_away_def, sigma2_def);\n",
      "\n",
      "  home_score ~ neg_binomial_2_log(log_mu_home, phi_home);\n",
      "  away_score ~ neg_binomial_2_log(log_mu_away, phi_away);\n",
      "}\n"
     ]
    }
   ],
   "source": [
    "with open('src/model/model_1_posterior.stan', 'r') as f:\n",
    "    print(f.read())"
   ]
  },
  {
   "cell_type": "code",
   "execution_count": 55,
   "id": "ad761f03",
   "metadata": {},
   "outputs": [
    {
     "name": "stderr",
     "output_type": "stream",
     "text": [
      "INFO:cmdstanpy:found newer exe file, not recompiling\n",
      "INFO:cmdstanpy:CmdStan start processing\n",
      "chain 1 |\u001b[34m██████████\u001b[0m| 00:01 Sampling completed                       "
     ]
    },
    {
     "name": "stdout",
     "output_type": "stream",
     "text": [
      "                                                                                "
     ]
    },
    {
     "name": "stderr",
     "output_type": "stream",
     "text": [
      "\n",
      "INFO:cmdstanpy:CmdStan done processing.\n"
     ]
    },
    {
     "name": "stdout",
     "output_type": "stream",
     "text": [
      "\n"
     ]
    }
   ],
   "source": [
    "model_1_prior = CmdStanModel(stan_file='src/model/model_1_posterior.stan')\n",
    "R = 1000\n",
    "sim=model_1_prior.sample(data=inp_data,\n",
    "                     iter_sampling=R,\n",
    "                     iter_warmup=1,\n",
    "                     chains=1,\n",
    "                     fixed_param=False,\n",
    "                     refresh=R)"
   ]
  },
  {
   "cell_type": "code",
   "execution_count": 56,
   "id": "61a3356f",
   "metadata": {},
   "outputs": [
    {
     "data": {
      "text/html": [
       "<div>\n",
       "<style scoped>\n",
       "    .dataframe tbody tr th:only-of-type {\n",
       "        vertical-align: middle;\n",
       "    }\n",
       "\n",
       "    .dataframe tbody tr th {\n",
       "        vertical-align: top;\n",
       "    }\n",
       "\n",
       "    .dataframe thead th {\n",
       "        text-align: right;\n",
       "    }\n",
       "</style>\n",
       "<table border=\"1\" class=\"dataframe\">\n",
       "  <thead>\n",
       "    <tr style=\"text-align: right;\">\n",
       "      <th></th>\n",
       "      <th>lp__</th>\n",
       "      <th>accept_stat__</th>\n",
       "      <th>stepsize__</th>\n",
       "      <th>treedepth__</th>\n",
       "      <th>n_leapfrog__</th>\n",
       "      <th>divergent__</th>\n",
       "      <th>energy__</th>\n",
       "      <th>mu_home_att</th>\n",
       "      <th>mu_away_att</th>\n",
       "      <th>mu_home_def</th>\n",
       "      <th>...</th>\n",
       "      <th>away_def[21]</th>\n",
       "      <th>away_def[22]</th>\n",
       "      <th>away_def[23]</th>\n",
       "      <th>away_def[24]</th>\n",
       "      <th>away_def[25]</th>\n",
       "      <th>away_def[26]</th>\n",
       "      <th>away_def[27]</th>\n",
       "      <th>away_def[28]</th>\n",
       "      <th>away_def[29]</th>\n",
       "      <th>away_def[30]</th>\n",
       "    </tr>\n",
       "  </thead>\n",
       "  <tbody>\n",
       "    <tr>\n",
       "      <th>0</th>\n",
       "      <td>-28161.2</td>\n",
       "      <td>0.0</td>\n",
       "      <td>5.79578</td>\n",
       "      <td>0.0</td>\n",
       "      <td>1.0</td>\n",
       "      <td>1.0</td>\n",
       "      <td>28228.0</td>\n",
       "      <td>-1.34692</td>\n",
       "      <td>1.09495</td>\n",
       "      <td>0.82671</td>\n",
       "      <td>...</td>\n",
       "      <td>1.01295</td>\n",
       "      <td>-0.945685</td>\n",
       "      <td>-0.736062</td>\n",
       "      <td>-0.542337</td>\n",
       "      <td>-0.501546</td>\n",
       "      <td>0.292315</td>\n",
       "      <td>-1.33988</td>\n",
       "      <td>-0.288685</td>\n",
       "      <td>-0.231245</td>\n",
       "      <td>10.2751</td>\n",
       "    </tr>\n",
       "    <tr>\n",
       "      <th>1</th>\n",
       "      <td>-28161.2</td>\n",
       "      <td>0.0</td>\n",
       "      <td>5.79578</td>\n",
       "      <td>0.0</td>\n",
       "      <td>1.0</td>\n",
       "      <td>1.0</td>\n",
       "      <td>28244.8</td>\n",
       "      <td>-1.34692</td>\n",
       "      <td>1.09495</td>\n",
       "      <td>0.82671</td>\n",
       "      <td>...</td>\n",
       "      <td>1.01295</td>\n",
       "      <td>-0.945685</td>\n",
       "      <td>-0.736062</td>\n",
       "      <td>-0.542337</td>\n",
       "      <td>-0.501546</td>\n",
       "      <td>0.292315</td>\n",
       "      <td>-1.33988</td>\n",
       "      <td>-0.288685</td>\n",
       "      <td>-0.231245</td>\n",
       "      <td>10.2751</td>\n",
       "    </tr>\n",
       "    <tr>\n",
       "      <th>2</th>\n",
       "      <td>-28161.2</td>\n",
       "      <td>0.0</td>\n",
       "      <td>5.79578</td>\n",
       "      <td>0.0</td>\n",
       "      <td>1.0</td>\n",
       "      <td>1.0</td>\n",
       "      <td>28231.6</td>\n",
       "      <td>-1.34692</td>\n",
       "      <td>1.09495</td>\n",
       "      <td>0.82671</td>\n",
       "      <td>...</td>\n",
       "      <td>1.01295</td>\n",
       "      <td>-0.945685</td>\n",
       "      <td>-0.736062</td>\n",
       "      <td>-0.542337</td>\n",
       "      <td>-0.501546</td>\n",
       "      <td>0.292315</td>\n",
       "      <td>-1.33988</td>\n",
       "      <td>-0.288685</td>\n",
       "      <td>-0.231245</td>\n",
       "      <td>10.2751</td>\n",
       "    </tr>\n",
       "    <tr>\n",
       "      <th>3</th>\n",
       "      <td>-28161.2</td>\n",
       "      <td>0.0</td>\n",
       "      <td>5.79578</td>\n",
       "      <td>0.0</td>\n",
       "      <td>1.0</td>\n",
       "      <td>1.0</td>\n",
       "      <td>28221.4</td>\n",
       "      <td>-1.34692</td>\n",
       "      <td>1.09495</td>\n",
       "      <td>0.82671</td>\n",
       "      <td>...</td>\n",
       "      <td>1.01295</td>\n",
       "      <td>-0.945685</td>\n",
       "      <td>-0.736062</td>\n",
       "      <td>-0.542337</td>\n",
       "      <td>-0.501546</td>\n",
       "      <td>0.292315</td>\n",
       "      <td>-1.33988</td>\n",
       "      <td>-0.288685</td>\n",
       "      <td>-0.231245</td>\n",
       "      <td>10.2751</td>\n",
       "    </tr>\n",
       "    <tr>\n",
       "      <th>4</th>\n",
       "      <td>-28161.2</td>\n",
       "      <td>0.0</td>\n",
       "      <td>5.79578</td>\n",
       "      <td>0.0</td>\n",
       "      <td>1.0</td>\n",
       "      <td>1.0</td>\n",
       "      <td>28243.0</td>\n",
       "      <td>-1.34692</td>\n",
       "      <td>1.09495</td>\n",
       "      <td>0.82671</td>\n",
       "      <td>...</td>\n",
       "      <td>1.01295</td>\n",
       "      <td>-0.945685</td>\n",
       "      <td>-0.736062</td>\n",
       "      <td>-0.542337</td>\n",
       "      <td>-0.501546</td>\n",
       "      <td>0.292315</td>\n",
       "      <td>-1.33988</td>\n",
       "      <td>-0.288685</td>\n",
       "      <td>-0.231245</td>\n",
       "      <td>10.2751</td>\n",
       "    </tr>\n",
       "  </tbody>\n",
       "</table>\n",
       "<p>5 rows × 2663 columns</p>\n",
       "</div>"
      ],
      "text/plain": [
       "      lp__  accept_stat__  stepsize__  treedepth__  n_leapfrog__  divergent__  \\\n",
       "0 -28161.2            0.0     5.79578          0.0           1.0          1.0   \n",
       "1 -28161.2            0.0     5.79578          0.0           1.0          1.0   \n",
       "2 -28161.2            0.0     5.79578          0.0           1.0          1.0   \n",
       "3 -28161.2            0.0     5.79578          0.0           1.0          1.0   \n",
       "4 -28161.2            0.0     5.79578          0.0           1.0          1.0   \n",
       "\n",
       "   energy__  mu_home_att  mu_away_att  mu_home_def  ...  away_def[21]  \\\n",
       "0   28228.0     -1.34692      1.09495      0.82671  ...       1.01295   \n",
       "1   28244.8     -1.34692      1.09495      0.82671  ...       1.01295   \n",
       "2   28231.6     -1.34692      1.09495      0.82671  ...       1.01295   \n",
       "3   28221.4     -1.34692      1.09495      0.82671  ...       1.01295   \n",
       "4   28243.0     -1.34692      1.09495      0.82671  ...       1.01295   \n",
       "\n",
       "   away_def[22]  away_def[23]  away_def[24]  away_def[25]  away_def[26]  \\\n",
       "0     -0.945685     -0.736062     -0.542337     -0.501546      0.292315   \n",
       "1     -0.945685     -0.736062     -0.542337     -0.501546      0.292315   \n",
       "2     -0.945685     -0.736062     -0.542337     -0.501546      0.292315   \n",
       "3     -0.945685     -0.736062     -0.542337     -0.501546      0.292315   \n",
       "4     -0.945685     -0.736062     -0.542337     -0.501546      0.292315   \n",
       "\n",
       "   away_def[27]  away_def[28]  away_def[29]  away_def[30]  \n",
       "0      -1.33988     -0.288685     -0.231245       10.2751  \n",
       "1      -1.33988     -0.288685     -0.231245       10.2751  \n",
       "2      -1.33988     -0.288685     -0.231245       10.2751  \n",
       "3      -1.33988     -0.288685     -0.231245       10.2751  \n",
       "4      -1.33988     -0.288685     -0.231245       10.2751  \n",
       "\n",
       "[5 rows x 2663 columns]"
      ]
     },
     "execution_count": 56,
     "metadata": {},
     "output_type": "execute_result"
    }
   ],
   "source": [
    "mod_1_post = sim.draws_pd()\n",
    "mod_1_post.head()"
   ]
  }
 ],
 "metadata": {
  "kernelspec": {
   "display_name": "Python 3",
   "language": "python",
   "name": "python3"
  },
  "language_info": {
   "codemirror_mode": {
    "name": "ipython",
    "version": 3
   },
   "file_extension": ".py",
   "mimetype": "text/x-python",
   "name": "python",
   "nbconvert_exporter": "python",
   "pygments_lexer": "ipython3",
   "version": "3.12.2"
  }
 },
 "nbformat": 4,
 "nbformat_minor": 5
}
