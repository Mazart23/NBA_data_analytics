{
 "cells": [
  {
   "cell_type": "markdown",
   "id": "251631a6d8884fe0",
   "metadata": {},
   "source": [
    "Imports"
   ]
  },
  {
   "cell_type": "code",
   "execution_count": 64,
   "id": "initial_id",
   "metadata": {
    "collapsed": true,
    "jupyter": {
     "is_executing": true
    }
   },
   "outputs": [],
   "source": [
    "import os\n",
    "\n",
    "from cmdstanpy import CmdStanModel\n",
    "import numpy as np\n",
    "import matplotlib.pyplot as plt\n",
    "import pandas as pd\n",
    "import seaborn as sns\n",
    "from scipy.stats import nbinom, norm, poisson\n",
    "\n",
    "os.chdir('/app')\n",
    "\n",
    "from src.web_scraping.scraper import scrap_games"
   ]
  },
  {
   "cell_type": "markdown",
   "id": "d30f1715ab83299d",
   "metadata": {},
   "source": [
    "Input parameters for scraping"
   ]
  },
  {
   "cell_type": "code",
   "execution_count": 65,
   "id": "4a37932042922ee6",
   "metadata": {
    "jupyter": {
     "is_executing": true
    }
   },
   "outputs": [],
   "source": [
    "years = list(range(2022, 2024))\n",
    "train_year = years[0]\n",
    "pred_year = years[1]"
   ]
  },
  {
   "cell_type": "markdown",
   "id": "f8cacc2b5f8f4a7e",
   "metadata": {},
   "source": [
    "Scraping"
   ]
  },
  {
   "cell_type": "code",
   "execution_count": 66,
   "id": "99b39a5d2efe26e1",
   "metadata": {
    "ExecuteTime": {
     "end_time": "2024-05-13T19:49:45.917680Z",
     "start_time": "2024-05-13T19:49:44.578414Z"
    }
   },
   "outputs": [],
   "source": [
    "scrap_games(years)"
   ]
  },
  {
   "cell_type": "markdown",
   "id": "628771dda6d37541",
   "metadata": {},
   "source": [
    "Read data"
   ]
  },
  {
   "cell_type": "code",
   "execution_count": 67,
   "id": "1bf6f31f0033ed5d",
   "metadata": {
    "ExecuteTime": {
     "end_time": "2024-05-13T19:49:59.760218Z",
     "start_time": "2024-05-13T19:49:59.719698Z"
    }
   },
   "outputs": [
    {
     "name": "stdout",
     "output_type": "stream",
     "text": [
      "{2022:                      start_time              away_team  away_team_score  \\\n",
      "0     2021-10-19 23:30:00+00:00          BROOKLYN NETS              104   \n",
      "1     2021-10-20 02:00:00+00:00  GOLDEN STATE WARRIORS              121   \n",
      "2     2021-10-20 23:00:00+00:00         INDIANA PACERS              122   \n",
      "3     2021-10-20 23:00:00+00:00          CHICAGO BULLS               94   \n",
      "4     2021-10-20 23:30:00+00:00         BOSTON CELTICS              134   \n",
      "...                         ...                    ...              ...   \n",
      "1318  2022-06-06 00:00:00+00:00         BOSTON CELTICS               88   \n",
      "1319  2022-06-09 01:00:00+00:00  GOLDEN STATE WARRIORS              100   \n",
      "1320  2022-06-11 01:00:00+00:00  GOLDEN STATE WARRIORS              107   \n",
      "1321  2022-06-14 01:00:00+00:00         BOSTON CELTICS               94   \n",
      "1322  2022-06-17 01:00:00+00:00  GOLDEN STATE WARRIORS              103   \n",
      "\n",
      "                  home_team  home_team_score  \n",
      "0           MILWAUKEE BUCKS              127  \n",
      "1        LOS ANGELES LAKERS              114  \n",
      "2         CHARLOTTE HORNETS              123  \n",
      "3           DETROIT PISTONS               88  \n",
      "4           NEW YORK KNICKS              138  \n",
      "...                     ...              ...  \n",
      "1318  GOLDEN STATE WARRIORS              107  \n",
      "1319         BOSTON CELTICS              116  \n",
      "1320         BOSTON CELTICS               97  \n",
      "1321  GOLDEN STATE WARRIORS              104  \n",
      "1322         BOSTON CELTICS               90  \n",
      "\n",
      "[1323 rows x 5 columns], 2023:                      start_time           away_team  away_team_score  \\\n",
      "0     2022-10-18 23:30:00+00:00  PHILADELPHIA 76ERS              117   \n",
      "1     2022-10-19 02:00:00+00:00  LOS ANGELES LAKERS              109   \n",
      "2     2022-10-19 23:00:00+00:00       ORLANDO MAGIC              109   \n",
      "3     2022-10-19 23:00:00+00:00  WASHINGTON WIZARDS              114   \n",
      "4     2022-10-19 23:30:00+00:00       CHICAGO BULLS              116   \n",
      "...                         ...                 ...              ...   \n",
      "1315  2023-06-02 00:30:00+00:00          MIAMI HEAT               93   \n",
      "1316  2023-06-05 00:00:00+00:00          MIAMI HEAT              111   \n",
      "1317  2023-06-08 00:30:00+00:00      DENVER NUGGETS              109   \n",
      "1318  2023-06-10 00:30:00+00:00      DENVER NUGGETS              108   \n",
      "1319  2023-06-13 00:30:00+00:00          MIAMI HEAT               89   \n",
      "\n",
      "                  home_team  home_team_score  \n",
      "0            BOSTON CELTICS              126  \n",
      "1     GOLDEN STATE WARRIORS              123  \n",
      "2           DETROIT PISTONS              113  \n",
      "3            INDIANA PACERS              107  \n",
      "4                MIAMI HEAT              108  \n",
      "...                     ...              ...  \n",
      "1315         DENVER NUGGETS              104  \n",
      "1316         DENVER NUGGETS              108  \n",
      "1317             MIAMI HEAT               94  \n",
      "1318             MIAMI HEAT               95  \n",
      "1319         DENVER NUGGETS               94  \n",
      "\n",
      "[1320 rows x 5 columns]}\n"
     ]
    }
   ],
   "source": [
    "path = 'src/data/'\n",
    "path_games = os.path.join(path, 'games/')\n",
    "seasons_games = {}\n",
    "\n",
    "# prepare dataframes - drop duplicated rows and sort by date\n",
    "for year in years:\n",
    "    seasons_games[year] = pd.read_csv(os.path.join(path_games, f'{year-1}_{year}_season.csv')).drop_duplicates().sort_values(by='start_time').reset_index(drop=True)\n",
    "print(seasons_games)"
   ]
  },
  {
   "cell_type": "markdown",
   "id": "687659439df37d92",
   "metadata": {},
   "source": [
    "Edit dataframe"
   ]
  },
  {
   "cell_type": "code",
   "execution_count": 68,
   "id": "4807eb67bbade97c",
   "metadata": {
    "jupyter": {
     "is_executing": true
    }
   },
   "outputs": [
    {
     "name": "stdout",
     "output_type": "stream",
     "text": [
      "['MILWAUKEE BUCKS', 'LOS ANGELES LAKERS', 'CHARLOTTE HORNETS', 'DETROIT PISTONS', 'NEW YORK KNICKS', 'TORONTO RAPTORS', 'MEMPHIS GRIZZLIES', 'MINNESOTA TIMBERWOLVES', 'NEW ORLEANS PELICANS', 'SAN ANTONIO SPURS', 'UTAH JAZZ', 'PORTLAND TRAIL BLAZERS', 'PHOENIX SUNS', 'ATLANTA HAWKS', 'MIAMI HEAT', 'GOLDEN STATE WARRIORS', 'ORLANDO MAGIC', 'WASHINGTON WIZARDS', 'CLEVELAND CAVALIERS', 'PHILADELPHIA 76ERS', 'BOSTON CELTICS', 'HOUSTON ROCKETS', 'CHICAGO BULLS', 'DENVER NUGGETS', 'SACRAMENTO KINGS', 'INDIANA PACERS', 'LOS ANGELES CLIPPERS', 'BROOKLYN NETS', 'OKLAHOMA CITY THUNDER', 'DALLAS MAVERICKS']\n"
     ]
    }
   ],
   "source": [
    "# get unique team names\n",
    "teams = list(seasons_games[train_year]['home_team'].unique())\n",
    "print(teams)\n",
    "# map team to id\n",
    "team_to_id = {team: i + 1 for i, team in enumerate(teams)}\n",
    "\n",
    "for year in years:\n",
    "    # Add IDs of teams to be differentiate for stan\n",
    "    seasons_games[year]['home_team_id'] = seasons_games[year]['home_team'].map(team_to_id)\n",
    "    seasons_games[year]['away_team_id'] = seasons_games[year]['away_team'].map(team_to_id)\n",
    "\n",
    "    # Add difference in points between home team and away team\n",
    "    for year in years:\n",
    "        seasons_games[year]['difference'] = seasons_games[year]['home_team_score'] - seasons_games[year]['away_team_score']\n"
   ]
  },
  {
   "cell_type": "markdown",
   "id": "db981603",
   "metadata": {},
   "source": [
    "Show data (first 5 rows)"
   ]
  },
  {
   "cell_type": "code",
   "execution_count": 69,
   "id": "44244834c1e73a1b",
   "metadata": {},
   "outputs": [
    {
     "name": "stdout",
     "output_type": "stream",
     "text": [
      "                  start_time              away_team  away_team_score  \\\n",
      "0  2021-10-19 23:30:00+00:00          BROOKLYN NETS              104   \n",
      "1  2021-10-20 02:00:00+00:00  GOLDEN STATE WARRIORS              121   \n",
      "2  2021-10-20 23:00:00+00:00         INDIANA PACERS              122   \n",
      "3  2021-10-20 23:00:00+00:00          CHICAGO BULLS               94   \n",
      "4  2021-10-20 23:30:00+00:00         BOSTON CELTICS              134   \n",
      "\n",
      "            home_team  home_team_score  home_team_id  away_team_id  difference  \n",
      "0     MILWAUKEE BUCKS              127             1            28          23  \n",
      "1  LOS ANGELES LAKERS              114             2            16          -7  \n",
      "2   CHARLOTTE HORNETS              123             3            26           1  \n",
      "3     DETROIT PISTONS               88             4            23          -6  \n",
      "4     NEW YORK KNICKS              138             5            21           4  \n",
      "                  start_time           away_team  away_team_score  \\\n",
      "0  2022-10-18 23:30:00+00:00  PHILADELPHIA 76ERS              117   \n",
      "1  2022-10-19 02:00:00+00:00  LOS ANGELES LAKERS              109   \n",
      "2  2022-10-19 23:00:00+00:00       ORLANDO MAGIC              109   \n",
      "3  2022-10-19 23:00:00+00:00  WASHINGTON WIZARDS              114   \n",
      "4  2022-10-19 23:30:00+00:00       CHICAGO BULLS              116   \n",
      "\n",
      "               home_team  home_team_score  difference  home_team_id  \\\n",
      "0         BOSTON CELTICS              126           9            21   \n",
      "1  GOLDEN STATE WARRIORS              123          14            16   \n",
      "2        DETROIT PISTONS              113           4             4   \n",
      "3         INDIANA PACERS              107          -7            26   \n",
      "4             MIAMI HEAT              108          -8            15   \n",
      "\n",
      "   away_team_id  \n",
      "0            20  \n",
      "1             2  \n",
      "2            17  \n",
      "3            18  \n",
      "4            23  \n"
     ]
    }
   ],
   "source": [
    "for year in years:\n",
    "    print(seasons_games[year].head())"
   ]
  },
  {
   "cell_type": "markdown",
   "id": "57f1ce77",
   "metadata": {},
   "source": [
    "Plot data"
   ]
  },
  {
   "cell_type": "code",
   "execution_count": 70,
   "id": "4c92a902",
   "metadata": {},
   "outputs": [
    {
     "data": {
      "image/png": "[encoded data removed]",
      "text/plain": [
       "<Figure size 720x1080 with 3 Axes>"
      ]
     },
     "metadata": {
      "needs_background": "light"
     },
     "output_type": "display_data"
    }
   ],
   "source": [
    "fig, axes = plt.subplots(nrows=3, ncols=1, figsize=(10, 15))\n",
    "\n",
    "# Histogram of points scored away\n",
    "axes[0].hist(seasons_games[year]['away_team_score'], density=True, bins=10, color='blue', edgecolor='black', label='data')\n",
    "axes[0].set_title('Histogram of points scored away')\n",
    "axes[0].set_xlabel('Points')\n",
    "axes[0].set_ylabel('Density - number of games')\n",
    "\n",
    "# Histogram of points scored at home\n",
    "axes[1].hist(seasons_games[year]['home_team_score'], density=True, bins=10, color='green', edgecolor='black', label='data')\n",
    "axes[1].set_title('Histogram of points scored at home')\n",
    "axes[1].set_xlabel('Points')\n",
    "axes[1].set_ylabel('Density - number of games')\n",
    "\n",
    "# Histogram of point difference\n",
    "axes[2].hist(seasons_games[year]['difference'], density=True, bins=10, color='yellow', edgecolor='black', label='data')\n",
    "axes[2].set_title('Histogram of point difference')\n",
    "axes[2].set_xlabel('Point difference')\n",
    "axes[2].set_ylabel('Density - number of games')\n",
    "\n",
    "# Plot the negative binomial PDF on each chart\n",
    "for ax, col in zip(axes, ('away_team_score', 'home_team_score', 'difference')):\n",
    "    mean, var = np.mean(seasons_games[year][col]), np.var(seasons_games[year][col])\n",
    "    if col == 'difference':\n",
    "        std = np.sqrt(var)\n",
    "        x = np.linspace(min(seasons_games[year][col]), max(seasons_games[year][col]), 100)\n",
    "        normal_pdf = norm.pdf(x, mean, std)\n",
    "    \n",
    "        # Plot the normal PDF\n",
    "        ax.plot(x, normal_pdf, 'r-', lw=2, label='Normal fit')\n",
    "        \n",
    "        textstr = f'mean = {mean:.2f}\\nstandard deviation = {std:.2f}'\n",
    "        ax.text(0.05, 0.95, textstr, transform=ax.transAxes, fontsize=12,\n",
    "                verticalalignment='top', bbox={'boxstyle': 'round', 'facecolor': 'wheat', 'alpha': 0.5})\n",
    "    else:\n",
    "        p = mean / var\n",
    "        r = mean ** 2 / (var - mean)  # Number of failures\n",
    "        x = np.arange(min(seasons_games[year][col]), max(seasons_games[year][col]) + 1)\n",
    "        nbinom_pmf = nbinom.pmf(x, r, p)\n",
    "            \n",
    "        # Plot the negative binomial PDF\n",
    "        ax.plot(x, nbinom_pmf, 'r-', lw=2, label='Negative Binomial fit')\n",
    "        \n",
    "        textstr = f'probability of success = {p:.2f}\\nnumber of failures = {r:.2f}'\n",
    "        ax.text(0.05, 0.95, textstr, transform=ax.transAxes, fontsize=12,\n",
    "                verticalalignment='top', bbox={'boxstyle': 'round', 'facecolor': 'wheat', 'alpha': 0.5})\n",
    "    ax.legend()\n",
    "    ax.grid()\n",
    "\n",
    "plt.tight_layout()"
   ]
  },
  {
   "cell_type": "markdown",
   "id": "c42a6a74",
   "metadata": {},
   "source": [
    "Prepare input data"
   ]
  },
  {
   "cell_type": "code",
   "execution_count": 71,
   "id": "a9d4125a",
   "metadata": {},
   "outputs": [],
   "source": [
    "inp_data = {\n",
    "    'teams_number': len(teams),\n",
    "    'games_number': len(seasons_games[train_year]),\n",
    "    'home_team': seasons_games[train_year].home_team_id.to_numpy(),\n",
    "    'away_team': seasons_games[train_year].away_team_id.to_numpy(),\n",
    "    'home_score': seasons_games[train_year].home_team_score.to_numpy(),\n",
    "    'away_score': seasons_games[train_year].away_team_score.to_numpy(),\n",
    "}"
   ]
  },
  {
   "cell_type": "markdown",
   "id": "eeae9fdf",
   "metadata": {},
   "source": [
    "Modelling"
   ]
  },
  {
   "cell_type": "markdown",
   "id": "7581dada",
   "metadata": {},
   "source": [
    "Model 1 - posterior"
   ]
  },
  {
   "cell_type": "code",
   "execution_count": 72,
   "id": "e3f4fe56",
   "metadata": {},
   "outputs": [
    {
     "name": "stdout",
     "output_type": "stream",
     "text": [
      "data {\n",
      "  int teams_number;\n",
      "  int games_number;\n",
      "  array[games_number] int home_team;\n",
      "  array[games_number] int away_team;\n",
      "  array[games_number] int<lower=0> home_score;\n",
      "  array[games_number] int<lower=0> away_score;\n",
      "}\n",
      "\n",
      "parameters {\n",
      "  real mu_home_att;\n",
      "  real mu_away_att;\n",
      "  real mu_home_def;\n",
      "  real mu_away_def;\n",
      "  real<lower=0> sigma2_att;\n",
      "  real<lower=0> sigma2_def;\n",
      "  real<lower=0> phi_home;\n",
      "  real<lower=0> phi_away;\n",
      "\n",
      "  vector[teams_number-1] home_att_raw;\n",
      "  vector[teams_number-1] away_att_raw;\n",
      "  vector[teams_number-1] home_def_raw;\n",
      "  vector[teams_number-1] away_def_raw;\n",
      "}\n",
      "\n",
      "transformed parameters {\n",
      "  vector[games_number] log_mu_home;\n",
      "  vector[games_number] log_mu_away;\n",
      "  vector[teams_number] home_att;\n",
      "  vector[teams_number] away_att;\n",
      "  vector[teams_number] home_def;\n",
      "  vector[teams_number] away_def;\n",
      "\n",
      "  // need to make sum(att)=sum(def)=0\n",
      "  for (k in 1:(teams_number-1)) {\n",
      "    home_att[k] = home_att_raw[k];\n",
      "    away_att[k] = away_att_raw[k];\n",
      "    home_def[k] = home_def_raw[k];\n",
      "    away_def[k] = away_att_raw[k];\n",
      "  }\n",
      "  home_att[teams_number] = -sum(home_att_raw);\n",
      "  away_att[teams_number] = -sum(away_att_raw);\n",
      "  home_def[teams_number] = -sum(home_def_raw);\n",
      "  away_def[teams_number] = -sum(away_def_raw);\n",
      "\n",
      "  // getting mu in log form\n",
      "  log_mu_home = home_att[home_team] + away_def[away_team];\n",
      "  log_mu_away = away_att[away_team] + home_def[home_team];\n",
      "}\n",
      "\n",
      "model {\n",
      "  mu_home_att ~ normal(0.2, 1);\n",
      "  mu_away_att ~ normal(0, 1);\n",
      "  mu_home_def ~ normal(-0.2, 1);\n",
      "  mu_away_def ~ normal(0, 1);\n",
      "  sigma2_att ~ gamma(10, 10);\n",
      "  sigma2_def ~ gamma(10, 10);\n",
      "  phi_home ~ normal(10, 10);\n",
      "  phi_away ~ normal(10, 10);\n",
      "\n",
      "  home_att_raw ~ normal(mu_home_att, sigma2_att);\n",
      "  away_att_raw ~ normal(mu_away_att, sigma2_att);\n",
      "  home_def_raw ~ normal(mu_home_def, sigma2_def);\n",
      "  away_def_raw ~ normal(mu_away_def, sigma2_def);\n",
      "\n",
      "  home_score ~ neg_binomial_2_log(log_mu_home, phi_home);\n",
      "  away_score ~ neg_binomial_2_log(log_mu_away, phi_away);\n",
      "}\n",
      "\n",
      "// generated quantities {\n",
      "//   array[games_number] int home_score_pred;\n",
      "//   array[games_number] int away_score_pred;\n",
      "\n",
      "//   for (i in 1:games_number) {\n",
      "//     home_score_pred[i] = neg_binomial_2_log_rng(log_mu_home[i], phi_home);\n",
      "//     away_score_pred[i] = neg_binomial_2_log_rng(log_mu_away[i], phi_away);\n",
      "//   }\n",
      "// }\n"
     ]
    }
   ],
   "source": [
    "with open('src/model/model_1_posterior.stan', 'r') as f:\n",
    "    print(f.read())"
   ]
  },
  {
   "cell_type": "code",
   "execution_count": 73,
   "id": "ad761f03",
   "metadata": {},
   "outputs": [
    {
     "name": "stderr",
     "output_type": "stream",
     "text": [
      "INFO:cmdstanpy:found newer exe file, not recompiling\n",
      "INFO:cmdstanpy:CmdStan start processing\n",
      "chain 1 |\u001b[34m██████████\u001b[0m| 00:01 Sampling completed                     "
     ]
    },
    {
     "name": "stdout",
     "output_type": "stream",
     "text": [
      "                                                                                "
     ]
    },
    {
     "name": "stderr",
     "output_type": "stream",
     "text": [
      "\n",
      "INFO:cmdstanpy:CmdStan done processing.\n"
     ]
    },
    {
     "name": "stdout",
     "output_type": "stream",
     "text": [
      "\n"
     ]
    }
   ],
   "source": [
    "model_1_prior = CmdStanModel(stan_file='src/model/model_1_posterior.stan')\n",
    "samples = 1000\n",
    "sim=model_1_prior.sample(data=inp_data,\n",
    "                     iter_sampling=samples,\n",
    "                     iter_warmup=1,\n",
    "                     chains=1,\n",
    "                     fixed_param=False,\n",
    "                     refresh=samples)"
   ]
  },
  {
   "cell_type": "code",
   "execution_count": 74,
   "id": "61a3356f",
   "metadata": {},
   "outputs": [
    {
     "data": {
      "text/html": [
       "<div>\n",
       "<style scoped>\n",
       "    .dataframe tbody tr th:only-of-type {\n",
       "        vertical-align: middle;\n",
       "    }\n",
       "\n",
       "    .dataframe tbody tr th {\n",
       "        vertical-align: top;\n",
       "    }\n",
       "\n",
       "    .dataframe thead th {\n",
       "        text-align: right;\n",
       "    }\n",
       "</style>\n",
       "<table border=\"1\" class=\"dataframe\">\n",
       "  <thead>\n",
       "    <tr style=\"text-align: right;\">\n",
       "      <th></th>\n",
       "      <th>lp__</th>\n",
       "      <th>accept_stat__</th>\n",
       "      <th>stepsize__</th>\n",
       "      <th>treedepth__</th>\n",
       "      <th>n_leapfrog__</th>\n",
       "      <th>divergent__</th>\n",
       "      <th>energy__</th>\n",
       "      <th>mu_home_att</th>\n",
       "      <th>mu_away_att</th>\n",
       "      <th>mu_home_def</th>\n",
       "      <th>...</th>\n",
       "      <th>away_def[21]</th>\n",
       "      <th>away_def[22]</th>\n",
       "      <th>away_def[23]</th>\n",
       "      <th>away_def[24]</th>\n",
       "      <th>away_def[25]</th>\n",
       "      <th>away_def[26]</th>\n",
       "      <th>away_def[27]</th>\n",
       "      <th>away_def[28]</th>\n",
       "      <th>away_def[29]</th>\n",
       "      <th>away_def[30]</th>\n",
       "    </tr>\n",
       "  </thead>\n",
       "  <tbody>\n",
       "    <tr>\n",
       "      <th>0</th>\n",
       "      <td>-35454.7</td>\n",
       "      <td>0.0</td>\n",
       "      <td>14.3855</td>\n",
       "      <td>0.0</td>\n",
       "      <td>1.0</td>\n",
       "      <td>1.0</td>\n",
       "      <td>35520.4</td>\n",
       "      <td>-1.38748</td>\n",
       "      <td>-1.38753</td>\n",
       "      <td>0.255874</td>\n",
       "      <td>...</td>\n",
       "      <td>0.256434</td>\n",
       "      <td>0.453065</td>\n",
       "      <td>0.958928</td>\n",
       "      <td>-1.59795</td>\n",
       "      <td>1.36827</td>\n",
       "      <td>-0.764239</td>\n",
       "      <td>1.19282</td>\n",
       "      <td>-1.30619</td>\n",
       "      <td>0.956796</td>\n",
       "      <td>14.4447</td>\n",
       "    </tr>\n",
       "    <tr>\n",
       "      <th>1</th>\n",
       "      <td>-35454.7</td>\n",
       "      <td>0.0</td>\n",
       "      <td>14.3855</td>\n",
       "      <td>0.0</td>\n",
       "      <td>1.0</td>\n",
       "      <td>1.0</td>\n",
       "      <td>35514.3</td>\n",
       "      <td>-1.38748</td>\n",
       "      <td>-1.38753</td>\n",
       "      <td>0.255874</td>\n",
       "      <td>...</td>\n",
       "      <td>0.256434</td>\n",
       "      <td>0.453065</td>\n",
       "      <td>0.958928</td>\n",
       "      <td>-1.59795</td>\n",
       "      <td>1.36827</td>\n",
       "      <td>-0.764239</td>\n",
       "      <td>1.19282</td>\n",
       "      <td>-1.30619</td>\n",
       "      <td>0.956796</td>\n",
       "      <td>14.4447</td>\n",
       "    </tr>\n",
       "    <tr>\n",
       "      <th>2</th>\n",
       "      <td>-35454.7</td>\n",
       "      <td>0.0</td>\n",
       "      <td>14.3855</td>\n",
       "      <td>0.0</td>\n",
       "      <td>1.0</td>\n",
       "      <td>1.0</td>\n",
       "      <td>35511.6</td>\n",
       "      <td>-1.38748</td>\n",
       "      <td>-1.38753</td>\n",
       "      <td>0.255874</td>\n",
       "      <td>...</td>\n",
       "      <td>0.256434</td>\n",
       "      <td>0.453065</td>\n",
       "      <td>0.958928</td>\n",
       "      <td>-1.59795</td>\n",
       "      <td>1.36827</td>\n",
       "      <td>-0.764239</td>\n",
       "      <td>1.19282</td>\n",
       "      <td>-1.30619</td>\n",
       "      <td>0.956796</td>\n",
       "      <td>14.4447</td>\n",
       "    </tr>\n",
       "    <tr>\n",
       "      <th>3</th>\n",
       "      <td>-35454.7</td>\n",
       "      <td>0.0</td>\n",
       "      <td>14.3855</td>\n",
       "      <td>0.0</td>\n",
       "      <td>1.0</td>\n",
       "      <td>1.0</td>\n",
       "      <td>35522.7</td>\n",
       "      <td>-1.38748</td>\n",
       "      <td>-1.38753</td>\n",
       "      <td>0.255874</td>\n",
       "      <td>...</td>\n",
       "      <td>0.256434</td>\n",
       "      <td>0.453065</td>\n",
       "      <td>0.958928</td>\n",
       "      <td>-1.59795</td>\n",
       "      <td>1.36827</td>\n",
       "      <td>-0.764239</td>\n",
       "      <td>1.19282</td>\n",
       "      <td>-1.30619</td>\n",
       "      <td>0.956796</td>\n",
       "      <td>14.4447</td>\n",
       "    </tr>\n",
       "    <tr>\n",
       "      <th>4</th>\n",
       "      <td>-35454.7</td>\n",
       "      <td>0.0</td>\n",
       "      <td>14.3855</td>\n",
       "      <td>0.0</td>\n",
       "      <td>1.0</td>\n",
       "      <td>1.0</td>\n",
       "      <td>35516.3</td>\n",
       "      <td>-1.38748</td>\n",
       "      <td>-1.38753</td>\n",
       "      <td>0.255874</td>\n",
       "      <td>...</td>\n",
       "      <td>0.256434</td>\n",
       "      <td>0.453065</td>\n",
       "      <td>0.958928</td>\n",
       "      <td>-1.59795</td>\n",
       "      <td>1.36827</td>\n",
       "      <td>-0.764239</td>\n",
       "      <td>1.19282</td>\n",
       "      <td>-1.30619</td>\n",
       "      <td>0.956796</td>\n",
       "      <td>14.4447</td>\n",
       "    </tr>\n",
       "  </tbody>\n",
       "</table>\n",
       "<p>5 rows × 2897 columns</p>\n",
       "</div>"
      ],
      "text/plain": [
       "      lp__  accept_stat__  stepsize__  treedepth__  n_leapfrog__  divergent__  \\\n",
       "0 -35454.7            0.0     14.3855          0.0           1.0          1.0   \n",
       "1 -35454.7            0.0     14.3855          0.0           1.0          1.0   \n",
       "2 -35454.7            0.0     14.3855          0.0           1.0          1.0   \n",
       "3 -35454.7            0.0     14.3855          0.0           1.0          1.0   \n",
       "4 -35454.7            0.0     14.3855          0.0           1.0          1.0   \n",
       "\n",
       "   energy__  mu_home_att  mu_away_att  mu_home_def  ...  away_def[21]  \\\n",
       "0   35520.4     -1.38748     -1.38753     0.255874  ...      0.256434   \n",
       "1   35514.3     -1.38748     -1.38753     0.255874  ...      0.256434   \n",
       "2   35511.6     -1.38748     -1.38753     0.255874  ...      0.256434   \n",
       "3   35522.7     -1.38748     -1.38753     0.255874  ...      0.256434   \n",
       "4   35516.3     -1.38748     -1.38753     0.255874  ...      0.256434   \n",
       "\n",
       "   away_def[22]  away_def[23]  away_def[24]  away_def[25]  away_def[26]  \\\n",
       "0      0.453065      0.958928      -1.59795       1.36827     -0.764239   \n",
       "1      0.453065      0.958928      -1.59795       1.36827     -0.764239   \n",
       "2      0.453065      0.958928      -1.59795       1.36827     -0.764239   \n",
       "3      0.453065      0.958928      -1.59795       1.36827     -0.764239   \n",
       "4      0.453065      0.958928      -1.59795       1.36827     -0.764239   \n",
       "\n",
       "   away_def[27]  away_def[28]  away_def[29]  away_def[30]  \n",
       "0       1.19282      -1.30619      0.956796       14.4447  \n",
       "1       1.19282      -1.30619      0.956796       14.4447  \n",
       "2       1.19282      -1.30619      0.956796       14.4447  \n",
       "3       1.19282      -1.30619      0.956796       14.4447  \n",
       "4       1.19282      -1.30619      0.956796       14.4447  \n",
       "\n",
       "[5 rows x 2897 columns]"
      ]
     },
     "execution_count": 74,
     "metadata": {},
     "output_type": "execute_result"
    }
   ],
   "source": [
    "mod_1_post = sim.draws_pd()\n",
    "mod_1_post.head()"
   ]
  },
  {
   "cell_type": "code",
   "execution_count": 75,
   "id": "9b4acaec8f9904f8",
   "metadata": {},
   "outputs": [
    {
     "name": "stderr",
     "output_type": "stream",
     "text": [
      "/tmp/ipykernel_18897/4048663389.py:5: UserWarning: \n",
      "\n",
      "The `join` parameter is deprecated and will be removed in v0.15.0. You can remove the line between points with `linestyle='none'`.\n",
      "\n",
      "  sns.pointplot(data=sim.stan_variable(param), ax=ax, join=False)\n"
     ]
    },
    {
     "data": {
      "image/png": "[encoded data removed]",
      "text/plain": [
       "<Figure size 720x576 with 1 Axes>"
      ]
     },
     "metadata": {
      "needs_background": "light"
     },
     "output_type": "display_data"
    },
    {
     "name": "stderr",
     "output_type": "stream",
     "text": [
      "/tmp/ipykernel_18897/4048663389.py:5: UserWarning: \n",
      "\n",
      "The `join` parameter is deprecated and will be removed in v0.15.0. You can remove the line between points with `linestyle='none'`.\n",
      "\n",
      "  sns.pointplot(data=sim.stan_variable(param), ax=ax, join=False)\n"
     ]
    },
    {
     "data": {
      "image/png": "[encoded data removed]",
      "text/plain": [
       "<Figure size 720x576 with 1 Axes>"
      ]
     },
     "metadata": {
      "needs_background": "light"
     },
     "output_type": "display_data"
    },
    {
     "name": "stderr",
     "output_type": "stream",
     "text": [
      "/tmp/ipykernel_18897/4048663389.py:5: UserWarning: \n",
      "\n",
      "The `join` parameter is deprecated and will be removed in v0.15.0. You can remove the line between points with `linestyle='none'`.\n",
      "\n",
      "  sns.pointplot(data=sim.stan_variable(param), ax=ax, join=False)\n"
     ]
    },
    {
     "data": {
      "image/png": "[encoded data removed]",
      "text/plain": [
       "<Figure size 720x576 with 1 Axes>"
      ]
     },
     "metadata": {
      "needs_background": "light"
     },
     "output_type": "display_data"
    },
    {
     "name": "stderr",
     "output_type": "stream",
     "text": [
      "/tmp/ipykernel_18897/4048663389.py:5: UserWarning: \n",
      "\n",
      "The `join` parameter is deprecated and will be removed in v0.15.0. You can remove the line between points with `linestyle='none'`.\n",
      "\n",
      "  sns.pointplot(data=sim.stan_variable(param), ax=ax, join=False)\n"
     ]
    },
    {
     "data": {
      "image/png": "[encoded data removed]",
      "text/plain": [
       "<Figure size 720x576 with 1 Axes>"
      ]
     },
     "metadata": {
      "needs_background": "light"
     },
     "output_type": "display_data"
    }
   ],
   "source": [
    "parameters = ['home_att', 'home_def', 'away_att', 'away_def']\n",
    "    \n",
    "for param in parameters:\n",
    "    fig, ax = plt.subplots(figsize=(10, 8))\n",
    "    sns.pointplot(data=sim.stan_variable(param), ax=ax, join=False)\n",
    "    ax.set_xticks(range(len(teams)))\n",
    "    ax.set_title(f'{param} Estimates')\n",
    "    ax.set_xlabel('Team ID')\n",
    "    plt.show()"
   ]
  },
  {
   "cell_type": "markdown",
   "id": "79ba020f",
   "metadata": {},
   "source": [
    "Predicting"
   ]
  },
  {
   "cell_type": "code",
   "execution_count": 76,
   "id": "540b7da7",
   "metadata": {},
   "outputs": [
    {
     "name": "stdout",
     "output_type": "stream",
     "text": [
      "start_time         2022-10-18 23:30:00+00:00\n",
      "away_team                 PHILADELPHIA 76ERS\n",
      "away_team_score                          117\n",
      "home_team                     BOSTON CELTICS\n",
      "home_team_score                          126\n",
      "difference                                 9\n",
      "home_team_id                              21\n",
      "away_team_id                              20\n",
      "Name: 0, dtype: object\n",
      "<class 'pandas.core.series.Series'>\n"
     ]
    },
    {
     "ename": "KeyError",
     "evalue": "'phi_home'",
     "output_type": "error",
     "traceback": [
      "\u001b[0;31m---------------------------------------------------------------------------\u001b[0m",
      "\u001b[0;31mKeyError\u001b[0m                                  Traceback (most recent call last)",
      "Input \u001b[0;32mIn [76]\u001b[0m, in \u001b[0;36m<cell line: 0>\u001b[0;34m()\u001b[0m\n\u001b[1;32m     13\u001b[0m away_att \u001b[38;5;241m=\u001b[39m param_dict[\u001b[38;5;124m'\u001b[39m\u001b[38;5;124maway_att\u001b[39m\u001b[38;5;124m'\u001b[39m][:, home_idx]\n\u001b[1;32m     14\u001b[0m away_def \u001b[38;5;241m=\u001b[39m param_dict[\u001b[38;5;124m'\u001b[39m\u001b[38;5;124maway_def\u001b[39m\u001b[38;5;124m'\u001b[39m][:, away_idx]\n\u001b[0;32m---> 15\u001b[0m size_home \u001b[38;5;241m=\u001b[39m param_dict[\u001b[38;5;124m'\u001b[39m\u001b[38;5;124mphi_home\u001b[39m\u001b[38;5;124m'\u001b[39m]\n\u001b[1;32m     16\u001b[0m size_away \u001b[38;5;241m=\u001b[39m param_dict[\u001b[38;5;124m'\u001b[39m\u001b[38;5;124mphi_away\u001b[39m\u001b[38;5;124m'\u001b[39m]\n\u001b[1;32m     18\u001b[0m \u001b[38;5;66;03m# Creating the log_mu parameters\u001b[39;00m\n",
      "\u001b[0;31mKeyError\u001b[0m: 'phi_home'"
     ]
    }
   ],
   "source": [
    "parameters = ['home_att', 'home_def', 'away_att', 'away_def']\n",
    "param_dict = {param: sim.stan_variable(param) for param in parameters}\n",
    "\n",
    "\n",
    "# Extracting the samples that we need\n",
    "for idx, row in seasons_games[pred_year].iterrows():\n",
    "    print(row)\n",
    "    print(type(row))\n",
    "    home_idx = row['home_team_id']\n",
    "    away_idx = row['away_team_id']\n",
    "    home_att = param_dict['home_att'][:, home_idx]\n",
    "    home_def = param_dict['home_def'][:, away_idx]\n",
    "    away_att = param_dict['away_att'][:, home_idx]\n",
    "    away_def = param_dict['away_def'][:, away_idx]\n",
    "    size_home = param_dict['phi_home']\n",
    "    size_away = param_dict['phi_away']\n",
    "    \n",
    "    # Creating the log_mu parameters\n",
    "    log_mu1 = home_att + away_def\n",
    "    log_mu2 = home_def + away_att\n",
    "    \n",
    "    # Simulating from a negative binomial distribution to obtain predictive distribution\n",
    "    y1 = np.array([nbinom.rvs(size=size_home[i], p=np.exp(log_mu1[i]) / (np.exp(log_mu1[i]) + size_home[i])) for i in range(samples)])\n",
    "    y2 = np.array([nbinom.rvs(size=size_away[i], p=np.exp(log_mu2[i]) / (np.exp(log_mu2[i]) + size_away[i])) for i in range(samples)])\n",
    "    \n",
    "    # predicted_scores = [np.bincount(y1, minlength=7), np.bincount(y2, minlength=7)]\n",
    "    \n",
    "    # A = np.zeros(7)\n",
    "    # B = np.zeros(7)\n",
    "    # for i in range(6):\n",
    "    #     A[i] = predicted_scores[0][i] / np.sum(predicted_scores[0])\n",
    "    #     B[i] = predicted_scores[1][i] / np.sum(predicted_scores[1])\n",
    "    \n",
    "    # A[6] = 1 - np.sum(A[:6])\n",
    "    # B[6] = 1 - np.sum(B[:6])\n",
    "    \n",
    "    # name = [\"0\", \"1\", \"2\", \"3\", \"4\", \"5\", \"6+\"]\n",
    "    # C = pd.DataFrame(index=name, columns=name)\n",
    "    \n",
    "    # for i in range(7):\n",
    "    #     for j in range(7):\n",
    "    #         C.iloc[i, j] = A[j] * B[i]\n",
    "    \n",
    "    # # Return predicted scores along with the home and away team for reference\n",
    "    # predictions = {'HomeTeam': home_team, 'AwayTeam': away_team, 'score_probabilities': C}\n",
    "    \n",
    "    outcome_probabilities = pd.DataFrame({\n",
    "            'home_team_win_prob': [np.mean(y1 > y2)],\n",
    "            'draw_prob': [np.mean(y1 == y2)],\n",
    "            'away_team_win_prob': [np.mean(y1 < y2)]\n",
    "        })"
   ]
  },
  {
   "cell_type": "code",
   "execution_count": 108,
   "id": "b6a38904",
   "metadata": {},
   "outputs": [
    {
     "name": "stdout",
     "output_type": "stream",
     "text": [
      "data {\n",
      "  int teams_number;\n",
      "  int games_number;\n",
      "  array[games_number] int home_team;\n",
      "  array[games_number] int away_team;\n",
      "  array[games_number] int<lower=0> home_score;\n",
      "  array[games_number] int<lower=0> away_score;\n",
      "}\n",
      "parameters {\n",
      "  real mu_home_att;\n",
      "  real mu_away_att;\n",
      "  real mu_home_def;\n",
      "  real mu_away_def;\n",
      "  real<lower=0> sigma2_att;\n",
      "  real<lower=0> sigma2_def;\n",
      "\n",
      "  vector[teams_number-1] home_att_raw;\n",
      "  vector[teams_number-1] away_att_raw;\n",
      "  vector[teams_number-1] home_def_raw;\n",
      "  vector[teams_number-1] away_def_raw;\n",
      "}\n",
      "transformed parameters {\n",
      "  vector[games_number] log_mu_home;\n",
      "  vector[games_number] log_mu_away;\n",
      "  vector[teams_number] home_att;\n",
      "  vector[teams_number] away_att;\n",
      "  vector[teams_number] home_def;\n",
      "  vector[teams_number] away_def;\n",
      "\n",
      "  // need to make sum(att)=sum(def)=0\n",
      "  for (k in 1:(teams_number-1)) {\n",
      "    home_att[k] = home_att_raw[k];\n",
      "    away_att[k] = away_att_raw[k];\n",
      "    home_def[k] = home_def_raw[k];\n",
      "    away_def[k] = away_att_raw[k];\n",
      "  }\n",
      "  home_att[teams_number] = -sum(home_att_raw);\n",
      "  away_att[teams_number] = -sum(away_att_raw);\n",
      "  home_def[teams_number] = -sum(home_def_raw);\n",
      "  away_def[teams_number] = -sum(away_def_raw);\n",
      "\n",
      "  // getting mu in log form\n",
      "  log_mu_home = home_att[home_team] + away_def[away_team] + log(mu_home_att);;\n",
      "  log_mu_away = away_att[away_team] + home_def[home_team] + log(mu_away_att);\n",
      "}\n",
      "model {\n",
      "  mu_home_att ~ normal(3.5, 0.5);  // Adjusted for higher scores\n",
      "  mu_away_att ~ normal(3.5, 0.5);  // Adjusted for higher scores\n",
      "  mu_home_def ~ normal(3.5, 0.5);  // Adjusted for higher scores\n",
      "  mu_away_def ~ normal(3.5, 0.5);  // Adjusted for higher scores\n",
      "  sigma2_att ~ gamma(2, 0.1);\n",
      "  sigma2_def ~ gamma(2, 0.1);\n",
      "\n",
      "  home_att_raw ~ normal(mu_home_att, sigma2_att);\n",
      "  away_att_raw ~ normal(mu_away_att, sigma2_att);\n",
      "  home_def_raw ~ normal(mu_home_def, sigma2_def);\n",
      "  away_def_raw ~ normal(mu_away_def, sigma2_def);\n",
      "\n",
      "  home_score ~ poisson_log(log_mu_home);\n",
      "  away_score ~ poisson_log(log_mu_away);\n",
      "}\n"
     ]
    }
   ],
   "source": [
    "with open('src/model/model_2.stan', 'r') as f:\n",
    "    print(f.read())"
   ]
  },
  {
   "cell_type": "code",
   "execution_count": 137,
   "id": "38f8b337",
   "metadata": {},
   "outputs": [
    {
     "name": "stderr",
     "output_type": "stream",
     "text": [
      "INFO:cmdstanpy:found newer exe file, not recompiling\n"
     ]
    },
    {
     "name": "stderr",
     "output_type": "stream",
     "text": [
      "INFO:cmdstanpy:CmdStan start processing\n",
      "chain 1 |\u001b[34m██████████\u001b[0m| 00:01 Sampling completed                       "
     ]
    },
    {
     "name": "stdout",
     "output_type": "stream",
     "text": [
      "                                                                                "
     ]
    },
    {
     "name": "stderr",
     "output_type": "stream",
     "text": [
      "\n",
      "INFO:cmdstanpy:CmdStan done processing.\n"
     ]
    },
    {
     "name": "stdout",
     "output_type": "stream",
     "text": [
      "\n"
     ]
    }
   ],
   "source": [
    "model_2 = CmdStanModel(stan_file='src/model/model_2.stan')\n",
    "samples = 1000\n",
    "sim=model_2.sample(data=inp_data,\n",
    "                     iter_sampling=samples,\n",
    "                     iter_warmup=1,\n",
    "                     chains=1,\n",
    "                     fixed_param=False,\n",
    "                     refresh=samples)"
   ]
  },
  {
   "cell_type": "code",
   "execution_count": 138,
   "id": "bea246ff",
   "metadata": {},
   "outputs": [
    {
     "data": {
      "text/html": [
       "<div>\n",
       "<style scoped>\n",
       "    .dataframe tbody tr th:only-of-type {\n",
       "        vertical-align: middle;\n",
       "    }\n",
       "\n",
       "    .dataframe tbody tr th {\n",
       "        vertical-align: top;\n",
       "    }\n",
       "\n",
       "    .dataframe thead th {\n",
       "        text-align: right;\n",
       "    }\n",
       "</style>\n",
       "<table border=\"1\" class=\"dataframe\">\n",
       "  <thead>\n",
       "    <tr style=\"text-align: right;\">\n",
       "      <th></th>\n",
       "      <th>lp__</th>\n",
       "      <th>accept_stat__</th>\n",
       "      <th>stepsize__</th>\n",
       "      <th>treedepth__</th>\n",
       "      <th>n_leapfrog__</th>\n",
       "      <th>divergent__</th>\n",
       "      <th>energy__</th>\n",
       "      <th>mu_home_att</th>\n",
       "      <th>mu_away_att</th>\n",
       "      <th>mu_home_def</th>\n",
       "      <th>...</th>\n",
       "      <th>away_def[21]</th>\n",
       "      <th>away_def[22]</th>\n",
       "      <th>away_def[23]</th>\n",
       "      <th>away_def[24]</th>\n",
       "      <th>away_def[25]</th>\n",
       "      <th>away_def[26]</th>\n",
       "      <th>away_def[27]</th>\n",
       "      <th>away_def[28]</th>\n",
       "      <th>away_def[29]</th>\n",
       "      <th>away_def[30]</th>\n",
       "    </tr>\n",
       "  </thead>\n",
       "  <tbody>\n",
       "    <tr>\n",
       "      <th>0</th>\n",
       "      <td>-165954.0</td>\n",
       "      <td>0.0</td>\n",
       "      <td>14.3855</td>\n",
       "      <td>0.0</td>\n",
       "      <td>1.0</td>\n",
       "      <td>1.0</td>\n",
       "      <td>166025.0</td>\n",
       "      <td>0.737557</td>\n",
       "      <td>0.737987</td>\n",
       "      <td>-0.432254</td>\n",
       "      <td>...</td>\n",
       "      <td>-1.43218</td>\n",
       "      <td>-0.061584</td>\n",
       "      <td>-1.19383</td>\n",
       "      <td>1.35335</td>\n",
       "      <td>0.800006</td>\n",
       "      <td>-0.375199</td>\n",
       "      <td>1.27407</td>\n",
       "      <td>0.821009</td>\n",
       "      <td>1.70782</td>\n",
       "      <td>6.74689</td>\n",
       "    </tr>\n",
       "    <tr>\n",
       "      <th>1</th>\n",
       "      <td>-165954.0</td>\n",
       "      <td>0.0</td>\n",
       "      <td>14.3855</td>\n",
       "      <td>0.0</td>\n",
       "      <td>1.0</td>\n",
       "      <td>1.0</td>\n",
       "      <td>166008.0</td>\n",
       "      <td>0.737557</td>\n",
       "      <td>0.737987</td>\n",
       "      <td>-0.432254</td>\n",
       "      <td>...</td>\n",
       "      <td>-1.43218</td>\n",
       "      <td>-0.061584</td>\n",
       "      <td>-1.19383</td>\n",
       "      <td>1.35335</td>\n",
       "      <td>0.800006</td>\n",
       "      <td>-0.375199</td>\n",
       "      <td>1.27407</td>\n",
       "      <td>0.821009</td>\n",
       "      <td>1.70782</td>\n",
       "      <td>6.74689</td>\n",
       "    </tr>\n",
       "    <tr>\n",
       "      <th>2</th>\n",
       "      <td>-165954.0</td>\n",
       "      <td>0.0</td>\n",
       "      <td>14.3855</td>\n",
       "      <td>0.0</td>\n",
       "      <td>1.0</td>\n",
       "      <td>1.0</td>\n",
       "      <td>166013.0</td>\n",
       "      <td>0.737557</td>\n",
       "      <td>0.737987</td>\n",
       "      <td>-0.432254</td>\n",
       "      <td>...</td>\n",
       "      <td>-1.43218</td>\n",
       "      <td>-0.061584</td>\n",
       "      <td>-1.19383</td>\n",
       "      <td>1.35335</td>\n",
       "      <td>0.800006</td>\n",
       "      <td>-0.375199</td>\n",
       "      <td>1.27407</td>\n",
       "      <td>0.821009</td>\n",
       "      <td>1.70782</td>\n",
       "      <td>6.74689</td>\n",
       "    </tr>\n",
       "    <tr>\n",
       "      <th>3</th>\n",
       "      <td>-165954.0</td>\n",
       "      <td>0.0</td>\n",
       "      <td>14.3855</td>\n",
       "      <td>0.0</td>\n",
       "      <td>1.0</td>\n",
       "      <td>1.0</td>\n",
       "      <td>166011.0</td>\n",
       "      <td>0.737557</td>\n",
       "      <td>0.737987</td>\n",
       "      <td>-0.432254</td>\n",
       "      <td>...</td>\n",
       "      <td>-1.43218</td>\n",
       "      <td>-0.061584</td>\n",
       "      <td>-1.19383</td>\n",
       "      <td>1.35335</td>\n",
       "      <td>0.800006</td>\n",
       "      <td>-0.375199</td>\n",
       "      <td>1.27407</td>\n",
       "      <td>0.821009</td>\n",
       "      <td>1.70782</td>\n",
       "      <td>6.74689</td>\n",
       "    </tr>\n",
       "    <tr>\n",
       "      <th>4</th>\n",
       "      <td>-165954.0</td>\n",
       "      <td>0.0</td>\n",
       "      <td>14.3855</td>\n",
       "      <td>0.0</td>\n",
       "      <td>1.0</td>\n",
       "      <td>1.0</td>\n",
       "      <td>166027.0</td>\n",
       "      <td>0.737557</td>\n",
       "      <td>0.737987</td>\n",
       "      <td>-0.432254</td>\n",
       "      <td>...</td>\n",
       "      <td>-1.43218</td>\n",
       "      <td>-0.061584</td>\n",
       "      <td>-1.19383</td>\n",
       "      <td>1.35335</td>\n",
       "      <td>0.800006</td>\n",
       "      <td>-0.375199</td>\n",
       "      <td>1.27407</td>\n",
       "      <td>0.821009</td>\n",
       "      <td>1.70782</td>\n",
       "      <td>6.74689</td>\n",
       "    </tr>\n",
       "  </tbody>\n",
       "</table>\n",
       "<p>5 rows × 2895 columns</p>\n",
       "</div>"
      ],
      "text/plain": [
       "       lp__  accept_stat__  stepsize__  treedepth__  n_leapfrog__  \\\n",
       "0 -165954.0            0.0     14.3855          0.0           1.0   \n",
       "1 -165954.0            0.0     14.3855          0.0           1.0   \n",
       "2 -165954.0            0.0     14.3855          0.0           1.0   \n",
       "3 -165954.0            0.0     14.3855          0.0           1.0   \n",
       "4 -165954.0            0.0     14.3855          0.0           1.0   \n",
       "\n",
       "   divergent__  energy__  mu_home_att  mu_away_att  mu_home_def  ...  \\\n",
       "0          1.0  166025.0     0.737557     0.737987    -0.432254  ...   \n",
       "1          1.0  166008.0     0.737557     0.737987    -0.432254  ...   \n",
       "2          1.0  166013.0     0.737557     0.737987    -0.432254  ...   \n",
       "3          1.0  166011.0     0.737557     0.737987    -0.432254  ...   \n",
       "4          1.0  166027.0     0.737557     0.737987    -0.432254  ...   \n",
       "\n",
       "   away_def[21]  away_def[22]  away_def[23]  away_def[24]  away_def[25]  \\\n",
       "0      -1.43218     -0.061584      -1.19383       1.35335      0.800006   \n",
       "1      -1.43218     -0.061584      -1.19383       1.35335      0.800006   \n",
       "2      -1.43218     -0.061584      -1.19383       1.35335      0.800006   \n",
       "3      -1.43218     -0.061584      -1.19383       1.35335      0.800006   \n",
       "4      -1.43218     -0.061584      -1.19383       1.35335      0.800006   \n",
       "\n",
       "   away_def[26]  away_def[27]  away_def[28]  away_def[29]  away_def[30]  \n",
       "0     -0.375199       1.27407      0.821009       1.70782       6.74689  \n",
       "1     -0.375199       1.27407      0.821009       1.70782       6.74689  \n",
       "2     -0.375199       1.27407      0.821009       1.70782       6.74689  \n",
       "3     -0.375199       1.27407      0.821009       1.70782       6.74689  \n",
       "4     -0.375199       1.27407      0.821009       1.70782       6.74689  \n",
       "\n",
       "[5 rows x 2895 columns]"
      ]
     },
     "execution_count": 138,
     "metadata": {},
     "output_type": "execute_result"
    }
   ],
   "source": [
    "mod_2 = sim.draws_pd()\n",
    "mod_2.head()"
   ]
  },
  {
   "cell_type": "code",
   "execution_count": 139,
   "id": "c63c85fa",
   "metadata": {},
   "outputs": [
    {
     "name": "stdout",
     "output_type": "stream",
     "text": [
      "2023\n"
     ]
    },
    {
     "name": "stderr",
     "output_type": "stream",
     "text": [
      "/tmp/ipykernel_18897/1901264299.py:5: UserWarning: \n",
      "\n",
      "The `join` parameter is deprecated and will be removed in v0.15.0. You can remove the line between points with `linestyle='none'`.\n",
      "\n",
      "  sns.pointplot(data=sim.stan_variable(param), ax=ax, join=False)\n"
     ]
    },
    {
     "data": {
      "image/png": "[encoded data removed]",
      "text/plain": [
       "<Figure size 720x576 with 1 Axes>"
      ]
     },
     "metadata": {
      "needs_background": "light"
     },
     "output_type": "display_data"
    },
    {
     "name": "stderr",
     "output_type": "stream",
     "text": [
      "/tmp/ipykernel_18897/1901264299.py:5: UserWarning: \n",
      "\n",
      "The `join` parameter is deprecated and will be removed in v0.15.0. You can remove the line between points with `linestyle='none'`.\n",
      "\n",
      "  sns.pointplot(data=sim.stan_variable(param), ax=ax, join=False)\n"
     ]
    },
    {
     "data": {
      "image/png": "[encoded data removed]",
      "text/plain": [
       "<Figure size 720x576 with 1 Axes>"
      ]
     },
     "metadata": {
      "needs_background": "light"
     },
     "output_type": "display_data"
    },
    {
     "name": "stderr",
     "output_type": "stream",
     "text": [
      "/tmp/ipykernel_18897/1901264299.py:5: UserWarning: \n",
      "\n",
      "The `join` parameter is deprecated and will be removed in v0.15.0. You can remove the line between points with `linestyle='none'`.\n",
      "\n",
      "  sns.pointplot(data=sim.stan_variable(param), ax=ax, join=False)\n"
     ]
    },
    {
     "data": {
      "image/png": "[encoded data removed]",
      "text/plain": [
       "<Figure size 720x576 with 1 Axes>"
      ]
     },
     "metadata": {
      "needs_background": "light"
     },
     "output_type": "display_data"
    },
    {
     "name": "stderr",
     "output_type": "stream",
     "text": [
      "/tmp/ipykernel_18897/1901264299.py:5: UserWarning: \n",
      "\n",
      "The `join` parameter is deprecated and will be removed in v0.15.0. You can remove the line between points with `linestyle='none'`.\n",
      "\n",
      "  sns.pointplot(data=sim.stan_variable(param), ax=ax, join=False)\n"
     ]
    },
    {
     "data": {
      "image/png": "[encoded data removed]",
      "text/plain": [
       "<Figure size 720x576 with 1 Axes>"
      ]
     },
     "metadata": {
      "needs_background": "light"
     },
     "output_type": "display_data"
    }
   ],
   "source": [
    "parameters = ['home_att', 'home_def', 'away_att', 'away_def']\n",
    "print(year)\n",
    "for param in parameters:\n",
    "    fig, ax = plt.subplots(figsize=(10, 8))\n",
    "    sns.pointplot(data=sim.stan_variable(param), ax=ax, join=False)\n",
    "    ax.set_xticks(range(len(teams)))\n",
    "    ax.set_title(f'{param} Estimates')\n",
    "    ax.set_xlabel('Team ID')\n",
    "    plt.show()"
   ]
  },
  {
   "cell_type": "code",
   "execution_count": 140,
   "id": "cd371054",
   "metadata": {},
   "outputs": [
    {
     "name": "stdout",
     "output_type": "stream",
     "text": [
      "[167 226 210 200 188 179 199 202 176 197 182 163 185 168 218 188 179 176\n",
      " 176 207 201 205 209 176 180 185 179 194 179 197 197 187 221 199 178 200\n",
      " 211 172 189 184 201 190 203 205 199 226 183 200 183 195 205 200 183 207\n",
      " 209 217 209 179 183 192 184 168 189 203 220 170 207 182 178 175 196 197\n",
      " 194 192 193 192 191 203 176 192 181 191 183 179 163 186 196 181 203 193\n",
      " 199 183 207 165 185 214 194 166 198 185 174 197 166 214 176 180 170 193\n",
      " 186 197 200 185 197 204 189 187 179 198 205 177 182 193 183 208 178 222\n",
      " 202 205 169 177 198 198 184 181 185 166 208 187 207 203 190 199 197 175\n",
      " 222 181 198 189 205 181 163 200 197 198 205 176 190 228 205 181 187 211\n",
      " 183 203 167 216 173 211 186 186 204 186 203 175 191 196 178 199 185 190\n",
      " 181 210 207 204 191 211 176 172 190 195 194 194 188 209 202 172 199 172\n",
      " 199 169 188 185 196 191 178 211 187 170 179 209 206 175 177 185 186 202\n",
      " 204 193 185 203 196 233 189 178 194 211 180 205 219 177 193 198 183 202\n",
      " 199 212 193 173 225 204 172 190 205 203 199 196 193 187 188 175 196 211\n",
      " 196 182 191 150 184 188 203 195 187 184 197 187 194 185 200 224 205 174\n",
      " 193 204 208 207 184 208 207 189 204 185 189 201 164 237 180 203 181 166\n",
      " 189 209 197 186 172 203 198 199 180 181 190 176 177 187 175 193 237 192\n",
      " 175 211 177 197 179 197 187 180 204 198 175 211 208 206 206 183 188 196\n",
      " 188 174 180 195 198 209 181 177 191 198 199 187 200 184 198 208 207 177\n",
      " 187 182 195 216 176 181 170 202 179 189 212 188 212 188 203 186 173 188\n",
      " 151 190 188 210 191 195 174 211 192 182 209 169 210 200 222 180 156 192\n",
      " 191 184 176 195 201 214 201 191 210 229 165 188 169 201 162 187 180 196\n",
      " 212 183 192 197 211 176 167 178 181 203 176 179 197 181 195 165 206 192\n",
      " 193 195 209 185 191 187 207 188 226 167 212 196 186 200 180 196 208 187\n",
      " 181 201 216 179 161 179 192 188 173 199 205 175 169 192 168 186 188 165\n",
      " 185 198 198 199 231 194 223 184 188 200 190 186 180 200 197 182 202 175\n",
      " 186 183 199 202 201 180 166 195 194 172 198 199 179 183 186 182 189 180\n",
      " 189 192 164 176 227 172 190 184 186 180 189 205 188 164 212 170 174 184\n",
      " 199 218 178 199 186 180 194 189 195 188 192 221 172 174 176 194 159 185\n",
      " 192 198 225 201 180 169 186 183 172 174 184 181 193 199 171 172 194 189\n",
      " 202 166 189 172 197 215 173 185 222 182 204 189 196 195 199 186 195 202\n",
      " 189 194 221 201 196 178 184 179 198 197 203 186 180 179 181 174 220 192\n",
      " 168 184 190 203 182 194 214 176 185 180 209 220 193 208 180 171 177 172\n",
      " 201 208 194 203 205 183 202 196 163 197 171 178 191 193 179 174 162 186\n",
      " 186 194 199 186 210 164 178 182 199 187 199 175 204 184 189 191 189 189\n",
      " 192 189 185 172 198 187 210 184 171 191 172 196 165 217 192 162 210 191\n",
      " 197 200 173 182 197 185 177 180 206 195 177 190 209 199 200 179 188 178\n",
      " 186 191 198 201 216 172 183 193 169 197 188 187 163 179 190 178 172 196\n",
      " 192 188 170 181 198 180 183 198 192 160 184 184 184 192 205 207 211 174\n",
      " 197 179 189 196 199 193 194 205 213 202 207 188 188 216 208 180 188 182\n",
      " 182 185 174 205 190 176 183 193 185 178 173 186 184 194 164 202 188 173\n",
      " 177 201 186 201 158 157 194 178 195 192 182 197 178 163 195 199 208 196\n",
      " 207 173 203 215 169 203 164 189 200 202 175 184 174 168 178 190 221 185\n",
      " 208 196 215 208 184 185 192 174 199 165 193 179 197 199 198 194 188 206\n",
      " 198 208 194 163 194 196 182 188 186 197 197 177 190 183 190 185 191 167\n",
      " 181 215 183 178 194 211 181 180 179 204 190 201 204 200 211 186 188 200\n",
      " 209 163 198 175 205 195 202 188 204 199 203 174 193 199 181 192 186 168\n",
      " 170 215 180 203 161 163 193 197 202 188 179 191 206 190 199 186 207 192\n",
      " 177 211 195 195 189 186 203 183 177 209 199 175 185 174 203 178 161 189\n",
      " 209 208 180 170 194 164 171 192 179 174 170 200 183 199 190 174 167 200\n",
      " 177 207 196 186 191 185 161 181 204 160 182 182 204 207 198 201 204 189\n",
      " 209 176 166 183 207 178 176 197 191 188 208 194 181 174 181 181 203 196\n",
      " 185 183 205 191 217 204 213 178 218 165 213 192 200 199 200 197 184 193\n",
      " 193 196 173 165 174 214 199 188 179 191 176 189 215 213 196 223 203 210\n",
      " 196 184 195 185 192 175 185 207 192 202 200 184 194 183 182 199 180 188\n",
      " 229 171 184 162 209 198 178 217 183 174]\n",
      "   home_team_win_prob  away_team_win_prob\n",
      "0                 1.0                 0.0\n",
      "[56 47 70 53 61 50 64 63 58 59 68 48 54 46 80 62 48 61 59 74 63 72 62 60\n",
      " 56 64 60 67 69 70 54 56 59 59 41 67 43 45 45 66 63 74 64 61 57 63 59 45\n",
      " 43 63 50 60 61 66 65 50 58 60 53 55 66 56 56 51 50 71 61 58 54 56 66 64\n",
      " 54 53 60 54 59 54 62 48 55 58 59 63 72 54 55 55 58 51 55 62 56 60 60 51\n",
      " 60 56 66 58 46 62 44 53 64 49 56 74 50 50 62 55 62 78 64 59 67 47 56 49\n",
      " 59 53 52 59 65 57 43 53 69 64 58 63 51 62 54 42 58 65 58 64 48 61 56 70\n",
      " 48 44 58 72 52 55 58 57 63 49 53 54 77 53 53 56 50 59 51 53 65 65 66 58\n",
      " 67 70 52 69 66 53 59 54 55 47 55 59 64 61 57 54 65 59 50 59 49 54 69 66\n",
      " 57 59 54 64 54 51 58 59 67 48 61 62 49 54 64 50 48 46 63 53 52 57 64 73\n",
      " 63 61 62 70 53 58 57 55 56 58 41 65 56 73 56 46 61 44 52 70 59 78 58 51\n",
      " 57 57 72 50 65 53 55 62 50 63 55 81 55 75 63 57 63 54 43 54 67 59 67 47\n",
      " 40 61 57 57 64 45 47 63 49 52 58 57 57 66 57 65 54 42 67 70 71 68 62 54\n",
      " 48 44 50 52 57 62 47 76 65 65 70 58 58 61 66 38 62 57 61 56 69 50 66 64\n",
      " 61 53 49 52 51 56 55 59 61 67 63 45 66 57 52 49 65 55 70 53 59 58 61 64\n",
      " 59 64 56 58 60 49 55 61 71 54 55 50 47 58 58 65 61 54 54 68 69 59 48 64\n",
      " 60 68 72 66 59 56 35 67 65 65 53 49 56 49 54 55 72 60 54 52 62 48 69 59\n",
      " 57 57 44 70 58 63 51 54 62 50 81 61 64 56 57 66 55 53 57 56 80 43 63 54\n",
      " 64 59 64 52 66 72 60 60 56 61 48 57 53 55 46 67 67 58 59 71 57 53 48 66\n",
      " 76 61 60 60 54 42 59 55 66 69 56 61 63 66 57 59 54 71 50 57 50 64 54 68\n",
      " 62 59 64 64 59 57 51 63 64 71 73 61 58 61 58 58 66 63 48 62 55 62 42 57\n",
      " 48 56 55 68 69 64 50 50 56 75 47 65 58 56 65 62 55 58 53 48 49 53 61 56\n",
      " 59 60 53 48 58 56 60 71 49 55 63 61 50 61 68 46 58 59 46 58 60 53 55 60\n",
      " 59 52 63 60 72 42 73 59 62 64 61 41 63 60 55 53 55 59 53 56 46 55 67 54\n",
      " 46 60 61 63 72 66 61 61 62 49 63 62 58 55 60 46 54 66 61 60 48 51 65 42\n",
      " 64 59 64 52 46 50 34 48 58 65 63 62 55 61 71 54 53 65 62 73 55 62 61 50\n",
      " 72 46 70 59 50 64 56 62 57 63 59 47 62 60 63 49 49 68 53 50 47 60 58 59\n",
      " 69 56 62 67 48 44 44 49 57 57 54 57 52 53 63 54 46 43 56 59 47 52 53 52\n",
      " 47 48 58 64 64 50 56 64 50 63 52 63 52 60 54 67 59 45 55 64 65 50 56 53\n",
      " 44 58 59 67 40 60 42 49 83 56 65 49 56 44 52 60 60 45 52 42 61 62 49 71\n",
      " 61 62 54 45 60 64 58 56 61 79 56 61 58 54 50 53 60 64 64 59 62 53 58 54\n",
      " 65 57 61 61 60 56 64 66 65 59 57 41 53 60 61 46 52 60 51 54 51 53 55 60\n",
      " 67 59 69 65 50 61 50 65 54 57 66 47 61 55 60 52 40 55 50 60 50 67 59 77\n",
      " 59 44 62 59 46 58 59 60 61 58 54 64 54 48 57 43 59 73 58 47 59 64 52 62\n",
      " 60 59 51 67 52 48 69 51 52 54 57 54 53 62 56 52 64 56 51 59 71 55 61 52\n",
      " 49 73 51 71 68 69 54 57 64 57 50 51 70 55 64 61 70 58 64 59 66 61 73 70\n",
      " 64 57 59 66 47 43 50 58 59 61 51 49 58 47 55 55 59 64 62 56 60 57 54 62\n",
      " 68 53 61 64 68 54 61 60 68 56 65 53 61 56 53 66 53 62 58 62 71 62 57 54\n",
      " 56 49 57 56 65 60 67 46 64 50 66 67 56 60 59 55 74 59 51 52 49 61 56 70\n",
      " 64 67 63 58 69 78 45 62 60 49 53 58 66 59 68 54 64 59 62 56 63 63 60 55\n",
      " 59 60 58 57 61 48 56 52 60 58 55 53 82 62 61 69 41 48 52 54 70 51 51 59\n",
      " 50 43 49 56 49 56 65 67 46 68 54 60 56 61 59 62 52 64 51 66 61 62 57 62\n",
      " 59 56 47 68 63 68 52 55 46 52 72 48 47 56 47 51]\n",
      "   home_team_win_prob  away_team_win_prob\n",
      "0                 0.0                 1.0\n",
      "[ 75  88  98  71  72  69  80  82  79  77  67  81  71  86  69  69  74  78\n",
      "  76  82  85  71  75  83  84  84  93  91  79  61  74  76  82  80  81  89\n",
      "  83  85  84  89  77  84  94  82  86  91  82  71  76  73  81  83  78  73\n",
      "  78 113  85  67  74  76  70  74  83  80  93  69  80  74  74  83  86  77\n",
      "  59  71  76  93  77  77  81  66  68  83  79  92  76  84  83  81  81  73\n",
      "  68  91  94  90  75  89  96  77  89  72  84  81 104  68  78  88  84  69\n",
      "  87  80  72  57  81  96  85  81  76  83  90  84  81  80  84  84  96  59\n",
      "  81  62  92  87  87  80  78  88  81  79  77  81  81  79  82  78  80  80\n",
      "  82  73  67  88  78  79  77  73  79  67  83  77  71  75  87  87  78  70\n",
      "  80  83  79  77  86  77  87  65  79  80  67  66  79  61  65  77  74  90\n",
      "  86 107  69  86  71  83  94  70  95  78  70  76  90  97  90  87  84  84\n",
      "  73  80  74  91  82  75  80  73  87  85  81 104  77  92  83  94 100  76\n",
      "  78  66  71  72  72  76  73  84  73 101  66  76  82  68  91  64  78  82\n",
      "  65 102  91  86  82  82  83  74  75  86  88  83  75  84  78  94  80  90\n",
      "  94  89  77  74  82  81  72 104  78  99  77  77  74  71  81  92  79  87\n",
      "  79  82  97  73  68  81  76  84  91  85  93  80  89 102  86  82  80  78\n",
      "  84  80  79  91  81  78  80  85  78  76  75  85  90  96 103  72  88  86\n",
      "  69  89  72  90  98  88  66  71  79  76  80  78  77  80  86  84  76  74\n",
      "  95  74  67  65  85  68  78  78  90  68 101  81  85  65  99  68  87  78\n",
      "  83  85  73  73  76  82  82  73  82  63  81  98  59  81  77  76  72  72\n",
      "  78  84  85  60  85  68  80  91  73  83  83  82  68  76  75  72  87  85\n",
      "  85  93  77  81  81  84  82  90  81  87  93  86  95 101  51  91  73  84\n",
      "  57  82  91  93  65 102  90  96  83  82  87  87  74  86  96  82  98  96\n",
      "  80  82  76  85  74  66  76  87  74  70  70  72  79  84  90  81  98  80\n",
      "  87  78  88  81  88  75  81  85  87  91  80  78  63  90  64  85  74  74\n",
      "  85  86  79  81  96  81  85  91  79  65  79  83  85  79  81  79  67 101\n",
      "  86  73  81  78  74  66  82  84  77  90  86  83  92  96  79  69  77  86\n",
      "  66  77  84  73  86  71  88  74  81  85  82  73  72  92  91  78  84  85\n",
      " 110  90  78  77  67  64  89  76  98  87  80  76  77  89  86  75  88  78\n",
      "  89  82  88  73  81  86  80  90  64  77  94  79 106  93  86 103  86  87\n",
      "  86  95  86  86  86  87  76  72  91  80  98  80  77  88  88  80  70  89\n",
      "  79  78  77  88  76  74  66  97  76  99  89  91  95  69 102  77  65  69\n",
      "  71  92  86  74  89  77  84  88  77  61  92  79  84  81  70  88  83  89\n",
      "  79  77  87  90  87  83  84  81  91  87  65  87  81  65  92  74 101  78\n",
      "  68  85  84  79  73  82  94  80  89  99  78  88  76  80  81  90  84  70\n",
      "  85  80  78  81  85  86  75  79  83  74  79  84  87  86  85  84  72  92\n",
      "  80  88  66  67  79  88  69  76  99  79  83  68  74  68  76  74  78  88\n",
      "  63  88  96  75  84  90  80  67  84  85  84  76  99  61  72  82  72  82\n",
      "  83  85  83  71  79  83  85  84  82  76  86  59  69  81  68  83  83  84\n",
      "  73  85  83  91  82  97  82  80  75  79  70  91  83  91  80  94 100  70\n",
      "  76  74  88  64  81  71  67  96  88  81  84  78  81  88  97  84 106  76\n",
      "  73  74  83  93  89  84  94  86  86  81  66  91 107  82  70  86  60  74\n",
      " 106  80  73  74  69  83  76  88  80  72  97  83  78  73  92  91  71 101\n",
      "  72  85  83  90  73  94  93  75  68  79  78  84  73  71  81  73  87  78\n",
      "  84  81  77  92  87  97  75  77  74  86  85  92  83  93  81  86  85  97\n",
      "  84  85  68  73  70  67  70  89  73  91  79  80  77  78  95  93  92  70\n",
      "  80  68  79  80  97  75  88  90  92  83 108  82  86  94  85  81 100  68\n",
      "  79  86  85  89  81  60  73  87  80  81  69  72  79  77  81  61  80  93\n",
      "  78  91  72  79  90  96  81  99  85  85  89  82  61  86  77  80  83  88\n",
      "  84  79  95  82  90  83 101  73  70  76  92  77  75 114  79  76  71  78\n",
      "  82  95  76  93  81  85  75  78  79  86  92  90  62  74  86  70  68  76\n",
      "  75  88  93  75  85  74  78  73  71  70  94  82  69  74  84  89  92  76\n",
      "  83  80  87  76  95  74  78  91  67  95  81  74  82  75  70  69  78  66\n",
      "  71  84  74  77  90  91  70  74  81  65 105  93  80  85  68  74  82  76\n",
      "  91  91  79  80  84  95  73  77  73  95  87  89  93  86  89  82  82  68\n",
      "  73 104  82  89  66  75  83  87  68  79]\n",
      "   home_team_win_prob  away_team_win_prob\n",
      "0                 0.0                 1.0\n"
     ]
    }
   ],
   "source": [
    "parameters = ['home_att', 'home_def', 'away_att', 'away_def']\n",
    "param_dict = {param: sim.stan_variable(param) for param in parameters}\n",
    "\n",
    "# Przykładowe dane do przewidywania (przykładowe ID drużyn)\n",
    "seasons_games = {\n",
    "    pred_year: pd.DataFrame({\n",
    "        'home_team_id': [0, 1, 2],  # Przykładowe ID drużyn domowych\n",
    "        'away_team_id': [1, 2, 0],   # Przykładowe ID drużyn wyjazdowych\n",
    "        'home_team_score': [115, 110, 90],\n",
    "        'away_team_score': [90, 110, 100]\n",
    "    })\n",
    "}\n",
    "\n",
    "# Przewidywanie wyników dla każdego meczu\n",
    "for idx, row in seasons_games[pred_year].iterrows():\n",
    "    home_idx = row['home_team_id']\n",
    "    away_idx = row['away_team_id']\n",
    "    home_score = row['home_team_score']\n",
    "    away_score = row['away_team_score']\n",
    "    \n",
    "    # Pobieranie odpowiednich parametrów dla drużyn\n",
    "    home_att = param_dict['home_att'][:, home_idx]\n",
    "    home_def = param_dict['home_def'][:, away_idx]\n",
    "    away_att = param_dict['away_att'][:, home_idx]\n",
    "    away_def = param_dict['away_def'][:, away_idx]\n",
    "    \n",
    "    # Tworzenie parametrów log_mu\n",
    "    log_mu1 = home_att + away_def + np.log(home_score)\n",
    "    log_mu2 = home_def + away_att + np.log(away_score)\n",
    "    \n",
    "    # Symulowanie z rozkładu Poissona dla uzyskania predyktywnej dystrybucji\n",
    "    y1 = np.array([poisson.rvs(np.exp(log_mu1[i])) for i in range(samples)])\n",
    "    y2 = np.array([poisson.rvs(np.exp(log_mu2[i])) for i in range(samples)])\n",
    "    print(y1)\n",
    "    # draw blocked\n",
    "    y1 = y1 + (y1 == y2) * np.random.choice([-1, 1], size=samples)\n",
    "    \n",
    "    # Obliczanie prawdopodobieństw wyników\n",
    "    outcome_probabilities = pd.DataFrame({\n",
    "        'home_team_win_prob': [np.mean(y1 > y2)],\n",
    "        'away_team_win_prob': [np.mean(y1 < y2)]\n",
    "    })\n",
    "    \n",
    "    print(outcome_probabilities)"
   ]
  }
 ],
 "metadata": {
  "kernelspec": {
   "display_name": "Python 3 (ipykernel)",
   "language": "python",
   "name": "python3"
  },
  "language_info": {
   "codemirror_mode": {
    "name": "ipython",
    "version": 3
   },
   "file_extension": ".py",
   "mimetype": "text/x-python",
   "name": "python",
   "nbconvert_exporter": "python",
   "pygments_lexer": "ipython3",
   "version": "3.12.2"
  }
 },
 "nbformat": 4,
 "nbformat_minor": 5
}
