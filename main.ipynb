{
 "cells": [
  {
   "metadata": {},
   "cell_type": "markdown",
   "source": "Imports",
   "id": "251631a6d8884fe0"
  },
  {
   "cell_type": "code",
   "id": "initial_id",
   "metadata": {
    "collapsed": true,
    "jupyter": {
     "is_executing": true
    }
   },
   "source": [
    "import os\n",
    "\n",
    "import pandas as pd\n",
    "import matplotlib.pyplot as plt\n",
    "import seaborn as sns\n",
    "\n",
    "from src.web_scraping.scraper import scrap_games"
   ],
   "outputs": [],
   "execution_count": null
  },
  {
   "metadata": {},
   "cell_type": "markdown",
   "source": "Input parameters for scraping",
   "id": "d30f1715ab83299d"
  },
  {
   "metadata": {
    "jupyter": {
     "is_executing": true
    }
   },
   "cell_type": "code",
   "source": "years = list(range(2020, 2022))",
   "id": "4a37932042922ee6",
   "outputs": [],
   "execution_count": null
  },
  {
   "metadata": {},
   "cell_type": "markdown",
   "source": "Scraping",
   "id": "f8cacc2b5f8f4a7e"
  },
  {
   "metadata": {
    "ExecuteTime": {
     "end_time": "2024-05-13T19:49:45.917680Z",
     "start_time": "2024-05-13T19:49:44.578414Z"
    }
   },
   "cell_type": "code",
   "source": [
    "#scraping\n",
    "scrap_games(years)"
   ],
   "id": "99b39a5d2efe26e1",
   "outputs": [
    {
     "ename": "HTTPError",
     "evalue": "429 Client Error: Too Many Requests for url: https://www.basketball-reference.com/leagues/NBA_2020_games.html",
     "output_type": "error",
     "traceback": [
      "\u001B[1;31m---------------------------------------------------------------------------\u001B[0m",
      "\u001B[1;31mHTTPError\u001B[0m                                 Traceback (most recent call last)",
      "Cell \u001B[1;32mIn[9], line 2\u001B[0m\n\u001B[0;32m      1\u001B[0m \u001B[38;5;66;03m#scraping\u001B[39;00m\n\u001B[1;32m----> 2\u001B[0m \u001B[43mscrap_games\u001B[49m\u001B[43m(\u001B[49m\u001B[43myears\u001B[49m\u001B[43m)\u001B[49m\n",
      "File \u001B[1;32m~\\Desktop\\pliki\\studia\\AiR\\sem1\\Data Analytics\\NBA_data_analytics\\src\\web_scraping\\scraper.py:9\u001B[0m, in \u001B[0;36mscrap_games\u001B[1;34m(years)\u001B[0m\n\u001B[0;32m      7\u001B[0m \u001B[38;5;28;01mdef\u001B[39;00m \u001B[38;5;21mscrap_games\u001B[39m(years: List[\u001B[38;5;28mint\u001B[39m]) \u001B[38;5;241m-\u001B[39m\u001B[38;5;241m>\u001B[39m \u001B[38;5;28;01mNone\u001B[39;00m:\n\u001B[0;32m      8\u001B[0m     \u001B[38;5;28;01mfor\u001B[39;00m year \u001B[38;5;129;01min\u001B[39;00m years:\n\u001B[1;32m----> 9\u001B[0m         \u001B[43mclient\u001B[49m\u001B[38;5;241;43m.\u001B[39;49m\u001B[43mseason_schedule\u001B[49m\u001B[43m(\u001B[49m\n\u001B[0;32m     10\u001B[0m \u001B[43m            \u001B[49m\u001B[43mseason_end_year\u001B[49m\u001B[38;5;241;43m=\u001B[39;49m\u001B[43myear\u001B[49m\u001B[43m,\u001B[49m\n\u001B[0;32m     11\u001B[0m \u001B[43m            \u001B[49m\u001B[43moutput_type\u001B[49m\u001B[38;5;241;43m=\u001B[39;49m\u001B[43mOutputType\u001B[49m\u001B[38;5;241;43m.\u001B[39;49m\u001B[43mCSV\u001B[49m\u001B[43m,\u001B[49m\n\u001B[0;32m     12\u001B[0m \u001B[43m            \u001B[49m\u001B[43moutput_file_path\u001B[49m\u001B[38;5;241;43m=\u001B[39;49m\u001B[38;5;124;43mf\u001B[39;49m\u001B[38;5;124;43m\"\u001B[39;49m\u001B[38;5;124;43msrc/data/games/\u001B[39;49m\u001B[38;5;132;43;01m{\u001B[39;49;00m\u001B[43myear\u001B[49m\u001B[38;5;241;43m-\u001B[39;49m\u001B[38;5;241;43m1\u001B[39;49m\u001B[38;5;132;43;01m}\u001B[39;49;00m\u001B[38;5;124;43m_\u001B[39;49m\u001B[38;5;132;43;01m{\u001B[39;49;00m\u001B[43myear\u001B[49m\u001B[38;5;132;43;01m}\u001B[39;49;00m\u001B[38;5;124;43m_season.csv\u001B[39;49m\u001B[38;5;124;43m\"\u001B[39;49m\n\u001B[0;32m     13\u001B[0m \u001B[43m        \u001B[49m\u001B[43m)\u001B[49m\n",
      "File \u001B[1;32m~\\Desktop\\pliki\\studia\\AiR\\sem1\\Data Analytics\\NBA_data_analytics\\.venv\\Lib\\site-packages\\basketball_reference_web_scraper\\client.py:130\u001B[0m, in \u001B[0;36mseason_schedule\u001B[1;34m(season_end_year, output_type, output_file_path, output_write_option, json_options)\u001B[0m\n\u001B[0;32m    128\u001B[0m         \u001B[38;5;28;01mraise\u001B[39;00m InvalidSeason(season_end_year\u001B[38;5;241m=\u001B[39mseason_end_year)\n\u001B[0;32m    129\u001B[0m     \u001B[38;5;28;01melse\u001B[39;00m:\n\u001B[1;32m--> 130\u001B[0m         \u001B[38;5;28;01mraise\u001B[39;00m http_error\n\u001B[0;32m    131\u001B[0m options \u001B[38;5;241m=\u001B[39m OutputOptions\u001B[38;5;241m.\u001B[39mof(\n\u001B[0;32m    132\u001B[0m     file_options\u001B[38;5;241m=\u001B[39mFileOptions\u001B[38;5;241m.\u001B[39mof(path\u001B[38;5;241m=\u001B[39moutput_file_path, mode\u001B[38;5;241m=\u001B[39moutput_write_option),\n\u001B[0;32m    133\u001B[0m     output_type\u001B[38;5;241m=\u001B[39moutput_type,\n\u001B[0;32m    134\u001B[0m     json_options\u001B[38;5;241m=\u001B[39mjson_options,\n\u001B[0;32m    135\u001B[0m     csv_options\u001B[38;5;241m=\u001B[39m{\u001B[38;5;124m\"\u001B[39m\u001B[38;5;124mcolumn_names\u001B[39m\u001B[38;5;124m\"\u001B[39m: SCHEDULE_COLUMN_NAMES}\n\u001B[0;32m    136\u001B[0m )\n\u001B[0;32m    137\u001B[0m output_service \u001B[38;5;241m=\u001B[39m OutputService(\n\u001B[0;32m    138\u001B[0m     json_writer\u001B[38;5;241m=\u001B[39mJSONWriter(value_formatter\u001B[38;5;241m=\u001B[39mBasketballReferenceJSONEncoder),\n\u001B[0;32m    139\u001B[0m     csv_writer\u001B[38;5;241m=\u001B[39mCSVWriter(value_formatter\u001B[38;5;241m=\u001B[39mformat_value)\n\u001B[0;32m    140\u001B[0m )\n",
      "File \u001B[1;32m~\\Desktop\\pliki\\studia\\AiR\\sem1\\Data Analytics\\NBA_data_analytics\\.venv\\Lib\\site-packages\\basketball_reference_web_scraper\\client.py:124\u001B[0m, in \u001B[0;36mseason_schedule\u001B[1;34m(season_end_year, output_type, output_file_path, output_write_option, json_options)\u001B[0m\n\u001B[0;32m    122\u001B[0m \u001B[38;5;28;01mtry\u001B[39;00m:\n\u001B[0;32m    123\u001B[0m     http_service \u001B[38;5;241m=\u001B[39m HTTPService(parser\u001B[38;5;241m=\u001B[39mParserService())\n\u001B[1;32m--> 124\u001B[0m     values \u001B[38;5;241m=\u001B[39m \u001B[43mhttp_service\u001B[49m\u001B[38;5;241;43m.\u001B[39;49m\u001B[43mseason_schedule\u001B[49m\u001B[43m(\u001B[49m\u001B[43mseason_end_year\u001B[49m\u001B[38;5;241;43m=\u001B[39;49m\u001B[43mseason_end_year\u001B[49m\u001B[43m)\u001B[49m\n\u001B[0;32m    125\u001B[0m \u001B[38;5;28;01mexcept\u001B[39;00m requests\u001B[38;5;241m.\u001B[39mexceptions\u001B[38;5;241m.\u001B[39mHTTPError \u001B[38;5;28;01mas\u001B[39;00m http_error:\n\u001B[0;32m    126\u001B[0m     \u001B[38;5;66;03m# https://github.com/requests/requests/blob/master/requests/status_codes.py#L58\u001B[39;00m\n\u001B[0;32m    127\u001B[0m     \u001B[38;5;28;01mif\u001B[39;00m http_error\u001B[38;5;241m.\u001B[39mresponse\u001B[38;5;241m.\u001B[39mstatus_code \u001B[38;5;241m==\u001B[39m requests\u001B[38;5;241m.\u001B[39mcodes\u001B[38;5;241m.\u001B[39mnot_found:\n",
      "File \u001B[1;32m~\\Desktop\\pliki\\studia\\AiR\\sem1\\Data Analytics\\NBA_data_analytics\\.venv\\Lib\\site-packages\\basketball_reference_web_scraper\\http_service.py:152\u001B[0m, in \u001B[0;36mHTTPService.season_schedule\u001B[1;34m(self, season_end_year)\u001B[0m\n\u001B[0;32m    145\u001B[0m url \u001B[38;5;241m=\u001B[39m \u001B[38;5;124m'\u001B[39m\u001B[38;5;132;01m{BASE_URL}\u001B[39;00m\u001B[38;5;124m/leagues/NBA_\u001B[39m\u001B[38;5;132;01m{season_end_year}\u001B[39;00m\u001B[38;5;124m_games.html\u001B[39m\u001B[38;5;124m'\u001B[39m\u001B[38;5;241m.\u001B[39mformat(\n\u001B[0;32m    146\u001B[0m     BASE_URL\u001B[38;5;241m=\u001B[39mHTTPService\u001B[38;5;241m.\u001B[39mBASE_URL,\n\u001B[0;32m    147\u001B[0m     season_end_year\u001B[38;5;241m=\u001B[39mseason_end_year\n\u001B[0;32m    148\u001B[0m )\n\u001B[0;32m    150\u001B[0m response \u001B[38;5;241m=\u001B[39m requests\u001B[38;5;241m.\u001B[39mget(url\u001B[38;5;241m=\u001B[39murl)\n\u001B[1;32m--> 152\u001B[0m \u001B[43mresponse\u001B[49m\u001B[38;5;241;43m.\u001B[39;49m\u001B[43mraise_for_status\u001B[49m\u001B[43m(\u001B[49m\u001B[43m)\u001B[49m\n\u001B[0;32m    154\u001B[0m page \u001B[38;5;241m=\u001B[39m SchedulePage(html\u001B[38;5;241m=\u001B[39mhtml\u001B[38;5;241m.\u001B[39mfromstring(html\u001B[38;5;241m=\u001B[39mresponse\u001B[38;5;241m.\u001B[39mcontent))\n\u001B[0;32m    155\u001B[0m season_schedule_values \u001B[38;5;241m=\u001B[39m \u001B[38;5;28mself\u001B[39m\u001B[38;5;241m.\u001B[39mparser\u001B[38;5;241m.\u001B[39mparse_scheduled_games(games\u001B[38;5;241m=\u001B[39mpage\u001B[38;5;241m.\u001B[39mrows)\n",
      "File \u001B[1;32m~\\Desktop\\pliki\\studia\\AiR\\sem1\\Data Analytics\\NBA_data_analytics\\.venv\\Lib\\site-packages\\requests\\models.py:1021\u001B[0m, in \u001B[0;36mResponse.raise_for_status\u001B[1;34m(self)\u001B[0m\n\u001B[0;32m   1016\u001B[0m     http_error_msg \u001B[38;5;241m=\u001B[39m (\n\u001B[0;32m   1017\u001B[0m         \u001B[38;5;124mf\u001B[39m\u001B[38;5;124m\"\u001B[39m\u001B[38;5;132;01m{\u001B[39;00m\u001B[38;5;28mself\u001B[39m\u001B[38;5;241m.\u001B[39mstatus_code\u001B[38;5;132;01m}\u001B[39;00m\u001B[38;5;124m Server Error: \u001B[39m\u001B[38;5;132;01m{\u001B[39;00mreason\u001B[38;5;132;01m}\u001B[39;00m\u001B[38;5;124m for url: \u001B[39m\u001B[38;5;132;01m{\u001B[39;00m\u001B[38;5;28mself\u001B[39m\u001B[38;5;241m.\u001B[39murl\u001B[38;5;132;01m}\u001B[39;00m\u001B[38;5;124m\"\u001B[39m\n\u001B[0;32m   1018\u001B[0m     )\n\u001B[0;32m   1020\u001B[0m \u001B[38;5;28;01mif\u001B[39;00m http_error_msg:\n\u001B[1;32m-> 1021\u001B[0m     \u001B[38;5;28;01mraise\u001B[39;00m HTTPError(http_error_msg, response\u001B[38;5;241m=\u001B[39m\u001B[38;5;28mself\u001B[39m)\n",
      "\u001B[1;31mHTTPError\u001B[0m: 429 Client Error: Too Many Requests for url: https://www.basketball-reference.com/leagues/NBA_2020_games.html"
     ]
    }
   ],
   "execution_count": 9
  },
  {
   "metadata": {},
   "cell_type": "markdown",
   "source": "Read data",
   "id": "628771dda6d37541"
  },
  {
   "metadata": {
    "ExecuteTime": {
     "end_time": "2024-05-13T19:49:59.760218Z",
     "start_time": "2024-05-13T19:49:59.719698Z"
    }
   },
   "cell_type": "code",
   "source": [
    "path = 'src/data/'\n",
    "path_games = os.path.join(path, 'games/')\n",
    "seasons_games = {}\n",
    "\n",
    "for year in years:\n",
    "    seasons_games[year] = pd.read_csv(os.path.join(path_games, f'{year-1}_{year}_season.csv'))"
   ],
   "id": "1bf6f31f0033ed5d",
   "outputs": [],
   "execution_count": 10
  },
  {
   "metadata": {},
   "cell_type": "markdown",
   "source": "Show data (first 5 rows)",
   "id": "687659439df37d92"
  },
  {
   "metadata": {
    "jupyter": {
     "is_executing": true
    }
   },
   "cell_type": "code",
   "source": [
    "for year in years:\n",
    "    seasons_games[year]['difference'] = seasons_games[year]['home_team_score'] - seasons_games[year]['away_team_score']"
   ],
   "id": "4807eb67bbade97c",
   "outputs": [],
   "execution_count": null
  },
  {
   "metadata": {},
   "cell_type": "code",
   "outputs": [],
   "execution_count": null,
   "source": "",
   "id": "44244834c1e73a1b"
  }
 ],
 "metadata": {
  "kernelspec": {
   "display_name": "Python 3",
   "language": "python",
   "name": "python3"
  },
  "language_info": {
   "codemirror_mode": {
    "name": "ipython",
    "version": 2
   },
   "file_extension": ".py",
   "mimetype": "text/x-python",
   "name": "python",
   "nbconvert_exporter": "python",
   "pygments_lexer": "ipython2",
   "version": "2.7.6"
  }
 },
 "nbformat": 4,
 "nbformat_minor": 5
}
