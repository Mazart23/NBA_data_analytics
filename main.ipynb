{
 "cells": [
  {
   "cell_type": "markdown",
   "id": "251631a6d8884fe0",
   "metadata": {},
   "source": [
    "Imports"
   ]
  },
  {
   "cell_type": "code",
   "execution_count": 95,
   "id": "initial_id",
   "metadata": {
    "collapsed": true,
    "jupyter": {
     "is_executing": true
    }
   },
   "outputs": [],
   "source": [
    "import os\n",
    "\n",
    "from cmdstanpy import CmdStanModel\n",
    "import numpy as np\n",
    "import matplotlib.pyplot as plt\n",
    "import pandas as pd\n",
    "import seaborn as sns\n",
    "from scipy.stats import nbinom, norm, poisson\n",
    "\n",
    "os.chdir('/app')\n",
    "\n",
    "from src.web_scraping.scraper import scrap_games"
   ]
  },
  {
   "cell_type": "markdown",
   "id": "d30f1715ab83299d",
   "metadata": {},
   "source": [
    "Input parameters for scraping"
   ]
  },
  {
   "cell_type": "code",
   "execution_count": 96,
   "id": "4a37932042922ee6",
   "metadata": {
    "jupyter": {
     "is_executing": true
    }
   },
   "outputs": [],
   "source": [
    "years = list(range(2022, 2024))\n",
    "train_year = years[0]\n",
    "pred_year = years[1]"
   ]
  },
  {
   "cell_type": "markdown",
   "id": "f8cacc2b5f8f4a7e",
   "metadata": {},
   "source": [
    "Scraping"
   ]
  },
  {
   "cell_type": "code",
   "execution_count": 97,
   "id": "99b39a5d2efe26e1",
   "metadata": {
    "ExecuteTime": {
     "end_time": "2024-05-13T19:49:45.917680Z",
     "start_time": "2024-05-13T19:49:44.578414Z"
    }
   },
   "outputs": [],
   "source": [
    "scrap_games(years)"
   ]
  },
  {
   "cell_type": "markdown",
   "id": "628771dda6d37541",
   "metadata": {},
   "source": [
    "Read data"
   ]
  },
  {
   "cell_type": "code",
   "execution_count": 135,
   "id": "1bf6f31f0033ed5d",
   "metadata": {
    "ExecuteTime": {
     "end_time": "2024-05-13T19:49:59.760218Z",
     "start_time": "2024-05-13T19:49:59.719698Z"
    }
   },
   "outputs": [
    {
     "name": "stdout",
     "output_type": "stream",
     "text": [
      "{2022:                      start_time              away_team  away_team_score  \\\n",
      "0     2021-10-19 23:30:00+00:00          BROOKLYN NETS              104   \n",
      "1     2021-10-20 02:00:00+00:00  GOLDEN STATE WARRIORS              121   \n",
      "2     2021-10-20 23:00:00+00:00         INDIANA PACERS              122   \n",
      "3     2021-10-20 23:00:00+00:00          CHICAGO BULLS               94   \n",
      "4     2021-10-20 23:30:00+00:00         BOSTON CELTICS              134   \n",
      "...                         ...                    ...              ...   \n",
      "1318  2022-06-06 00:00:00+00:00         BOSTON CELTICS               88   \n",
      "1319  2022-06-09 01:00:00+00:00  GOLDEN STATE WARRIORS              100   \n",
      "1320  2022-06-11 01:00:00+00:00  GOLDEN STATE WARRIORS              107   \n",
      "1321  2022-06-14 01:00:00+00:00         BOSTON CELTICS               94   \n",
      "1322  2022-06-17 01:00:00+00:00  GOLDEN STATE WARRIORS              103   \n",
      "\n",
      "                  home_team  home_team_score  \n",
      "0           MILWAUKEE BUCKS              127  \n",
      "1        LOS ANGELES LAKERS              114  \n",
      "2         CHARLOTTE HORNETS              123  \n",
      "3           DETROIT PISTONS               88  \n",
      "4           NEW YORK KNICKS              138  \n",
      "...                     ...              ...  \n",
      "1318  GOLDEN STATE WARRIORS              107  \n",
      "1319         BOSTON CELTICS              116  \n",
      "1320         BOSTON CELTICS               97  \n",
      "1321  GOLDEN STATE WARRIORS              104  \n",
      "1322         BOSTON CELTICS               90  \n",
      "\n",
      "[1323 rows x 5 columns], 2023:                      start_time           away_team  away_team_score  \\\n",
      "0     2022-10-18 23:30:00+00:00  PHILADELPHIA 76ERS              117   \n",
      "1     2022-10-19 02:00:00+00:00  LOS ANGELES LAKERS              109   \n",
      "2     2022-10-19 23:00:00+00:00       ORLANDO MAGIC              109   \n",
      "3     2022-10-19 23:00:00+00:00  WASHINGTON WIZARDS              114   \n",
      "4     2022-10-19 23:30:00+00:00       CHICAGO BULLS              116   \n",
      "...                         ...                 ...              ...   \n",
      "1315  2023-06-02 00:30:00+00:00          MIAMI HEAT               93   \n",
      "1316  2023-06-05 00:00:00+00:00          MIAMI HEAT              111   \n",
      "1317  2023-06-08 00:30:00+00:00      DENVER NUGGETS              109   \n",
      "1318  2023-06-10 00:30:00+00:00      DENVER NUGGETS              108   \n",
      "1319  2023-06-13 00:30:00+00:00          MIAMI HEAT               89   \n",
      "\n",
      "                  home_team  home_team_score  \n",
      "0            BOSTON CELTICS              126  \n",
      "1     GOLDEN STATE WARRIORS              123  \n",
      "2           DETROIT PISTONS              113  \n",
      "3            INDIANA PACERS              107  \n",
      "4                MIAMI HEAT              108  \n",
      "...                     ...              ...  \n",
      "1315         DENVER NUGGETS              104  \n",
      "1316         DENVER NUGGETS              108  \n",
      "1317             MIAMI HEAT               94  \n",
      "1318             MIAMI HEAT               95  \n",
      "1319         DENVER NUGGETS               94  \n",
      "\n",
      "[1320 rows x 5 columns]}\n"
     ]
    }
   ],
   "source": [
    "path = 'src/data/'\n",
    "path_games = os.path.join(path, 'games/')\n",
    "seasons_games = {}\n",
    "\n",
    "# prepare dataframes - drop duplicated rows and sort by date\n",
    "for year in years:\n",
    "    seasons_games[year] = pd.read_csv(os.path.join(path_games, f'{year-1}_{year}_season.csv')).drop_duplicates().sort_values(by='start_time').reset_index(drop=True)\n",
    "print(seasons_games)"
   ]
  },
  {
   "cell_type": "markdown",
   "id": "687659439df37d92",
   "metadata": {},
   "source": [
    "Edit dataframe"
   ]
  },
  {
   "cell_type": "code",
   "execution_count": 136,
   "id": "4807eb67bbade97c",
   "metadata": {
    "jupyter": {
     "is_executing": true
    }
   },
   "outputs": [
    {
     "name": "stdout",
     "output_type": "stream",
     "text": [
      "['MILWAUKEE BUCKS', 'LOS ANGELES LAKERS', 'CHARLOTTE HORNETS', 'DETROIT PISTONS', 'NEW YORK KNICKS', 'TORONTO RAPTORS', 'MEMPHIS GRIZZLIES', 'MINNESOTA TIMBERWOLVES', 'NEW ORLEANS PELICANS', 'SAN ANTONIO SPURS', 'UTAH JAZZ', 'PORTLAND TRAIL BLAZERS', 'PHOENIX SUNS', 'ATLANTA HAWKS', 'MIAMI HEAT', 'GOLDEN STATE WARRIORS', 'ORLANDO MAGIC', 'WASHINGTON WIZARDS', 'CLEVELAND CAVALIERS', 'PHILADELPHIA 76ERS', 'BOSTON CELTICS', 'HOUSTON ROCKETS', 'CHICAGO BULLS', 'DENVER NUGGETS', 'SACRAMENTO KINGS', 'INDIANA PACERS', 'LOS ANGELES CLIPPERS', 'BROOKLYN NETS', 'OKLAHOMA CITY THUNDER', 'DALLAS MAVERICKS']\n"
     ]
    }
   ],
   "source": [
    "# get unique team names\n",
    "teams = list(seasons_games[train_year]['home_team'].unique())\n",
    "print(teams)\n",
    "# map team to id\n",
    "team_to_id = {team: i + 1 for i, team in enumerate(teams)}\n",
    "\n",
    "for year in years:\n",
    "    # Add IDs of teams to be differentiate for stan\n",
    "    seasons_games[year]['home_team_id'] = seasons_games[year]['home_team'].map(team_to_id)\n",
    "    seasons_games[year]['away_team_id'] = seasons_games[year]['away_team'].map(team_to_id)\n",
    "\n",
    "    # Add difference in points between home team and away team\n",
    "    for year in years:\n",
    "        seasons_games[year]['difference'] = seasons_games[year]['home_team_score'] - seasons_games[year]['away_team_score']\n"
   ]
  },
  {
   "cell_type": "markdown",
   "id": "db981603",
   "metadata": {},
   "source": [
    "Show data (first 5 rows)"
   ]
  },
  {
   "cell_type": "code",
   "execution_count": 137,
   "id": "44244834c1e73a1b",
   "metadata": {},
   "outputs": [
    {
     "name": "stdout",
     "output_type": "stream",
     "text": [
      "                  start_time              away_team  away_team_score  \\\n",
      "0  2021-10-19 23:30:00+00:00          BROOKLYN NETS              104   \n",
      "1  2021-10-20 02:00:00+00:00  GOLDEN STATE WARRIORS              121   \n",
      "2  2021-10-20 23:00:00+00:00         INDIANA PACERS              122   \n",
      "3  2021-10-20 23:00:00+00:00          CHICAGO BULLS               94   \n",
      "4  2021-10-20 23:30:00+00:00         BOSTON CELTICS              134   \n",
      "\n",
      "            home_team  home_team_score  home_team_id  away_team_id  difference  \n",
      "0     MILWAUKEE BUCKS              127             1            28          23  \n",
      "1  LOS ANGELES LAKERS              114             2            16          -7  \n",
      "2   CHARLOTTE HORNETS              123             3            26           1  \n",
      "3     DETROIT PISTONS               88             4            23          -6  \n",
      "4     NEW YORK KNICKS              138             5            21           4  \n",
      "                  start_time           away_team  away_team_score  \\\n",
      "0  2022-10-18 23:30:00+00:00  PHILADELPHIA 76ERS              117   \n",
      "1  2022-10-19 02:00:00+00:00  LOS ANGELES LAKERS              109   \n",
      "2  2022-10-19 23:00:00+00:00       ORLANDO MAGIC              109   \n",
      "3  2022-10-19 23:00:00+00:00  WASHINGTON WIZARDS              114   \n",
      "4  2022-10-19 23:30:00+00:00       CHICAGO BULLS              116   \n",
      "\n",
      "               home_team  home_team_score  difference  home_team_id  \\\n",
      "0         BOSTON CELTICS              126           9            21   \n",
      "1  GOLDEN STATE WARRIORS              123          14            16   \n",
      "2        DETROIT PISTONS              113           4             4   \n",
      "3         INDIANA PACERS              107          -7            26   \n",
      "4             MIAMI HEAT              108          -8            15   \n",
      "\n",
      "   away_team_id  \n",
      "0            20  \n",
      "1             2  \n",
      "2            17  \n",
      "3            18  \n",
      "4            23  \n"
     ]
    }
   ],
   "source": [
    "for year in years:\n",
    "    print(seasons_games[year].head())"
   ]
  },
  {
   "cell_type": "markdown",
   "id": "57f1ce77",
   "metadata": {},
   "source": [
    "Plot data"
   ]
  },
  {
   "cell_type": "code",
   "execution_count": 138,
   "id": "4c92a902",
   "metadata": {},
   "outputs": [
    {
     "data": {
      "image/png": "[encoded data removed]",
      "text/plain": [
       "<Figure size 720x1080 with 3 Axes>"
      ]
     },
     "metadata": {
      "needs_background": "light"
     },
     "output_type": "display_data"
    }
   ],
   "source": [
    "fig, axes = plt.subplots(nrows=3, ncols=1, figsize=(10, 15))\n",
    "\n",
    "# Histogram of points scored away\n",
    "axes[0].hist(seasons_games[year]['away_team_score'], density=True, bins=10, color='blue', edgecolor='black', label='data')\n",
    "axes[0].set_title('Histogram of points scored away')\n",
    "axes[0].set_xlabel('Points')\n",
    "axes[0].set_ylabel('Density - number of games')\n",
    "\n",
    "# Histogram of points scored at home\n",
    "axes[1].hist(seasons_games[year]['home_team_score'], density=True, bins=10, color='green', edgecolor='black', label='data')\n",
    "axes[1].set_title('Histogram of points scored at home')\n",
    "axes[1].set_xlabel('Points')\n",
    "axes[1].set_ylabel('Density - number of games')\n",
    "\n",
    "# Histogram of point difference\n",
    "axes[2].hist(seasons_games[year]['difference'], density=True, bins=10, color='yellow', edgecolor='black', label='data')\n",
    "axes[2].set_title('Histogram of point difference')\n",
    "axes[2].set_xlabel('Point difference')\n",
    "axes[2].set_ylabel('Density - number of games')\n",
    "\n",
    "# Plot the negative binomial PDF on each chart\n",
    "for ax, col in zip(axes, ('away_team_score', 'home_team_score', 'difference')):\n",
    "    mean, var = np.mean(seasons_games[year][col]), np.var(seasons_games[year][col])\n",
    "    if col == 'difference':\n",
    "        std = np.sqrt(var)\n",
    "        x = np.linspace(min(seasons_games[year][col]), max(seasons_games[year][col]), 100)\n",
    "        normal_pdf = norm.pdf(x, mean, std)\n",
    "    \n",
    "        # Plot the normal PDF\n",
    "        ax.plot(x, normal_pdf, 'r-', lw=2, label='Normal fit')\n",
    "        \n",
    "        textstr = f'mean = {mean:.2f}\\nstandard deviation = {std:.2f}'\n",
    "        ax.text(0.05, 0.95, textstr, transform=ax.transAxes, fontsize=12,\n",
    "                verticalalignment='top', bbox={'boxstyle': 'round', 'facecolor': 'wheat', 'alpha': 0.5})\n",
    "    else:\n",
    "        p = mean / var\n",
    "        r = mean ** 2 / (var - mean)  # Number of failures\n",
    "        x = np.arange(min(seasons_games[year][col]), max(seasons_games[year][col]) + 1)\n",
    "        nbinom_pmf = nbinom.pmf(x, r, p)\n",
    "            \n",
    "        # Plot the negative binomial PDF\n",
    "        ax.plot(x, nbinom_pmf, 'r-', lw=2, label='Negative Binomial fit')\n",
    "        \n",
    "        textstr = f'probability of success = {p:.2f}\\nnumber of failures = {r:.2f}'\n",
    "        ax.text(0.05, 0.95, textstr, transform=ax.transAxes, fontsize=12,\n",
    "                verticalalignment='top', bbox={'boxstyle': 'round', 'facecolor': 'wheat', 'alpha': 0.5})\n",
    "    ax.legend()\n",
    "    ax.grid()\n",
    "\n",
    "plt.tight_layout()"
   ]
  },
  {
   "cell_type": "markdown",
   "id": "c42a6a74",
   "metadata": {},
   "source": [
    "Prepare input data"
   ]
  },
  {
   "cell_type": "code",
   "execution_count": 139,
   "id": "a9d4125a",
   "metadata": {},
   "outputs": [],
   "source": [
    "inp_data = {\n",
    "    'teams_number': len(teams),\n",
    "    'games_number': len(seasons_games[train_year]),\n",
    "    'home_team': seasons_games[train_year].home_team_id.to_numpy(),\n",
    "    'away_team': seasons_games[train_year].away_team_id.to_numpy(),\n",
    "    'home_score': seasons_games[train_year].home_team_score.to_numpy(),\n",
    "    'away_score': seasons_games[train_year].away_team_score.to_numpy(),\n",
    "}"
   ]
  },
  {
   "cell_type": "markdown",
   "id": "eeae9fdf",
   "metadata": {},
   "source": [
    "Modelling"
   ]
  },
  {
   "cell_type": "markdown",
   "id": "7581dada",
   "metadata": {},
   "source": [
    "Model 2 - poisson"
   ]
  },
  {
   "cell_type": "markdown",
   "id": "79ba020f",
   "metadata": {},
   "source": [
    "Predicting"
   ]
  },
  {
   "cell_type": "code",
   "execution_count": 140,
   "id": "b6a38904",
   "metadata": {},
   "outputs": [
    {
     "name": "stdout",
     "output_type": "stream",
     "text": [
      "data {\n",
      "  int teams_number;\n",
      "  int games_number;\n",
      "  array[games_number] int home_team;\n",
      "  array[games_number] int away_team;\n",
      "  array[games_number] int<lower=0> home_score;\n",
      "  array[games_number] int<lower=0> away_score;\n",
      "}\n",
      "parameters {\n",
      "  real mu_home_att;\n",
      "  real mu_away_att;\n",
      "  real mu_home_def;\n",
      "  real mu_away_def;\n",
      "  real<lower=0> sigma2_att;\n",
      "  real<lower=0> sigma2_def;\n",
      "\n",
      "  vector[teams_number-1] home_att_raw;\n",
      "  vector[teams_number-1] away_att_raw;\n",
      "  vector[teams_number-1] home_def_raw;\n",
      "  vector[teams_number-1] away_def_raw;\n",
      "}\n",
      "transformed parameters {\n",
      "  vector[games_number] log_mu_home;\n",
      "  vector[games_number] log_mu_away;\n",
      "  vector[teams_number] home_att;\n",
      "  vector[teams_number] away_att;\n",
      "  vector[teams_number] home_def;\n",
      "  vector[teams_number] away_def;\n",
      "\n",
      "  // need to make sum(att)=sum(def)=0\n",
      "  for (k in 1:(teams_number-1)) {\n",
      "    home_att[k] = home_att_raw[k];\n",
      "    away_att[k] = away_att_raw[k];\n",
      "    home_def[k] = home_def_raw[k];\n",
      "    away_def[k] = away_att_raw[k];\n",
      "  }\n",
      "  home_att[teams_number] = -sum(home_att_raw);\n",
      "  away_att[teams_number] = -sum(away_att_raw);\n",
      "  home_def[teams_number] = -sum(home_def_raw);\n",
      "  away_def[teams_number] = -sum(away_def_raw);\n",
      "\n",
      "  // getting mu in log form\n",
      "  log_mu_home = home_att[home_team] + away_def[away_team] + log(mu_home_att);\n",
      "  log_mu_away = away_att[away_team] + home_def[home_team] + log(mu_away_att);\n",
      "}\n",
      "model {\n",
      "  mu_home_att ~ normal(3.5, 0.5);  // Adjusted for higher scores\n",
      "  mu_away_att ~ normal(3.5, 0.5);  // Adjusted for higher scores\n",
      "  mu_home_def ~ normal(3.5, 0.5);  // Adjusted for higher scores\n",
      "  mu_away_def ~ normal(3.5, 0.5);  // Adjusted for higher scores\n",
      "  sigma2_att ~ gamma(2, 0.1);\n",
      "  sigma2_def ~ gamma(2, 0.1);\n",
      "\n",
      "  home_att_raw ~ normal(mu_home_att, sigma2_att);\n",
      "  away_att_raw ~ normal(mu_away_att, sigma2_att);\n",
      "  home_def_raw ~ normal(mu_home_def, sigma2_def);\n",
      "  away_def_raw ~ normal(mu_away_def, sigma2_def);\n",
      "\n",
      "  home_score ~ poisson_log(log_mu_home);\n",
      "  away_score ~ poisson_log(log_mu_away);\n",
      "}\n"
     ]
    }
   ],
   "source": [
    "with open('src/model/model_2.stan', 'r') as f:\n",
    "    print(f.read())"
   ]
  },
  {
   "cell_type": "code",
   "execution_count": 141,
   "id": "38f8b337",
   "metadata": {},
   "outputs": [
    {
     "name": "stderr",
     "output_type": "stream",
     "text": [
      "INFO:cmdstanpy:found newer exe file, not recompiling\n",
      "INFO:cmdstanpy:CmdStan start processing\n",
      "chain 1 |\u001b[34m██████████\u001b[0m| 00:01 Sampling completed                       "
     ]
    },
    {
     "name": "stdout",
     "output_type": "stream",
     "text": [
      "                                                                                "
     ]
    },
    {
     "name": "stderr",
     "output_type": "stream",
     "text": [
      "\n",
      "INFO:cmdstanpy:CmdStan done processing.\n"
     ]
    },
    {
     "name": "stdout",
     "output_type": "stream",
     "text": [
      "\n"
     ]
    }
   ],
   "source": [
    "model_2 = CmdStanModel(stan_file='src/model/model_2.stan')\n",
    "samples = 1000\n",
    "sim=model_2.sample(data=inp_data,\n",
    "                     iter_sampling=samples,\n",
    "                     iter_warmup=1,\n",
    "                     chains=1,\n",
    "                     fixed_param=False,\n",
    "                     refresh=samples)"
   ]
  },
  {
   "cell_type": "code",
   "execution_count": 142,
   "id": "bea246ff",
   "metadata": {},
   "outputs": [
    {
     "data": {
      "text/html": [
       "<div>\n",
       "<style scoped>\n",
       "    .dataframe tbody tr th:only-of-type {\n",
       "        vertical-align: middle;\n",
       "    }\n",
       "\n",
       "    .dataframe tbody tr th {\n",
       "        vertical-align: top;\n",
       "    }\n",
       "\n",
       "    .dataframe thead th {\n",
       "        text-align: right;\n",
       "    }\n",
       "</style>\n",
       "<table border=\"1\" class=\"dataframe\">\n",
       "  <thead>\n",
       "    <tr style=\"text-align: right;\">\n",
       "      <th></th>\n",
       "      <th>lp__</th>\n",
       "      <th>accept_stat__</th>\n",
       "      <th>stepsize__</th>\n",
       "      <th>treedepth__</th>\n",
       "      <th>n_leapfrog__</th>\n",
       "      <th>divergent__</th>\n",
       "      <th>energy__</th>\n",
       "      <th>mu_home_att</th>\n",
       "      <th>mu_away_att</th>\n",
       "      <th>mu_home_def</th>\n",
       "      <th>...</th>\n",
       "      <th>away_def[21]</th>\n",
       "      <th>away_def[22]</th>\n",
       "      <th>away_def[23]</th>\n",
       "      <th>away_def[24]</th>\n",
       "      <th>away_def[25]</th>\n",
       "      <th>away_def[26]</th>\n",
       "      <th>away_def[27]</th>\n",
       "      <th>away_def[28]</th>\n",
       "      <th>away_def[29]</th>\n",
       "      <th>away_def[30]</th>\n",
       "    </tr>\n",
       "  </thead>\n",
       "  <tbody>\n",
       "    <tr>\n",
       "      <th>0</th>\n",
       "      <td>-19163.0</td>\n",
       "      <td>0.0</td>\n",
       "      <td>14.3855</td>\n",
       "      <td>0.0</td>\n",
       "      <td>1.0</td>\n",
       "      <td>1.0</td>\n",
       "      <td>19231.0</td>\n",
       "      <td>1.29692</td>\n",
       "      <td>0.628161</td>\n",
       "      <td>1.36913</td>\n",
       "      <td>...</td>\n",
       "      <td>0.428577</td>\n",
       "      <td>0.059311</td>\n",
       "      <td>1.97765</td>\n",
       "      <td>0.948437</td>\n",
       "      <td>1.58217</td>\n",
       "      <td>-1.33264</td>\n",
       "      <td>0.932971</td>\n",
       "      <td>-0.248966</td>\n",
       "      <td>1.26604</td>\n",
       "      <td>-8.26429</td>\n",
       "    </tr>\n",
       "    <tr>\n",
       "      <th>1</th>\n",
       "      <td>-19163.0</td>\n",
       "      <td>0.0</td>\n",
       "      <td>14.3855</td>\n",
       "      <td>0.0</td>\n",
       "      <td>1.0</td>\n",
       "      <td>1.0</td>\n",
       "      <td>19227.0</td>\n",
       "      <td>1.29692</td>\n",
       "      <td>0.628161</td>\n",
       "      <td>1.36913</td>\n",
       "      <td>...</td>\n",
       "      <td>0.428577</td>\n",
       "      <td>0.059311</td>\n",
       "      <td>1.97765</td>\n",
       "      <td>0.948437</td>\n",
       "      <td>1.58217</td>\n",
       "      <td>-1.33264</td>\n",
       "      <td>0.932971</td>\n",
       "      <td>-0.248966</td>\n",
       "      <td>1.26604</td>\n",
       "      <td>-8.26429</td>\n",
       "    </tr>\n",
       "    <tr>\n",
       "      <th>2</th>\n",
       "      <td>-19163.0</td>\n",
       "      <td>0.0</td>\n",
       "      <td>14.3855</td>\n",
       "      <td>0.0</td>\n",
       "      <td>1.0</td>\n",
       "      <td>1.0</td>\n",
       "      <td>19220.5</td>\n",
       "      <td>1.29692</td>\n",
       "      <td>0.628161</td>\n",
       "      <td>1.36913</td>\n",
       "      <td>...</td>\n",
       "      <td>0.428577</td>\n",
       "      <td>0.059311</td>\n",
       "      <td>1.97765</td>\n",
       "      <td>0.948437</td>\n",
       "      <td>1.58217</td>\n",
       "      <td>-1.33264</td>\n",
       "      <td>0.932971</td>\n",
       "      <td>-0.248966</td>\n",
       "      <td>1.26604</td>\n",
       "      <td>-8.26429</td>\n",
       "    </tr>\n",
       "    <tr>\n",
       "      <th>3</th>\n",
       "      <td>-19163.0</td>\n",
       "      <td>0.0</td>\n",
       "      <td>14.3855</td>\n",
       "      <td>0.0</td>\n",
       "      <td>1.0</td>\n",
       "      <td>1.0</td>\n",
       "      <td>19217.0</td>\n",
       "      <td>1.29692</td>\n",
       "      <td>0.628161</td>\n",
       "      <td>1.36913</td>\n",
       "      <td>...</td>\n",
       "      <td>0.428577</td>\n",
       "      <td>0.059311</td>\n",
       "      <td>1.97765</td>\n",
       "      <td>0.948437</td>\n",
       "      <td>1.58217</td>\n",
       "      <td>-1.33264</td>\n",
       "      <td>0.932971</td>\n",
       "      <td>-0.248966</td>\n",
       "      <td>1.26604</td>\n",
       "      <td>-8.26429</td>\n",
       "    </tr>\n",
       "    <tr>\n",
       "      <th>4</th>\n",
       "      <td>-19163.0</td>\n",
       "      <td>0.0</td>\n",
       "      <td>14.3855</td>\n",
       "      <td>0.0</td>\n",
       "      <td>1.0</td>\n",
       "      <td>1.0</td>\n",
       "      <td>19220.3</td>\n",
       "      <td>1.29692</td>\n",
       "      <td>0.628161</td>\n",
       "      <td>1.36913</td>\n",
       "      <td>...</td>\n",
       "      <td>0.428577</td>\n",
       "      <td>0.059311</td>\n",
       "      <td>1.97765</td>\n",
       "      <td>0.948437</td>\n",
       "      <td>1.58217</td>\n",
       "      <td>-1.33264</td>\n",
       "      <td>0.932971</td>\n",
       "      <td>-0.248966</td>\n",
       "      <td>1.26604</td>\n",
       "      <td>-8.26429</td>\n",
       "    </tr>\n",
       "  </tbody>\n",
       "</table>\n",
       "<p>5 rows × 2895 columns</p>\n",
       "</div>"
      ],
      "text/plain": [
       "      lp__  accept_stat__  stepsize__  treedepth__  n_leapfrog__  divergent__  \\\n",
       "0 -19163.0            0.0     14.3855          0.0           1.0          1.0   \n",
       "1 -19163.0            0.0     14.3855          0.0           1.0          1.0   \n",
       "2 -19163.0            0.0     14.3855          0.0           1.0          1.0   \n",
       "3 -19163.0            0.0     14.3855          0.0           1.0          1.0   \n",
       "4 -19163.0            0.0     14.3855          0.0           1.0          1.0   \n",
       "\n",
       "   energy__  mu_home_att  mu_away_att  mu_home_def  ...  away_def[21]  \\\n",
       "0   19231.0      1.29692     0.628161      1.36913  ...      0.428577   \n",
       "1   19227.0      1.29692     0.628161      1.36913  ...      0.428577   \n",
       "2   19220.5      1.29692     0.628161      1.36913  ...      0.428577   \n",
       "3   19217.0      1.29692     0.628161      1.36913  ...      0.428577   \n",
       "4   19220.3      1.29692     0.628161      1.36913  ...      0.428577   \n",
       "\n",
       "   away_def[22]  away_def[23]  away_def[24]  away_def[25]  away_def[26]  \\\n",
       "0      0.059311       1.97765      0.948437       1.58217      -1.33264   \n",
       "1      0.059311       1.97765      0.948437       1.58217      -1.33264   \n",
       "2      0.059311       1.97765      0.948437       1.58217      -1.33264   \n",
       "3      0.059311       1.97765      0.948437       1.58217      -1.33264   \n",
       "4      0.059311       1.97765      0.948437       1.58217      -1.33264   \n",
       "\n",
       "   away_def[27]  away_def[28]  away_def[29]  away_def[30]  \n",
       "0      0.932971     -0.248966       1.26604      -8.26429  \n",
       "1      0.932971     -0.248966       1.26604      -8.26429  \n",
       "2      0.932971     -0.248966       1.26604      -8.26429  \n",
       "3      0.932971     -0.248966       1.26604      -8.26429  \n",
       "4      0.932971     -0.248966       1.26604      -8.26429  \n",
       "\n",
       "[5 rows x 2895 columns]"
      ]
     },
     "execution_count": 142,
     "metadata": {},
     "output_type": "execute_result"
    }
   ],
   "source": [
    "mod_2 = sim.draws_pd()\n",
    "mod_2.head()"
   ]
  },
  {
   "cell_type": "code",
   "execution_count": 143,
   "id": "c63c85fa",
   "metadata": {},
   "outputs": [
    {
     "name": "stdout",
     "output_type": "stream",
     "text": [
      "2023\n"
     ]
    },
    {
     "name": "stderr",
     "output_type": "stream",
     "text": [
      "/tmp/ipykernel_5265/1901264299.py:5: UserWarning: \n",
      "\n",
      "The `join` parameter is deprecated and will be removed in v0.15.0. You can remove the line between points with `linestyle='none'`.\n",
      "\n",
      "  sns.pointplot(data=sim.stan_variable(param), ax=ax, join=False)\n"
     ]
    },
    {
     "data": {
      "image/png": "[encoded data removed]",
      "text/plain": [
       "<Figure size 720x576 with 1 Axes>"
      ]
     },
     "metadata": {
      "needs_background": "light"
     },
     "output_type": "display_data"
    },
    {
     "name": "stderr",
     "output_type": "stream",
     "text": [
      "/tmp/ipykernel_5265/1901264299.py:5: UserWarning: \n",
      "\n",
      "The `join` parameter is deprecated and will be removed in v0.15.0. You can remove the line between points with `linestyle='none'`.\n",
      "\n",
      "  sns.pointplot(data=sim.stan_variable(param), ax=ax, join=False)\n"
     ]
    },
    {
     "data": {
      "image/png": "[encoded data removed]",
      "text/plain": [
       "<Figure size 720x576 with 1 Axes>"
      ]
     },
     "metadata": {
      "needs_background": "light"
     },
     "output_type": "display_data"
    },
    {
     "name": "stderr",
     "output_type": "stream",
     "text": [
      "/tmp/ipykernel_5265/1901264299.py:5: UserWarning: \n",
      "\n",
      "The `join` parameter is deprecated and will be removed in v0.15.0. You can remove the line between points with `linestyle='none'`.\n",
      "\n",
      "  sns.pointplot(data=sim.stan_variable(param), ax=ax, join=False)\n"
     ]
    },
    {
     "data": {
      "image/png": "[encoded data removed]",
      "text/plain": [
       "<Figure size 720x576 with 1 Axes>"
      ]
     },
     "metadata": {
      "needs_background": "light"
     },
     "output_type": "display_data"
    },
    {
     "name": "stderr",
     "output_type": "stream",
     "text": [
      "/tmp/ipykernel_5265/1901264299.py:5: UserWarning: \n",
      "\n",
      "The `join` parameter is deprecated and will be removed in v0.15.0. You can remove the line between points with `linestyle='none'`.\n",
      "\n",
      "  sns.pointplot(data=sim.stan_variable(param), ax=ax, join=False)\n"
     ]
    },
    {
     "data": {
      "image/png": "[encoded data removed]",
      "text/plain": [
       "<Figure size 720x576 with 1 Axes>"
      ]
     },
     "metadata": {
      "needs_background": "light"
     },
     "output_type": "display_data"
    }
   ],
   "source": [
    "parameters = ['home_att', 'home_def', 'away_att', 'away_def']\n",
    "print(year)\n",
    "for param in parameters:\n",
    "    fig, ax = plt.subplots(figsize=(10, 8))\n",
    "    sns.pointplot(data=sim.stan_variable(param), ax=ax, join=False)\n",
    "    ax.set_xticks(range(len(teams)))\n",
    "    ax.set_title(f'{param} Estimates')\n",
    "    ax.set_xlabel('Team ID')\n",
    "    plt.show()"
   ]
  },
  {
   "cell_type": "code",
   "execution_count": 147,
   "id": "cd371054",
   "metadata": {},
   "outputs": [
    {
     "name": "stdout",
     "output_type": "stream",
     "text": [
      "[176 163 182 180 175 155 190 171 181 180] [282 318 280 268 287 291 300 290 320 294]\n",
      "   home_team_win_prob  away_team_win_prob\n",
      "0                 0.0                 1.0\n",
      "[ 88  87  90  83  95  98  85  90  75 118] [34 39 42 43 47 46 54 48 42 40]\n",
      "   home_team_win_prob  away_team_win_prob\n",
      "0                 1.0                 0.0\n",
      "[20 31 32 32 31 21 27 19 22 32] [69 58 43 65 62 67 59 50 66 72]\n",
      "   home_team_win_prob  away_team_win_prob\n",
      "0                 0.0                 1.0\n",
      "[148 137 110 110 126 101 111  99 117 110] [490 455 510 502 469 490 492 448 436 477]\n",
      "   home_team_win_prob  away_team_win_prob\n",
      "0                 0.0                 1.0\n",
      "[58 72 58 62 53 62 59 66 52 74] [1703 1662 1670 1686 1706 1647 1707 1693 1657 1737]\n",
      "   home_team_win_prob  away_team_win_prob\n",
      "0                 0.0                 1.0\n",
      "[440 462 466 437 465 470 459 479 444 417] [819 841 829 806 832 822 829 789 827 828]\n",
      "   home_team_win_prob  away_team_win_prob\n",
      "0                 0.0                 1.0\n",
      "[42 46 46 53 56 56 50 41 51 48] [1333 1314 1323 1362 1320 1370 1369 1386 1474 1401]\n",
      "   home_team_win_prob  away_team_win_prob\n",
      "0                 0.0                 1.0\n",
      "[413 373 400 426 408 383 457 398 397 437] [733 724 702 689 698 720 704 734 692 755]\n",
      "   home_team_win_prob  away_team_win_prob\n",
      "0                 0.0                 1.0\n",
      "[100 111 109 112 116 123 119  96 111 106] [286 302 286 309 290 303 322 298 305 303]\n",
      "   home_team_win_prob  away_team_win_prob\n",
      "0                 0.0                 1.0\n",
      "[147 134 133 161 151 146 145 129 132 137] [660 600 709 611 674 714 647 702 696 665]\n",
      "   home_team_win_prob  away_team_win_prob\n",
      "0                 0.0                 1.0\n",
      "[100 117 104  96 119  98  97 114 127 116] [283 286 278 273 281 263 301 258 269 295]\n",
      "   home_team_win_prob  away_team_win_prob\n",
      "0                 0.0                 1.0\n",
      "[116 111 101  85 113 103  88 111 100 108] [713 717 712 711 742 742 746 781 759 780]\n",
      "   home_team_win_prob  away_team_win_prob\n",
      "0                 0.0                 1.0\n",
      "[380 419 408 439 411 446 422 404 387 450] [597 637 663 595 630 637 600 649 606 660]\n",
      "   home_team_win_prob  away_team_win_prob\n",
      "0                 0.0                 1.0\n",
      "[124  98 113 101 105 105 105 123 112 103] [713 708 703 700 656 626 695 685 691 654]\n",
      "   home_team_win_prob  away_team_win_prob\n",
      "0                 0.0                 1.0\n",
      "[322 309 328 312 349 322 341 315 345 326] [593 654 650 705 662 655 675 674 645 650]\n",
      "   home_team_win_prob  away_team_win_prob\n",
      "0                 0.0                 1.0\n",
      "[61 80 66 71 58 75 65 57 78 58] [1008 1038 1002 1030 1076  983 1001 1046 1043 1012]\n",
      "   home_team_win_prob  away_team_win_prob\n",
      "0                 0.0                 1.0\n",
      "[69 75 64 87 79 66 62 75 72 73] [1179 1247 1179 1198 1216 1257 1202 1234 1221 1246]\n",
      "   home_team_win_prob  away_team_win_prob\n",
      "0                 0.0                 1.0\n",
      "[170 184 151 199 175 172 183 184 167 158] [425 409 411 418 396 391 413 397 415 403]\n",
      "   home_team_win_prob  away_team_win_prob\n",
      "0                 0.0                 1.0\n",
      "[176 169 173 149 178 167 177 173 147 183] [378 406 398 403 418 430 396 409 456 375]\n",
      "   home_team_win_prob  away_team_win_prob\n",
      "0                 0.0                 1.0\n",
      "[65 70 62 67 67 66 47 58 87 59] [ 926  985  966 1044  959  929  958 1021 1011  916]\n",
      "   home_team_win_prob  away_team_win_prob\n",
      "0                 0.0                 1.0\n"
     ]
    }
   ],
   "source": [
    "parameters = ['home_att', 'home_def', 'away_att', 'away_def']\n",
    "param_dict = {param: sim.stan_variable(param) for param in parameters}\n",
    "\n",
    "# Przykładowe dane do przewidywania (przykładowe ID drużyn)\n",
    "\n",
    "season_games_pred1 = {2023: seasons_games[2023][-20:]}\n",
    "\n",
    "# Przewidywanie wyników dla każdego meczu\n",
    "for idx, row in season_games_pred1[pred_year].iterrows():\n",
    "    home_idx = row['home_team_id']\n",
    "    away_idx = row['away_team_id']\n",
    "    home_score = row['home_team_score']\n",
    "    away_score = row['away_team_score']\n",
    "    \n",
    "    # Pobieranie odpowiednich parametrów dla drużyn\n",
    "    home_att = param_dict['home_att'][:, home_idx-1]\n",
    "    home_def = param_dict['home_def'][:, away_idx-1]\n",
    "    away_att = param_dict['away_att'][:, home_idx-1]\n",
    "    away_def = param_dict['away_def'][:, away_idx-1]\n",
    "    \n",
    "    # Tworzenie parametrów log_mu\n",
    "    log_mu1 = home_att + away_def + np.log(home_score)\n",
    "    log_mu2 = home_def + away_att + np.log(away_score)\n",
    "    \n",
    "    # Symulowanie z rozkładu Poissona dla uzyskania predyktywnej dystrybucji\n",
    "    y1 = np.array([poisson.rvs(np.exp(log_mu1[i])) for i in range(samples)])\n",
    "    y2 = np.array([poisson.rvs(np.exp(log_mu2[i])) for i in range(samples)])\n",
    "    print(y1[0:10], y2[0:10])\n",
    "    # draw blocked\n",
    "    y1 = y1 + (y1 == y2) * np.random.choice([-1, 1], size=samples)\n",
    "    \n",
    "    # Obliczanie prawdopodobieństw wyników\n",
    "    outcome_probabilities = pd.DataFrame({\n",
    "        'home_team_win_prob': [np.mean(y1 > y2)],\n",
    "        'away_team_win_prob': [np.mean(y1 < y2)]\n",
    "    })\n",
    "    \n",
    "    print(outcome_probabilities)"
   ]
  },
  {
   "cell_type": "code",
   "execution_count": 151,
   "id": "44a3ee38",
   "metadata": {},
   "outputs": [
    {
     "data": {
      "image/png": "[encoded data removed]",
      "text/plain": [
       "<Figure size 432x288 with 1 Axes>"
      ]
     },
     "metadata": {
      "needs_background": "light"
     },
     "output_type": "display_data"
    }
   ],
   "source": [
    "sns.kdeplot(data=season_games_pred1[2023], x='home_team_score', label='real data')\n",
    "sns.kdeplot(data=y1, label='simulated samples')\n",
    "plt.legend(loc='best')\n",
    "plt.show()"
   ]
  },
  {
   "cell_type": "code",
   "execution_count": 152,
   "id": "be45f9f0",
   "metadata": {},
   "outputs": [
    {
     "data": {
      "image/png": "[encoded data removed]",
      "text/plain": [
       "<Figure size 432x288 with 1 Axes>"
      ]
     },
     "metadata": {
      "needs_background": "light"
     },
     "output_type": "display_data"
    }
   ],
   "source": [
    "sns.kdeplot(data=season_games_pred1[2023], x='away_team_score', label='real data')\n",
    "sns.kdeplot(data=y2, label='simulated samples')\n",
    "plt.legend(loc='best')\n",
    "plt.show()"
   ]
  },
  {
   "cell_type": "markdown",
   "id": "1a36368b",
   "metadata": {},
   "source": [
    "## Model 3 - poisson"
   ]
  },
  {
   "cell_type": "code",
   "execution_count": null,
   "id": "56234ea6",
   "metadata": {},
   "outputs": [
    {
     "name": "stderr",
     "output_type": "stream",
     "text": [
      "INFO:cmdstanpy:compiling stan file /app/src/model/model_3.stan to exe file /app/src/model/model_3\n",
      "INFO:cmdstanpy:compiled model executable: /app/src/model/model_3\n",
      "INFO:cmdstanpy:CmdStan start processing\n",
      "chain 1 |\u001b[34m██████████\u001b[0m| 00:01 Sampling completed                       "
     ]
    },
    {
     "name": "stdout",
     "output_type": "stream",
     "text": [
      "                                                                                "
     ]
    },
    {
     "name": "stderr",
     "output_type": "stream",
     "text": [
      "\n",
      "INFO:cmdstanpy:CmdStan done processing.\n"
     ]
    },
    {
     "name": "stdout",
     "output_type": "stream",
     "text": [
      "\n"
     ]
    }
   ],
   "source": [
    "model_3 = CmdStanModel(stan_file='src/model/model_3.stan')\n",
    "samples = 1000\n",
    "sim3=model_3.sample(data=inp_data,\n",
    "                     iter_sampling=samples,\n",
    "                     iter_warmup=1,\n",
    "                     chains=1,\n",
    "                     fixed_param=False,\n",
    "                     refresh=samples)"
   ]
  },
  {
   "cell_type": "code",
   "execution_count": null,
   "id": "0dc2b42f",
   "metadata": {},
   "outputs": [
    {
     "data": {
      "text/html": [
       "<div>\n",
       "<style scoped>\n",
       "    .dataframe tbody tr th:only-of-type {\n",
       "        vertical-align: middle;\n",
       "    }\n",
       "\n",
       "    .dataframe tbody tr th {\n",
       "        vertical-align: top;\n",
       "    }\n",
       "\n",
       "    .dataframe thead th {\n",
       "        text-align: right;\n",
       "    }\n",
       "</style>\n",
       "<table border=\"1\" class=\"dataframe\">\n",
       "  <thead>\n",
       "    <tr style=\"text-align: right;\">\n",
       "      <th></th>\n",
       "      <th>lp__</th>\n",
       "      <th>accept_stat__</th>\n",
       "      <th>stepsize__</th>\n",
       "      <th>treedepth__</th>\n",
       "      <th>n_leapfrog__</th>\n",
       "      <th>divergent__</th>\n",
       "      <th>energy__</th>\n",
       "      <th>mu_att</th>\n",
       "      <th>mu_def</th>\n",
       "      <th>sigma_att</th>\n",
       "      <th>...</th>\n",
       "      <th>log_mu_away[1314]</th>\n",
       "      <th>log_mu_away[1315]</th>\n",
       "      <th>log_mu_away[1316]</th>\n",
       "      <th>log_mu_away[1317]</th>\n",
       "      <th>log_mu_away[1318]</th>\n",
       "      <th>log_mu_away[1319]</th>\n",
       "      <th>log_mu_away[1320]</th>\n",
       "      <th>log_mu_away[1321]</th>\n",
       "      <th>log_mu_away[1322]</th>\n",
       "      <th>log_mu_away[1323]</th>\n",
       "    </tr>\n",
       "  </thead>\n",
       "  <tbody>\n",
       "    <tr>\n",
       "      <th>0</th>\n",
       "      <td>387580.0</td>\n",
       "      <td>0.0</td>\n",
       "      <td>14.3855</td>\n",
       "      <td>0.0</td>\n",
       "      <td>1.0</td>\n",
       "      <td>1.0</td>\n",
       "      <td>-387551.0</td>\n",
       "      <td>-0.683274</td>\n",
       "      <td>1.57551</td>\n",
       "      <td>0.57659</td>\n",
       "      <td>...</td>\n",
       "      <td>4.03601</td>\n",
       "      <td>0.599947</td>\n",
       "      <td>2.28196</td>\n",
       "      <td>4.03601</td>\n",
       "      <td>3.62352</td>\n",
       "      <td>3.62352</td>\n",
       "      <td>-0.608534</td>\n",
       "      <td>-0.608534</td>\n",
       "      <td>3.62352</td>\n",
       "      <td>-0.608534</td>\n",
       "    </tr>\n",
       "    <tr>\n",
       "      <th>1</th>\n",
       "      <td>387580.0</td>\n",
       "      <td>0.0</td>\n",
       "      <td>14.3855</td>\n",
       "      <td>0.0</td>\n",
       "      <td>1.0</td>\n",
       "      <td>1.0</td>\n",
       "      <td>-387547.0</td>\n",
       "      <td>-0.683274</td>\n",
       "      <td>1.57551</td>\n",
       "      <td>0.57659</td>\n",
       "      <td>...</td>\n",
       "      <td>4.03601</td>\n",
       "      <td>0.599947</td>\n",
       "      <td>2.28196</td>\n",
       "      <td>4.03601</td>\n",
       "      <td>3.62352</td>\n",
       "      <td>3.62352</td>\n",
       "      <td>-0.608534</td>\n",
       "      <td>-0.608534</td>\n",
       "      <td>3.62352</td>\n",
       "      <td>-0.608534</td>\n",
       "    </tr>\n",
       "    <tr>\n",
       "      <th>2</th>\n",
       "      <td>387580.0</td>\n",
       "      <td>0.0</td>\n",
       "      <td>14.3855</td>\n",
       "      <td>0.0</td>\n",
       "      <td>1.0</td>\n",
       "      <td>1.0</td>\n",
       "      <td>-387556.0</td>\n",
       "      <td>-0.683274</td>\n",
       "      <td>1.57551</td>\n",
       "      <td>0.57659</td>\n",
       "      <td>...</td>\n",
       "      <td>4.03601</td>\n",
       "      <td>0.599947</td>\n",
       "      <td>2.28196</td>\n",
       "      <td>4.03601</td>\n",
       "      <td>3.62352</td>\n",
       "      <td>3.62352</td>\n",
       "      <td>-0.608534</td>\n",
       "      <td>-0.608534</td>\n",
       "      <td>3.62352</td>\n",
       "      <td>-0.608534</td>\n",
       "    </tr>\n",
       "    <tr>\n",
       "      <th>3</th>\n",
       "      <td>387580.0</td>\n",
       "      <td>0.0</td>\n",
       "      <td>14.3855</td>\n",
       "      <td>0.0</td>\n",
       "      <td>1.0</td>\n",
       "      <td>1.0</td>\n",
       "      <td>-387544.0</td>\n",
       "      <td>-0.683274</td>\n",
       "      <td>1.57551</td>\n",
       "      <td>0.57659</td>\n",
       "      <td>...</td>\n",
       "      <td>4.03601</td>\n",
       "      <td>0.599947</td>\n",
       "      <td>2.28196</td>\n",
       "      <td>4.03601</td>\n",
       "      <td>3.62352</td>\n",
       "      <td>3.62352</td>\n",
       "      <td>-0.608534</td>\n",
       "      <td>-0.608534</td>\n",
       "      <td>3.62352</td>\n",
       "      <td>-0.608534</td>\n",
       "    </tr>\n",
       "    <tr>\n",
       "      <th>4</th>\n",
       "      <td>387580.0</td>\n",
       "      <td>0.0</td>\n",
       "      <td>14.3855</td>\n",
       "      <td>0.0</td>\n",
       "      <td>1.0</td>\n",
       "      <td>1.0</td>\n",
       "      <td>-387551.0</td>\n",
       "      <td>-0.683274</td>\n",
       "      <td>1.57551</td>\n",
       "      <td>0.57659</td>\n",
       "      <td>...</td>\n",
       "      <td>4.03601</td>\n",
       "      <td>0.599947</td>\n",
       "      <td>2.28196</td>\n",
       "      <td>4.03601</td>\n",
       "      <td>3.62352</td>\n",
       "      <td>3.62352</td>\n",
       "      <td>-0.608534</td>\n",
       "      <td>-0.608534</td>\n",
       "      <td>3.62352</td>\n",
       "      <td>-0.608534</td>\n",
       "    </tr>\n",
       "  </tbody>\n",
       "</table>\n",
       "<p>5 rows × 2718 columns</p>\n",
       "</div>"
      ],
      "text/plain": [
       "       lp__  accept_stat__  stepsize__  treedepth__  n_leapfrog__  \\\n",
       "0  387580.0            0.0     14.3855          0.0           1.0   \n",
       "1  387580.0            0.0     14.3855          0.0           1.0   \n",
       "2  387580.0            0.0     14.3855          0.0           1.0   \n",
       "3  387580.0            0.0     14.3855          0.0           1.0   \n",
       "4  387580.0            0.0     14.3855          0.0           1.0   \n",
       "\n",
       "   divergent__  energy__    mu_att   mu_def  sigma_att  ...  \\\n",
       "0          1.0 -387551.0 -0.683274  1.57551    0.57659  ...   \n",
       "1          1.0 -387547.0 -0.683274  1.57551    0.57659  ...   \n",
       "2          1.0 -387556.0 -0.683274  1.57551    0.57659  ...   \n",
       "3          1.0 -387544.0 -0.683274  1.57551    0.57659  ...   \n",
       "4          1.0 -387551.0 -0.683274  1.57551    0.57659  ...   \n",
       "\n",
       "   log_mu_away[1314]  log_mu_away[1315]  log_mu_away[1316]  log_mu_away[1317]  \\\n",
       "0            4.03601           0.599947            2.28196            4.03601   \n",
       "1            4.03601           0.599947            2.28196            4.03601   \n",
       "2            4.03601           0.599947            2.28196            4.03601   \n",
       "3            4.03601           0.599947            2.28196            4.03601   \n",
       "4            4.03601           0.599947            2.28196            4.03601   \n",
       "\n",
       "   log_mu_away[1318]  log_mu_away[1319]  log_mu_away[1320]  log_mu_away[1321]  \\\n",
       "0            3.62352            3.62352          -0.608534          -0.608534   \n",
       "1            3.62352            3.62352          -0.608534          -0.608534   \n",
       "2            3.62352            3.62352          -0.608534          -0.608534   \n",
       "3            3.62352            3.62352          -0.608534          -0.608534   \n",
       "4            3.62352            3.62352          -0.608534          -0.608534   \n",
       "\n",
       "   log_mu_away[1322]  log_mu_away[1323]  \n",
       "0            3.62352          -0.608534  \n",
       "1            3.62352          -0.608534  \n",
       "2            3.62352          -0.608534  \n",
       "3            3.62352          -0.608534  \n",
       "4            3.62352          -0.608534  \n",
       "\n",
       "[5 rows x 2718 columns]"
      ]
     },
     "execution_count": 116,
     "metadata": {},
     "output_type": "execute_result"
    }
   ],
   "source": [
    "mod_3 = sim3.draws_pd()\n",
    "mod_3.head()"
   ]
  },
  {
   "cell_type": "code",
   "execution_count": 153,
   "id": "1ac27892",
   "metadata": {},
   "outputs": [
    {
     "name": "stdout",
     "output_type": "stream",
     "text": [
      "[102  96 101  96  90  98 110  87 102  70] [0 0 0 0 0 1 0 0 0 1]\n",
      "Game 1301:\n",
      "   home_team_win_prob  away_team_win_prob\n",
      "0                 1.0                 0.0\n",
      "Home Team Points Distribution: 100.896 ± 10.235193403155604\n",
      "Away Team Points Distribution: 0.356 ± 0.5892910995424928\n",
      "\n",
      "[215 205 230 221 211 203 220 212 216 203] [16 14 14 11 16 14 19 13 15  9]\n",
      "Game 1302:\n",
      "   home_team_win_prob  away_team_win_prob\n",
      "0                 1.0                 0.0\n",
      "Home Team Points Distribution: 213.331 ± 13.933249405648347\n",
      "Away Team Points Distribution: 14.805 ± 3.791434425121975\n",
      "\n",
      "[438 436 444 422 396 425 407 418 412 393] [1 0 0 0 0 0 0 0 0 0]\n",
      "Game 1303:\n",
      "   home_team_win_prob  away_team_win_prob\n",
      "0                 1.0                 0.0\n",
      "Home Team Points Distribution: 411.907 ± 20.348964371682406\n",
      "Away Team Points Distribution: 0.166 ± 0.40055461550205607\n",
      "\n",
      "[86 87 93 78 76 90 79 80 88 99] [4 1 3 1 5 2 1 1 6 3]\n",
      "Game 1304:\n",
      "   home_team_win_prob  away_team_win_prob\n",
      "0                 1.0                 0.0\n",
      "Home Team Points Distribution: 88.134 ± 9.550290257369145\n",
      "Away Team Points Distribution: 2.36 ± 1.5615377036754508\n",
      "\n",
      "[15 10 13  9 13 12 13  7 10 12] [4 0 6 1 5 1 2 1 3 2]\n",
      "Game 1305:\n",
      "   home_team_win_prob  away_team_win_prob\n",
      "0                0.99                0.01\n",
      "Home Team Points Distribution: 10.218 ± 3.1359968112228684\n",
      "Away Team Points Distribution: 2.443 ± 1.6114437625930358\n",
      "\n",
      "[2321 2365 2298 2352 2367 2278 2322 2351 2360 2315] [10  9 11  5  2  6  8  9  7  8]\n",
      "Game 1306:\n",
      "   home_team_win_prob  away_team_win_prob\n",
      "0                 1.0                 0.0\n",
      "Home Team Points Distribution: 2335.404 ± 46.94056650702034\n",
      "Away Team Points Distribution: 9.617 ± 3.0744610909881427\n",
      "\n",
      "[ 9  9  5 15 10  7 17  8 10 10] [6 2 1 3 2 3 5 2 2 3]\n",
      "Game 1307:\n",
      "   home_team_win_prob  away_team_win_prob\n",
      "0               0.993               0.007\n",
      "Home Team Points Distribution: 10.276 ± 3.0387207834876833\n",
      "Away Team Points Distribution: 2.522 ± 1.5727415553739272\n",
      "\n",
      "[2396 2253 2240 2279 2317 2275 2401 2393 2342 2358] [14 10 13  7 11 16 13  7 11  7]\n",
      "Game 1308:\n",
      "   home_team_win_prob  away_team_win_prob\n",
      "0                 1.0                 0.0\n",
      "Home Team Points Distribution: 2334.181 ± 48.891515000048834\n",
      "Away Team Points Distribution: 9.697 ± 3.134516071102523\n",
      "\n",
      "[101  91  88 114  94 103  94 110 114 104] [0 0 1 0 0 0 0 0 0 0]\n",
      "Game 1309:\n",
      "   home_team_win_prob  away_team_win_prob\n",
      "0                 1.0                 0.0\n",
      "Home Team Points Distribution: 101.73 ± 10.438826562406332\n",
      "Away Team Points Distribution: 0.218 ± 0.46311553634055513\n",
      "\n",
      "[410 421 427 424 379 421 351 393 406 430] [47 52 51 59 50 46 53 38 77 55]\n",
      "Game 1310:\n",
      "   home_team_win_prob  away_team_win_prob\n",
      "0                 1.0                 0.0\n",
      "Home Team Points Distribution: 403.006 ± 20.18811442408627\n",
      "Away Team Points Distribution: 56.465 ± 7.759560232384306\n",
      "\n",
      "[ 95  94  93  98 105 123 100 108 106  92] [0 0 0 0 0 0 0 0 0 0]\n",
      "Game 1311:\n",
      "   home_team_win_prob  away_team_win_prob\n",
      "0                 1.0                 0.0\n",
      "Home Team Points Distribution: 100.931 ± 9.707638178259428\n",
      "Away Team Points Distribution: 0.229 ± 0.4925027918702593\n",
      "\n",
      "[422 448 355 365 403 354 421 401 389 408] [61 63 53 57 40 53 53 55 57 58]\n",
      "Game 1312:\n",
      "   home_team_win_prob  away_team_win_prob\n",
      "0                 1.0                 0.0\n",
      "Home Team Points Distribution: 404.541 ± 19.085762206419737\n",
      "Away Team Points Distribution: 56.466 ± 7.320440150701322\n",
      "\n",
      "[2315 2322 2329 2214 2198 2334 2415 2313 2362 2270] [12 12  8 12  9 14  8 11  5 14]\n",
      "Game 1313:\n",
      "   home_team_win_prob  away_team_win_prob\n",
      "0                 1.0                 0.0\n",
      "Home Team Points Distribution: 2334.472 ± 48.77480103496067\n",
      "Away Team Points Distribution: 9.958 ± 3.232373122026602\n",
      "\n",
      "[400 386 373 385 388 405 398 404 406 419] [55 66 56 47 50 69 61 36 55 56]\n",
      "Game 1314:\n",
      "   home_team_win_prob  away_team_win_prob\n",
      "0                 1.0                 0.0\n",
      "Home Team Points Distribution: 403.76 ± 20.681450626104546\n",
      "Away Team Points Distribution: 57.069 ± 7.66656631093738\n",
      "\n",
      "[2367 2370 2336 2321 2273 2304 2310 2372 2316 2343] [11 10  7 11 10  6  5 13  3  7]\n",
      "Game 1315:\n",
      "   home_team_win_prob  away_team_win_prob\n",
      "0                 1.0                 0.0\n",
      "Home Team Points Distribution: 2334.261 ± 48.48103628224132\n",
      "Away Team Points Distribution: 9.763 ± 3.158612195252845\n",
      "\n",
      "[81 90 95 88 78 71 77 76 66 91] [5 1 8 5 4 5 2 5 4 5]\n",
      "Game 1316:\n",
      "   home_team_win_prob  away_team_win_prob\n",
      "0                 1.0                 0.0\n",
      "Home Team Points Distribution: 80.396 ± 8.786989473078933\n",
      "Away Team Points Distribution: 3.801 ± 1.9802522566582268\n",
      "\n",
      "[70 74 95 82 91 71 93 87 59 81] [2 3 2 6 4 3 3 2 5 3]\n",
      "Game 1317:\n",
      "   home_team_win_prob  away_team_win_prob\n",
      "0                 1.0                 0.0\n",
      "Home Team Points Distribution: 80.765 ± 9.213347654354523\n",
      "Away Team Points Distribution: 3.725 ± 2.0232090845980304\n",
      "\n",
      "[181 164 150 162 136 160 166 142 156 156] [2 3 5 1 0 3 4 1 1 0]\n",
      "Game 1318:\n",
      "   home_team_win_prob  away_team_win_prob\n",
      "0                 1.0                 0.0\n",
      "Home Team Points Distribution: 152.109 ± 12.353506344354221\n",
      "Away Team Points Distribution: 1.947 ± 1.4156945291975949\n",
      "\n",
      "[147 148 141 146 157 150 168 154 160 168] [2 2 0 2 3 2 0 1 1 3]\n",
      "Game 1319:\n",
      "   home_team_win_prob  away_team_win_prob\n",
      "0                 1.0                 0.0\n",
      "Home Team Points Distribution: 152.061 ± 12.628352188626987\n",
      "Away Team Points Distribution: 1.931 ± 1.359499540272081\n",
      "\n",
      "[89 70 77 73 87 79 93 90 72 73] [8 3 0 2 2 3 3 6 4 7]\n",
      "Game 1320:\n",
      "   home_team_win_prob  away_team_win_prob\n",
      "0                 1.0                 0.0\n",
      "Home Team Points Distribution: 80.768 ± 8.732020155725706\n",
      "Away Team Points Distribution: 3.765 ± 1.9291902446363343\n",
      "\n"
     ]
    }
   ],
   "source": [
    "season_games_pred2 = {2023: seasons_games[2023][-20:]}\n",
    "\n",
    "# Number of samples for simulation\n",
    "samples = 1000\n",
    "\n",
    "# Extracting parameters from the Stan result\n",
    "parameters = ['attack', 'defense', 'home_advantage']\n",
    "param_dict = {param: sim3.stan_variable(param) for param in parameters}\n",
    "\n",
    "# Predicting results for each game\n",
    "for idx, row in season_games_pred2[pred_year].iterrows():\n",
    "    home_idx = row['home_team_id']\n",
    "    away_idx = row['away_team_id']\n",
    "    \n",
    "    # Retrieving appropriate parameters for the teams\n",
    "    home_att = param_dict['attack'][:, home_idx-1]\n",
    "    home_def = param_dict['defense'][:, home_idx-1]\n",
    "    away_att = param_dict['attack'][:, away_idx-1]\n",
    "    away_def = param_dict['defense'][:, away_idx-1]\n",
    "    home_advantage = param_dict['home_advantage']\n",
    "    \n",
    "    # Creating log_mu parameters\n",
    "    log_mu1 = home_advantage + home_att - away_def\n",
    "    log_mu2 = away_att - home_def\n",
    "    \n",
    "    # Simulating from Poisson distribution to obtain predictive distribution\n",
    "    y1 = np.array([poisson.rvs(np.exp(log_mu1[i])) for i in range(samples)])\n",
    "    y2 = np.array([poisson.rvs(np.exp(log_mu2[i])) for i in range(samples)])\n",
    "    \n",
    "    # Blocking draws\n",
    "    y1 = y1 + (y1 == y2) * np.random.choice([-1, 1], size=samples)\n",
    "    print(y1[0:10], y2[0:10])\n",
    "    # Calculating outcome probabilities\n",
    "    outcome_probabilities = pd.DataFrame({\n",
    "        'home_team_win_prob': [np.mean(y1 > y2)],\n",
    "        'away_team_win_prob': [np.mean(y1 < y2)]\n",
    "    })\n",
    "    \n",
    "    # Printing results\n",
    "    print(f\"Game {idx + 1}:\")\n",
    "    print(outcome_probabilities)\n",
    "    print(f\"Home Team Points Distribution: {np.mean(y1)} ± {np.std(y1)}\")\n",
    "    print(f\"Away Team Points Distribution: {np.mean(y2)} ± {np.std(y2)}\\n\")"
   ]
  },
  {
   "cell_type": "code",
   "execution_count": 154,
   "id": "61515653",
   "metadata": {},
   "outputs": [
    {
     "data": {
      "image/png": "[encoded data removed]",
      "text/plain": [
       "<Figure size 432x288 with 1 Axes>"
      ]
     },
     "metadata": {
      "needs_background": "light"
     },
     "output_type": "display_data"
    }
   ],
   "source": [
    "sns.kdeplot(data=season_games_pred2[2023], x='home_team_score', label='real data')\n",
    "sns.kdeplot(data=y1, label='simulated samples')\n",
    "plt.legend(loc='best')\n",
    "plt.show()"
   ]
  },
  {
   "cell_type": "code",
   "execution_count": 155,
   "id": "e53be1dd",
   "metadata": {},
   "outputs": [
    {
     "data": {
      "image/png": "[encoded data removed]",
      "text/plain": [
       "<Figure size 432x288 with 1 Axes>"
      ]
     },
     "metadata": {
      "needs_background": "light"
     },
     "output_type": "display_data"
    }
   ],
   "source": [
    "sns.kdeplot(data=season_games_pred1[2023], x='away_team_score', label='real data')\n",
    "sns.kdeplot(data=y2, label='simulated samples')\n",
    "plt.legend(loc='best')\n",
    "plt.show()"
   ]
  }
 ],
 "metadata": {
  "kernelspec": {
   "display_name": "Python 3 (ipykernel)",
   "language": "python",
   "name": "python3"
  },
  "language_info": {
   "codemirror_mode": {
    "name": "ipython",
    "version": 3
   },
   "file_extension": ".py",
   "mimetype": "text/x-python",
   "name": "python",
   "nbconvert_exporter": "python",
   "pygments_lexer": "ipython3",
   "version": "3.12.2"
  }
 },
 "nbformat": 4,
 "nbformat_minor": 5
}
