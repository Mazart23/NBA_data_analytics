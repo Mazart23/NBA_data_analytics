{
 "cells": [
  {
   "cell_type": "markdown",
   "id": "251631a6d8884fe0",
   "metadata": {},
   "source": [
    "Imports"
   ]
  },
  {
   "cell_type": "code",
   "execution_count": 1,
   "id": "initial_id",
   "metadata": {
    "collapsed": true,
    "jupyter": {
     "is_executing": true
    }
   },
   "outputs": [
    {
     "name": "stderr",
     "output_type": "stream",
     "text": [
      "/usr/local/lib/python3.12/site-packages/tqdm/auto.py:22: TqdmWarning: IProgress not found. Please update jupyter and ipywidgets. See https://ipywidgets.readthedocs.io/en/stable/user_install.html\n",
      "  from .autonotebook import tqdm as notebook_tqdm\n"
     ]
    }
   ],
   "source": [
    "import os\n",
    "\n",
    "from cmdstanpy import CmdStanModel\n",
    "import numpy as np\n",
    "import matplotlib.pyplot as plt\n",
    "import pandas as pd\n",
    "import seaborn as sns\n",
    "from scipy.stats import nbinom, norm, poisson, gamma\n",
    "import arviz as az\n",
    "\n",
    "os.chdir('/app')\n",
    "\n",
    "from src.web_scraping.scraper import scrap_games"
   ]
  },
  {
   "cell_type": "markdown",
   "id": "d30f1715ab83299d",
   "metadata": {},
   "source": [
    "Input parameters for scraping"
   ]
  },
  {
   "cell_type": "code",
   "execution_count": 2,
   "id": "4a37932042922ee6",
   "metadata": {
    "jupyter": {
     "is_executing": true
    }
   },
   "outputs": [],
   "source": [
    "years = list(range(2022, 2024))\n",
    "train_year = years[0]\n",
    "pred_year = years[1]"
   ]
  },
  {
   "cell_type": "markdown",
   "id": "f8cacc2b5f8f4a7e",
   "metadata": {},
   "source": [
    "Scraping"
   ]
  },
  {
   "cell_type": "code",
   "execution_count": 3,
   "id": "99b39a5d2efe26e1",
   "metadata": {
    "ExecuteTime": {
     "end_time": "2024-05-13T19:49:45.917680Z",
     "start_time": "2024-05-13T19:49:44.578414Z"
    }
   },
   "outputs": [],
   "source": [
    "scrap_games(years)"
   ]
  },
  {
   "cell_type": "markdown",
   "id": "628771dda6d37541",
   "metadata": {},
   "source": [
    "Read data"
   ]
  },
  {
   "cell_type": "code",
   "execution_count": 4,
   "id": "1bf6f31f0033ed5d",
   "metadata": {
    "ExecuteTime": {
     "end_time": "2024-05-13T19:49:59.760218Z",
     "start_time": "2024-05-13T19:49:59.719698Z"
    }
   },
   "outputs": [
    {
     "name": "stdout",
     "output_type": "stream",
     "text": [
      "{2022:                      start_time              away_team  away_team_score  \\\n",
      "0     2021-10-19 23:30:00+00:00          BROOKLYN NETS              104   \n",
      "1     2021-10-20 02:00:00+00:00  GOLDEN STATE WARRIORS              121   \n",
      "2     2021-10-20 23:00:00+00:00         INDIANA PACERS              122   \n",
      "3     2021-10-20 23:00:00+00:00          CHICAGO BULLS               94   \n",
      "4     2021-10-20 23:30:00+00:00         BOSTON CELTICS              134   \n",
      "...                         ...                    ...              ...   \n",
      "1318  2022-06-06 00:00:00+00:00         BOSTON CELTICS               88   \n",
      "1319  2022-06-09 01:00:00+00:00  GOLDEN STATE WARRIORS              100   \n",
      "1320  2022-06-11 01:00:00+00:00  GOLDEN STATE WARRIORS              107   \n",
      "1321  2022-06-14 01:00:00+00:00         BOSTON CELTICS               94   \n",
      "1322  2022-06-17 01:00:00+00:00  GOLDEN STATE WARRIORS              103   \n",
      "\n",
      "                  home_team  home_team_score  \n",
      "0           MILWAUKEE BUCKS              127  \n",
      "1        LOS ANGELES LAKERS              114  \n",
      "2         CHARLOTTE HORNETS              123  \n",
      "3           DETROIT PISTONS               88  \n",
      "4           NEW YORK KNICKS              138  \n",
      "...                     ...              ...  \n",
      "1318  GOLDEN STATE WARRIORS              107  \n",
      "1319         BOSTON CELTICS              116  \n",
      "1320         BOSTON CELTICS               97  \n",
      "1321  GOLDEN STATE WARRIORS              104  \n",
      "1322         BOSTON CELTICS               90  \n",
      "\n",
      "[1323 rows x 5 columns], 2023:                      start_time           away_team  away_team_score  \\\n",
      "0     2022-10-18 23:30:00+00:00  PHILADELPHIA 76ERS              117   \n",
      "1     2022-10-19 02:00:00+00:00  LOS ANGELES LAKERS              109   \n",
      "2     2022-10-19 23:00:00+00:00       ORLANDO MAGIC              109   \n",
      "3     2022-10-19 23:00:00+00:00  WASHINGTON WIZARDS              114   \n",
      "4     2022-10-19 23:30:00+00:00       CHICAGO BULLS              116   \n",
      "...                         ...                 ...              ...   \n",
      "1315  2023-06-02 00:30:00+00:00          MIAMI HEAT               93   \n",
      "1316  2023-06-05 00:00:00+00:00          MIAMI HEAT              111   \n",
      "1317  2023-06-08 00:30:00+00:00      DENVER NUGGETS              109   \n",
      "1318  2023-06-10 00:30:00+00:00      DENVER NUGGETS              108   \n",
      "1319  2023-06-13 00:30:00+00:00          MIAMI HEAT               89   \n",
      "\n",
      "                  home_team  home_team_score  \n",
      "0            BOSTON CELTICS              126  \n",
      "1     GOLDEN STATE WARRIORS              123  \n",
      "2           DETROIT PISTONS              113  \n",
      "3            INDIANA PACERS              107  \n",
      "4                MIAMI HEAT              108  \n",
      "...                     ...              ...  \n",
      "1315         DENVER NUGGETS              104  \n",
      "1316         DENVER NUGGETS              108  \n",
      "1317             MIAMI HEAT               94  \n",
      "1318             MIAMI HEAT               95  \n",
      "1319         DENVER NUGGETS               94  \n",
      "\n",
      "[1320 rows x 5 columns]}\n"
     ]
    }
   ],
   "source": [
    "path = 'src/data/'\n",
    "path_games = os.path.join(path, 'games/')\n",
    "seasons_games = {}\n",
    "\n",
    "# prepare dataframes - drop duplicated rows and sort by date\n",
    "for year in years:\n",
    "    seasons_games[year] = pd.read_csv(os.path.join(path_games, f'{year-1}_{year}_season.csv')).drop_duplicates().sort_values(by='start_time').reset_index(drop=True)\n",
    "print(seasons_games)"
   ]
  },
  {
   "cell_type": "markdown",
   "id": "687659439df37d92",
   "metadata": {},
   "source": [
    "Edit dataframe"
   ]
  },
  {
   "cell_type": "code",
   "execution_count": 5,
   "id": "4807eb67bbade97c",
   "metadata": {
    "jupyter": {
     "is_executing": true
    }
   },
   "outputs": [
    {
     "name": "stdout",
     "output_type": "stream",
     "text": [
      "['MILWAUKEE BUCKS', 'LOS ANGELES LAKERS', 'CHARLOTTE HORNETS', 'DETROIT PISTONS', 'NEW YORK KNICKS', 'TORONTO RAPTORS', 'MEMPHIS GRIZZLIES', 'MINNESOTA TIMBERWOLVES', 'NEW ORLEANS PELICANS', 'SAN ANTONIO SPURS', 'UTAH JAZZ', 'PORTLAND TRAIL BLAZERS', 'PHOENIX SUNS', 'ATLANTA HAWKS', 'MIAMI HEAT', 'GOLDEN STATE WARRIORS', 'ORLANDO MAGIC', 'WASHINGTON WIZARDS', 'CLEVELAND CAVALIERS', 'PHILADELPHIA 76ERS', 'BOSTON CELTICS', 'HOUSTON ROCKETS', 'CHICAGO BULLS', 'DENVER NUGGETS', 'SACRAMENTO KINGS', 'INDIANA PACERS', 'LOS ANGELES CLIPPERS', 'BROOKLYN NETS', 'OKLAHOMA CITY THUNDER', 'DALLAS MAVERICKS']\n"
     ]
    }
   ],
   "source": [
    "# get unique team names\n",
    "teams = list(seasons_games[train_year]['home_team'].unique())\n",
    "print(teams)\n",
    "# map team to id\n",
    "team_to_id = {team: i + 1 for i, team in enumerate(teams)}\n",
    "\n",
    "for year in years:\n",
    "    # Add IDs of teams to be differentiate for stan\n",
    "    seasons_games[year]['home_team_id'] = seasons_games[year]['home_team'].map(team_to_id)\n",
    "    seasons_games[year]['away_team_id'] = seasons_games[year]['away_team'].map(team_to_id)\n",
    "\n",
    "    # Add difference in points between home team and away team\n",
    "    for year in years:\n",
    "        seasons_games[year]['difference'] = seasons_games[year]['home_team_score'] - seasons_games[year]['away_team_score']\n"
   ]
  },
  {
   "cell_type": "markdown",
   "id": "db981603",
   "metadata": {},
   "source": [
    "Show data (first 5 rows)"
   ]
  },
  {
   "cell_type": "code",
   "execution_count": 6,
   "id": "44244834c1e73a1b",
   "metadata": {},
   "outputs": [
    {
     "name": "stdout",
     "output_type": "stream",
     "text": [
      "                  start_time              away_team  away_team_score  \\\n",
      "0  2021-10-19 23:30:00+00:00          BROOKLYN NETS              104   \n",
      "1  2021-10-20 02:00:00+00:00  GOLDEN STATE WARRIORS              121   \n",
      "2  2021-10-20 23:00:00+00:00         INDIANA PACERS              122   \n",
      "3  2021-10-20 23:00:00+00:00          CHICAGO BULLS               94   \n",
      "4  2021-10-20 23:30:00+00:00         BOSTON CELTICS              134   \n",
      "\n",
      "            home_team  home_team_score  home_team_id  away_team_id  difference  \n",
      "0     MILWAUKEE BUCKS              127             1            28          23  \n",
      "1  LOS ANGELES LAKERS              114             2            16          -7  \n",
      "2   CHARLOTTE HORNETS              123             3            26           1  \n",
      "3     DETROIT PISTONS               88             4            23          -6  \n",
      "4     NEW YORK KNICKS              138             5            21           4  \n",
      "                  start_time           away_team  away_team_score  \\\n",
      "0  2022-10-18 23:30:00+00:00  PHILADELPHIA 76ERS              117   \n",
      "1  2022-10-19 02:00:00+00:00  LOS ANGELES LAKERS              109   \n",
      "2  2022-10-19 23:00:00+00:00       ORLANDO MAGIC              109   \n",
      "3  2022-10-19 23:00:00+00:00  WASHINGTON WIZARDS              114   \n",
      "4  2022-10-19 23:30:00+00:00       CHICAGO BULLS              116   \n",
      "\n",
      "               home_team  home_team_score  difference  home_team_id  \\\n",
      "0         BOSTON CELTICS              126           9            21   \n",
      "1  GOLDEN STATE WARRIORS              123          14            16   \n",
      "2        DETROIT PISTONS              113           4             4   \n",
      "3         INDIANA PACERS              107          -7            26   \n",
      "4             MIAMI HEAT              108          -8            15   \n",
      "\n",
      "   away_team_id  \n",
      "0            20  \n",
      "1             2  \n",
      "2            17  \n",
      "3            18  \n",
      "4            23  \n"
     ]
    }
   ],
   "source": [
    "for year in years:\n",
    "    print(seasons_games[year].head())"
   ]
  },
  {
   "cell_type": "markdown",
   "id": "57f1ce77",
   "metadata": {},
   "source": [
    "Plot data"
   ]
  },
  {
   "cell_type": "code",
   "execution_count": 7,
   "id": "4c92a902",
   "metadata": {},
   "outputs": [
    {
     "data": {
      "image/png": "[encoded data removed]",
      "text/plain": [
       "<Figure size 720x1080 with 3 Axes>"
      ]
     },
     "metadata": {
      "needs_background": "light"
     },
     "output_type": "display_data"
    }
   ],
   "source": [
    "fig, axes = plt.subplots(nrows=3, ncols=1, figsize=(10, 15))\n",
    "\n",
    "# Histogram of points scored away\n",
    "axes[0].hist(seasons_games[year]['away_team_score'], density=True, bins=10, color='blue', edgecolor='black', label='data')\n",
    "axes[0].set_title('Histogram of points scored away')\n",
    "axes[0].set_xlabel('Points')\n",
    "axes[0].set_ylabel('Density - number of games')\n",
    "\n",
    "# Histogram of points scored at home\n",
    "axes[1].hist(seasons_games[year]['home_team_score'], density=True, bins=10, color='green', edgecolor='black', label='data')\n",
    "axes[1].set_title('Histogram of points scored at home')\n",
    "axes[1].set_xlabel('Points')\n",
    "axes[1].set_ylabel('Density - number of games')\n",
    "\n",
    "# Histogram of point difference\n",
    "axes[2].hist(seasons_games[year]['difference'], density=True, bins=10, color='yellow', edgecolor='black', label='data')\n",
    "axes[2].set_title('Histogram of point difference')\n",
    "axes[2].set_xlabel('Point difference')\n",
    "axes[2].set_ylabel('Density - number of games')\n",
    "\n",
    "# Plot the negative binomial PDF on each chart\n",
    "for ax, col in zip(axes, ('away_team_score', 'home_team_score', 'difference')):\n",
    "    mean, var = np.mean(seasons_games[year][col]), np.var(seasons_games[year][col])\n",
    "    if col == 'difference':\n",
    "        std = np.sqrt(var)\n",
    "        x = np.linspace(min(seasons_games[year][col]), max(seasons_games[year][col]), 100)\n",
    "        normal_pdf = norm.pdf(x, mean, std)\n",
    "    \n",
    "        # Plot the normal PDF\n",
    "        ax.plot(x, normal_pdf, 'r-', lw=2, label='Normal fit')\n",
    "        \n",
    "        textstr = f'mean = {mean:.2f}\\nstandard deviation = {std:.2f}'\n",
    "        ax.text(0.05, 0.95, textstr, transform=ax.transAxes, fontsize=12,\n",
    "                verticalalignment='top', bbox={'boxstyle': 'round', 'facecolor': 'wheat', 'alpha': 0.5})\n",
    "    else:\n",
    "        p = mean / var\n",
    "        r = mean ** 2 / (var - mean)  # Number of failures\n",
    "        x = np.arange(min(seasons_games[year][col]), max(seasons_games[year][col]) + 1)\n",
    "        nbinom_pmf = nbinom.pmf(x, r, p)\n",
    "            \n",
    "        # Plot the negative binomial PDF\n",
    "        ax.plot(x, nbinom_pmf, 'r-', lw=2, label='Negative Binomial fit')\n",
    "        \n",
    "        textstr = f'probability of success = {p:.2f}\\nnumber of failures = {r:.2f}'\n",
    "        ax.text(0.05, 0.95, textstr, transform=ax.transAxes, fontsize=12,\n",
    "                verticalalignment='top', bbox={'boxstyle': 'round', 'facecolor': 'wheat', 'alpha': 0.5})\n",
    "    ax.legend()\n",
    "    ax.grid()\n",
    "\n",
    "plt.tight_layout()"
   ]
  },
  {
   "cell_type": "markdown",
   "id": "c42a6a74",
   "metadata": {},
   "source": [
    "Prepare input data"
   ]
  },
  {
   "cell_type": "code",
   "execution_count": 8,
   "id": "a9d4125a",
   "metadata": {},
   "outputs": [],
   "source": [
    "inp_data = {\n",
    "    'teams_number': len(teams),\n",
    "    'games_number': len(seasons_games[train_year]),\n",
    "    'home_team': seasons_games[train_year].home_team_id.to_numpy(),\n",
    "    'away_team': seasons_games[train_year].away_team_id.to_numpy(),\n",
    "    'home_score': seasons_games[train_year].home_team_score.to_numpy(),\n",
    "    'away_score': seasons_games[train_year].away_team_score.to_numpy(),\n",
    "}"
   ]
  },
  {
   "cell_type": "markdown",
   "id": "eeae9fdf",
   "metadata": {},
   "source": [
    "Modelling"
   ]
  },
  {
   "cell_type": "markdown",
   "id": "7581dada",
   "metadata": {},
   "source": [
    "## Model 1 - poisson"
   ]
  },
  {
   "cell_type": "markdown",
   "id": "58652375",
   "metadata": {},
   "source": [
    "### Prior"
   ]
  },
  {
   "cell_type": "code",
   "execution_count": 9,
   "id": "ecc5295c",
   "metadata": {},
   "outputs": [
    {
     "name": "stderr",
     "output_type": "stream",
     "text": [
      "INFO:cmdstanpy:found newer exe file, not recompiling\n",
      "INFO:cmdstanpy:CmdStan start processing\n",
      "chain 1 |\u001b[33m          \u001b[0m| 00:00 Status\n",
      "\u001b[A\n",
      "\n",
      "chain 1 |\u001b[34m██████████\u001b[0m| 00:00 Sampling completed\n",
      "chain 2 |\u001b[34m██████████\u001b[0m| 00:00 Sampling completed\n",
      "chain 3 |\u001b[34m██████████\u001b[0m| 00:00 Sampling completed\n",
      "chain 4 |\u001b[34m██████████\u001b[0m| 00:00 Sampling completed"
     ]
    },
    {
     "name": "stdout",
     "output_type": "stream",
     "text": [
      "                                                                                                                                                                                                                                                                                                                                "
     ]
    },
    {
     "name": "stderr",
     "output_type": "stream",
     "text": [
      "\n",
      "INFO:cmdstanpy:CmdStan done processing.\n"
     ]
    },
    {
     "name": "stdout",
     "output_type": "stream",
     "text": [
      "\n"
     ]
    }
   ],
   "source": [
    "model_normal_prior = CmdStanModel(stan_file='src/model/model_normal_prior.stan')\n",
    "samples = 1000\n",
    "sim_normal_prior=model_normal_prior.sample(iter_sampling=samples)"
   ]
  },
  {
   "cell_type": "code",
   "execution_count": 10,
   "id": "5a775d7f",
   "metadata": {},
   "outputs": [
    {
     "name": "stdout",
     "output_type": "stream",
     "text": [
      "      lp__  accept_stat__  home_score_pred  away_score_pred  mu_home_att  \\\n",
      "0      0.0            0.0         118.8230         131.7480      19.9601   \n",
      "1      0.0            0.0          99.8102          80.8328      31.9430   \n",
      "2      0.0            0.0         125.2740         106.1130      20.2866   \n",
      "3      0.0            0.0         111.7330          88.7578      13.1116   \n",
      "4      0.0            0.0         152.7200         112.0710      17.8548   \n",
      "...    ...            ...              ...              ...          ...   \n",
      "3995   0.0            0.0         143.4770         128.6940      25.8658   \n",
      "3996   0.0            0.0         149.3680         152.2400      20.2981   \n",
      "3997   0.0            0.0         105.9900         121.3020      13.6771   \n",
      "3998   0.0            0.0         148.6040         129.2100      21.9602   \n",
      "3999   0.0            0.0          70.3948          86.9012      12.7319   \n",
      "\n",
      "      mu_away_att  mu_home_def  mu_away_def  sigma2_att  sigma2_def  phi_home  \\\n",
      "0         23.5336     -7.79242    -0.585127     9.49629     13.1538   2.86533   \n",
      "1         24.1858     -2.88357    -2.290090    13.10230     15.1337   2.06992   \n",
      "2         18.4086     -2.01859     8.868650    13.46880     14.1174   6.13926   \n",
      "3         25.7720     -2.76064    -6.463320    14.75250     18.3194   9.11416   \n",
      "4         10.1930     -2.46669    -3.987160    19.03050     20.8196  13.09070   \n",
      "...           ...          ...          ...         ...         ...       ...   \n",
      "3995      18.9054     -1.89536    -2.956300    15.56920     15.4072   1.86041   \n",
      "3996      28.3750      1.28831    -3.292330    21.74600     14.7366  12.34490   \n",
      "3997      13.8982     -6.77855     2.226120     9.21030     20.8613   3.84855   \n",
      "3998      15.1750     -4.54097     4.016250    20.71000     15.9030   4.28101   \n",
      "3999      21.4556     -6.84282    -2.804330    14.23970     16.4714   8.42611   \n",
      "\n",
      "      phi_away  c_offset   mu_home   mu_away  home_att  away_att  home_def  \\\n",
      "0     5.227160  103.7680  119.9100  131.4890  16.31680  22.47100   5.25059   \n",
      "1     6.300950  101.1770  103.1940   78.8723  16.57390   5.83294 -28.13760   \n",
      "2     3.885730  107.8220  131.5710  100.3330  24.21130   2.47469  -9.96380   \n",
      "3     4.130820  105.7180  121.9770   87.6941  -1.90347  14.38380 -32.40750   \n",
      "4     2.275340  101.1450  175.0120  111.8080  32.35640  30.13630 -19.47390   \n",
      "...        ...       ...       ...       ...       ...       ...       ...   \n",
      "3995  1.361550  104.9990  142.6850  127.1210  23.23620   6.12420  15.99860   \n",
      "3996  3.628330   99.6903  135.3210  148.7710  35.36880  27.02560  22.05460   \n",
      "3997  0.973727  102.5150  104.6800  120.4040   8.92317  28.41040 -10.52150   \n",
      "3998  4.511230   92.5408  143.0810  132.2570  41.93500  33.57390   6.14278   \n",
      "3999  8.193140   96.7245   92.2519   86.7943  -3.49701   6.97628 -16.90650   \n",
      "\n",
      "       away_def  \n",
      "0     -0.174836  \n",
      "1    -14.556500  \n",
      "2     -0.462120  \n",
      "3     18.162900  \n",
      "4     41.510600  \n",
      "...         ...  \n",
      "3995  14.449900  \n",
      "3996   0.261845  \n",
      "3997  -6.757840  \n",
      "3998   8.605170  \n",
      "3999  -0.975581  \n",
      "\n",
      "[4000 rows x 19 columns]\n"
     ]
    }
   ],
   "source": [
    "mod_norm_pri = sim_normal_prior.draws_pd()\n",
    "print(mod_norm_pri)"
   ]
  },
  {
   "cell_type": "code",
   "execution_count": 11,
   "id": "146606b6",
   "metadata": {},
   "outputs": [
    {
     "data": {
      "text/plain": [
       "Text(0, 0.5, 'Density - number of games')"
      ]
     },
     "execution_count": 11,
     "metadata": {},
     "output_type": "execute_result"
    },
    {
     "data": {
      "image/png": "[encoded data removed]",
      "text/plain": [
       "<Figure size 720x720 with 2 Axes>"
      ]
     },
     "metadata": {
      "needs_background": "light"
     },
     "output_type": "display_data"
    }
   ],
   "source": [
    "fig, axes = plt.subplots(nrows=2, ncols=1, figsize=(10, 10))\n",
    "\n",
    "# Histogram of points scored away\n",
    "axes[0].hist(seasons_games[year]['away_team_score'], density=True, bins=20, color='blue', edgecolor='black', label='data')\n",
    "axes[0].hist(sim_normal_prior.stan_variable('away_score_pred'), density=True, bins=100, color='green', edgecolor='black', label='data', range=(0, 200))\n",
    "axes[0].set_title('Histogram of points scored away')\n",
    "axes[0].set_xlabel('Points')\n",
    "axes[0].set_ylabel('Density - number of games')\n",
    "\n",
    "# Histogram of points scored at home\n",
    "axes[1].hist(seasons_games[year]['home_team_score'], density=True, bins=20, color='blue', edgecolor='black', label='data')\n",
    "axes[1].hist(sim_normal_prior.stan_variable('home_score_pred'), density=True, bins=100, color='green', edgecolor='black', label='data', range=(0, 200))\n",
    "axes[1].set_title('Histogram of points scored at home')\n",
    "axes[1].set_xlabel('Points')\n",
    "axes[1].set_ylabel('Density - number of games')"
   ]
  },
  {
   "cell_type": "markdown",
   "id": "fbed028d",
   "metadata": {},
   "source": [
    "## MODEL 2"
   ]
  },
  {
   "cell_type": "markdown",
   "id": "b5162500",
   "metadata": {},
   "source": [
    "### Prior"
   ]
  },
  {
   "cell_type": "code",
   "execution_count": 12,
   "id": "536fb7b5",
   "metadata": {},
   "outputs": [
    {
     "name": "stderr",
     "output_type": "stream",
     "text": [
      "INFO:cmdstanpy:found newer exe file, not recompiling\n"
     ]
    },
    {
     "name": "stderr",
     "output_type": "stream",
     "text": [
      "INFO:cmdstanpy:CmdStan start processing\n",
      "chain 1 |\u001b[33m          \u001b[0m| 00:00 Status\n",
      "\u001b[A\n",
      "\n",
      "chain 1 |\u001b[34m██████████\u001b[0m| 00:00 Sampling completed\n",
      "chain 2 |\u001b[34m██████████\u001b[0m| 00:00 Sampling completed\n",
      "chain 3 |\u001b[34m██████████\u001b[0m| 00:00 Sampling completed\n",
      "chain 4 |\u001b[34m██████████\u001b[0m| 00:00 Sampling completed"
     ]
    },
    {
     "name": "stdout",
     "output_type": "stream",
     "text": [
      "                                                                                                                                                                                                                                                                                                                                "
     ]
    },
    {
     "name": "stderr",
     "output_type": "stream",
     "text": [
      "\n",
      "INFO:cmdstanpy:CmdStan done processing.\n"
     ]
    },
    {
     "name": "stdout",
     "output_type": "stream",
     "text": [
      "\n"
     ]
    }
   ],
   "source": [
    "model_nbinomial_prior = CmdStanModel(stan_file='src/model/model_nbinomial_prior.stan')\n",
    "samples = 1000\n",
    "sim_nbin_prior=model_nbinomial_prior.sample(iter_sampling=samples)"
   ]
  },
  {
   "cell_type": "code",
   "execution_count": 13,
   "id": "22d7b2e7",
   "metadata": {},
   "outputs": [
    {
     "name": "stdout",
     "output_type": "stream",
     "text": [
      "      lp__  accept_stat__  home_score_pred  away_score_pred  mu_home_att  \\\n",
      "0      0.0            0.0            118.0            113.0    -0.209008   \n",
      "1      0.0            0.0             85.0             88.0     1.526440   \n",
      "2      0.0            0.0            103.0            141.0     2.222320   \n",
      "3      0.0            0.0            120.0             86.0    -0.448347   \n",
      "4      0.0            0.0            109.0            175.0     0.869300   \n",
      "...    ...            ...              ...              ...          ...   \n",
      "3995   0.0            0.0             90.0             88.0    -0.235241   \n",
      "3996   0.0            0.0             83.0            132.0    -0.306715   \n",
      "3997   0.0            0.0             69.0            139.0     1.910670   \n",
      "3998   0.0            0.0             88.0            104.0     1.688990   \n",
      "3999   0.0            0.0             78.0            103.0     1.443200   \n",
      "\n",
      "      mu_away_att  mu_home_def  mu_away_def  sigma2_att  sigma2_def  phi_home  \\\n",
      "0        0.700050    -0.648636     0.637811    14.10500    10.27670   51.1951   \n",
      "1       -1.326920     0.118720    -0.650273     9.31001     5.19571  169.9390   \n",
      "2       -1.420840    -0.500832    -0.957925     8.19796    12.39380   35.5591   \n",
      "3       -2.038920    -1.664320    -0.771360    10.37950    10.66960   35.7740   \n",
      "4        2.280170     0.096693    -1.132080     9.16934     8.44727  101.4200   \n",
      "...           ...          ...          ...         ...         ...       ...   \n",
      "3995     1.040400     0.332074    -1.173200    16.48170     6.53746   35.7756   \n",
      "3996     0.594389     2.735620    -0.361008    11.82590     8.93014   98.2331   \n",
      "3997     0.535692     2.083970    -0.619052     9.87723     8.77973   15.6223   \n",
      "3998    -1.969540    -1.263110     0.291311     7.18108    13.99430  124.6860   \n",
      "3999     1.282640    -0.432124     0.255190     9.02070     9.30466   82.5203   \n",
      "\n",
      "      phi_away  c_offset   mu_home   mu_away   home_att  away_att   home_def  \\\n",
      "0      26.6090   113.865  109.2810  114.7220   9.687840  13.18020 -12.323500   \n",
      "1      19.0955   116.198  116.3180   91.7867  -4.582310 -23.71370  -0.697918   \n",
      "2      62.2307   115.230  126.7300  102.5380   1.274870   1.68776 -14.380000   \n",
      "3      34.7419   115.650  105.4210  102.9800 -13.162500 -13.09350   0.423684   \n",
      "4      64.2636   115.014  109.8070  147.9670   0.964658  16.27370  16.679400   \n",
      "...        ...       ...       ...       ...        ...       ...        ...   \n",
      "3995   71.6880   115.397  123.4970  135.3510   7.806890  16.81210   3.141220   \n",
      "3996   26.4854   114.564   90.4502  120.2290 -33.850700  -5.87205  11.537300   \n",
      "3997   78.2161   115.382  125.1030  115.7610   8.707450 -11.16030  11.539500   \n",
      "3998   29.9455   114.664   92.1127  143.4800   4.044910  12.98130  15.833900   \n",
      "3999   65.5842   113.869   85.8302  101.1030 -13.711100 -15.32130   2.555880   \n",
      "\n",
      "      away_def  \n",
      "0    -14.27250  \n",
      "1      4.70231  \n",
      "2     10.22510  \n",
      "3      2.93344  \n",
      "4     -6.17097  \n",
      "...        ...  \n",
      "3995   0.29247  \n",
      "3996   9.73699  \n",
      "3997   1.01387  \n",
      "3998 -26.59670  \n",
      "3999 -14.32740  \n",
      "\n",
      "[4000 rows x 19 columns]\n"
     ]
    }
   ],
   "source": [
    "mod_nbin_prior = sim_nbin_prior.draws_pd()\n",
    "print(mod_nbin_prior)"
   ]
  },
  {
   "cell_type": "code",
   "execution_count": 14,
   "id": "1f693202",
   "metadata": {},
   "outputs": [
    {
     "data": {
      "text/plain": [
       "Text(0, 0.5, 'Density - number of games')"
      ]
     },
     "execution_count": 14,
     "metadata": {},
     "output_type": "execute_result"
    },
    {
     "data": {
      "image/png": "[encoded data removed]",
      "text/plain": [
       "<Figure size 720x720 with 2 Axes>"
      ]
     },
     "metadata": {
      "needs_background": "light"
     },
     "output_type": "display_data"
    }
   ],
   "source": [
    "fig, axes = plt.subplots(nrows=2, ncols=1, figsize=(10, 10))\n",
    "\n",
    "# Histogram of points scored away\n",
    "axes[0].hist(seasons_games[year]['away_team_score'], density=True, bins=20, color='blue', edgecolor='black', label='data')\n",
    "axes[0].hist(sim_nbin_prior.stan_variable('away_score_pred'), density=True, bins=100, color='green', edgecolor='black', label='data', range=(0, 200))\n",
    "axes[0].set_title('Histogram of points scored away')\n",
    "axes[0].set_xlabel('Points')\n",
    "axes[0].set_ylabel('Density - number of games')\n",
    "\n",
    "# Histogram of points scored at home\n",
    "axes[1].hist(seasons_games[year]['home_team_score'], density=True, bins=20, color='blue', edgecolor='black', label='data')\n",
    "axes[1].hist(sim_nbin_prior.stan_variable('home_score_pred'), density=True, bins=100, color='green', edgecolor='black', label='data', range=(0, 200))\n",
    "axes[1].set_title('Histogram of points scored at home')\n",
    "axes[1].set_xlabel('Points')\n",
    "axes[1].set_ylabel('Density - number of games')"
   ]
  },
  {
   "cell_type": "code",
   "execution_count": 15,
   "id": "499f3105",
   "metadata": {},
   "outputs": [
    {
     "name": "stderr",
     "output_type": "stream",
     "text": [
      "INFO:cmdstanpy:found newer exe file, not recompiling\n",
      "INFO:cmdstanpy:CmdStan start processing\n",
      "chain 1 |\u001b[34m██████████\u001b[0m| 00:25 Sampling completed                         "
     ]
    },
    {
     "name": "stdout",
     "output_type": "stream",
     "text": [
      "                                                                                "
     ]
    },
    {
     "name": "stderr",
     "output_type": "stream",
     "text": [
      "\n",
      "INFO:cmdstanpy:CmdStan done processing.\n"
     ]
    },
    {
     "name": "stdout",
     "output_type": "stream",
     "text": [
      "\n"
     ]
    }
   ],
   "source": [
    "model_normal_posterior = CmdStanModel(stan_file='src/model/model_normal_posterior.stan')\n",
    "samples = 10000\n",
    "sim_nor_post=model_normal_posterior.sample(data=inp_data,\n",
    "                     iter_sampling=samples,\n",
    "                     iter_warmup=1,\n",
    "                     chains=1\n",
    "                     )"
   ]
  },
  {
   "cell_type": "code",
   "execution_count": 16,
   "id": "0bf11be1",
   "metadata": {},
   "outputs": [
    {
     "name": "stdout",
     "output_type": "stream",
     "text": [
      "           lp__  accept_stat__  stepsize__  treedepth__  n_leapfrog__  \\\n",
      "0    -2267780.0            0.0     14.3855          0.0           1.0   \n",
      "1    -2267780.0            0.0     14.3855          0.0           1.0   \n",
      "2    -2267780.0            0.0     14.3855          0.0           1.0   \n",
      "3    -2267780.0            0.0     14.3855          0.0           1.0   \n",
      "4    -2267780.0            0.0     14.3855          0.0           1.0   \n",
      "...         ...            ...         ...          ...           ...   \n",
      "9995 -2267780.0            0.0     14.3855          0.0           1.0   \n",
      "9996 -2267780.0            0.0     14.3855          0.0           1.0   \n",
      "9997 -2267780.0            0.0     14.3855          0.0           1.0   \n",
      "9998 -2267780.0            0.0     14.3855          0.0           1.0   \n",
      "9999 -2267780.0            0.0     14.3855          0.0           1.0   \n",
      "\n",
      "      divergent__   energy__  mu_home_att  mu_away_att  mu_home_def  ...  \\\n",
      "0             1.0  2267850.0     -0.32522     0.422468    -0.201265  ...   \n",
      "1             1.0  2267850.0     -0.32522     0.422468    -0.201265  ...   \n",
      "2             1.0  2267860.0     -0.32522     0.422468    -0.201265  ...   \n",
      "3             1.0  2267850.0     -0.32522     0.422468    -0.201265  ...   \n",
      "4             1.0  2267840.0     -0.32522     0.422468    -0.201265  ...   \n",
      "...           ...        ...          ...          ...          ...  ...   \n",
      "9995          1.0  2267840.0     -0.32522     0.422468    -0.201265  ...   \n",
      "9996          1.0  2267850.0     -0.32522     0.422468    -0.201265  ...   \n",
      "9997          1.0  2267850.0     -0.32522     0.422468    -0.201265  ...   \n",
      "9998          1.0  2267860.0     -0.32522     0.422468    -0.201265  ...   \n",
      "9999          1.0  2267850.0     -0.32522     0.422468    -0.201265  ...   \n",
      "\n",
      "      log_lik_away[1314]  log_lik_away[1315]  log_lik_away[1316]  \\\n",
      "0                    NaN                 NaN                 NaN   \n",
      "1                    NaN                 NaN                 NaN   \n",
      "2                    NaN                 NaN                 NaN   \n",
      "3                    NaN                 NaN                 NaN   \n",
      "4                    NaN                 NaN                 NaN   \n",
      "...                  ...                 ...                 ...   \n",
      "9995                 NaN                 NaN                 NaN   \n",
      "9996                 NaN                 NaN                 NaN   \n",
      "9997                 NaN                 NaN                 NaN   \n",
      "9998                 NaN                 NaN                 NaN   \n",
      "9999                 NaN                 NaN                 NaN   \n",
      "\n",
      "      log_lik_away[1317]  log_lik_away[1318]  log_lik_away[1319]  \\\n",
      "0                    NaN                 NaN                 NaN   \n",
      "1                    NaN                 NaN                 NaN   \n",
      "2                    NaN                 NaN                 NaN   \n",
      "3                    NaN                 NaN                 NaN   \n",
      "4                    NaN                 NaN                 NaN   \n",
      "...                  ...                 ...                 ...   \n",
      "9995                 NaN                 NaN                 NaN   \n",
      "9996                 NaN                 NaN                 NaN   \n",
      "9997                 NaN                 NaN                 NaN   \n",
      "9998                 NaN                 NaN                 NaN   \n",
      "9999                 NaN                 NaN                 NaN   \n",
      "\n",
      "      log_lik_away[1320]  log_lik_away[1321]  log_lik_away[1322]  \\\n",
      "0                    NaN                 NaN                 NaN   \n",
      "1                    NaN                 NaN                 NaN   \n",
      "2                    NaN                 NaN                 NaN   \n",
      "3                    NaN                 NaN                 NaN   \n",
      "4                    NaN                 NaN                 NaN   \n",
      "...                  ...                 ...                 ...   \n",
      "9995                 NaN                 NaN                 NaN   \n",
      "9996                 NaN                 NaN                 NaN   \n",
      "9997                 NaN                 NaN                 NaN   \n",
      "9998                 NaN                 NaN                 NaN   \n",
      "9999                 NaN                 NaN                 NaN   \n",
      "\n",
      "      log_lik_away[1323]  \n",
      "0                    NaN  \n",
      "1                    NaN  \n",
      "2                    NaN  \n",
      "3                    NaN  \n",
      "4                    NaN  \n",
      "...                  ...  \n",
      "9995                 NaN  \n",
      "9996                 NaN  \n",
      "9997                 NaN  \n",
      "9998                 NaN  \n",
      "9999                 NaN  \n",
      "\n",
      "[10000 rows x 5488 columns]\n"
     ]
    }
   ],
   "source": [
    "mod_norm_post = sim_nor_post.draws_pd()\n",
    "print(mod_norm_post)"
   ]
  },
  {
   "cell_type": "code",
   "execution_count": 17,
   "id": "f285f29c",
   "metadata": {},
   "outputs": [
    {
     "name": "stdout",
     "output_type": "stream",
     "text": [
      "-0.32522\n"
     ]
    }
   ],
   "source": [
    "print(max(sim_nor_post.stan_variable('mu_home_att')))"
   ]
  },
  {
   "cell_type": "code",
   "execution_count": 18,
   "id": "af9247a3",
   "metadata": {},
   "outputs": [
    {
     "data": {
      "text/plain": [
       "Text(0, 0.5, 'Density - number of games')"
      ]
     },
     "execution_count": 18,
     "metadata": {},
     "output_type": "execute_result"
    },
    {
     "data": {
      "image/png": "[encoded data removed]",
      "text/plain": [
       "<Figure size 720x720 with 2 Axes>"
      ]
     },
     "metadata": {
      "needs_background": "light"
     },
     "output_type": "display_data"
    }
   ],
   "source": [
    "fig, axes = plt.subplots(nrows=2, ncols=1, figsize=(10, 10))\n",
    "\n",
    "# Histogram of points scored away\n",
    "axes[0].hist(seasons_games[year]['away_team_score'], density=True, bins=20, color='blue', edgecolor='black', label='data')\n",
    "axes[0].hist(sim_nor_post.stan_variable('away_score_pred').mean(axis=0), density=True, bins=100, color='green', edgecolor='black', label='data', range=(0, 200))\n",
    "axes[0].set_title('Histogram of points scored away')\n",
    "axes[0].set_xlabel('Points')\n",
    "axes[0].set_ylabel('Density - number of games')\n",
    "\n",
    "# Histogram of points scored at home\n",
    "axes[1].hist(seasons_games[year]['home_team_score'], density=True, bins=20, color='blue', edgecolor='black', label='data')\n",
    "axes[1].hist(sim_nor_post.stan_variable('home_score_pred').mean(axis=0), density=True, bins=100, color='green', edgecolor='black', label='data', range=(0, 200))\n",
    "axes[1].set_title('Histogram of points scored at home')\n",
    "axes[1].set_xlabel('Points')\n",
    "axes[1].set_ylabel('Density - number of games')"
   ]
  },
  {
   "cell_type": "code",
   "execution_count": 19,
   "id": "aed24136",
   "metadata": {},
   "outputs": [
    {
     "name": "stderr",
     "output_type": "stream",
     "text": [
      "INFO:cmdstanpy:found newer exe file, not recompiling\n",
      "INFO:cmdstanpy:CmdStan start processing\n",
      "chain 1 |\u001b[34m██████████\u001b[0m| 00:41 Sampling completed                         "
     ]
    },
    {
     "name": "stdout",
     "output_type": "stream",
     "text": [
      "                                                                                "
     ]
    },
    {
     "name": "stderr",
     "output_type": "stream",
     "text": [
      "\n",
      "INFO:cmdstanpy:CmdStan done processing.\n"
     ]
    },
    {
     "name": "stdout",
     "output_type": "stream",
     "text": [
      "\n"
     ]
    }
   ],
   "source": [
    "model_1_post = CmdStanModel(stan_file='src/model/model_1_posterior.stan')\n",
    "samples = 10000\n",
    "sim=model_1_post.sample(data=inp_data,\n",
    "                     iter_sampling=samples,\n",
    "                     iter_warmup=1,\n",
    "                     chains=1\n",
    "                     )"
   ]
  },
  {
   "cell_type": "code",
   "execution_count": 20,
   "id": "e4099d01",
   "metadata": {},
   "outputs": [
    {
     "name": "stdout",
     "output_type": "stream",
     "text": [
      "         lp__  accept_stat__  stepsize__  treedepth__  n_leapfrog__  \\\n",
      "0    -18348.2            0.0     14.3855          0.0           1.0   \n",
      "1    -18348.2            0.0     14.3855          0.0           1.0   \n",
      "2    -18348.2            0.0     14.3855          0.0           1.0   \n",
      "3    -18348.2            0.0     14.3855          0.0           1.0   \n",
      "4    -18348.2            0.0     14.3855          0.0           1.0   \n",
      "...       ...            ...         ...          ...           ...   \n",
      "9995 -18348.2            0.0     14.3855          0.0           1.0   \n",
      "9996 -18348.2            0.0     14.3855          0.0           1.0   \n",
      "9997 -18348.2            0.0     14.3855          0.0           1.0   \n",
      "9998 -18348.2            0.0     14.3855          0.0           1.0   \n",
      "9999 -18348.2            0.0     14.3855          0.0           1.0   \n",
      "\n",
      "      divergent__  energy__  mu_home_att  mu_away_att  mu_home_def  ...  \\\n",
      "0             1.0   18412.8    -0.080612     0.216695    -0.678727  ...   \n",
      "1             1.0   18405.1    -0.080612     0.216695    -0.678727  ...   \n",
      "2             1.0   18416.7    -0.080612     0.216695    -0.678727  ...   \n",
      "3             1.0   18408.7    -0.080612     0.216695    -0.678727  ...   \n",
      "4             1.0   18407.3    -0.080612     0.216695    -0.678727  ...   \n",
      "...           ...       ...          ...          ...          ...  ...   \n",
      "9995          1.0   18415.5    -0.080612     0.216695    -0.678727  ...   \n",
      "9996          1.0   18416.6    -0.080612     0.216695    -0.678727  ...   \n",
      "9997          1.0   18399.4    -0.080612     0.216695    -0.678727  ...   \n",
      "9998          1.0   18412.0    -0.080612     0.216695    -0.678727  ...   \n",
      "9999          1.0   18416.5    -0.080612     0.216695    -0.678727  ...   \n",
      "\n",
      "      log_lik_away[1314]  log_lik_away[1315]  log_lik_away[1316]  \\\n",
      "0                -5.5061            -5.59526             -5.5989   \n",
      "1                -5.5061            -5.59526             -5.5989   \n",
      "2                -5.5061            -5.59526             -5.5989   \n",
      "3                -5.5061            -5.59526             -5.5989   \n",
      "4                -5.5061            -5.59526             -5.5989   \n",
      "...                  ...                 ...                 ...   \n",
      "9995             -5.5061            -5.59526             -5.5989   \n",
      "9996             -5.5061            -5.59526             -5.5989   \n",
      "9997             -5.5061            -5.59526             -5.5989   \n",
      "9998             -5.5061            -5.59526             -5.5989   \n",
      "9999             -5.5061            -5.59526             -5.5989   \n",
      "\n",
      "      log_lik_away[1317]  log_lik_away[1318]  log_lik_away[1319]  \\\n",
      "0               -5.54144            -5.65163            -5.48212   \n",
      "1               -5.54144            -5.65163            -5.48212   \n",
      "2               -5.54144            -5.65163            -5.48212   \n",
      "3               -5.54144            -5.65163            -5.48212   \n",
      "4               -5.54144            -5.65163            -5.48212   \n",
      "...                  ...                 ...                 ...   \n",
      "9995            -5.54144            -5.65163            -5.48212   \n",
      "9996            -5.54144            -5.65163            -5.48212   \n",
      "9997            -5.54144            -5.65163            -5.48212   \n",
      "9998            -5.54144            -5.65163            -5.48212   \n",
      "9999            -5.54144            -5.65163            -5.48212   \n",
      "\n",
      "      log_lik_away[1320]  log_lik_away[1321]  log_lik_away[1322]  \\\n",
      "0               -5.54661             -5.5831            -5.51103   \n",
      "1               -5.54661             -5.5831            -5.51103   \n",
      "2               -5.54661             -5.5831            -5.51103   \n",
      "3               -5.54661             -5.5831            -5.51103   \n",
      "4               -5.54661             -5.5831            -5.51103   \n",
      "...                  ...                 ...                 ...   \n",
      "9995            -5.54661             -5.5831            -5.51103   \n",
      "9996            -5.54661             -5.5831            -5.51103   \n",
      "9997            -5.54661             -5.5831            -5.51103   \n",
      "9998            -5.54661             -5.5831            -5.51103   \n",
      "9999            -5.54661             -5.5831            -5.51103   \n",
      "\n",
      "      log_lik_away[1323]  \n",
      "0               -5.56204  \n",
      "1               -5.56204  \n",
      "2               -5.56204  \n",
      "3               -5.56204  \n",
      "4               -5.56204  \n",
      "...                  ...  \n",
      "9995            -5.56204  \n",
      "9996            -5.56204  \n",
      "9997            -5.56204  \n",
      "9998            -5.56204  \n",
      "9999            -5.56204  \n",
      "\n",
      "[10000 rows x 5488 columns]\n"
     ]
    }
   ],
   "source": [
    "mod_1_post = sim.draws_pd()\n",
    "print(mod_1_post)"
   ]
  },
  {
   "cell_type": "code",
   "execution_count": 21,
   "id": "ede772f1",
   "metadata": {},
   "outputs": [
    {
     "data": {
      "text/plain": [
       "Text(0, 0.5, 'Density - number of games')"
      ]
     },
     "execution_count": 21,
     "metadata": {},
     "output_type": "execute_result"
    },
    {
     "data": {
      "image/png": "[encoded data removed]",
      "text/plain": [
       "<Figure size 720x720 with 2 Axes>"
      ]
     },
     "metadata": {
      "needs_background": "light"
     },
     "output_type": "display_data"
    }
   ],
   "source": [
    "fig, axes = plt.subplots(nrows=2, ncols=1, figsize=(10, 10))\n",
    "\n",
    "# Histogram of points scored away\n",
    "axes[0].hist(seasons_games[year]['away_team_score'], density=True, bins=20, color='blue', edgecolor='black', label='data')\n",
    "axes[0].hist(sim.stan_variable('away_score_pred').mean(axis=0), density=True, bins=100, color='green', edgecolor='black', label='data', range=(0, 200))\n",
    "axes[0].set_title('Histogram of points scored away')\n",
    "axes[0].set_xlabel('Points')\n",
    "axes[0].set_ylabel('Density - number of games')\n",
    "\n",
    "# Histogram of points scored at home\n",
    "axes[1].hist(seasons_games[year]['home_team_score'], density=True, bins=20, color='blue', edgecolor='black', label='data')\n",
    "axes[1].hist(sim.stan_variable('home_score_pred').mean(axis=0), density=True, bins=100, color='green', edgecolor='black', label='data', range=(0, 200))\n",
    "axes[1].set_title('Histogram of points scored at home')\n",
    "axes[1].set_xlabel('Points')\n",
    "axes[1].set_ylabel('Density - number of games')"
   ]
  },
  {
   "cell_type": "code",
   "execution_count": 28,
   "id": "d8eaf573",
   "metadata": {},
   "outputs": [
    {
     "name": "stderr",
     "output_type": "stream",
     "text": [
      "INFO:cmdstanpy:compiling stan file /app/src/model/model_poisson_posterior.stan to exe file /app/src/model/model_poisson_posterior\n",
      "chain 1 |\u001b[34m███████▏  \u001b[0m| 06:28 Iteration:  7700 / 11000 [ 70%]  (Sampling)\n",
      "\n",
      "chain 1 |\u001b[34m███████▏  \u001b[0m| 06:33 Iteration:  7800 / 11000 [ 70%]  (Sampling)\n",
      "\n",
      "chain 1 |\u001b[34m███████▎  \u001b[0m| 06:38 Iteration:  7900 / 11000 [ 71%]  (Sampling)\n",
      "\n",
      "chain 1 |\u001b[34m███████▍  \u001b[0m| 06:42 Iteration:  8000 / 11000 [ 72%]  (Sampling)\n",
      "\n",
      "chain 1 |\u001b[34m███████▌  \u001b[0m| 06:46 Iteration:  8100 / 11000 [ 73%]  (Sampling)\n",
      "\n",
      "chain 1 |\u001b[34m███████▌  \u001b[0m| 06:51 Iteration:  8200 / 11000 [ 74%]  (Sampling)\n",
      "\n",
      "chain 1 |\u001b[34m███████▋  \u001b[0m| 06:55 Iteration:  8300 / 11000 [ 75%]  (Sampling)\n",
      "\n",
      "chain 1 |\u001b[34m███████▊  \u001b[0m| 06:59 Iteration:  8400 / 11000 [ 76%]  (Sampling)\n",
      "\n",
      "chain 1 |\u001b[34m███████▊  \u001b[0m| 07:03 Iteration:  8500 / 11000 [ 77%]  (Sampling)\n",
      "\n",
      "chain 1 |\u001b[34m███████▉  \u001b[0m| 07:07 Iteration:  8600 / 11000 [ 78%]  (Sampling)\n",
      "\n",
      "chain 1 |\u001b[34m████████  \u001b[0m| 07:12 Iteration:  8700 / 11000 [ 79%]  (Sampling)\n",
      "\n",
      "chain 1 |\u001b[34m████████▏ \u001b[0m| 07:17 Iteration:  8800 / 11000 [ 80%]  (Sampling)\n",
      "\n",
      "chain 1 |\u001b[34m████████▏ \u001b[0m| 07:21 Iteration:  8900 / 11000 [ 80%]  (Sampling)INFO:cmdstanpy:compiled model executable: /app/src/model/model_poisson_posterior\n",
      "INFO:cmdstanpy:CmdStan start processing\n",
      "\n",
      "\n",
      "\n",
      "\u001b[A\u001b[A\u001b[A\n",
      "\n",
      "\n",
      "\n",
      "\u001b[A\u001b[A\u001b[A\u001b[A\n",
      "\n",
      "\n",
      "\n",
      "\n",
      "\u001b[A\u001b[A\u001b[A\u001b[A\u001b[A\n",
      "\n",
      "\n",
      "\n",
      "\n",
      "\n",
      "\u001b[A\u001b[A\u001b[A\u001b[A\u001b[A\u001b[A\n",
      "\n",
      "\n",
      "\u001b[A\u001b[A\u001b[A\n",
      "\n",
      "\n",
      "\n",
      "\n",
      "\u001b[A\u001b[A\u001b[A\u001b[A\u001b[A\n",
      "\n",
      "\n",
      "\n",
      "\u001b[A\u001b[A\u001b[A\u001b[A\n",
      "\n",
      "\u001b[A\u001b[A\n",
      "\n",
      "\n",
      "\n",
      "\u001b[A\u001b[A\u001b[A\u001b[A\n",
      "\n",
      "\n",
      "\n",
      "\n",
      "\u001b[A\u001b[A\u001b[A\u001b[A\u001b[A\n",
      "\n",
      "\n",
      "\n",
      "\n",
      "\n",
      "\u001b[A\u001b[A\u001b[A\u001b[A\u001b[A\u001b[A\n",
      "\n",
      "\n",
      "\u001b[A\u001b[A\u001b[A\n",
      "\n",
      "\n",
      "\u001b[A\u001b[A\u001b[A\n",
      "\n",
      "\n",
      "\n",
      "\u001b[A\u001b[A\u001b[A\u001b[A\n",
      "\n",
      "\n",
      "\n",
      "\n",
      "chain 1 |\u001b[34m████████▎ \u001b[0m| 07:27 Iteration:  9000 / 11000 [ 81%]  (Sampling)\n",
      "\n",
      "\n",
      "\n",
      "\n",
      "\n",
      "\u001b[A\u001b[A\u001b[A\u001b[A\u001b[A\u001b[A\n",
      "\n",
      "\u001b[A\u001b[A\n",
      "\n",
      "\n",
      "\n",
      "\n",
      "\n",
      "\u001b[A\u001b[A\u001b[A\u001b[A\u001b[A\u001b[A\n",
      "\n",
      "\n",
      "\n",
      "\u001b[A\u001b[A\u001b[A\u001b[A\n",
      "\n",
      "\n",
      "\n",
      "\n",
      "\n",
      "chain 1 |\u001b[34m████████▍ \u001b[0m| 07:32 Iteration:  9100 / 11000 [ 82%]  (Sampling)\n",
      "\n",
      "\u001b[A\u001b[A\n",
      "\n",
      "\n",
      "\n",
      "\n",
      "\n",
      "\u001b[A\u001b[A\u001b[A\u001b[A\u001b[A\u001b[A\n",
      "\n",
      "\n",
      "\n",
      "\n",
      "chain 1 |\u001b[34m████████▍ \u001b[0m| 07:38 Iteration:  9200 / 11000 [ 83%]  (Sampling)\n",
      "\n",
      "\u001b[A\u001b[A\n",
      "\n",
      "\n",
      "\n",
      "chain 1 |\u001b[34m████████▌ \u001b[0m| 07:45 Iteration:  9300 / 11000 [ 84%]  (Sampling)\n",
      "\n",
      "\n",
      "\u001b[A\u001b[A\u001b[A\n",
      "\n",
      "\n",
      "\n",
      "\n",
      "\u001b[A\u001b[A\u001b[A\u001b[A\u001b[A\n",
      "\n",
      "\n",
      "\n",
      "\n",
      "\n",
      "\u001b[A\u001b[A\u001b[A\u001b[A\u001b[A\u001b[A\n",
      "\n",
      "\u001b[A\u001b[A\n",
      "\n",
      "\n",
      "\n",
      "\n",
      "\u001b[A\u001b[A\u001b[A\u001b[A\u001b[A\n",
      "\n",
      "\n",
      "\n",
      "\n",
      "\u001b[A\u001b[A\u001b[A\u001b[A\u001b[A\n",
      "\n",
      "\n",
      "\n",
      "\n",
      "\u001b[A\u001b[A\u001b[A\u001b[A\u001b[A\n",
      "\n",
      "\n",
      "\n",
      "\n",
      "\u001b[A\u001b[A\u001b[A\u001b[A\u001b[A\n",
      "\n",
      "\n",
      "\n",
      "\u001b[A\u001b[A\u001b[A\u001b[A\n",
      "\n",
      "\n",
      "\n",
      "\n",
      "chain 1 |\u001b[34m████████▋ \u001b[0m| 07:51 Iteration:  9400 / 11000 [ 85%]  (Sampling)\n",
      "\n",
      "\n",
      "\n",
      "\u001b[A\u001b[A\u001b[A\u001b[A\n",
      "\n",
      "\n",
      "\n",
      "\u001b[A\u001b[A\u001b[A\u001b[A\n",
      "\n",
      "\n",
      "\n",
      "\u001b[A\u001b[A\u001b[A\u001b[A\n",
      "\n",
      "\n",
      "\n",
      "\u001b[A\u001b[A\u001b[A\u001b[A\n",
      "\n",
      "\u001b[A\u001b[A\n",
      "\n",
      "\n",
      "\n",
      "\n",
      "\u001b[A\u001b[A\u001b[A\u001b[A\u001b[A\n",
      "\n",
      "\n",
      "\n",
      "\n",
      "\n",
      "chain 1 |\u001b[34m████████▊ \u001b[0m| 07:56 Iteration:  9500 / 11000 [ 86%]  (Sampling)\n",
      "\n",
      "\n",
      "\n",
      "\u001b[A\u001b[A\u001b[A\u001b[A\n",
      "\n",
      "\n",
      "\n",
      "\u001b[A\u001b[A\u001b[A\u001b[A\n",
      "\n",
      "\n",
      "\u001b[A\u001b[A\u001b[A\n",
      "\n",
      "\u001b[A\u001b[A\n",
      "\n",
      "\n",
      "\n",
      "\n",
      "chain 1 |\u001b[34m████████▊ \u001b[0m| 08:02 Iteration:  9600 / 11000 [ 87%]  (Sampling)\n",
      "\n",
      "\n",
      "\n",
      "\u001b[A\u001b[A\u001b[A\u001b[A\n",
      "\n",
      "\n",
      "\n",
      "\n",
      "\n",
      "\u001b[A\u001b[A\u001b[A\u001b[A\u001b[A\u001b[A\n",
      "\n",
      "\n",
      "\u001b[A\u001b[A\u001b[A\n",
      "\n",
      "\n",
      "\u001b[A\u001b[A\u001b[A\n",
      "\n",
      "\n",
      "\u001b[A\u001b[A\u001b[A\n",
      "\n",
      "\u001b[A\u001b[A\n",
      "\n",
      "\n",
      "\u001b[A\u001b[A\u001b[A\n",
      "\n",
      "\n",
      "\u001b[A\u001b[A\u001b[A\n",
      "\n",
      "\n",
      "\n",
      "\n",
      "chain 1 |\u001b[34m████████▉ \u001b[0m| 08:08 Iteration:  9700 / 11000 [ 88%]  (Sampling)\n",
      "\n",
      "\n",
      "\n",
      "\u001b[A\u001b[A\u001b[A\u001b[A\n",
      "\n",
      "\n",
      "\u001b[A\u001b[A\u001b[A\n",
      "\n",
      "\u001b[A\u001b[A\n",
      "\n",
      "\n",
      "\n",
      "\n",
      "\n",
      "\u001b[A\u001b[A\u001b[A\u001b[A\u001b[A\u001b[A\n",
      "\n",
      "\n",
      "\n",
      "\n",
      "chain 1 |\u001b[34m█████████ \u001b[0m| 08:14 Iteration:  9800 / 11000 [ 89%]  (Sampling)\n",
      "\n",
      "\n",
      "\n",
      "\u001b[A\u001b[A\u001b[A\u001b[A\n",
      "\n",
      "\n",
      "\u001b[A\u001b[A\u001b[A\n",
      "\n",
      "\u001b[A\u001b[A\n",
      "\n",
      "\n",
      "\n",
      "\n",
      "\n",
      "\u001b[A\u001b[A\u001b[A\u001b[A\u001b[A\u001b[A\n",
      "\n",
      "\n",
      "\n",
      "\n",
      "chain 1 |\u001b[34m█████████ \u001b[0m| 08:20 Iteration:  9900 / 11000 [ 90%]  (Sampling)\n",
      "\n",
      "\n",
      "\n",
      "\u001b[A\u001b[A\u001b[A\u001b[A\n",
      "\n",
      "\n",
      "\u001b[A\u001b[A\u001b[A\n",
      "\n",
      "\u001b[A\u001b[A\n",
      "\n",
      "\n",
      "\n",
      "\n",
      "\n",
      "\u001b[A\u001b[A\u001b[A\u001b[A\u001b[A\u001b[A\n",
      "\n",
      "\n",
      "\n",
      "\n",
      "chain 1 |\u001b[34m█████████▏\u001b[0m| 08:26 Iteration: 10000 / 11000 [ 90%]  (Sampling)\n",
      "\n",
      "\n",
      "\u001b[A\u001b[A\u001b[A\n",
      "\n",
      "\u001b[A\u001b[A\n",
      "\n",
      "\n",
      "\n",
      "\u001b[A\u001b[A\u001b[A\u001b[A\n",
      "\n",
      "\n",
      "\n",
      "\n",
      "\n",
      "chain 1 |\u001b[34m█████████▎\u001b[0m| 08:32 Iteration: 10100 / 11000 [ 91%]  (Sampling)\n",
      "\n",
      "\n",
      "\n",
      "\n",
      "\u001b[A\u001b[A\u001b[A\u001b[A\u001b[A\n",
      "\n",
      "\n",
      "\u001b[A\u001b[A\u001b[A\n",
      "\n",
      "\u001b[A\u001b[A\n",
      "\n",
      "\n",
      "\n",
      "\u001b[A\u001b[A\u001b[A\u001b[A\n",
      "\n",
      "\n",
      "\n",
      "\n",
      "\n",
      "chain 1 |\u001b[34m█████████▍\u001b[0m| 08:37 Iteration: 10200 / 11000 [ 92%]  (Sampling)\n",
      "\n",
      "\n",
      "\n",
      "\n",
      "\u001b[A\u001b[A\u001b[A\u001b[A\u001b[A\n",
      "\n",
      "\n",
      "\u001b[A\u001b[A\u001b[A\n",
      "\n",
      "\n",
      "\n",
      "chain 1 |\u001b[34m█████████▍\u001b[0m| 08:44 Iteration: 10300 / 11000 [ 93%]  (Sampling)\n",
      "\n",
      "\n",
      "\n",
      "\n",
      "\n",
      "\u001b[A\u001b[A\u001b[A\u001b[A\u001b[A\u001b[A\n",
      "\n",
      "\n",
      "\n",
      "\n",
      "\u001b[A\u001b[A\u001b[A\u001b[A\u001b[A\n",
      "\n",
      "\n",
      "\u001b[A\u001b[A\u001b[A\n",
      "\n",
      "\n",
      "\n",
      "chain 1 |\u001b[34m█████████▌\u001b[0m| 08:49 Iteration: 10400 / 11000 [ 94%]  (Sampling)\n",
      "\n",
      "\n",
      "\n",
      "\n",
      "\n",
      "\u001b[A\u001b[A\u001b[A\u001b[A\u001b[A\u001b[A\n",
      "\n",
      "\n",
      "\n",
      "\n",
      "\u001b[A\u001b[A\u001b[A\u001b[A\u001b[A\n",
      "\n",
      "\n",
      "\u001b[A\u001b[A\u001b[A\n",
      "\n",
      "\n",
      "\n",
      "chain 1 |\u001b[34m█████████▋\u001b[0m| 08:54 Iteration: 10500 / 11000 [ 95%]  (Sampling)\n",
      "\n",
      "\n",
      "\n",
      "\n",
      "\n",
      "\u001b[A\u001b[A\u001b[A\u001b[A\u001b[A\u001b[A\n",
      "\n",
      "\n",
      "\n",
      "\n",
      "\u001b[A\u001b[A\u001b[A\u001b[A\u001b[A\n",
      "\n",
      "\n",
      "\u001b[A\u001b[A\u001b[A\n",
      "\n",
      "\n",
      "\n",
      "chain 1 |\u001b[34m█████████▋\u001b[0m| 09:00 Iteration: 10600 / 11000 [ 96%]  (Sampling)\n",
      "\n",
      "\n",
      "\n",
      "\n",
      "\n",
      "\u001b[A\u001b[A\u001b[A\u001b[A\u001b[A\u001b[A\n",
      "\n",
      "\n",
      "chain 1 |\u001b[34m█████████▊\u001b[0m| 09:04 Iteration: 10700 / 11000 [ 97%]  (Sampling)\n",
      "\n",
      "\n",
      "\n",
      "\n",
      "\n",
      "\u001b[A\u001b[A\u001b[A\u001b[A\u001b[A\u001b[A\n",
      "\n",
      "\n",
      "chain 1 |\u001b[34m█████████▉\u001b[0m| 09:08 Iteration: 10800 / 11000 [ 98%]  (Sampling)\n",
      "\n",
      "\n",
      "\n",
      "\n",
      "\n",
      "chain 1 |\u001b[34m██████████\u001b[0m| 09:12 Iteration: 10900 / 11000 [ 99%]  (Sampling)\n",
      "\n",
      "\n",
      "\n",
      "\n",
      "\n",
      "chain 1 |\u001b[34m██████████\u001b[0m| 01:49 Sampling completed                       \n",
      "chain 2 |\u001b[34m██████████\u001b[0m| 01:49 Sampling completed                       \n",
      "chain 3 |\u001b[34m██████████\u001b[0m| 01:49 Sampling completed                       \n",
      "chain 4 |\u001b[34m██████████\u001b[0m| 01:49 Sampling completed                       "
     ]
    },
    {
     "name": "stdout",
     "output_type": "stream",
     "text": [
      "                                                                                                                                                                                                                                                                                                                                "
     ]
    },
    {
     "name": "stderr",
     "output_type": "stream",
     "text": [
      "\n",
      "INFO:cmdstanpy:CmdStan done processing.\n"
     ]
    },
    {
     "name": "stdout",
     "output_type": "stream",
     "text": [
      "\n"
     ]
    }
   ],
   "source": [
    "model_poiss_post = CmdStanModel(stan_file='src/model/model_poisson_posterior.stan')\n",
    "samples = 1000\n",
    "sim_poiss_post=model_poiss_post.sample(data=inp_data,\n",
    "                     iter_sampling=samples,\n",
    "                     #iter_warmup=1,\n",
    "                     chains=4\n",
    "                     )"
   ]
  },
  {
   "cell_type": "code",
   "execution_count": 29,
   "id": "0785f412",
   "metadata": {},
   "outputs": [
    {
     "name": "stdout",
     "output_type": "stream",
     "text": [
      "           lp__  accept_stat__  stepsize__  treedepth__  n_leapfrog__  \\\n",
      "0     1081410.0       0.996716    0.026431          7.0         127.0   \n",
      "1     1081410.0       0.779819    0.026431          7.0         127.0   \n",
      "2     1081420.0       0.907394    0.026431          7.0         127.0   \n",
      "3     1081410.0       0.998981    0.026431          7.0         127.0   \n",
      "4     1081410.0       0.613059    0.026431          7.0         127.0   \n",
      "...         ...            ...         ...          ...           ...   \n",
      "3995  1081410.0       0.999307    0.027313          7.0         127.0   \n",
      "3996  1081410.0       0.993794    0.027313          7.0         127.0   \n",
      "3997  1081400.0       0.785913    0.027313          7.0         127.0   \n",
      "3998  1081410.0       0.807073    0.027313          7.0         127.0   \n",
      "3999  1081420.0       0.931140    0.027313          7.0         127.0   \n",
      "\n",
      "      divergent__   energy__  mu_home_att  mu_away_att  mu_home_def  ...  \\\n",
      "0             0.0 -1081350.0     0.000051    -0.000215     0.000027  ...   \n",
      "1             0.0 -1081350.0    -0.000109     0.000157    -0.000003  ...   \n",
      "2             0.0 -1081360.0     0.000104    -0.000148     0.000005  ...   \n",
      "3             0.0 -1081350.0     0.000082    -0.000057    -0.000049  ...   \n",
      "4             0.0 -1081350.0     0.000134    -0.000072     0.000028  ...   \n",
      "...           ...        ...          ...          ...          ...  ...   \n",
      "3995          0.0 -1081350.0    -0.000078    -0.000036     0.000162  ...   \n",
      "3996          0.0 -1081350.0    -0.000103     0.000023     0.000123  ...   \n",
      "3997          0.0 -1081350.0     0.000178     0.000058    -0.000254  ...   \n",
      "3998          0.0 -1081340.0     0.000035    -0.000009     0.000120  ...   \n",
      "3999          0.0 -1081350.0     0.000048     0.000072     0.000050  ...   \n",
      "\n",
      "      log_lik_away[1314]  log_lik_away[1315]  log_lik_away[1316]  \\\n",
      "0               -3.92602            -3.43515            -3.48282   \n",
      "1               -3.94055            -3.41874            -3.46571   \n",
      "2               -4.28875            -3.83466            -3.82782   \n",
      "3               -3.72220            -3.32444            -3.52637   \n",
      "4               -4.48020            -4.35698            -3.80449   \n",
      "...                  ...                 ...                 ...   \n",
      "3995            -4.49431            -3.49607            -3.81704   \n",
      "3996            -3.84769            -3.61192            -3.53772   \n",
      "3997            -4.08535            -3.55266            -3.59688   \n",
      "3998            -3.85250            -3.70706            -3.64485   \n",
      "3999            -4.03473            -3.52168            -3.59273   \n",
      "\n",
      "      log_lik_away[1317]  log_lik_away[1318]  log_lik_away[1319]  \\\n",
      "0               -3.35451            -4.58400            -4.36306   \n",
      "1               -3.36076            -4.42852            -4.51611   \n",
      "2               -3.53110            -4.29454            -4.66489   \n",
      "3               -3.27711            -4.15500            -4.84028   \n",
      "4               -3.63733            -4.45359            -4.49010   \n",
      "...                  ...                 ...                 ...   \n",
      "3995            -3.64543            -4.31483            -4.64123   \n",
      "3996            -3.32232            -4.33296            -4.62043   \n",
      "3997            -3.42726            -4.23387            -4.73832   \n",
      "3998            -3.32421            -4.46345            -4.48002   \n",
      "3999            -3.40321            -4.14385            -4.85535   \n",
      "\n",
      "      log_lik_away[1320]  log_lik_away[1321]  log_lik_away[1322]  \\\n",
      "0               -3.31060            -3.29182            -3.62994   \n",
      "1               -3.28441            -3.31249            -3.72514   \n",
      "2               -3.26346            -3.33696            -3.82090   \n",
      "3               -3.28468            -3.31224            -3.93724   \n",
      "4               -3.23921            -3.38433            -3.70871   \n",
      "...                  ...                 ...                 ...   \n",
      "3995            -3.22833            -3.42520            -3.80548   \n",
      "3996            -3.35059            -3.27231            -3.79198   \n",
      "3997            -3.24803            -3.36325            -3.86919   \n",
      "3998            -3.24648            -3.36653            -3.70237   \n",
      "3999            -3.32457            -3.28369            -3.94740   \n",
      "\n",
      "      log_lik_away[1323]  \n",
      "0               -3.24476  \n",
      "1               -3.23865  \n",
      "2               -3.23717  \n",
      "3               -3.23870  \n",
      "4               -3.24361  \n",
      "...                  ...  \n",
      "3995            -3.25491  \n",
      "3996            -3.25925  \n",
      "3997            -3.23962  \n",
      "3998            -3.24014  \n",
      "3999            -3.24926  \n",
      "\n",
      "[4000 rows x 8073 columns]\n"
     ]
    }
   ],
   "source": [
    "mod_poiss_post = sim_poiss_post.draws_pd()\n",
    "print(mod_poiss_post)"
   ]
  },
  {
   "cell_type": "code",
   "execution_count": 30,
   "id": "a60dc9a6",
   "metadata": {},
   "outputs": [
    {
     "data": {
      "text/plain": [
       "Text(0, 0.5, 'Density - number of games')"
      ]
     },
     "execution_count": 30,
     "metadata": {},
     "output_type": "execute_result"
    },
    {
     "data": {
      "image/png": "[encoded data removed]",
      "text/plain": [
       "<Figure size 720x720 with 2 Axes>"
      ]
     },
     "metadata": {
      "needs_background": "light"
     },
     "output_type": "display_data"
    }
   ],
   "source": [
    "fig, axes = plt.subplots(nrows=2, ncols=1, figsize=(10, 10))\n",
    "\n",
    "# Histogram of points scored away\n",
    "axes[0].hist(seasons_games[year]['away_team_score'], density=True, bins=20, color='blue', edgecolor='black', label='data')\n",
    "axes[0].hist(sim_poiss_post.stan_variable('away_score_pred').mean(axis=0), density=True, bins=100, color='green', edgecolor='black', label='data', range=(0, 200))\n",
    "axes[0].set_title('Histogram of points scored away')\n",
    "axes[0].set_xlabel('Points')\n",
    "axes[0].set_ylabel('Density - number of games')\n",
    "\n",
    "# Histogram of points scored at home\n",
    "axes[1].hist(seasons_games[year]['home_team_score'], density=True, bins=20, color='blue', edgecolor='black', label='data')\n",
    "axes[1].hist(sim_poiss_post.stan_variable('home_score_pred').mean(axis=0), density=True, bins=100, color='green', edgecolor='black', label='data', range=(0, 200))\n",
    "axes[1].set_title('Histogram of points scored at home')\n",
    "axes[1].set_xlabel('Points')\n",
    "axes[1].set_ylabel('Density - number of games')"
   ]
  },
  {
   "cell_type": "code",
   "execution_count": 31,
   "id": "08687f08",
   "metadata": {},
   "outputs": [
    {
     "name": "stderr",
     "output_type": "stream",
     "text": [
      "/usr/local/lib/python3.12/site-packages/arviz/stats/stats.py:1635: UserWarning: For one or more samples the posterior variance of the log predictive densities exceeds 0.4. This could be indication of WAIC starting to fail. \n",
      "See http://arxiv.org/abs/1507.04544 for details\n",
      "  warnings.warn(\n"
     ]
    },
    {
     "data": {
      "image/png": "[encoded data removed]",
      "text/plain": [
       "<Figure size 432x216 with 1 Axes>"
      ]
     },
     "metadata": {
      "needs_background": "light"
     },
     "output_type": "display_data"
    }
   ],
   "source": [
    "idata_nbin = az.from_cmdstanpy(posterior=sim_nor_post, log_likelihood={\"home\": \"log_lik_home\"})\n",
    "idata_normal = az.from_cmdstanpy(posterior=sim, log_likelihood={\"home\": \"log_lik_home\"})\n",
    "idata_poisson = az.from_cmdstanpy(posterior=sim_poiss_post, log_likelihood={\"home\": \"log_lik_home\"})\n",
    "\n",
    "# Comparing models\n",
    "comp_dict = {'Model 1': idata_normal, 'Model 2': idata_nbin, \"Model 3\": idata_poisson}\n",
    "\n",
    "comp_waic = az.compare(comp_dict, ic='waic', scale='deviance')\n",
    "az.plot_compare(comp_waic)\n",
    "plt.title(\"Waic metric\")\n",
    "plt.show()"
   ]
  },
  {
   "cell_type": "code",
   "execution_count": 32,
   "id": "9b61f5bd",
   "metadata": {},
   "outputs": [
    {
     "name": "stderr",
     "output_type": "stream",
     "text": [
      "/usr/local/lib/python3.12/site-packages/xarray/core/nputils.py:155: RuntimeWarning: Degrees of freedom <= 0 for slice.\n",
      "  result = getattr(npmodule, name)(values, axis=axis, **kwargs)\n",
      "/usr/local/lib/python3.12/site-packages/arviz/stats/stats.py:1635: UserWarning: For one or more samples the posterior variance of the log predictive densities exceeds 0.4. This could be indication of WAIC starting to fail. \n",
      "See http://arxiv.org/abs/1507.04544 for details\n",
      "  warnings.warn(\n",
      "/usr/local/lib/python3.12/site-packages/numpy/core/_methods.py:45: RuntimeWarning: invalid value encountered in reduce\n",
      "  return umr_minimum(a, axis, None, out, keepdims, initial, where)\n",
      "/usr/local/lib/python3.12/site-packages/numpy/core/_methods.py:41: RuntimeWarning: invalid value encountered in reduce\n",
      "  return umr_maximum(a, axis, None, out, keepdims, initial, where)\n",
      "/usr/local/lib/python3.12/site-packages/numpy/core/_methods.py:45: RuntimeWarning: invalid value encountered in reduce\n",
      "  return umr_minimum(a, axis, None, out, keepdims, initial, where)\n",
      "/usr/local/lib/python3.12/site-packages/numpy/core/_methods.py:41: RuntimeWarning: invalid value encountered in reduce\n",
      "  return umr_maximum(a, axis, None, out, keepdims, initial, where)\n"
     ]
    },
    {
     "data": {
      "image/png": "[encoded data removed]",
      "text/plain": [
       "<Figure size 432x216 with 1 Axes>"
      ]
     },
     "metadata": {
      "needs_background": "light"
     },
     "output_type": "display_data"
    }
   ],
   "source": [
    "idata_nbin = az.from_cmdstanpy(posterior=sim_nor_post, log_likelihood={\"away\": \"log_lik_away\"})\n",
    "idata_normal = az.from_cmdstanpy(posterior=sim, log_likelihood={\"away\": \"log_lik_away\"})\n",
    "idata_poisson = az.from_cmdstanpy(posterior=sim_poiss_post, log_likelihood={\"away\": \"log_lik_away\"})\n",
    "\n",
    "# Comparing models\n",
    "comp_dict = {'Model 1': idata_normal, 'Model 2': idata_nbin, \"Model 3\": idata_poisson}\n",
    "\n",
    "comp_waic = az.compare(comp_dict, ic='waic', scale='deviance')\n",
    "az.plot_compare(comp_waic)\n",
    "plt.title(\"Waic metric\")\n",
    "plt.show()"
   ]
  }
 ],
 "metadata": {
  "kernelspec": {
   "display_name": "Python 3 (ipykernel)",
   "language": "python",
   "name": "python3"
  },
  "language_info": {
   "codemirror_mode": {
    "name": "ipython",
    "version": 3
   },
   "file_extension": ".py",
   "mimetype": "text/x-python",
   "name": "python",
   "nbconvert_exporter": "python",
   "pygments_lexer": "ipython3",
   "version": "3.12.2"
  }
 },
 "nbformat": 4,
 "nbformat_minor": 5
}
